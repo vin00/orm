{
  "nbformat": 4,
  "nbformat_minor": 0,
  "metadata": {
    "colab": {
      "provenance": []
    },
    "kernelspec": {
      "name": "python3",
      "display_name": "Python 3"
    },
    "language_info": {
      "name": "python"
    }
  },
  "cells": [
    {
      "cell_type": "markdown",
      "source": [
        "# 문제 1 문자 반복 출력하기\n",
        "\n",
        "* 문제 설명\\\n",
        "문자열 my_string과 정수 n이 매개변수로 주어질 때, my_string에 들어있는 각 문자를 n만큼 반복한 문자열을 return 하도록 solution 함수를 완성해보세요.\n",
        "\n",
        "제한사항\\\n",
        "2 ≤ my_string 길이 ≤ 5\\\n",
        "2 ≤ n ≤ 10\\\n",
        "\"my_string\"은 영어 대소문자로 이루어져 있습니다.\n",
        "\n",
        "```\n",
        "입출력 예\n",
        "my_string\tn\tresult\n",
        "\"hello\"  \t3\t\"hhheeellllllooo\"\n",
        "```\n"
      ],
      "metadata": {
        "id": "2iflCJRCXp-5"
      }
    },
    {
      "cell_type": "code",
      "source": [
        "def solution(my_string, n):\n",
        "    l = []\n",
        "    for i in my_string:\n",
        "        i = i * n\n",
        "        l.append(i)\n",
        "    answer = ''.join(l)\n",
        "    return answer\n",
        "\n",
        "my_string = \"hello\"\n",
        "solution(my_string, 3)"
      ],
      "metadata": {
        "colab": {
          "base_uri": "https://localhost:8080/",
          "height": 35
        },
        "id": "nprcltKYaMib",
        "outputId": "948731c0-b361-424a-ee0a-fe6b0bae2eea"
      },
      "execution_count": null,
      "outputs": [
        {
          "output_type": "execute_result",
          "data": {
            "text/plain": [
              "'hhheeellllllooo'"
            ],
            "application/vnd.google.colaboratory.intrinsic+json": {
              "type": "string"
            }
          },
          "metadata": {},
          "execution_count": 40
        }
      ]
    },
    {
      "cell_type": "code",
      "source": [
        "def solution(my_string, n):\n",
        "    return ''.join(i*n for i in my_string)\n",
        "\n",
        "my_string = \"hello\"\n",
        "solution(my_string, 3)"
      ],
      "metadata": {
        "colab": {
          "base_uri": "https://localhost:8080/",
          "height": 35
        },
        "id": "OKxbTm28aaWk",
        "outputId": "1b91e6c9-9384-44f9-e72a-8df1ec7fa503"
      },
      "execution_count": null,
      "outputs": [
        {
          "output_type": "execute_result",
          "data": {
            "text/plain": [
              "'hhheeellllllooo'"
            ],
            "application/vnd.google.colaboratory.intrinsic+json": {
              "type": "string"
            }
          },
          "metadata": {},
          "execution_count": 41
        }
      ]
    },
    {
      "cell_type": "markdown",
      "source": [
        "# 문제 2 양꼬치\n",
        "\n",
        "* 문제 설명\\\n",
        "머쓱이네 양꼬치 가게는 10인분을 먹으면 음료수 하나를 서비스로 줍니다. 양꼬치는 1인분에 12,000원, 음료수는 2,000원입니다. 정수 n과 k가 매개변수로 주어졌을 때, 양꼬치 n인분과 음료수 k개를 먹었다면 총얼마를 지불해야 하는지 return 하도록 solution 함수를 완성해보세요.\n",
        "\n",
        "* 제한사항\\\n",
        "0 < n < 1,000\\\n",
        "n / 10 ≤ k < 1,000\\\n",
        "서비스로 받은 음료수는 모두 마십니다.\n",
        "\n",
        "```\n",
        "입출력 예\n",
        "n\t k\tresult\n",
        "10\t3\t124,000\n",
        "64\t6\t768,000\n",
        "```"
      ],
      "metadata": {
        "id": "vuxHGYnNa96l"
      }
    },
    {
      "cell_type": "code",
      "source": [
        "def solution(n, k):\n",
        "    if n / 10 >= 1:\n",
        "        return n * 12000 + k * 2000 - (int(n / 10) * 2000)\n",
        "    else:\n",
        "        return n * 12000 + k * 2000\n",
        "\n",
        "solution(64, 6)"
      ],
      "metadata": {
        "colab": {
          "base_uri": "https://localhost:8080/"
        },
        "id": "YY1latC2fZQA",
        "outputId": "ee8f9806-49ba-4867-e7a6-0dd673dafe4a"
      },
      "execution_count": null,
      "outputs": [
        {
          "output_type": "execute_result",
          "data": {
            "text/plain": [
              "768000"
            ]
          },
          "metadata": {},
          "execution_count": 58
        }
      ]
    },
    {
      "cell_type": "code",
      "source": [
        "def solution(n, k):\n",
        "    return 12000 * n + 2000 * (k - n // 10)\n",
        "\n",
        "solution(64, 6)"
      ],
      "metadata": {
        "colab": {
          "base_uri": "https://localhost:8080/"
        },
        "id": "WcvzZJxfgj4J",
        "outputId": "bd19129d-333a-466c-98c0-df05783e83a4"
      },
      "execution_count": null,
      "outputs": [
        {
          "output_type": "execute_result",
          "data": {
            "text/plain": [
              "768000"
            ]
          },
          "metadata": {},
          "execution_count": 59
        }
      ]
    },
    {
      "cell_type": "markdown",
      "source": [
        "# 문제 3 세균증식\n",
        "\n",
        "* 문제 설명\\\n",
        "어떤 세균은 1시간에 두배만큼 증식한다고 합니다. 처음 세균의 마리수 n과 경과한 시간 t가 매개변수로 주어질 때 t시간 후 세균의 수를 return하도록 solution 함수를 완성해주세요.\n",
        "\n",
        "* 제한사항\\\n",
        "1 ≤ n ≤ 10\\\n",
        "1 ≤ t ≤ 15\n",
        "\n",
        "```\n",
        "입출력 예\n",
        "n\tt\tresult\n",
        "2\t10\t2048\n",
        "7\t15\t229,376\n",
        "```"
      ],
      "metadata": {
        "id": "ZdZ2x2uxhAXp"
      }
    },
    {
      "cell_type": "code",
      "source": [
        "def solution(n, t):\n",
        "    i = 1\n",
        "    while i <= t:\n",
        "        n = n * 2\n",
        "        i += 1\n",
        "    return n\n",
        "\n",
        "\n",
        "solution(7, 15)"
      ],
      "metadata": {
        "colab": {
          "base_uri": "https://localhost:8080/"
        },
        "id": "bfn-hYjKnAZ6",
        "outputId": "6a080a04-b776-4499-9eb7-bebe784fac4c"
      },
      "execution_count": 15,
      "outputs": [
        {
          "output_type": "execute_result",
          "data": {
            "text/plain": [
              "229376"
            ]
          },
          "metadata": {},
          "execution_count": 15
        }
      ]
    },
    {
      "cell_type": "code",
      "source": [
        "def solution(n, t):\n",
        "    answer = 2**t * n\n",
        "    return answer\n",
        "\n",
        "solution(7, 15)"
      ],
      "metadata": {
        "colab": {
          "base_uri": "https://localhost:8080/"
        },
        "id": "AeEYyLCCn6mG",
        "outputId": "6e661ef3-3c05-48d4-c55a-0e22056d3a10"
      },
      "execution_count": 17,
      "outputs": [
        {
          "output_type": "execute_result",
          "data": {
            "text/plain": [
              "229376"
            ]
          },
          "metadata": {},
          "execution_count": 17
        }
      ]
    },
    {
      "cell_type": "code",
      "source": [
        "# 비트 연산 활용\n",
        "def solution(n, t):\n",
        "    return n << t\n",
        "\n",
        "\n",
        "solution(7, 15)"
      ],
      "metadata": {
        "colab": {
          "base_uri": "https://localhost:8080/"
        },
        "id": "PK6GMOvxtbcv",
        "outputId": "867e7652-5125-4aac-eca9-d9649e5ebb6a"
      },
      "execution_count": 18,
      "outputs": [
        {
          "output_type": "execute_result",
          "data": {
            "text/plain": [
              "229376"
            ]
          },
          "metadata": {},
          "execution_count": 18
        }
      ]
    },
    {
      "cell_type": "markdown",
      "source": [
        "# 문제 4 문자열 안에 문자열\n",
        "\n",
        "* 문제 설명\\\n",
        "문자열 str1, str2가 매개변수로 주어집니다. str1 안에 str2가 있다면 1을 없다면 2를 return하도록 solution 함수를 완성해주세요.\n",
        "\n",
        "* 제한사항\\\n",
        "1 ≤ str1의 길이 ≤ 100\\\n",
        "1 ≤ str2의 길이 ≤ 100\\\n",
        "문자열은 알파벳 대문자, 소문자, 숫자로 구성되어 있습니다.\n",
        "\n",
        "```\n",
        "입출력 예\n",
        "str1\t                    str2\tresult\n",
        "\"ab6CDE443fgh22iJKlmn1o\"\t\"6CD\"\t 1\n",
        "\"ppprrrogrammers\"\t       \"pppp\"\t2\n",
        "\"AbcAbcA\"\t               \"AAA\" \t2\n",
        "```"
      ],
      "metadata": {
        "id": "5xSeOoQRtgKJ"
      }
    },
    {
      "cell_type": "code",
      "source": [
        "def solution(str1, str2):\n",
        "    if str1.find(str2) >= 0:\n",
        "        return 1\n",
        "    else:\n",
        "        return 2\n",
        "\n",
        "solution(\"ab6CDE443fgh22iJKlmn1o\", \"6CD\")\n",
        "solution(\"ppprrrogrammers\", \"pppp\")"
      ],
      "metadata": {
        "colab": {
          "base_uri": "https://localhost:8080/"
        },
        "id": "koWX_-YPtz-g",
        "outputId": "62eba201-2e2e-4dc4-eae1-41908345f4e6"
      },
      "execution_count": 21,
      "outputs": [
        {
          "output_type": "execute_result",
          "data": {
            "text/plain": [
              "2"
            ]
          },
          "metadata": {},
          "execution_count": 21
        }
      ]
    },
    {
      "cell_type": "code",
      "source": [
        "def solution(str1, str2):\n",
        "    return 1 if str2 in str1 else 2\n",
        "\n",
        "solution(\"ab6CDE443fgh22iJKlmn1o\", \"6CD\")"
      ],
      "metadata": {
        "colab": {
          "base_uri": "https://localhost:8080/"
        },
        "id": "YSOnroOwurz-",
        "outputId": "6ddfc387-129f-49ee-f77a-896f3916906f"
      },
      "execution_count": 22,
      "outputs": [
        {
          "output_type": "execute_result",
          "data": {
            "text/plain": [
              "1"
            ]
          },
          "metadata": {},
          "execution_count": 22
        }
      ]
    },
    {
      "cell_type": "markdown",
      "source": [
        "# 문제 5 편지\n",
        "\n",
        "* 문제 설명\\\n",
        "머쓱이는 할머니께 생신 축하 편지를 쓰려고 합니다. 할머니가 보시기 편하도록 글자 한 자 한 자를 가로 2cm 크기로 적으려고 하며, 편지를 가로로만 적을 때, 축하 문구 message를 적기 위해 필요한 편지지의 최소 가로길이를 return 하도록 solution 함수를 완성해주세요.\n",
        "\n",
        "*제한사항\\\n",
        "공백도 하나의 문자로 취급합니다.\\\n",
        "1 ≤ message의 길이 ≤ 50\\\n",
        "편지지의 여백은 생각하지 않습니다.\\\n",
        "message는 영문 알파벳 대소문자, ‘!’, ‘~’ 또는 공백으로만 이루어져 있습니다.\n",
        "\n",
        "```\n",
        "입출력 예\n",
        "message           \tresult\n",
        "\"happy birthday!\"\t  30\n",
        "\"I love you~\"      \t22\n",
        "```"
      ],
      "metadata": {
        "id": "CK7ba0gDvI6W"
      }
    },
    {
      "cell_type": "code",
      "source": [
        "def solution(message):\n",
        "    answer = len(message.strip()) * 2\n",
        "    return answer\n",
        "\n",
        "solution(\"happy birthday!\")"
      ],
      "metadata": {
        "colab": {
          "base_uri": "https://localhost:8080/"
        },
        "id": "7IFFjil0vb0W",
        "outputId": "cc825035-9be4-4e72-aeed-f56c572d40ea"
      },
      "execution_count": 23,
      "outputs": [
        {
          "output_type": "execute_result",
          "data": {
            "text/plain": [
              "30"
            ]
          },
          "metadata": {},
          "execution_count": 23
        }
      ]
    },
    {
      "cell_type": "markdown",
      "source": [
        "# 문제 6 배열 두배 만들기\n",
        "\n",
        "* 문제 설명\n",
        "정수 배열 numbers가 매개변수로 주어집니다. numbers의 각 원소에 두배한 원소를 가진 배열을 return하도록 solution 함수를 완성해주세요.\n",
        "\n",
        "* 제한사항\\\n",
        "-10,000 ≤ numbers의 원소 ≤ 10,000\\\n",
        "1 ≤ numbers의 길이 ≤ 1,000\n",
        "\n",
        "```\n",
        "입출력 예\n",
        "numbers\t                       result\n",
        "[1, 2, 3, 4, 5]\t           [2, 4, 6, 8, 10]\n",
        "[1, 2, 100, -99, 1, 2, 3]\t [2, 4, 200, -198, 2, 4, 6]\n",
        "```"
      ],
      "metadata": {
        "id": "AeSRtAUYwEYj"
      }
    },
    {
      "cell_type": "code",
      "source": [
        "def solution(numbers):\n",
        "    answer = [i * 2 for i in numbers]\n",
        "    return answer\n",
        "\n",
        "solution([1, 2, 3, 4, 5])"
      ],
      "metadata": {
        "colab": {
          "base_uri": "https://localhost:8080/"
        },
        "id": "14bqRfSzw-Zm",
        "outputId": "ceaf707d-37a4-42d8-a3fd-063f1c2fbd3d"
      },
      "execution_count": 25,
      "outputs": [
        {
          "output_type": "execute_result",
          "data": {
            "text/plain": [
              "[2, 4, 6, 8, 10]"
            ]
          },
          "metadata": {},
          "execution_count": 25
        }
      ]
    },
    {
      "cell_type": "markdown",
      "source": [
        "# 문제 7 아이스 아메리카노\n",
        "\n",
        "* 문제 설명\\\n",
        "머쓱이는 추운 날에도 아이스 아메리카노만 마십니다. 아이스 아메리카노는 한잔에 5,500원입니다. 머쓱이가 가지고 있는 돈 money가 매개변수로 주어질 때, 머쓱이가 최대로 마실 수 있는 아메리카노의 잔 수와 남는 돈을 순서대로 담은 배열을 return 하도록 solution 함수를 완성해보세요.\n",
        "\n",
        "* 제한사항\\\n",
        "0 < money ≤ 1,000,000\n",
        "\n",
        "```\n",
        "입출력 예\n",
        "money\t result\n",
        "5,500\t [1, 0]\n",
        "15,000\t[2, 4000]\n",
        "```"
      ],
      "metadata": {
        "id": "D02WKtAnxOrs"
      }
    },
    {
      "cell_type": "code",
      "source": [
        "def solution(money):\n",
        "    answer = [money // 5500, money % 5500]\n",
        "    return answer\n",
        "\n",
        "solution(15000)"
      ],
      "metadata": {
        "colab": {
          "base_uri": "https://localhost:8080/"
        },
        "id": "Qa1eWb1txsHy",
        "outputId": "41f121ed-882a-4acc-8c27-33eb0e723170"
      },
      "execution_count": 27,
      "outputs": [
        {
          "output_type": "execute_result",
          "data": {
            "text/plain": [
              "[2, 4000]"
            ]
          },
          "metadata": {},
          "execution_count": 27
        }
      ]
    },
    {
      "cell_type": "code",
      "source": [
        "def solution(money):\n",
        "    a,b = divmod(money,5500) # divmod - 두 개의 숫자를 인자로 받아 몫과 나머지를 반환\n",
        "    return [a,b]\n",
        "\n",
        "solution(15000)"
      ],
      "metadata": {
        "colab": {
          "base_uri": "https://localhost:8080/"
        },
        "id": "j9eDMEIkyeJl",
        "outputId": "4e4a6dfd-2931-418b-a1c8-436f484974e2"
      },
      "execution_count": 28,
      "outputs": [
        {
          "output_type": "execute_result",
          "data": {
            "text/plain": [
              "[2, 4000]"
            ]
          },
          "metadata": {},
          "execution_count": 28
        }
      ]
    },
    {
      "cell_type": "code",
      "source": [],
      "metadata": {
        "id": "7nJZGv7ey_OE"
      },
      "execution_count": null,
      "outputs": []
    }
  ]
}