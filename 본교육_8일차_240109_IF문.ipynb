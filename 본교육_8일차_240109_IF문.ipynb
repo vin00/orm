{
  "nbformat": 4,
  "nbformat_minor": 0,
  "metadata": {
    "colab": {
      "provenance": []
    },
    "kernelspec": {
      "name": "python3",
      "display_name": "Python 3"
    },
    "language_info": {
      "name": "python"
    }
  },
  "cells": [
    {
      "cell_type": "markdown",
      "source": [
        "# 1. 조건문"
      ],
      "metadata": {
        "id": "u6aRIqqMnYd7"
      }
    },
    {
      "cell_type": "code",
      "source": [
        "# 1.1 if문의 기본 구조\n",
        "\n",
        "# if 다음에 조건이 참인 경우에만 코드블록이 실행된다.\n",
        "\n",
        "x = 2 # 비교할 대상\n",
        "if x > 1: #비교 식 -> 비교식이 참일 경우에 하단의 print('Ture')가 실행된다.\n",
        "    print('True') # 출력: True\n",
        "\n",
        "# 참이 아닌 경우 조건식이 실행되지 않는다."
      ],
      "metadata": {
        "colab": {
          "base_uri": "https://localhost:8080/"
        },
        "id": "q8yJYvlKpMFu",
        "outputId": "4591131b-a67f-496a-e0cf-b7a28b140b74"
      },
      "execution_count": null,
      "outputs": [
        {
          "output_type": "stream",
          "name": "stdout",
          "text": [
            "True\n"
          ]
        }
      ]
    },
    {
      "cell_type": "code",
      "source": [
        "# if문 안에 있는 코드블럭과 바깥에 있는 코드블럭\n",
        "# 0이 아닌 모든 정수는 Ture로 인식함.\n",
        "if -1: # 정수를 바꿔서도 실습해보세요\n",
        "    print('hello') # 1번 출력\n",
        "\n",
        "print('end') # 2번 출력\n",
        "\n",
        "# 공백이 있는 문자열\n",
        "if ' ': # 공백도 'Ture'로 인식\n",
        "    print('hello')\n",
        "print('end')\n",
        "\n",
        "# 공백이 없는 문자열\n",
        "if '': # False로 처리\n",
        "    print('hello')\n",
        "print('end')"
      ],
      "metadata": {
        "colab": {
          "base_uri": "https://localhost:8080/"
        },
        "id": "6gHMTMFmpri_",
        "outputId": "81857ee7-aff4-4c97-a753-787da5de8690"
      },
      "execution_count": null,
      "outputs": [
        {
          "output_type": "stream",
          "name": "stdout",
          "text": [
            "hello\n",
            "end\n",
            "hello\n",
            "end\n",
            "end\n"
          ]
        }
      ]
    },
    {
      "cell_type": "code",
      "source": [
        "# if not (만약 아니라면)\n",
        "if not '': # Ture\n",
        "    print('hello')\n",
        "print('end')\n",
        "\n",
        "# None인 경우\n",
        "if None: # None은 False로 처리됩니다.\n",
        "    print('hello')\n",
        "print('end')\n",
        "\n",
        "if not None:\n",
        "    print('hello')\n",
        "print('end')"
      ],
      "metadata": {
        "colab": {
          "base_uri": "https://localhost:8080/"
        },
        "id": "y3BCdk_qrQoR",
        "outputId": "ea7b4e5c-7078-4598-8996-293ae544d671"
      },
      "execution_count": null,
      "outputs": [
        {
          "output_type": "stream",
          "name": "stdout",
          "text": [
            "hello\n",
            "end\n",
            "end\n",
            "hello\n",
            "end\n"
          ]
        }
      ]
    },
    {
      "cell_type": "code",
      "source": [
        "# 성능에 영향을 끼칩니다.\n",
        "# f()함수 아규먼트 x 파라미터 x\n",
        "def f():\n",
        "    return 'Ture' # Ture가 무조건 반환되는 함수\n",
        "# f()함수 아규먼트 x 파라미터 x\n",
        "def ff():\n",
        "    x = 100 / 0  # error\n",
        "    return 'hello'  # 실행되지 않앗으면 하는 함수\n",
        "\n",
        "if f() or ff():  # f() ff() -> 하나라도 참이면 반환\n",
        "    print('hello') # 출력 hello"
      ],
      "metadata": {
        "colab": {
          "base_uri": "https://localhost:8080/"
        },
        "id": "IlkkcDWAsqec",
        "outputId": "c040f51f-0717-46a9-d728-a68bd4d61797"
      },
      "execution_count": null,
      "outputs": [
        {
          "output_type": "stream",
          "name": "stdout",
          "text": [
            "hello\n"
          ]
        }
      ]
    },
    {
      "cell_type": "code",
      "source": [
        "# 삼항 연산자\n",
        "\n",
        "x = 5\n",
        "y = 10\n",
        "# 맞았을 때 조건 / if / 조건 / else / 틀렸을 때 조건\n",
        "result = 'x가 더 큽니다' if x > y else 'y와 같더나 y가 더 큽니다.'\n",
        "print(result) # 출력 'y와 같더나 y가 더 큽니다.'"
      ],
      "metadata": {
        "colab": {
          "base_uri": "https://localhost:8080/"
        },
        "id": "5UMTtSdWyzuE",
        "outputId": "7a1fcbb1-5cb5-425f-afcf-cb2ed6db7b33"
      },
      "execution_count": null,
      "outputs": [
        {
          "output_type": "stream",
          "name": "stdout",
          "text": [
            "y와 같더나 y가 더 큽니다.\n"
          ]
        }
      ]
    },
    {
      "cell_type": "markdown",
      "source": [
        "## 람다함수\n",
        "\n",
        "* 익명함수 - 한줄로 표현 / 임시 함수 만들때 사용"
      ],
      "metadata": {
        "id": "r3ni5gnk0Q0x"
      }
    },
    {
      "cell_type": "code",
      "source": [
        "# 예) 두 숫자를 더하는 간단한 람다함수를 만든다.\n",
        "\n",
        "# 함수로 만들었을 때\n",
        "def sum(x, y):\n",
        "    z = x + y\n",
        "    return z\n",
        "print(sum(5, 3))\n",
        "# 람다를 사용하여 만들었을 때\n",
        "add = lambda x, y : x + y # lambda 파라미터 : 본문\n",
        "print(add(5, 3))"
      ],
      "metadata": {
        "colab": {
          "base_uri": "https://localhost:8080/"
        },
        "id": "W9_lrKvP0Z1V",
        "outputId": "63887d35-e755-4636-ed0b-4b88e0863786"
      },
      "execution_count": null,
      "outputs": [
        {
          "output_type": "stream",
          "name": "stdout",
          "text": [
            "8\n",
            "8\n"
          ]
        }
      ]
    },
    {
      "cell_type": "code",
      "source": [
        "# 람다 함수\n",
        "\n",
        "my_funcition = lambda x: 'Even' if x % 2 == 0 else '0dd'"
      ],
      "metadata": {
        "id": "TbMS7NYRzr5s"
      },
      "execution_count": null,
      "outputs": []
    },
    {
      "cell_type": "markdown",
      "source": [
        "# 2. if, elif, else 중첩 조건문"
      ],
      "metadata": {
        "id": "i6WMLBuN0P09"
      }
    },
    {
      "cell_type": "code",
      "source": [
        "# if, else문의 기본 구조\n",
        "\n",
        "if 조건문: # 조건문을 확인해서 만약 '참'이면 if 문 다음에 문장들을 수행합니다.\n",
        "    pass\n",
        "    # 수행할 문장 1 - 참일 경우 수행할 문장 1이 실행\n",
        "else: # if문의 조건이 거짓이면 else 문이 실행됩니다.(else에는 조건을 따로 적지 않아도 된다.)\n",
        "    pass\n",
        "    # 수행할 문장 2 - 거짓일 경우 수행할 문장 2가 실행"
      ],
      "metadata": {
        "id": "f_328Uw01jZv"
      },
      "execution_count": null,
      "outputs": []
    },
    {
      "cell_type": "code",
      "source": [
        "x = 3\n",
        "y = 4\n",
        "\n",
        "if x > y:\n",
        "    print('첫번째 값이 더 큽니다.')\n",
        "else:\n",
        "    print('두번째 값이 더 크거나 두 값이 같습니다.') # 거짓일 때 수행"
      ],
      "metadata": {
        "colab": {
          "base_uri": "https://localhost:8080/"
        },
        "id": "bdN-rZCB2jpk",
        "outputId": "2bdf196c-b7dd-4069-d2a3-e9936d598dfe"
      },
      "execution_count": null,
      "outputs": [
        {
          "output_type": "stream",
          "name": "stdout",
          "text": [
            "두번째 값이 더 크거나 두 값이 같습니다.\n"
          ]
        }
      ]
    },
    {
      "cell_type": "code",
      "source": [
        "# if - elif - else문의 기본구조\n",
        "# 조건이 늘어나면 elif만 더 추가하면 된다. if else는 그대로!\n",
        "# elif에는 조건식이 필요하다. 단 다른조건과 겹치지 않게! (조건을 나누는 중요함.)\n",
        "\n",
        "if 조건문: # 조건문을 확인해서 만약 '참'이면 if 문 다음 문장들을 수행\n",
        "    # 수행할 문장 1\n",
        "    pass\n",
        "elif 추가조건 # if문의 조건이 '참'이 아니라면 elif문의 조건이 참이라면 수행\n",
        "    # 수행할 문자 2\n",
        "    pass\n",
        "else: # 위 모든 if문, elif문의 조건이 '참'이 아니라면 수행\n",
        "    # 수핼할 문장 3\n",
        "    pass"
      ],
      "metadata": {
        "id": "1_Eg5t_g29RS"
      },
      "execution_count": null,
      "outputs": []
    },
    {
      "cell_type": "code",
      "source": [
        "# 성적입력 프로그램 - 기본\n",
        "score = int(input(\"성적을 입력하세요 (0-100): \"))\n",
        "\n",
        "# 잘못된 예 if - 90이상 elif - 90이하 (90이 겹침)\n",
        "\n",
        "if score >= 90: # 90점 이상일때\n",
        "    print(\"A\")\n",
        "elif 90 > score >= 80: # 80점 이상 89점 이하\n",
        "    print(\"B\")\n",
        "elif 80 > score >= 70: # 70점 이상 79점 이하\n",
        "    print(\"C\")\n",
        "elif 70 > score >= 60: # 60점 이상 69점 이하\n",
        "    print(\"D\")\n",
        "else:                  # 59점 이하\n",
        "    print(\"F\")"
      ],
      "metadata": {
        "colab": {
          "base_uri": "https://localhost:8080/"
        },
        "id": "LfQhm3jh4BJQ",
        "outputId": "c8fb5e06-8e22-437d-b674-4d8fd3e9ba94"
      },
      "execution_count": null,
      "outputs": [
        {
          "output_type": "stream",
          "name": "stdout",
          "text": [
            "성적을 입력하세요 (0-100): 70\n",
            "C\n"
          ]
        }
      ]
    },
    {
      "cell_type": "code",
      "source": [
        "# step 1 : 성적입력 프로그램 - 기본\n",
        "score = int(input(\"성적을 입력하세요 (0-100): \"))"
      ],
      "metadata": {
        "colab": {
          "base_uri": "https://localhost:8080/"
        },
        "id": "dI3JJ9z744vB",
        "outputId": "7bd56cc4-a9e9-4163-d63b-b4ae46205f62"
      },
      "execution_count": null,
      "outputs": [
        {
          "name": "stdout",
          "output_type": "stream",
          "text": [
            "성적을 입력하세요 (0-100): 80\n"
          ]
        }
      ]
    },
    {
      "cell_type": "code",
      "source": [
        "# step 2 : 기본성적 처리 - A학점\n",
        "if score >= 90: # 90점 이상일때\n",
        "    print(\"A\")"
      ],
      "metadata": {
        "id": "vxNCX2MN5GQx"
      },
      "execution_count": null,
      "outputs": []
    },
    {
      "cell_type": "code",
      "source": [
        "# step 3 : 90점이 아닐때\n",
        "if score >= 90: # 90점 이상일때\n",
        "    print(\"A\")\n",
        "else:\n",
        "    print('90점이상이 아닙니다.')"
      ],
      "metadata": {
        "colab": {
          "base_uri": "https://localhost:8080/"
        },
        "id": "5eeSttbY5Oth",
        "outputId": "5728a7f4-4bce-4332-c08c-8db8ce99760f"
      },
      "execution_count": null,
      "outputs": [
        {
          "output_type": "stream",
          "name": "stdout",
          "text": [
            "90점이상이 아닙니다.\n"
          ]
        }
      ]
    },
    {
      "cell_type": "code",
      "source": [
        "# step 4 : 여러가지 조건을 입력해서 정리\n",
        "# 성적입력 프로그램 - 기본\n",
        "score = int(input(\"성적을 입력하세요 (0-100): \"))\n",
        "\n",
        "# 잘못된 예 if - 90이상 elif - 90이하 (90이 겹침)\n",
        "\n",
        "if score >= 90: # 90점 이상일때\n",
        "    print(\"A\")\n",
        "elif 90 > score >= 80: # 80점 이상 89점 이하\n",
        "    print(\"B\")\n",
        "elif 80 > score >= 70: # 70점 이상 79점 이하\n",
        "    print(\"C\")\n",
        "elif 70 > score >= 60: # 60점 이상 69점 이하\n",
        "    print(\"D\")\n",
        "else:                  # 59점 이하\n",
        "    print(\"F\")\n",
        "\n",
        "# 테스트를 다양하게 각 케이스(조건)마다 테스트 수행\n",
        "# 음수, 소수점!"
      ],
      "metadata": {
        "colab": {
          "base_uri": "https://localhost:8080/"
        },
        "id": "LKI7xJ2A5exF",
        "outputId": "54976925-3e81-4f1e-c118-615989a308a3"
      },
      "execution_count": null,
      "outputs": [
        {
          "output_type": "stream",
          "name": "stdout",
          "text": [
            "성적을 입력하세요 (0-100): 48\n",
            "F\n"
          ]
        }
      ]
    },
    {
      "cell_type": "code",
      "source": [
        "# 예1)\n",
        "score = 81\n",
        "money = 0\n",
        "\n",
        "if score >= 90:\n",
        "    money += 1000000\n",
        "elif score >= 80:\n",
        "    money += 100000\n",
        "elif score >= 70:\n",
        "    money += 10000\n",
        "elif score >= 60:\n",
        "    money += 1000\n",
        "else:\n",
        "    money = 0\n",
        "print(money) # 출력: 100000"
      ],
      "metadata": {
        "colab": {
          "base_uri": "https://localhost:8080/"
        },
        "id": "AD9QsZeZ6Ah8",
        "outputId": "f2264cfc-1f18-47ef-dc46-d38ae2f0836c"
      },
      "execution_count": null,
      "outputs": [
        {
          "output_type": "stream",
          "name": "stdout",
          "text": [
            "100000\n"
          ]
        }
      ]
    },
    {
      "cell_type": "code",
      "source": [
        "score = 81\n",
        "money = 0\n",
        "\n",
        "# 총 4개의 if문\n",
        "if score >= 90:\n",
        "    money += 1000000\n",
        "\n",
        "if 90 > score >= 80:\n",
        "    money += 100000\n",
        "\n",
        "if 80 > score >= 70:\n",
        "    money += 10000\n",
        "\n",
        "if 70 > score >= 60:\n",
        "    money += 1000\n",
        "else:\n",
        "    print('용돈이 없다!')\n",
        "print(money) # 출력: 100000\n",
        "# if문을 많이 사용하게 되면 과부하가 걸림."
      ],
      "metadata": {
        "colab": {
          "base_uri": "https://localhost:8080/"
        },
        "id": "BknMkHOe_4PG",
        "outputId": "eea360f2-9be9-471a-a0d0-3dc4f84898b6"
      },
      "execution_count": null,
      "outputs": [
        {
          "output_type": "stream",
          "name": "stdout",
          "text": [
            "용돈이 없다!\n",
            "100000\n"
          ]
        }
      ]
    },
    {
      "cell_type": "markdown",
      "source": [
        "## 2.1 중첩 조건문(중첩 if-else)"
      ],
      "metadata": {
        "id": "SaI5vQJO_4qP"
      }
    },
    {
      "cell_type": "code",
      "source": [
        "# if를 중첩해서 사용하기\n",
        "movie = {\n",
        "    '영화': '레미제라블',\n",
        "    '장르': '드라마',\n",
        "    '서비스': '디즈니',\n",
        "    '비용': 15000,\n",
        "    '평점': 4.9\n",
        "}\n",
        "\n",
        "# 딕셔너리에 대한 값 비교\n",
        "if movie['장르'] == '드라마': # 장르가 드라마라면 Ture\n",
        "    if movie['서비스'] == '디즈니' or movie['서비스'] == '넷플릭스':\n",
        "        # 서비스가 디즈니 또는 넷플릭스라면 Ture\n",
        "        if movie['평점'] >= 4.5: # 평점이 4.5이상이면 Ture\n",
        "            if movie['비용'] <= 20000: # 비용이 20,000 이하라면 Ture\n",
        "                print('영화시청') # 출력: 영화시청"
      ],
      "metadata": {
        "colab": {
          "base_uri": "https://localhost:8080/"
        },
        "id": "uCRPeVHMA81g",
        "outputId": "b6c9252d-23e1-484b-d697-16c375c4cc37"
      },
      "execution_count": null,
      "outputs": [
        {
          "output_type": "stream",
          "name": "stdout",
          "text": [
            "영화시청\n"
          ]
        }
      ]
    },
    {
      "cell_type": "code",
      "source": [
        "# if를 중첩해서 사용하기\n",
        "# 간략해진 것 맞나요?\n",
        "movie = {\n",
        "    '영화': '레미제라블',\n",
        "    '장르': '드라마',\n",
        "    '서비스': '디즈니',\n",
        "    '비용': 15000,\n",
        "    '평점': 4.9\n",
        "}\n",
        "\n",
        "if (movie['장르'] == 'SF' and\n",
        "    (movie['서비스'] == '디즈니' or movie['서비스'] == '넷플릭스') and\n",
        "    movie['평점'] >= 4.5 and\n",
        "    movie['비용'] <= 20000):\n",
        "    print('영화시청') # 출력: 영화시청"
      ],
      "metadata": {
        "id": "HlnMo6s-CwgI"
      },
      "execution_count": null,
      "outputs": []
    },
    {
      "cell_type": "code",
      "source": [],
      "metadata": {
        "id": "lO6s4yokDogS"
      },
      "execution_count": null,
      "outputs": []
    }
  ]
}