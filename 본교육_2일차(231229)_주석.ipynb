{
  "nbformat": 4,
  "nbformat_minor": 0,
  "metadata": {
    "colab": {
      "provenance": []
    },
    "kernelspec": {
      "name": "python3",
      "display_name": "Python 3"
    },
    "language_info": {
      "name": "python"
    }
  },
  "cells": [
    {
      "cell_type": "markdown",
      "source": [
        "# 1. 주석"
      ],
      "metadata": {
        "id": "MHUulKwUCudV"
      }
    },
    {
      "cell_type": "markdown",
      "source": [
        "## 1.1 한줄주석\n",
        "\n",
        "한 줄 주석은 # 기호로 시작합니다. 이 기호 뒤에 따라오는 텍스트는 모두 주석으로 처리됩니다. 아래처럼 입력하고 Alt + Enter를 입력하도록 하겠습니다. 그러면 Hello, World 1! 과 Hello, World 2!가 출력된 것을 확인하실 수 있습니다.\n",
        "\n",
        "한줄 주석은 보동 코드의 위에나 코드 위에 작성됨"
      ],
      "metadata": {
        "id": "UvpgQ3U1DBnY"
      }
    },
    {
      "cell_type": "code",
      "source": [
        "# 이것은 주석입니다. (특이사항, 전체적인 것들, 업데이트 내용)\n",
        "print('Hello, World 1!') # 이것도 주석입니다.(해당코드의 설명)\n",
        "#print('Hello, World 2!') # 코드의 에러 / 향후 수정 / 임시 주석"
      ],
      "metadata": {
        "colab": {
          "base_uri": "https://localhost:8080/"
        },
        "id": "GMgyEXBZDmMq",
        "outputId": "f19b3ae2-ebca-44fc-c0f0-e387621d84de"
      },
      "execution_count": 3,
      "outputs": [
        {
          "output_type": "stream",
          "name": "stdout",
          "text": [
            "Hello, World 1!\n"
          ]
        }
      ]
    },
    {
      "cell_type": "markdown",
      "source": [
        "## 1.2 여러줄 주석\n",
        "\n",
        "이번에는 여러 줄 주석을 사용하겠습니다. '''(따음표)또는 \"\"\"(쌍따음표)는 여러 줄 주석에 사용합니다. 여기서 주의해야 할 점이 '''는 앞뒤로 감싸주어야 한다는 것입니다. 역시나 Alt + Enter를 사용해서 실행해주세요.\n",
        "\n",
        "앞과 뒤에 쓰는기호는 같은 것으로 해야함.\n"
      ],
      "metadata": {
        "id": "KsdH2C_7EBKg"
      }
    },
    {
      "cell_type": "code",
      "source": [
        "'''\n",
        "print('Hello, World 1!')\n",
        "print('Hello, World 1!')\n",
        "print('Hello, World 1!')\n",
        "'''\n",
        "print('Real hello World')"
      ],
      "metadata": {
        "colab": {
          "base_uri": "https://localhost:8080/"
        },
        "id": "IXAHcbtqDmfz",
        "outputId": "57abb072-5692-4dea-998a-ff216e54d39f"
      },
      "execution_count": 6,
      "outputs": [
        {
          "output_type": "stream",
          "name": "stdout",
          "text": [
            "Real hello World\n"
          ]
        }
      ]
    },
    {
      "cell_type": "code",
      "source": [
        "\"\"\"\n",
        "print('Hello, World 1!')\n",
        "print('Hello, World 1!')\n",
        "print('Hello, World 1!')\n",
        "\"\"\"\n",
        "print('Real hello World')"
      ],
      "metadata": {
        "colab": {
          "base_uri": "https://localhost:8080/"
        },
        "id": "q5ZKWzw_FCd-",
        "outputId": "87764de1-8900-4390-f756-83a86c062b86"
      },
      "execution_count": 7,
      "outputs": [
        {
          "output_type": "stream",
          "name": "stdout",
          "text": [
            "Real hello World\n"
          ]
        }
      ]
    },
    {
      "cell_type": "code",
      "source": [],
      "metadata": {
        "id": "RPXv28osFH29"
      },
      "execution_count": null,
      "outputs": []
    },
    {
      "cell_type": "code",
      "source": [],
      "metadata": {
        "id": "wwScLbpME0Sz"
      },
      "execution_count": null,
      "outputs": []
    }
  ]
}