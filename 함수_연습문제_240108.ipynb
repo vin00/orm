{
  "nbformat": 4,
  "nbformat_minor": 0,
  "metadata": {
    "colab": {
      "provenance": []
    },
    "kernelspec": {
      "name": "python3",
      "display_name": "Python 3"
    },
    "language_info": {
      "name": "python"
    }
  },
  "cells": [
    {
      "cell_type": "code",
      "source": [
        "# 문제 1_다음 코드를 실행하면 출력되는 값을 순서대로 작성해보세요.\n",
        "a = 'pithon'\n",
        "\n",
        "def 함수1():\n",
        "    def 함수2():\n",
        "        print('love')\n",
        "\n",
        "    print('I') # 1번\n",
        "    함수2() #2번\n",
        "    return \"python\" #3번\n",
        "\n",
        "\n",
        "a = 함수1()\n",
        "print(a)\n",
        "\n",
        "# I -> love -> python"
      ],
      "metadata": {
        "colab": {
          "base_uri": "https://localhost:8080/"
        },
        "id": "xTJC9YPiRmvZ",
        "outputId": "91a1e17a-95b0-477d-ba8d-bbc1c01a1f12"
      },
      "execution_count": null,
      "outputs": [
        {
          "output_type": "stream",
          "name": "stdout",
          "text": [
            "I\n",
            "love\n",
            "python\n"
          ]
        }
      ]
    },
    {
      "cell_type": "code",
      "source": [
        "# 문제 2_함수를 이용하여 계산기 프로그램을 만들어주세요.\n",
        "def plus(num1, num2):\n",
        "    puls = num1 + num2\n",
        "    return puls\n",
        "\n",
        "def minus(num1, num2):\n",
        "    minus = num1 - num2\n",
        "    return minus\n",
        "\n",
        "def multiply(num1, num2):\n",
        "    multiply = num1 * num2\n",
        "    return multiply\n",
        "\n",
        "def divide(num1, num2):\n",
        "    if num2 != 0:\n",
        "        divide = num1 / num2\n",
        "        return divide\n",
        "    else:\n",
        "        return \"0으로 나눌 수 없습니다.\"\n",
        "\n",
        "print(f'plus : {plus(10, 5)}')\n",
        "print(f'minus : {minus(10, 5)}')\n",
        "print(f'multiply : {multiply(10, 5)}')\n",
        "print(f'divide : {divide(10, 5)}')"
      ],
      "metadata": {
        "colab": {
          "base_uri": "https://localhost:8080/"
        },
        "id": "unUWoGR9RmeT",
        "outputId": "381c195b-7814-42c9-e5d8-ca26e64590a5"
      },
      "execution_count": null,
      "outputs": [
        {
          "output_type": "stream",
          "name": "stdout",
          "text": [
            "plus : 15\n",
            "minus : 5\n",
            "multiply : 50\n",
            "divide : 2.0\n"
          ]
        }
      ]
    },
    {
      "cell_type": "code",
      "execution_count": null,
      "metadata": {
        "colab": {
          "base_uri": "https://localhost:8080/"
        },
        "id": "hF5EAxv2RaXz",
        "outputId": "08e7bded-3de0-4e19-bdb7-882eebce60c4"
      },
      "outputs": [
        {
          "output_type": "stream",
          "name": "stdout",
          "text": [
            "-5\n"
          ]
        }
      ],
      "source": [
        "# 문제 3_\n",
        "'''\n",
        "2번의 해답을 이용하여 a와 b를 더한 값과 a와 b를 뺀 값을 곱하는 함수를 만들어주세요.\n",
        "아래와 같은 값이 있다면 (2 + 3) * (2 - 3) = -5가 출력이 되어야 합니다.\n",
        "'''\n",
        "# 함수 정의\n",
        "def f(a = 2, b = 3):\n",
        "    c = (a + b) * (a - b)\n",
        "    return c\n",
        "\n",
        "print(f(a, b))"
      ]
    },
    {
      "cell_type": "code",
      "source": [
        "# 문제 4_\n",
        "'''\n",
        "x의 n제곱을 구하는 함수를 만들어주세요.\n",
        "재귀함수를 이용하여 만들어야하며, x은 0이 아닙니다. (x, n > 1)\n",
        "'''\n",
        "# 함수 정의\n",
        "def f(x, n):\n",
        "    x = x ** n\n",
        "    return x\n",
        "\n",
        "print(f(3, 3))"
      ],
      "metadata": {
        "id": "t6wEuWiPS3O_",
        "colab": {
          "base_uri": "https://localhost:8080/"
        },
        "outputId": "db433fc8-0537-4d30-fb5d-5dacc39a4419"
      },
      "execution_count": 8,
      "outputs": [
        {
          "output_type": "stream",
          "name": "stdout",
          "text": [
            "27\n"
          ]
        }
      ]
    },
    {
      "cell_type": "code",
      "source": [
        "# 문제 5_ 이 데이터에서 licat을 출력해주세요.\n",
        "# 단, 직접 접근은 안됩니다. data[1]로 접근하는 것은 안됩니다.\n",
        "\n",
        "data = [['weniv CTO binky', 2], ['weniv CEO licat', 1], ['weniv COO mura', 2]]\n",
        "\n",
        "for item in data:\n",
        "    if 'licat' in item[0]:\n",
        "        print('licat')\n",
        "\n"
      ],
      "metadata": {
        "colab": {
          "base_uri": "https://localhost:8080/"
        },
        "id": "4ewGab0wFkuO",
        "outputId": "25e78e38-751f-4121-b712-e392686c3dc0"
      },
      "execution_count": 10,
      "outputs": [
        {
          "output_type": "stream",
          "name": "stdout",
          "text": [
            "licat\n"
          ]
        }
      ]
    },
    {
      "cell_type": "code",
      "source": [
        "# 문제 6_ 다음 함수 is_palindrome를 완성하시오.\n",
        "# 이 함수는 하나의 문자열을 인자로 받아, 해당 문자열이 앞으로 읽으나\n",
        "# 뒤로 읽으나 같은 단어이면 True를, 아니면 False를 반환해야 합니다.\n",
        "\n",
        "def is_palindrome(s):\n",
        "    if list(s) == list(reversed(s)):\n",
        "        return True\n",
        "    else:\n",
        "        return False\n",
        "\n",
        "print(is_palindrome('기러기'))\n",
        "print(is_palindrome('안녕하세요'))\n"
      ],
      "metadata": {
        "colab": {
          "base_uri": "https://localhost:8080/"
        },
        "id": "XYxHBypAOGF9",
        "outputId": "cd2ecda4-f4a4-4068-d4f8-9970bb98ccba"
      },
      "execution_count": 30,
      "outputs": [
        {
          "output_type": "stream",
          "name": "stdout",
          "text": [
            "True\n",
            "False\n"
          ]
        }
      ]
    },
    {
      "cell_type": "code",
      "source": [
        "# 문제 7_ 리스트 numbers가 주어졌을 때, 이 리스트 내의 모든 짝수를 제거하는 코드를 작성하시오.\n",
        "\n",
        "numbers = [2, 3, 4, 5, 6, 7, 8, 9, 10]\n",
        "\n",
        "def remove_even(nums):\n",
        "    new_numbers = []\n",
        "    for num in nums:\n",
        "        if num % 2 != 0:\n",
        "            new_numbers.append(num)\n",
        "    return new_numbers\n",
        "\n",
        "numbers = remove_even(numbers)\n",
        "print(numbers)  # 결과: [3, 5, 7, 9]\n",
        "\n",
        "# 답안 참고\n",
        "numbers = [2, 3, 4, 5, 6, 7, 8, 9, 10]\n",
        "numbers = list(filter(lambda x:x % 2 == 1, numbers))\n",
        "print(numbers)"
      ],
      "metadata": {
        "colab": {
          "base_uri": "https://localhost:8080/"
        },
        "id": "JGlyUk1dQroD",
        "outputId": "aed91cfc-672b-476a-9459-852d43a1a3b4"
      },
      "execution_count": 39,
      "outputs": [
        {
          "output_type": "stream",
          "name": "stdout",
          "text": [
            "[3, 5, 7, 9]\n",
            "[3, 5, 7, 9]\n"
          ]
        }
      ]
    },
    {
      "cell_type": "code",
      "source": [],
      "metadata": {
        "id": "460cO5nuT2FI"
      },
      "execution_count": null,
      "outputs": []
    }
  ]
}