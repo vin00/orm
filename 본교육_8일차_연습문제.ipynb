{
  "nbformat": 4,
  "nbformat_minor": 0,
  "metadata": {
    "colab": {
      "provenance": []
    },
    "kernelspec": {
      "name": "python3",
      "display_name": "Python 3"
    },
    "language_info": {
      "name": "python"
    }
  },
  "cells": [
    {
      "cell_type": "code",
      "execution_count": null,
      "metadata": {
        "colab": {
          "base_uri": "https://localhost:8080/"
        },
        "id": "cZfiM8toF4qE",
        "outputId": "24edf106-a893-4f42-93ba-ffe9792cbbe8"
      },
      "outputs": [
        {
          "output_type": "stream",
          "name": "stdout",
          "text": [
            "숫자를 입력해주세요: 10\n",
            "입력한 숫자 10은 5보다 큽니다.\n"
          ]
        }
      ],
      "source": [
        "# 문제 1\n",
        "# 숫자를 하나 입력받아, 그 숫자가 5보다 큰지 확인하는 프로그램을 작성해보세요.\n",
        "\n",
        "# 숫자 입력받기\n",
        "number = int(input('숫자를 입력해주세요: '))\n",
        "\n",
        "# 입력받은 숫자가 5보다 큰지 작은지 확인\n",
        "if number > 5:\n",
        "    print(f'입력한 숫자 {number}은 5보다 큽니다.')\n",
        "else:\n",
        "    print(f'입력한 숫자 {number}은 5보다 작습니다.')\n"
      ]
    },
    {
      "cell_type": "code",
      "source": [
        "# 문제 2\n",
        "# \"안녕하세요!\"를 5번 출력하는 프로그램을 작성해보세요.\n",
        "\n",
        "# for문을 활용해 문자열 반복 출력\n",
        "for i in range(5):\n",
        "    print('안녕하세요!')"
      ],
      "metadata": {
        "colab": {
          "base_uri": "https://localhost:8080/"
        },
        "id": "MsDCYRw4GGa2",
        "outputId": "19b7e084-ad44-41b2-8193-894a02115a45"
      },
      "execution_count": null,
      "outputs": [
        {
          "output_type": "stream",
          "name": "stdout",
          "text": [
            "안녕하세요!\n",
            "안녕하세요!\n",
            "안녕하세요!\n",
            "안녕하세요!\n",
            "안녕하세요!\n"
          ]
        }
      ]
    },
    {
      "cell_type": "code",
      "source": [
        "# 문제3\n",
        "# 1부터 10까지의 숫자 중에서, 짝수만 출력하는 프로그램을 작성해보세요.\n",
        "\n",
        "# for문으로 1~10까지 반복\n",
        "for i in range(1,10):\n",
        "    # if문으로 짝수 찾아 내기\n",
        "    if i % 2 == 0:\n",
        "        print(i)"
      ],
      "metadata": {
        "colab": {
          "base_uri": "https://localhost:8080/"
        },
        "id": "lXuZT5F0GIq5",
        "outputId": "170aa176-d3e7-4de7-f2cb-29152224d706"
      },
      "execution_count": null,
      "outputs": [
        {
          "output_type": "stream",
          "name": "stdout",
          "text": [
            "2\n",
            "4\n",
            "6\n",
            "8\n"
          ]
        }
      ]
    },
    {
      "cell_type": "code",
      "source": [
        "# 문제4\n",
        "# 1부터 20까지의 숫자 중, 3의 배수만 출력하는 프로그램을 작성하세요.\n",
        "\n",
        "# 리스트 컴프리헨션을 활용하여 3의 배수 출력\n",
        "l = [i for i in range(1,20) if i % 3 == 0]\n",
        "print(l)"
      ],
      "metadata": {
        "colab": {
          "base_uri": "https://localhost:8080/"
        },
        "id": "CL2XQfWjGJ4u",
        "outputId": "f0e7d30d-76b2-4d1f-ea89-146b4c6685b0"
      },
      "execution_count": null,
      "outputs": [
        {
          "output_type": "stream",
          "name": "stdout",
          "text": [
            "[3, 6, 9, 12, 15, 18]\n"
          ]
        }
      ]
    },
    {
      "cell_type": "code",
      "source": [
        "# 문제5\n",
        "# 구구단 2단부터 9단까지 출력하는 프로그램을 작성하세요.\n",
        "\n",
        "# 리스트\n",
        "for i in range(2,10):\n",
        "    print(f'---{i}단---')\n",
        "    for j in range(1,10):\n",
        "        print(f'{i} x {j} = {i*j}')"
      ],
      "metadata": {
        "colab": {
          "base_uri": "https://localhost:8080/"
        },
        "id": "eO_50-UYGLzs",
        "outputId": "af4db91a-7ebf-47f8-a94a-c732ee62f642"
      },
      "execution_count": null,
      "outputs": [
        {
          "output_type": "stream",
          "name": "stdout",
          "text": [
            "---2단---\n",
            "2 x 1 = 2\n",
            "2 x 2 = 4\n",
            "2 x 3 = 6\n",
            "2 x 4 = 8\n",
            "2 x 5 = 10\n",
            "2 x 6 = 12\n",
            "2 x 7 = 14\n",
            "2 x 8 = 16\n",
            "2 x 9 = 18\n",
            "---3단---\n",
            "3 x 1 = 3\n",
            "3 x 2 = 6\n",
            "3 x 3 = 9\n",
            "3 x 4 = 12\n",
            "3 x 5 = 15\n",
            "3 x 6 = 18\n",
            "3 x 7 = 21\n",
            "3 x 8 = 24\n",
            "3 x 9 = 27\n",
            "---4단---\n",
            "4 x 1 = 4\n",
            "4 x 2 = 8\n",
            "4 x 3 = 12\n",
            "4 x 4 = 16\n",
            "4 x 5 = 20\n",
            "4 x 6 = 24\n",
            "4 x 7 = 28\n",
            "4 x 8 = 32\n",
            "4 x 9 = 36\n",
            "---5단---\n",
            "5 x 1 = 5\n",
            "5 x 2 = 10\n",
            "5 x 3 = 15\n",
            "5 x 4 = 20\n",
            "5 x 5 = 25\n",
            "5 x 6 = 30\n",
            "5 x 7 = 35\n",
            "5 x 8 = 40\n",
            "5 x 9 = 45\n",
            "---6단---\n",
            "6 x 1 = 6\n",
            "6 x 2 = 12\n",
            "6 x 3 = 18\n",
            "6 x 4 = 24\n",
            "6 x 5 = 30\n",
            "6 x 6 = 36\n",
            "6 x 7 = 42\n",
            "6 x 8 = 48\n",
            "6 x 9 = 54\n",
            "---7단---\n",
            "7 x 1 = 7\n",
            "7 x 2 = 14\n",
            "7 x 3 = 21\n",
            "7 x 4 = 28\n",
            "7 x 5 = 35\n",
            "7 x 6 = 42\n",
            "7 x 7 = 49\n",
            "7 x 8 = 56\n",
            "7 x 9 = 63\n",
            "---8단---\n",
            "8 x 1 = 8\n",
            "8 x 2 = 16\n",
            "8 x 3 = 24\n",
            "8 x 4 = 32\n",
            "8 x 5 = 40\n",
            "8 x 6 = 48\n",
            "8 x 7 = 56\n",
            "8 x 8 = 64\n",
            "8 x 9 = 72\n",
            "---9단---\n",
            "9 x 1 = 9\n",
            "9 x 2 = 18\n",
            "9 x 3 = 27\n",
            "9 x 4 = 36\n",
            "9 x 5 = 45\n",
            "9 x 6 = 54\n",
            "9 x 7 = 63\n",
            "9 x 8 = 72\n",
            "9 x 9 = 81\n"
          ]
        }
      ]
    },
    {
      "cell_type": "code",
      "source": [
        "# 문제 1\n",
        "# 숫자를 하나 입력받아, 그 숫자가 5보다 큰지 확인하는 프로그램을 작성해보세요.\n",
        "\n",
        "# 숫자 입력받기\n",
        "number = int(input('숫자를 입력해주세요: '))\n",
        "\n",
        "# 입력받은 숫자가 5보다 큰지 작은지 확인\n",
        "if number > 5:\n",
        "    print(f'입력한 숫자 {number}은 5보다 큽니다.')\n",
        "else:\n",
        "    print(f'입력한 숫자 {number}은 5보다 작습니다.')\n",
        "\n",
        "# 문제 2\n",
        "# \"안녕하세요!\"를 5번 출력하는 프로그램을 작성해보세요.\n",
        "\n",
        "# for문을 활용해 문자열 반복 출력\n",
        "for i in range(5):\n",
        "    print('안녕하세요!')\n",
        "\n",
        "# 문제3\n",
        "# 1부터 10까지의 숫자 중에서, 짝수만 출력하는 프로그램을 작성해보세요.\n",
        "\n",
        "# for문으로 1~10까지 반복\n",
        "for i in range(1,10):\n",
        "    # if문으로 짝수 찾아 내기\n",
        "    if i % 2 == 0:\n",
        "        print(i)\n",
        "\n",
        "# 문제4\n",
        "# 1부터 20까지의 숫자 중, 3의 배수만 출력하는 프로그램을 작성하세요.\n",
        "\n",
        "# 리스트 컴프리헨션을 활용하여 3의 배수 출력\n",
        "l = [i for i in range(1,20) if i % 3 == 0]\n",
        "print(l)\n",
        "\n",
        "\n",
        "# 문제5\n",
        "# 구구단 2단부터 9단까지 출력하는 프로그램을 작성하세요.\n",
        "\n",
        "# 리스트\n",
        "for i in range(2,10):\n",
        "    print(f'---{i}단---')\n",
        "    for j in range(1,10):\n",
        "        print(f'{i} x {j} = {i*j}')"
      ],
      "metadata": {
        "id": "8dHtnbp2Jj8g"
      },
      "execution_count": null,
      "outputs": []
    }
  ]
}