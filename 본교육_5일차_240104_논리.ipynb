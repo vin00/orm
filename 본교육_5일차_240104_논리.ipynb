{
  "nbformat": 4,
  "nbformat_minor": 0,
  "metadata": {
    "colab": {
      "provenance": []
    },
    "kernelspec": {
      "name": "python3",
      "display_name": "Python 3"
    },
    "language_info": {
      "name": "python"
    }
  },
  "cells": [
    {
      "cell_type": "markdown",
      "source": [
        "# 1. 논리연산"
      ],
      "metadata": {
        "id": "Kof8CG0h6shK"
      }
    },
    {
      "cell_type": "code",
      "source": [
        "# 예시\n",
        "\n",
        "def test1():\n",
        "    print(\"test1 함수 호출!\")\n",
        "    return False\n",
        "\n",
        "def test2():\n",
        "    print(\"test2 함수 호출!\")\n",
        "    return True\n",
        "# 가장 많이 걸러지는 조건을 맨 앞에 두어야 리소스를 줄일 수 있다.\n",
        "result = test1() and test2()\n",
        "print(result) # 결과: False"
      ],
      "metadata": {
        "colab": {
          "base_uri": "https://localhost:8080/"
        },
        "id": "anTmRtPWA29o",
        "outputId": "3c8e6d2a-29ea-49fe-a845-52ea528150aa"
      },
      "execution_count": null,
      "outputs": [
        {
          "output_type": "stream",
          "name": "stdout",
          "text": [
            "test1 함수 호출!\n",
            "False\n"
          ]
        }
      ]
    },
    {
      "cell_type": "markdown",
      "source": [
        "# 2. 할당 연산자"
      ],
      "metadata": {
        "id": "ROcCWHRwErMr"
      }
    },
    {
      "cell_type": "code",
      "source": [
        "# 할당 연산\n",
        "x = 5\n",
        "y = 2\n",
        "z = 10\n",
        "\n",
        "x1 = y * z # 20 = 2 * 10\n",
        "x2 = x + (y *z) # 25 = 5 + (2 * 10)\n",
        "x += y * z  # y * z 연산 후 x에 값을 더한 뒤에 할당합니다. # 복리계산에 많이 활용됨\n",
        "print(x1)\n",
        "print(x2)\n",
        "print(x)  # 결과: 25"
      ],
      "metadata": {
        "colab": {
          "base_uri": "https://localhost:8080/"
        },
        "id": "aPIvPQSABPhC",
        "outputId": "15fd44dc-8db0-44d1-fab6-16f7f95dcc10"
      },
      "execution_count": null,
      "outputs": [
        {
          "output_type": "stream",
          "name": "stdout",
          "text": [
            "20\n",
            "25\n",
            "25\n"
          ]
        }
      ]
    },
    {
      "cell_type": "code",
      "source": [
        "# 할당 연산 퀴즈\n",
        "\n",
        "# 문제 1.\n",
        "a = 10\n",
        "a -= 5\n",
        "print(a)\n",
        "\n",
        "# 문제 2.\n",
        "a = 3\n",
        "a *= 2 + 4\n",
        "print(a)\n",
        "\n",
        "# 문제 3.\n",
        "a = 2\n",
        "a **= 3\n",
        "print(a)"
      ],
      "metadata": {
        "colab": {
          "base_uri": "https://localhost:8080/"
        },
        "id": "W1OPUlFzBPol",
        "outputId": "260e23ea-b653-4043-98b8-4972e5b6a0dd"
      },
      "execution_count": null,
      "outputs": [
        {
          "output_type": "stream",
          "name": "stdout",
          "text": [
            "5\n",
            "18\n",
            "8\n"
          ]
        }
      ]
    },
    {
      "cell_type": "markdown",
      "source": [
        "# 3. 식별연산"
      ],
      "metadata": {
        "id": "WcbJ2JZQBP1V"
      }
    },
    {
      "cell_type": "code",
      "source": [
        "# 1. 동일 인물 확인\n",
        "\n",
        "coffee_employee = \"bread\"\n",
        "orange_employee = \"bread\"\n",
        "\n",
        "print(coffee_employee is orange_employee) # 주소가 같은지\n",
        "print(coffee_employee == orange_employee) # 실제 값이 같은지"
      ],
      "metadata": {
        "colab": {
          "base_uri": "https://localhost:8080/"
        },
        "id": "smZ2bij1A7mv",
        "outputId": "675fa34d-b775-46cc-c28d-6ce3d5d1b237"
      },
      "execution_count": null,
      "outputs": [
        {
          "output_type": "stream",
          "name": "stdout",
          "text": [
            "True\n",
            "True\n"
          ]
        }
      ]
    },
    {
      "cell_type": "code",
      "source": [
        "# 2. 예제 2\n",
        "\n",
        "a = [1, 2, 3]\n",
        "b = [1, 2, 3]\n",
        "c = a # 리스트 형인 [1, 2, 3] 다만 a에 있는 것을 재할당\n",
        "\n",
        "print('a == b', a == b)\n",
        "print('a == c', a == c)\n",
        "print('c == b', c == b)\n",
        "print('a is b', a is b)\n",
        "print('a is c', a is c)\n",
        "print('c is b', c is b)\n",
        "print(id(a), id(b), id(c))"
      ],
      "metadata": {
        "colab": {
          "base_uri": "https://localhost:8080/"
        },
        "id": "ZcoN0QXPIX0g",
        "outputId": "d7813449-dfa0-461d-9b39-947d03e3ab8d"
      },
      "execution_count": null,
      "outputs": [
        {
          "output_type": "stream",
          "name": "stdout",
          "text": [
            "a == b True\n",
            "a == c True\n",
            "c == b True\n",
            "a is b False\n",
            "a is c True\n",
            "c is b False\n",
            "134314909609920 134314911552896 134314909609920\n"
          ]
        }
      ]
    },
    {
      "cell_type": "markdown",
      "source": [
        "# 4. 멤버연산"
      ],
      "metadata": {
        "id": "3XdgVDAVJQIC"
      }
    },
    {
      "cell_type": "code",
      "source": [
        "# 기본 예시\n",
        "\n",
        "a = [1, 2, 3, 4]\n",
        "b = [1, 2, 3, 4]\n",
        "c = 'hello world'\n",
        "a1 = [1, [2], 3, 4]\n",
        "\n",
        "print(1 in a) # 출력: True\n",
        "print(0 not in a) # 출력: True\n",
        "print([2] in b) # 출력: False # 자료형태를 잘 파악해 in을 사용해야 된다.\n",
        "print([2] in a1) #출력: True\n",
        "print([1, 2] in b) # 출력: False\n",
        "print('h' in c) # 출력: True\n",
        "print('hello ' in c) # 출력: True"
      ],
      "metadata": {
        "colab": {
          "base_uri": "https://localhost:8080/"
        },
        "id": "kvayJiNVKKIu",
        "outputId": "bd3f0c18-d1f2-4254-b852-3038fa5d185b"
      },
      "execution_count": null,
      "outputs": [
        {
          "output_type": "stream",
          "name": "stdout",
          "text": [
            "True\n",
            "True\n",
            "False\n",
            "True\n",
            "False\n",
            "True\n",
            "True\n"
          ]
        }
      ]
    },
    {
      "cell_type": "markdown",
      "source": [
        "# 5. 연산자 우선"
      ],
      "metadata": {
        "id": "r9fW2Jb5Qk2Z"
      }
    },
    {
      "cell_type": "code",
      "source": [
        "# 연습\n",
        "\n",
        "print(-2 ** 2)\n",
        "print((True * True) and (True + False))"
      ],
      "metadata": {
        "colab": {
          "base_uri": "https://localhost:8080/"
        },
        "id": "7ii02jqhSbau",
        "outputId": "ce560728-5fa4-4dfe-e3c2-99f8be4f3eb6"
      },
      "execution_count": null,
      "outputs": [
        {
          "output_type": "stream",
          "name": "stdout",
          "text": [
            "-4\n",
            "1\n"
          ]
        }
      ]
    },
    {
      "cell_type": "code",
      "source": [
        "# 멤버연산 및 연산자 우선 퀴즈\n",
        "\n",
        "# 문제 1\n",
        "fruits = ['사과', '바나나', '포도']\n",
        "print(\"체리\" not in fruits)\n",
        "\n",
        "# 문제 2\n",
        "greeting = \"안녕하세요\"\n",
        "print(\"안녕\" in greeting)\n",
        "\n",
        "# 문제 3\n",
        "result = 2+ 3 * 4\n",
        "print(result)\n",
        "\n",
        "# 문제 4\n",
        "result = 10 / 2 * 4 - 3\n",
        "print(result)\n",
        "\n",
        "# 문제 5\n",
        "result = 2 ** 3 * 3 + 4 / 2 - 5\n",
        "print(result)"
      ],
      "metadata": {
        "colab": {
          "base_uri": "https://localhost:8080/"
        },
        "id": "Bk2HGV1ASjXo",
        "outputId": "6286f32a-59e7-4dd9-8576-51394233e80a"
      },
      "execution_count": null,
      "outputs": [
        {
          "output_type": "stream",
          "name": "stdout",
          "text": [
            "True\n",
            "True\n",
            "14\n",
            "17.0\n",
            "21.0\n"
          ]
        }
      ]
    },
    {
      "cell_type": "markdown",
      "source": [
        "# 6. 연습문제"
      ],
      "metadata": {
        "id": "JGHe_R4lTDkO"
      }
    },
    {
      "cell_type": "code",
      "source": [
        "# 1번 문제\n",
        "a = 100\n",
        "print((a > 100) and (a < 200)) # False\n",
        "print((a > 100) or (a < 200)) # True\n",
        "print((a >= 100) and (a <= 200)) # True\n",
        "print((a >= 100) or (a <= 200)) # True\n",
        "\n",
        "# 2번 문제\n",
        "b = 25\n",
        "print((b % 2 ==0) and (b % 5 == 0)) # False\n",
        "\n",
        "# 3번 문제\n",
        "# 변수 c 안에 들어있는 가격을 100원짜리 몇개로 거슬러 줄 수 있는지 출력해주세요\n",
        "c = 1000\n",
        "print(c//100) # 결과값은 10입니다."
      ],
      "metadata": {
        "colab": {
          "base_uri": "https://localhost:8080/",
          "height": 386
        },
        "id": "Pe_ACHGmWrhx",
        "outputId": "a6e957dc-1bcd-47d4-85b5-3be84ac2a679"
      },
      "execution_count": null,
      "outputs": [
        {
          "name": "stdout",
          "output_type": "stream",
          "text": [
            "False\n",
            "True\n",
            "True\n",
            "True\n",
            "False\n",
            "10\n",
            "금액을 입력해주세요:10000\n"
          ]
        },
        {
          "output_type": "error",
          "ename": "TypeError",
          "evalue": "ignored",
          "traceback": [
            "\u001b[0;31m---------------------------------------------------------------------------\u001b[0m",
            "\u001b[0;31mTypeError\u001b[0m                                 Traceback (most recent call last)",
            "\u001b[0;32m<ipython-input-41-f95b2d5380c2>\u001b[0m in \u001b[0;36m<cell line: 20>\u001b[0;34m()\u001b[0m\n\u001b[1;32m     18\u001b[0m \u001b[0;31m# (심화문제) 입력한 금액을 5000원, 1000원, 500원, 100원으로 교환하는 프로그램을 만들어주세요.\u001b[0m\u001b[0;34m\u001b[0m\u001b[0;34m\u001b[0m\u001b[0m\n\u001b[1;32m     19\u001b[0m \u001b[0ma\u001b[0m \u001b[0;34m=\u001b[0m \u001b[0minput\u001b[0m\u001b[0;34m(\u001b[0m\u001b[0;34m'금액을 입력해주세요:'\u001b[0m\u001b[0;34m)\u001b[0m\u001b[0;34m\u001b[0m\u001b[0;34m\u001b[0m\u001b[0m\n\u001b[0;32m---> 20\u001b[0;31m \u001b[0mb\u001b[0m \u001b[0;34m=\u001b[0m \u001b[0ma\u001b[0m \u001b[0;34m//\u001b[0m \u001b[0;36m5000\u001b[0m\u001b[0;34m\u001b[0m\u001b[0;34m\u001b[0m\u001b[0m\n\u001b[0m\u001b[1;32m     21\u001b[0m \u001b[0mc\u001b[0m \u001b[0;34m=\u001b[0m \u001b[0mb\u001b[0m \u001b[0;34m//\u001b[0m \u001b[0;36m1000\u001b[0m\u001b[0;34m\u001b[0m\u001b[0;34m\u001b[0m\u001b[0m\n\u001b[1;32m     22\u001b[0m \u001b[0md\u001b[0m \u001b[0;34m=\u001b[0m \u001b[0mc\u001b[0m \u001b[0;34m//\u001b[0m \u001b[0;36m500\u001b[0m\u001b[0;34m\u001b[0m\u001b[0;34m\u001b[0m\u001b[0m\n",
            "\u001b[0;31mTypeError\u001b[0m: unsupported operand type(s) for //: 'str' and 'int'"
          ]
        }
      ]
    },
    {
      "cell_type": "code",
      "source": [
        "# 4번 문제\n",
        "# (심화문제) 입력한 금액을 5000원, 1000원, 500원, 100원으로 교환하는 프로그램을 만들어주세요.\n",
        "# 1. 금액을 입력 받는다.\n",
        "# 2. 5000부터 100까지 거스름돈을 어떻게 줄지 생각해본다.\n",
        "# 3. 결론적으로 모든 거스름돈을 출력해서 거슬러준다.\n",
        "\n",
        "# 금액을 입력 받는 코드\n",
        "money = int(input('금액을 입력하세요'))\n",
        "print(money)\n"
      ],
      "metadata": {
        "colab": {
          "base_uri": "https://localhost:8080/"
        },
        "id": "wrwUHyEqXEtS",
        "outputId": "6f12cd27-5f25-4b01-d5db-203aacbbf812"
      },
      "execution_count": null,
      "outputs": [
        {
          "output_type": "stream",
          "name": "stdout",
          "text": [
            "금액을 입력하세요18550\n",
            "18550\n"
          ]
        }
      ]
    },
    {
      "cell_type": "code",
      "source": [
        "num_5000 = money // 5000\n",
        "print(num_5000)"
      ],
      "metadata": {
        "colab": {
          "base_uri": "https://localhost:8080/"
        },
        "id": "x7ujUKW8fMdk",
        "outputId": "d9969540-5137-423a-93eb-892a8283f993"
      },
      "execution_count": null,
      "outputs": [
        {
          "output_type": "stream",
          "name": "stdout",
          "text": [
            "3\n"
          ]
        }
      ]
    },
    {
      "cell_type": "code",
      "source": [
        "money -= (num_5000 * 5000)\n",
        "print(money)"
      ],
      "metadata": {
        "colab": {
          "base_uri": "https://localhost:8080/"
        },
        "id": "M1qTDurYfMmN",
        "outputId": "b503b919-4483-4de6-fe5f-683098e99cb4"
      },
      "execution_count": null,
      "outputs": [
        {
          "output_type": "stream",
          "name": "stdout",
          "text": [
            "3550\n"
          ]
        }
      ]
    },
    {
      "cell_type": "code",
      "source": [
        "num_1000 = money // 1000\n",
        "print(num_1000)"
      ],
      "metadata": {
        "colab": {
          "base_uri": "https://localhost:8080/"
        },
        "id": "OuGjvmTsfMte",
        "outputId": "84fe00a2-9d80-40fb-ac02-12946e2b4840"
      },
      "execution_count": null,
      "outputs": [
        {
          "output_type": "stream",
          "name": "stdout",
          "text": [
            "3\n"
          ]
        }
      ]
    },
    {
      "cell_type": "code",
      "source": [
        "money -= (num_1000 * 1000)\n",
        "print(money)"
      ],
      "metadata": {
        "colab": {
          "base_uri": "https://localhost:8080/"
        },
        "id": "Vthzd4UHfNPe",
        "outputId": "5fe8290b-4b4b-4153-e7e4-8a01a935b4db"
      },
      "execution_count": null,
      "outputs": [
        {
          "output_type": "stream",
          "name": "stdout",
          "text": [
            "550\n"
          ]
        }
      ]
    },
    {
      "cell_type": "code",
      "source": [
        "num_500 = money // 500\n",
        "print(num_500)"
      ],
      "metadata": {
        "colab": {
          "base_uri": "https://localhost:8080/"
        },
        "id": "WbtnB2zEfNdV",
        "outputId": "50d76bc2-69b6-4cfc-fdab-d92bca97214f"
      },
      "execution_count": null,
      "outputs": [
        {
          "output_type": "stream",
          "name": "stdout",
          "text": [
            "1\n"
          ]
        }
      ]
    },
    {
      "cell_type": "code",
      "source": [],
      "metadata": {
        "id": "sJlaPKORfNpP"
      },
      "execution_count": null,
      "outputs": []
    },
    {
      "cell_type": "code",
      "source": [
        "# 5번 문제\n",
        "# 제품의 원가와 할인율 입력 받기\n",
        "original_price = float(input('원가를 입력해주세요')) # input -> 문자열 계산을 위해서 소수형/정수형\n",
        "discount_rate = float(input('할인율을 입력해주세요'))\n"
      ],
      "metadata": {
        "colab": {
          "base_uri": "https://localhost:8080/"
        },
        "id": "0FzA9x86dDuQ",
        "outputId": "b5a36169-dbc9-4f79-f798-5c290339e630"
      },
      "execution_count": null,
      "outputs": [
        {
          "name": "stdout",
          "output_type": "stream",
          "text": [
            "원가를 입력해주세요10000\n",
            "할인율을 입력해주세요10\n"
          ]
        }
      ]
    },
    {
      "cell_type": "code",
      "source": [
        "print(original_price, discount_rate)"
      ],
      "metadata": {
        "colab": {
          "base_uri": "https://localhost:8080/"
        },
        "id": "05_g6ehThqj_",
        "outputId": "4d1be317-ba0d-4909-88ad-6f003b0679a8"
      },
      "execution_count": null,
      "outputs": [
        {
          "output_type": "stream",
          "name": "stdout",
          "text": [
            "10000.0 10.0\n"
          ]
        }
      ]
    },
    {
      "cell_type": "code",
      "source": [
        "# 할인된 가격 계산\n",
        "discouted_price = original_price - (original_price * discount_rate / 100)\n",
        "# 10000.0 - (10000.0 * 10.0 / 100 -> 0.1) -> (1000.0)"
      ],
      "metadata": {
        "id": "7T4JP3KSgV1i"
      },
      "execution_count": null,
      "outputs": []
    },
    {
      "cell_type": "code",
      "source": [
        "# 결과 출력\n",
        "print(int(discouted_price))"
      ],
      "metadata": {
        "colab": {
          "base_uri": "https://localhost:8080/"
        },
        "id": "mVrNzKatg_yG",
        "outputId": "9140bd55-ad51-4065-8e66-7bd3745f098d"
      },
      "execution_count": null,
      "outputs": [
        {
          "output_type": "stream",
          "name": "stdout",
          "text": [
            "9000\n"
          ]
        }
      ]
    },
    {
      "cell_type": "markdown",
      "source": [
        "# 실습 3\n",
        "사용자 입력 받기:\n",
        "input() 함수를 사용하여 사용자의 이름과 나이를 입력받습니다.\n",
        "\n",
        "문자열을 숫자로 변환:\n",
        "입력받은 나이(문자열)를 int() 함수를 사용하여 정수로 변환합니다.\n",
        "\n",
        "산술 연산 수행:\n",
        "변환된 나이에 1을 더하여 다음 해의 나이를 계산합니다.\n",
        "\n",
        "문자열 길이 계산:\n",
        "len() 함수를 사용하여 사용자 이름의 길이를 계산합니다.\n",
        "\n",
        "성인 여부 판단:\n",
        "나이를 기준으로 성인 여부를 판단하여 불리언 값으로 표시합니다. (예: 18세 이상이면 True, 그렇지 않으면 False)\n",
        "\n",
        "결과 출력:\n",
        "계산된 나이, 이름의 길이, 성인 여부를 print() 함수를 사용하여 출력합니다."
      ],
      "metadata": {
        "id": "QgFMm7rNhIEB"
      }
    },
    {
      "cell_type": "code",
      "source": [
        "# 사용자 입력 받기\n",
        "user_name = input('이름을 입력해주세요: ')\n",
        "user_age = int(input('나이를 입력해주세요: '))"
      ],
      "metadata": {
        "colab": {
          "base_uri": "https://localhost:8080/"
        },
        "id": "S3fbF0MvhOR_",
        "outputId": "74ea9e67-7d24-48f5-b9fc-b6049ff1b537"
      },
      "execution_count": null,
      "outputs": [
        {
          "name": "stdout",
          "output_type": "stream",
          "text": [
            "이름을 입력해주세요: 임빈\n",
            "나이를 입력해주세요: 33\n"
          ]
        }
      ]
    },
    {
      "cell_type": "code",
      "source": [
        "# 내년 나이\n",
        "next_year_age = user_age + 1\n",
        "print(next_year_age)"
      ],
      "metadata": {
        "colab": {
          "base_uri": "https://localhost:8080/"
        },
        "id": "CwWpTcWjiWUx",
        "outputId": "422fd808-0537-4d1e-c64e-4d1fa62c36f2"
      },
      "execution_count": null,
      "outputs": [
        {
          "output_type": "stream",
          "name": "stdout",
          "text": [
            "34\n"
          ]
        }
      ]
    },
    {
      "cell_type": "code",
      "source": [
        "# 이름의 길이 확인\n",
        "name_len = len(user_name)\n",
        "print(name_len)"
      ],
      "metadata": {
        "colab": {
          "base_uri": "https://localhost:8080/"
        },
        "id": "-htfVJBrivIv",
        "outputId": "af04edd9-ebec-4366-df7d-382d62a3564f"
      },
      "execution_count": null,
      "outputs": [
        {
          "output_type": "stream",
          "name": "stdout",
          "text": [
            "2\n"
          ]
        }
      ]
    },
    {
      "cell_type": "code",
      "source": [
        "# 성인 여부 확인\n",
        "is_adult = bool(user_age >= 18)\n",
        "print(is_adult)"
      ],
      "metadata": {
        "colab": {
          "base_uri": "https://localhost:8080/"
        },
        "id": "c_KeLOsqjC8M",
        "outputId": "eb061cd2-5dab-4a18-c43c-b70200b39cc8"
      },
      "execution_count": null,
      "outputs": [
        {
          "output_type": "stream",
          "name": "stdout",
          "text": [
            "True\n"
          ]
        }
      ]
    },
    {
      "cell_type": "code",
      "source": [
        "print(f'제 이름은 {user_name}입니다.')\n",
        "print(f'내년 나이는 {next_year_age}입니다.')\n",
        "print(f'이름의 길이는 {name_len}')\n",
        "print(f'성인이 맞습니까? {is_adult}')"
      ],
      "metadata": {
        "colab": {
          "base_uri": "https://localhost:8080/"
        },
        "id": "DLU27HPRjeyG",
        "outputId": "26a79811-509c-46d1-ee6e-bf93447e683a"
      },
      "execution_count": null,
      "outputs": [
        {
          "output_type": "stream",
          "name": "stdout",
          "text": [
            "제 이름은 임빈입니다.\n",
            "내년 나이는 34입니다.\n",
            "이름의 길이는 2\n",
            "성인이 맞습니까? True\n"
          ]
        }
      ]
    },
    {
      "cell_type": "code",
      "source": [],
      "metadata": {
        "id": "OqbCGVuvkNh2"
      },
      "execution_count": null,
      "outputs": []
    }
  ]
}