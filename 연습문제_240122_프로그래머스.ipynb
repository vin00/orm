{
  "nbformat": 4,
  "nbformat_minor": 0,
  "metadata": {
    "colab": {
      "provenance": []
    },
    "kernelspec": {
      "name": "python3",
      "display_name": "Python 3"
    },
    "language_info": {
      "name": "python"
    }
  },
  "cells": [
    {
      "cell_type": "markdown",
      "source": [
        "# 문제1 몫 구하기\n",
        "\n",
        "* 문제 설명\\\n",
        "정수 num1, num2가 매개변수로 주어질 때, num1을 num2로 나눈 몫을 return 하도록 solution 함수를 완성해주세요.\n",
        "\n",
        "* 제한사항\\\n",
        "0 < num1 ≤ 100\\\n",
        "0 < num2 ≤ 100\n",
        "\n",
        "```\n",
        "# 입출력 예\n",
        "num1\tnum2\tresult\n",
        "10\t    5\t   2\n",
        "7\t     2\t   3\n",
        "```"
      ],
      "metadata": {
        "id": "wzzu79eJTDjW"
      }
    },
    {
      "cell_type": "code",
      "source": [
        "def solution(num1, num2):\n",
        "    answer = num1 // num2\n",
        "    return answer\n",
        "\n",
        "solution(10, 5)"
      ],
      "metadata": {
        "colab": {
          "base_uri": "https://localhost:8080/"
        },
        "id": "asDTr673Te4I",
        "outputId": "0ecac160-4d3b-49c2-a8af-16de89da4e89"
      },
      "execution_count": 1,
      "outputs": [
        {
          "output_type": "execute_result",
          "data": {
            "text/plain": [
              "2"
            ]
          },
          "metadata": {},
          "execution_count": 1
        }
      ]
    },
    {
      "cell_type": "markdown",
      "source": [
        "# 문제 2 나이 출력\n",
        "\n",
        "* 문제 설명\\\n",
        "머쓱이는 40살인 선생님이 몇 년도에 태어났는지 궁금해졌습니다. 나이 age가 주어질 때, 2022년을 기준 출생 연도를 return 하는 solution 함수를 완성해주세요.\n",
        "\n",
        "* 제한사항\\\n",
        "0 < age ≤ 120\\\n",
        "나이는 태어난 연도에 1살이며 1년마다 1씩 증가합니다.\n",
        "\n",
        "```\n",
        "# 입출력 예\n",
        "age\tresult\n",
        "40\t  1983\n",
        "23\t  2000\n",
        "```"
      ],
      "metadata": {
        "id": "fKDQeh92UMY9"
      }
    },
    {
      "cell_type": "code",
      "source": [
        "def solution(age):\n",
        "    answer = 2022 - age +1\n",
        "    return answer\n",
        "\n",
        "solution(23)"
      ],
      "metadata": {
        "colab": {
          "base_uri": "https://localhost:8080/"
        },
        "id": "pwRxPv5MVnk4",
        "outputId": "443effef-5f0b-431e-f810-1f999d8aa7ae"
      },
      "execution_count": 5,
      "outputs": [
        {
          "output_type": "execute_result",
          "data": {
            "text/plain": [
              "2000"
            ]
          },
          "metadata": {},
          "execution_count": 5
        }
      ]
    },
    {
      "cell_type": "markdown",
      "source": [
        "# 문제 3 두 수의 나눗셈\n",
        "\n",
        "* 문제 설명\\\n",
        "정수 num1과 num2가 매개변수로 주어질 때, num1을 num2로 나눈 값에 1,000을 곱한 후 정수 부분을 return 하도록 soltuion 함수를 완성해주세요.\n",
        "\n",
        "* 제한사항\\\n",
        "0 < num1 ≤ 100\\\n",
        "0 < num2 ≤ 100\n",
        "\n",
        "```\n",
        "입출력 예\n",
        "num1\tnum2\tresult\n",
        "3\t    2\t   1500\n",
        "7\t    3\t   2333\n",
        "1\t   16\t    62\n",
        "```"
      ],
      "metadata": {
        "id": "U3OXR3AdV2Dj"
      }
    },
    {
      "cell_type": "code",
      "source": [
        "def solution(num1, num2):\n",
        "    answer = int(num1 / num2 * 1000)\n",
        "    return answer\n",
        "\n",
        "solution(1, 16)"
      ],
      "metadata": {
        "colab": {
          "base_uri": "https://localhost:8080/"
        },
        "id": "Vhnqi9GdX936",
        "outputId": "e722db86-3591-4d7c-9112-8cbe695971d9"
      },
      "execution_count": 7,
      "outputs": [
        {
          "output_type": "execute_result",
          "data": {
            "text/plain": [
              "62"
            ]
          },
          "metadata": {},
          "execution_count": 7
        }
      ]
    },
    {
      "cell_type": "markdown",
      "source": [
        "# 문제 4 각도기\n",
        "\n",
        "* 문제 설명\\\n",
        "각에서 0도 초과 90도 미만은 예각, 90도는 직각, 90도 초과 180도 미만은 둔각 180도는 평각으로 분류합니다. 각 angle이 매개변수로 주어질 때 예각일 때 1, 직각일 때 2, 둔각일 때 3, 평각일 때 4를 return하도록 solution 함수를 완성해주세요.\n",
        "\n",
        "  * 예각 : 0 < angle < 90\n",
        "  * 직각 : angle = 90\n",
        "  * 둔각 : 90 < angle < 180\n",
        "  * 평각 : angle = 180\n",
        "\n",
        "*제한사항\\\n",
        "0 < angle ≤ 180\\\n",
        "angle은 정수입니다.\n",
        "\n",
        "```\n",
        "입출력 예\n",
        "angle\tresult\n",
        "70\t     1\n",
        "91\t     3\n",
        "180\t    4\n",
        "```"
      ],
      "metadata": {
        "id": "LirigM-5YKMB"
      }
    },
    {
      "cell_type": "code",
      "source": [
        "def solution(angle):\n",
        "    if 0 < angle < 90:\n",
        "        return 1\n",
        "    elif angle == 90:\n",
        "        return 2\n",
        "    elif 90 < angle < 180:\n",
        "        return 3\n",
        "    elif angle == 180:\n",
        "        return 4\n",
        "\n",
        "solution(180)"
      ],
      "metadata": {
        "colab": {
          "base_uri": "https://localhost:8080/"
        },
        "id": "EWG3XFEdYmBe",
        "outputId": "ccd63ec7-7cbb-476c-e0fd-56bb2e0967b2"
      },
      "execution_count": 9,
      "outputs": [
        {
          "output_type": "execute_result",
          "data": {
            "text/plain": [
              "4"
            ]
          },
          "metadata": {},
          "execution_count": 9
        }
      ]
    },
    {
      "cell_type": "markdown",
      "source": [
        "# 문제 5 짝수의 합\n",
        "\n",
        "* 문제 설명\\\n",
        "정수 n이 주어질 때, n이하의 짝수를 모두 더한 값을 return 하도록 solution 함수를 작성해주세요.\n",
        "\n",
        "* 제한사항\\\n",
        "0 < n ≤ 1000\n",
        "\n",
        "```\n",
        "입출력 예\n",
        "n\tresult\n",
        "10\t30\n",
        "4\t  6\n",
        "```"
      ],
      "metadata": {
        "id": "mZCfAORbZRGe"
      }
    },
    {
      "cell_type": "code",
      "source": [
        "def solution(n):\n",
        "    answer = sum(filter(lambda x: x % 2 == 0, range(n+1)))\n",
        "    return answer\n",
        "\n",
        "solution(10)"
      ],
      "metadata": {
        "colab": {
          "base_uri": "https://localhost:8080/"
        },
        "id": "TYRvPqh0aFQJ",
        "outputId": "c682716a-b19e-4dc3-d5ba-53fe069c4ff1"
      },
      "execution_count": 11,
      "outputs": [
        {
          "output_type": "execute_result",
          "data": {
            "text/plain": [
              "30"
            ]
          },
          "metadata": {},
          "execution_count": 11
        }
      ]
    },
    {
      "cell_type": "markdown",
      "source": [
        "# 문제 6 배열의 평균값\n",
        "\n",
        "* 문제 설명\\\n",
        "정수 배열 numbers가 매개변수로 주어집니다. numbers의 원소의 평균값을 return하도록 solution 함수를 완성해주세요.\n",
        "\n",
        "* 제한사항\\\n",
        "0 ≤ numbers의 원소 ≤ 1,000\\\n",
        "1 ≤ numbers의 길이 ≤ 100\\\n",
        "정답의 소수 부분이 .0 또는 .5인 경우만 입력으로 주어집니다.\n",
        "\n",
        "```\n",
        "입출력 예\n",
        "numbers\t                                       result\n",
        "[1, 2, 3, 4, 5, 6, 7, 8, 9, 10]                 \t5.5\n",
        "[89, 90, 91, 92, 93, 94, 95, 96, 97, 98, 99]   \t94.0\n",
        "```"
      ],
      "metadata": {
        "id": "eLVE6l1KahP1"
      }
    },
    {
      "cell_type": "code",
      "source": [
        "def solution(numbers):\n",
        "    answer = sum(numbers) / len(numbers)\n",
        "    return answer\n",
        "\n",
        "numbers = [89, 90, 91, 92, 93, 94, 95, 96, 97, 98, 99]\n",
        "solution(numbers)"
      ],
      "metadata": {
        "colab": {
          "base_uri": "https://localhost:8080/"
        },
        "id": "5rLSVuS-a_h6",
        "outputId": "bc371c79-31a9-4100-c6c5-9340afd0b4f0"
      },
      "execution_count": 13,
      "outputs": [
        {
          "output_type": "execute_result",
          "data": {
            "text/plain": [
              "94.0"
            ]
          },
          "metadata": {},
          "execution_count": 13
        }
      ]
    },
    {
      "cell_type": "markdown",
      "source": [
        "# 문제 7 배열 자르기\n",
        "\n",
        "* 문제 설명\\\n",
        "정수 배열 numbers와 정수 num1, num2가 매개변수로 주어질 때, numbers의 num1번 째 인덱스부터 num2번째 인덱스까지 자른 정수 배열을 return 하도록 solution 함수를 완성해보세요.\n",
        "\n",
        "* 제한사항\\\n",
        "2 ≤ numbers의 길이 ≤ 30\\\n",
        "0 ≤ numbers의 원소 ≤ 1,000\\\n",
        "0 ≤num1 < num2 < numbers의 길이\n",
        "\n",
        "```\n",
        "입출력 예\n",
        "numbers\t       num1\t  num2\t   result\n",
        "[1, 2, 3, 4, 5]\t1\t     3\t    [2, 3, 4]\n",
        "[1, 3, 5]\t      1         2\t     [3, 5]\n",
        "```"
      ],
      "metadata": {
        "id": "Dm5Hfgfucas9"
      }
    },
    {
      "cell_type": "code",
      "source": [
        "def solution(numbers, num1, num2):\n",
        "    answer = numbers[num1:num2+1]\n",
        "    return answer\n",
        "\n",
        "\n",
        "solution([1, 2, 3, 4, 5], 1, 3)"
      ],
      "metadata": {
        "colab": {
          "base_uri": "https://localhost:8080/"
        },
        "id": "2lJGiGi8dA5Q",
        "outputId": "e7b5a484-c370-472c-fe83-5a80bcbd874f"
      },
      "execution_count": 17,
      "outputs": [
        {
          "output_type": "execute_result",
          "data": {
            "text/plain": [
              "[2, 3, 4]"
            ]
          },
          "metadata": {},
          "execution_count": 17
        }
      ]
    },
    {
      "cell_type": "markdown",
      "source": [
        "# 문제 8 삼각형의 완성조건 1\n",
        "\n",
        "* 문제 설명\\\n",
        "선분 세 개로 삼각형을 만들기 위해서는 다음과 같은 조건을 만족해야 합니다.\n",
        "\n",
        "  * 가장 긴 변의 길이는 다른 두 변의 길이의 합보다 작아야 합니다.\n",
        "\n",
        " 삼각형의 세 변의 길이가 담긴 배열 sides이 매개변수로 주어집니다. 세 변으로 삼각형을 만들 수 있다면 1, 만들 수 없다면 2를 return하도록 solution 함수를 완성해주세요.\n",
        "\n",
        "* 제한사항\\\n",
        "sides의 원소는 자연수입니다.\\\n",
        "sides의 길이는 3입니다.\\\n",
        "1 ≤ sides의 원소 ≤ 1,000\n",
        "\n",
        "```\n",
        "입출력 예\n",
        "sides\t        result\n",
        "[1, 2, 3]\t      2\n",
        "[3, 6, 2]\t      2\n",
        "[199, 72, 222]     1\n",
        "```"
      ],
      "metadata": {
        "id": "HlzMI0XNdZov"
      }
    },
    {
      "cell_type": "code",
      "source": [
        "def solution(sides):\n",
        "    sides_max = max(sides)\n",
        "    sides_sum = sum(sides) - max(sides)\n",
        "    if sides_max < sides_sum:\n",
        "        return 1\n",
        "    else:\n",
        "        return 2\n",
        "\n",
        "sides = [199, 72, 222]\n",
        "solution(sides)"
      ],
      "metadata": {
        "colab": {
          "base_uri": "https://localhost:8080/"
        },
        "id": "WQ4qOznXglYd",
        "outputId": "e83fe753-d14b-46f0-aa1a-a3c2f5e312e1"
      },
      "execution_count": 44,
      "outputs": [
        {
          "output_type": "execute_result",
          "data": {
            "text/plain": [
              "1"
            ]
          },
          "metadata": {},
          "execution_count": 44
        }
      ]
    },
    {
      "cell_type": "code",
      "source": [
        "def solution(sides):\n",
        "    return 1 if max(sides) < (sum(sides) - max(sides)) else 2\n",
        "\n",
        "sides = [3, 6, 2]\n",
        "solution(sides)"
      ],
      "metadata": {
        "colab": {
          "base_uri": "https://localhost:8080/"
        },
        "id": "0NpwVU-PiRFE",
        "outputId": "63e39907-9fae-48b0-ed6a-c03ad9a159b2"
      },
      "execution_count": 46,
      "outputs": [
        {
          "output_type": "execute_result",
          "data": {
            "text/plain": [
              "2"
            ]
          },
          "metadata": {},
          "execution_count": 46
        }
      ]
    },
    {
      "cell_type": "markdown",
      "source": [
        "# 문제 9 짝수는 싫어요\n",
        "\n",
        "* 문제 설명\\\n",
        "정수 n이 매개변수로 주어질 때, n 이하의 홀수가 오름차순으로 담긴 배열을 return하도록 solution 함수를 완성해주세요.\n",
        "\n",
        "* 제한사항\\\n",
        "1 ≤ n ≤ 100\n",
        "\n",
        "```\n",
        "n\tresult\n",
        "10\t[1, 3, 5, 7, 9]\n",
        "15\t[1, 3, 5, 7, 9, 11, 13, 15]\n",
        "```"
      ],
      "metadata": {
        "id": "SNw8gZWEk9WC"
      }
    },
    {
      "cell_type": "code",
      "source": [
        "def solution(n):\n",
        "    answer = list(filter(lambda x: x % 2 != 0, range(n+1)))\n",
        "    return answer\n",
        "\n",
        "solution(15)"
      ],
      "metadata": {
        "colab": {
          "base_uri": "https://localhost:8080/"
        },
        "id": "Lcqhs6e5jeJV",
        "outputId": "571113ba-0a01-4554-b318-94a576b6456c"
      },
      "execution_count": 51,
      "outputs": [
        {
          "output_type": "execute_result",
          "data": {
            "text/plain": [
              "[1, 3, 5, 7, 9, 11, 13, 15]"
            ]
          },
          "metadata": {},
          "execution_count": 51
        }
      ]
    },
    {
      "cell_type": "code",
      "source": [
        "def solution(n):\n",
        "    return [x for x in range(n + 1) if x % 2]\n",
        "\n",
        "solution(11)"
      ],
      "metadata": {
        "colab": {
          "base_uri": "https://localhost:8080/"
        },
        "id": "rPrirrf3kNBB",
        "outputId": "c10ffb58-c3fe-42b8-d9c8-c225dcb504f0"
      },
      "execution_count": 54,
      "outputs": [
        {
          "output_type": "execute_result",
          "data": {
            "text/plain": [
              "[1, 3, 5, 7, 9, 11]"
            ]
          },
          "metadata": {},
          "execution_count": 54
        }
      ]
    },
    {
      "cell_type": "markdown",
      "source": [
        "# 문제 10 배열 뒤집기\n",
        "\n",
        "* 문제 설명\\\n",
        "정수가 들어 있는 배열 num_list가 매개변수로 주어집니다. num_list의 원소의 순서를 거꾸로 뒤집은 배열을 return하도록 solution 함수를 완성해주세요.\n",
        "\n",
        "* 제한사항\\\n",
        "1 ≤ num_list의 길이 ≤ 1,000\\\n",
        "0 ≤ num_list의 원소 ≤ 1,000\n",
        "\n",
        "```\n",
        "입출력 예\n",
        "num_list\t                    result\n",
        "[1, 2, 3, 4, 5]\t         [5, 4, 3, 2, 1]\n",
        "[1, 1, 1, 1, 1, 2]\t      [2, 1, 1, 1, 1, 1]\n",
        "[1, 0, 1, 1, 1, 3, 5]\t   [5, 3, 1, 1, 1, 0, 1]\n",
        "```"
      ],
      "metadata": {
        "id": "H9xIpLMHlKOb"
      }
    },
    {
      "cell_type": "code",
      "source": [
        "def solution(num_list):\n",
        "    answer = []\n",
        "    for i in num_list[::-1]:\n",
        "        answer.append(i)\n",
        "    return answer\n",
        "\n",
        "num_list = [1, 2, 3, 4, 5]\n",
        "solution(num_list)"
      ],
      "metadata": {
        "colab": {
          "base_uri": "https://localhost:8080/"
        },
        "id": "Q2_brxaaleay",
        "outputId": "54de7939-04d1-42ed-c14f-9cb50eb6efdf"
      },
      "execution_count": 68,
      "outputs": [
        {
          "output_type": "execute_result",
          "data": {
            "text/plain": [
              "[5, 4, 3, 2, 1]"
            ]
          },
          "metadata": {},
          "execution_count": 68
        }
      ]
    },
    {
      "cell_type": "code",
      "source": [
        "def solution(num_list):\n",
        "    num_list.reverse()\n",
        "    return num_list\n",
        "\n",
        "num_list = [1, 2, 3, 4, 5]\n",
        "solution(num_list)"
      ],
      "metadata": {
        "colab": {
          "base_uri": "https://localhost:8080/"
        },
        "id": "aqVe75CSmZPZ",
        "outputId": "94851a2c-0dca-42bd-b290-23986f424c6f"
      },
      "execution_count": 69,
      "outputs": [
        {
          "output_type": "execute_result",
          "data": {
            "text/plain": [
              "[5, 4, 3, 2, 1]"
            ]
          },
          "metadata": {},
          "execution_count": 69
        }
      ]
    },
    {
      "cell_type": "code",
      "source": [],
      "metadata": {
        "id": "eiBMyNf2n05B"
      },
      "execution_count": null,
      "outputs": []
    }
  ]
}