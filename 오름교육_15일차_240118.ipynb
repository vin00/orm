{
  "nbformat": 4,
  "nbformat_minor": 0,
  "metadata": {
    "colab": {
      "provenance": []
    },
    "kernelspec": {
      "name": "python3",
      "display_name": "Python 3"
    },
    "language_info": {
      "name": "python"
    }
  },
  "cells": [
    {
      "cell_type": "markdown",
      "source": [
        "# 어제 복습문제 풀이"
      ],
      "metadata": {
        "id": "5GJOXW6d5yP_"
      }
    },
    {
      "cell_type": "code",
      "source": [
        " # 1번 답\n",
        " # 1.1\n",
        " import time\n",
        "\n",
        " def time_decorator(func):\n",
        "     def wrapper(input_data):\n",
        "         start_time = time.time()\n",
        "         result = func(input_data)\n",
        "         end_time = time.time()\n",
        "         print(f\"함수가 {end_time - start_time} 초가 걸렸습니다.\")\n",
        "         return result\n",
        "     return wrapper\n",
        "\n",
        "@time_decorator\n",
        "def f(data):\n",
        "    s = 0\n",
        "    for i in range(data+1):\n",
        "        s += i\n",
        "    return s\n",
        "\n",
        "f(100)"
      ],
      "metadata": {
        "colab": {
          "base_uri": "https://localhost:8080/"
        },
        "id": "jBE6GDQf6B38",
        "outputId": "425e6754-a3f9-42b6-f1a0-e56143ce9172"
      },
      "execution_count": null,
      "outputs": [
        {
          "output_type": "stream",
          "name": "stdout",
          "text": [
            "함수가 1.6450881958007812e-05 초가 걸렸습니다.\n"
          ]
        },
        {
          "output_type": "execute_result",
          "data": {
            "text/plain": [
              "5050"
            ]
          },
          "metadata": {},
          "execution_count": 1
        }
      ]
    },
    {
      "cell_type": "code",
      "source": [
        " # 1번 답\n",
        " # 1.2\n",
        " import time\n",
        "\n",
        " def time_decorator(func):\n",
        "     def wrapper():\n",
        "         start_time = time.time()\n",
        "         result = func()\n",
        "         end_time = time.time()\n",
        "         print(f\"함수가 {end_time - start_time} 초가 걸렸습니다.\")\n",
        "         return result\n",
        "     return wrapper\n",
        "\n",
        "@time_decorator\n",
        "def f():\n",
        "    s = 0\n",
        "    for i in range(101):\n",
        "        s += i\n",
        "    return s\n",
        "\n",
        "f()"
      ],
      "metadata": {
        "colab": {
          "base_uri": "https://localhost:8080/"
        },
        "id": "YHAMY_SN6Cke",
        "outputId": "d5d063db-acf5-41bb-c2c5-4d542e0357dd"
      },
      "execution_count": null,
      "outputs": [
        {
          "output_type": "stream",
          "name": "stdout",
          "text": [
            "함수가 1.4543533325195312e-05 초가 걸렸습니다.\n"
          ]
        },
        {
          "output_type": "execute_result",
          "data": {
            "text/plain": [
              "5050"
            ]
          },
          "metadata": {},
          "execution_count": 2
        }
      ]
    },
    {
      "cell_type": "code",
      "source": [
        "# 2번 답\n",
        "\n",
        "def gen():\n",
        "    for i in range(0, 101, 2):\n",
        "        yield i\n",
        "    return\n",
        "\n",
        "for i in gen():\n",
        "    print(i)\n"
      ],
      "metadata": {
        "colab": {
          "base_uri": "https://localhost:8080/"
        },
        "id": "NuLF3HWg6D-y",
        "outputId": "f0345c23-5df7-4f88-f738-d22eb1805043"
      },
      "execution_count": null,
      "outputs": [
        {
          "output_type": "stream",
          "name": "stdout",
          "text": [
            "0\n",
            "2\n",
            "4\n",
            "6\n",
            "8\n",
            "10\n",
            "12\n",
            "14\n",
            "16\n",
            "18\n",
            "20\n",
            "22\n",
            "24\n",
            "26\n",
            "28\n",
            "30\n",
            "32\n",
            "34\n",
            "36\n",
            "38\n",
            "40\n",
            "42\n",
            "44\n",
            "46\n",
            "48\n",
            "50\n",
            "52\n",
            "54\n",
            "56\n",
            "58\n",
            "60\n",
            "62\n",
            "64\n",
            "66\n",
            "68\n",
            "70\n",
            "72\n",
            "74\n",
            "76\n",
            "78\n",
            "80\n",
            "82\n",
            "84\n",
            "86\n",
            "88\n",
            "90\n",
            "92\n",
            "94\n",
            "96\n",
            "98\n",
            "100\n"
          ]
        }
      ]
    },
    {
      "cell_type": "code",
      "source": [
        "# 문제 3\n",
        "# 예외처리 문제: 사용자로부터 두 개의 숫자를 입력받아 나눗셈을 수행하는 함수를 작성하세요.\n",
        "# 이 때 0으로 나눌 때에는 예외처리를 해주세요.\n",
        "\n",
        "def divide(x, y):\n",
        "    try:\n",
        "        return x / y\n",
        "    except:\n",
        "        return 0\n",
        "\n",
        "divide(1, 0)"
      ],
      "metadata": {
        "colab": {
          "base_uri": "https://localhost:8080/"
        },
        "id": "X5BeT-wo7K4b",
        "outputId": "64f43635-760d-414b-b3d5-7aa042c54de2"
      },
      "execution_count": null,
      "outputs": [
        {
          "output_type": "execute_result",
          "data": {
            "text/plain": [
              "0"
            ]
          },
          "metadata": {},
          "execution_count": 5
        }
      ]
    },
    {
      "cell_type": "markdown",
      "source": [
        "# 파이썬 버전 업데이트에 따른 변화\n",
        "\n",
        "* Python 3.5: async await\n",
        "* Python 3.6: Dict에 순서, f-string, 타입힌트\n",
        "* Python 3.7: dataclasses\n",
        "* Python 3.8: 왈러스 연산자(:=)\n",
        "* Python 3.9: 딕셔너리 결합 연산자(|)\n",
        "* Python 3.10: match"
      ],
      "metadata": {
        "id": "whab1MAX8m0m"
      }
    },
    {
      "cell_type": "markdown",
      "source": [
        "# 1. 파일 입출력"
      ],
      "metadata": {
        "id": "NhQo-mj1ATu0"
      }
    },
    {
      "cell_type": "code",
      "source": [
        "# open(파일이름, 파일모드)\n",
        "f = open('python.txt', 'w') # 파일모드 : r, w, a, r+\n",
        "f.close()"
      ],
      "metadata": {
        "id": "4zMojet3AY9p"
      },
      "execution_count": null,
      "outputs": []
    },
    {
      "cell_type": "code",
      "source": [
        "# 파일을 열었으면 꼭 닫아야함\n",
        "# 닫지 않으면 메모리가 살아 있음.\n",
        "f = open('python.txt', 'w')\n",
        "f.write('hello world')\n",
        "f.close()"
      ],
      "metadata": {
        "id": "V46Rv-ULAsf0"
      },
      "execution_count": null,
      "outputs": []
    },
    {
      "cell_type": "code",
      "source": [
        "# 사용한다면 close를 잊을 때가 많아서 아래 방법을 권고 한다.\n",
        "for i in range(10):\n",
        "    with open(f'test{i}.txt', 'w') as f:\n",
        "        f.write('hello world!')"
      ],
      "metadata": {
        "id": "CFq4R54qBKl8"
      },
      "execution_count": null,
      "outputs": []
    },
    {
      "cell_type": "code",
      "source": [
        "db_data = [\n",
        "  {\n",
        "    \"_id\": \"7f5440ab-7e2f-4a42-Be13-89987fa65b32\",\n",
        "    \"index\": \"1\",\n",
        "    \"name\": \"등윤상\",\n",
        "    \"email\": \"user-qe89s09@ut.io\",\n",
        "    \"phone\": \"010-3542-7711\",\n",
        "    \"country\": \"키리바시\",\n",
        "    \"address\": \"방학로 74-9\",\n",
        "    \"job\": \"일러스트레이터\"\n",
        "  },\n",
        "  {\n",
        "    \"_id\": \"b4f7ade0-38bb-4e6f-B94a-18af1426eb30\",\n",
        "    \"index\": \"2\",\n",
        "    \"name\": \"노동규\",\n",
        "    \"email\": \"user-nyr5mqw@ornare.com\",\n",
        "    \"phone\": \"010-9743-6320\",\n",
        "    \"country\": \"베냉\",\n",
        "    \"address\": \"남부순환로 54-6\",\n",
        "    \"job\": \"애완동물미용사\"\n",
        "  },\n",
        "  {\n",
        "    \"_id\": \"5d788255-8d5e-4f03-B446-dbac6a147e37\",\n",
        "    \"index\": \"3\",\n",
        "    \"name\": \"경진아\",\n",
        "    \"email\": \"user-n7pey4v@Etiam.biz\",\n",
        "    \"phone\": \"010-4049-8718\",\n",
        "    \"country\": \"아르메니아\",\n",
        "    \"address\": \"강남대로 87-5\",\n",
        "    \"job\": \"플로리스트\"\n",
        "  },\n",
        "  {\n",
        "    \"_id\": \"083efce4-17ed-4e9f-Ad7c-f9aa0ac6cb79\",\n",
        "    \"index\": \"4\",\n",
        "    \"name\": \"복소유\",\n",
        "    \"email\": \"user-ohaz2is@nibh.biz\",\n",
        "    \"phone\": \"010-3400-5945\",\n",
        "    \"country\": \"페루\",\n",
        "    \"address\": \"양산로 78-1\",\n",
        "    \"job\": \"응급구조사\"\n",
        "  },\n",
        "  {\n",
        "    \"_id\": \"d54ce0fa-c025-4af6-Cd9a-b9d10aa8be5a\",\n",
        "    \"index\": \"5\",\n",
        "    \"name\": \"화예빈\",\n",
        "    \"email\": \"user-mnkpdlp@vel.net\",\n",
        "    \"phone\": \"010-3120-8720\",\n",
        "    \"country\": \"허드 및 맥도널드 제도\",\n",
        "    \"address\": \"한남대로 6-2\",\n",
        "    \"job\": \"전문의사\"\n",
        "  }\n",
        "]"
      ],
      "metadata": {
        "id": "fq8Mlio6BYbQ"
      },
      "execution_count": null,
      "outputs": []
    },
    {
      "cell_type": "code",
      "source": [
        "# 미션 1\n",
        "# 각가의 회원 이름_info.txt로 각각 정보 정리\n",
        "\n",
        "# 미션 2\n",
        "# 엑셀로 각각 정보 정리\n",
        "\n",
        "# 미션 3\n",
        "# html로 table 정리하기(자바스크립트를 배워야 할 수 잇음.)"
      ],
      "metadata": {
        "id": "zuEDkF41B8Qi"
      },
      "execution_count": null,
      "outputs": []
    },
    {
      "cell_type": "code",
      "source": [
        "# 미션 1\n",
        "# 각가의 회원 이름_info.txt로 각각 정보 정리\n",
        "list(map(lambda x: x['name'], db_data))\n",
        "\n",
        "for name in enumerate(map(lambda x: x['name'], db_data)):\n",
        "    with open(f'{name}_info.txt', 'w') as f:\n",
        "        f.write(str(db_data[i]))"
      ],
      "metadata": {
        "id": "qwQ6SGVRGFTg"
      },
      "execution_count": null,
      "outputs": []
    },
    {
      "cell_type": "code",
      "source": [
        "# 미션 2\n",
        "# 엑셀로 각각 정보 정리\n",
        "with open('data.csv', 'w') as f:\n",
        "    s = '아이디,인덱스,이름,이메일,휴대폰,나라,주소,직업\\n'\n",
        "    for i in db_data:\n",
        "        s += f'{i[\"_id\"]},{i[\"index\"]},{i[\"name\"]},{i[\"email\"]},{i[\"phone\"]},{i[\"country\"]},{i[\"address\"]},{i[\"job\"]}\\n'\n",
        "    f.write(s)"
      ],
      "metadata": {
        "id": "OyAkjDOPG3Kg"
      },
      "execution_count": null,
      "outputs": []
    },
    {
      "cell_type": "code",
      "source": [
        "# 엑셀라이터\n",
        "# 워크북(엑셀파일 1개입니다.)\n",
        "# 워크시트(sheet이라고 아래 여러개의 sheet을 만들 수 있습니다.)\n",
        "# 셀(네모 칸 하나)"
      ],
      "metadata": {
        "id": "eEo4En3nHEJH"
      },
      "execution_count": null,
      "outputs": []
    },
    {
      "cell_type": "code",
      "source": [
        "!pip3 install xlsxwriter"
      ],
      "metadata": {
        "colab": {
          "base_uri": "https://localhost:8080/"
        },
        "id": "W0EenQopMpta",
        "outputId": "0a107d7d-6ed5-4a62-f15d-5ca34083d01f"
      },
      "execution_count": null,
      "outputs": [
        {
          "output_type": "stream",
          "name": "stdout",
          "text": [
            "Collecting xlsxwriter\n",
            "  Downloading XlsxWriter-3.1.9-py3-none-any.whl (154 kB)\n",
            "\u001b[?25l     \u001b[90m━━━━━━━━━━━━━━━━━━━━━━━━━━━━━━━━━━━━━━━━\u001b[0m \u001b[32m0.0/154.8 kB\u001b[0m \u001b[31m?\u001b[0m eta \u001b[36m-:--:--\u001b[0m\r\u001b[2K     \u001b[91m━━━━━━━━━━━━━━━━━━━━━━━━━━━━━\u001b[0m\u001b[90m╺\u001b[0m\u001b[90m━━━━━━━━━━\u001b[0m \u001b[32m112.6/154.8 kB\u001b[0m \u001b[31m3.2 MB/s\u001b[0m eta \u001b[36m0:00:01\u001b[0m\r\u001b[2K     \u001b[90m━━━━━━━━━━━━━━━━━━━━━━━━━━━━━━━━━━━━━━━━\u001b[0m \u001b[32m154.8/154.8 kB\u001b[0m \u001b[31m3.2 MB/s\u001b[0m eta \u001b[36m0:00:00\u001b[0m\n",
            "\u001b[?25hInstalling collected packages: xlsxwriter\n",
            "Successfully installed xlsxwriter-3.1.9\n"
          ]
        }
      ]
    },
    {
      "cell_type": "code",
      "source": [
        "import xlsxwriter\n",
        "\n",
        "workbook = xlsxwriter.Workbook('hello.xlsx')\n",
        "worksheet = workbook.add_worksheet('test')\n",
        "\n",
        "worksheet.write('A1', 'A')\n",
        "worksheet.write('B1', 'B')\n",
        "worksheet.write('C1', 'C')\n",
        "worksheet.write('A2', 'D')\n",
        "worksheet.write('B2', 'E')\n",
        "worksheet.write('C2', 'F')\n",
        "\n",
        "workbook.close()"
      ],
      "metadata": {
        "id": "RVzjDe5WJ-u5"
      },
      "execution_count": null,
      "outputs": []
    },
    {
      "cell_type": "code",
      "source": [
        "import xlsxwriter\n",
        "\n",
        "workbook = xlsxwriter.Workbook('hello.xlsx')\n",
        "worksheet = workbook.add_worksheet('test')\n",
        "\n",
        "철수 = [10, 20, 30]\n",
        "영희 = [40, 50, 60]\n",
        "\n",
        "worksheet.write('A1', '국')\n",
        "worksheet.write('B1', '영')\n",
        "worksheet.write('C1', '수')\n",
        "worksheet.write('A2', 철수[0])\n",
        "worksheet.write('B2', 철수[1])\n",
        "worksheet.write('C2', 철수[2])\n",
        "worksheet.write('A3', 영희[0])\n",
        "worksheet.write('B3', 영희[1])\n",
        "worksheet.write('C3', 영희[2])\n",
        "\n",
        "for i in zip('ABC', 철수, 영희):\n",
        "    worksheet.write(f'{i[0]}4', i[1] + i[2])\n",
        "\n",
        "# D1에 평균 텍스트 삽입\n",
        "worksheet.write('D1', '평균')\n",
        "# 수식삽입\n",
        "worksheet.write('D2', '=SUM(A2:C2)/3')\n",
        "worksheet.write('D3', '=SUM(A3:C3)/3')\n",
        "\n",
        "workbook.close()"
      ],
      "metadata": {
        "id": "OCJ8rFrdLFHk"
      },
      "execution_count": null,
      "outputs": []
    },
    {
      "cell_type": "code",
      "source": [
        "# 크롤링\n",
        "# 웹크롤링 -> 엑셀\n",
        "# 한글파일 크롤링 -> 엑셀\n",
        "# PDF 크롤링 -> 엑셀\n",
        "\n",
        "# 파일 형식 변환\n",
        "# CSV => xlsx\n",
        "# JSON => xlsx\n",
        "\n",
        "# 메크로\n",
        "# 메크로 작동 로직 => 엑셀"
      ],
      "metadata": {
        "id": "cuwhU4obM8uE"
      },
      "execution_count": null,
      "outputs": []
    },
    {
      "cell_type": "code",
      "source": [
        "# 미션 3\n",
        "# html로 table 정리하기(자바스크립트를 배워야 할 수 잇음.)\n",
        "s = '''\n",
        "<style>\n",
        "    table {\n",
        "        border-collapse: collapse;\n",
        "        width: 100%;\n",
        "        border: 1px solid black;\n",
        "    }\n",
        "    tr, td, th {\n",
        "        border: 1px solid black;\n",
        "    }\n",
        "</style>\n",
        "<table>\n",
        "    <tr>\n",
        "        <th>아이디</th>\n",
        "        <th>인덱스</th>\n",
        "        <th>이름</th>\n",
        "        <th>이메일</th>\n",
        "        <th>휴대폰</th>\n",
        "        <th>나라</th>\n",
        "        <th>주소</th>\n",
        "        <th>직업</th>\n",
        "    </tr>\n",
        "'''\n",
        "for i, _ in enumerate(db_data):\n",
        "    s += f'''\n",
        "        <tr>\n",
        "            <td>db_date[0][\"_id\"]</td>\n",
        "            <td>db_date[0][\"index\"]</td>\n",
        "            <td>db_date[0][\"name\"]</td>\n",
        "            <td>db_date[0][\"email\"]</td>\n",
        "            <td>db_date[0][\"phone\"]</td>\n",
        "            <td>db_date[0][\"country\"]</td>\n",
        "            <td>db_date[0][\"address\"]</td>\n",
        "            <td>db_date[0][\"job\"]</td>\n",
        "        </tr>\n",
        "        '''\n",
        "s += '</table>'\n",
        "s"
      ],
      "metadata": {
        "colab": {
          "base_uri": "https://localhost:8080/",
          "height": 182
        },
        "id": "8Ykqw1z8OWDn",
        "outputId": "6db2d7ee-45a5-4ed8-f5aa-f2b51d1cfc65"
      },
      "execution_count": null,
      "outputs": [
        {
          "output_type": "execute_result",
          "data": {
            "text/plain": [
              "'\\n<style>\\n    table {\\n        border-collapse: collapse;\\n        width: 100%;\\n        border: 1px solid black;\\n    }\\n    tr, td, th {\\n        border: 1px solid black;\\n    }\\n</style>\\n<table>\\n    <tr>\\n        <th>아이디</th>\\n        <th>인덱스</th>\\n        <th>이름</th>\\n        <th>이메일</th>\\n        <th>휴대폰</th>\\n        <th>나라</th>\\n        <th>주소</th>\\n        <th>직업</th>\\n    </tr>\\n\\n    <tr>\\n            <td>db_date[0][\"_id\"]</td>\\n            <td>db_date[0][\"index\"]</td>\\n            <td>db_date[0][\"name\"]</td>\\n            <td>db_date[0][\"email\"]</td>\\n            <td>db_date[0][\"phone\"]</td>\\n            <td>db_date[0][\"country\"]</td>\\n            <td>db_date[0][\"address\"]</td>\\n            <td>db_date[0][\"job\"]</td>\\n        </tr>\\n        \\n    <tr>\\n            <td>db_date[0][\"_id\"]</td>\\n            <td>db_date[0][\"index\"]</td>\\n            <td>db_date[0][\"name\"]</td>\\n            <td>db_date[0][\"email\"]</td>\\n            <td>db_date[0][\"phone\"]</td>\\n            <td>db_date[0][\"country\"]</td>\\n            <td>db_date[0][\"address\"]</td>\\n            <td>db_date[0][\"job\"]</td>\\n        </tr>\\n        \\n    <tr>\\n            <td>db_date[0][\"_id\"]</td>\\n            <td>db_date[0][\"index\"]</td>\\n            <td>db_date[0][\"name\"]</td>\\n            <td>db_date[0][\"email\"]</td>\\n            <td>db_date[0][\"phone\"]</td>\\n            <td>db_date[0][\"country\"]</td>\\n            <td>db_date[0][\"address\"]</td>\\n            <td>db_date[0][\"job\"]</td>\\n        </tr>\\n        \\n    <tr>\\n            <td>db_date[0][\"_id\"]</td>\\n            <td>db_date[0][\"index\"]</td>\\n            <td>db_date[0][\"name\"]</td>\\n            <td>db_date[0][\"email\"]</td>\\n            <td>db_date[0][\"phone\"]</td>\\n            <td>db_date[0][\"country\"]</td>\\n            <td>db_date[0][\"address\"]</td>\\n            <td>db_date[0][\"job\"]</td>\\n        </tr>\\n        \\n    <tr>\\n            <td>db_date[0][\"_id\"]</td>\\n            <td>db_date[0][\"index\"]</td>\\n            <td>db_date[0][\"name\"]</td>\\n            <td>db_date[0][\"email\"]</td>\\n            <td>db_date[0][\"phone\"]</td>\\n            <td>db_date[0][\"country\"]</td>\\n            <td>db_date[0][\"address\"]</td>\\n            <td>db_date[0][\"job\"]</td>\\n        </tr>\\n        </table>'"
            ],
            "application/vnd.google.colaboratory.intrinsic+json": {
              "type": "string"
            }
          },
          "metadata": {},
          "execution_count": 32
        }
      ]
    },
    {
      "cell_type": "code",
      "source": [
        "# 미션 3 다른 방법\n",
        "s = '''\n",
        "<style>\n",
        "    table {\n",
        "        border-collapse: collapse;\n",
        "        width: 100%;\n",
        "        border: 1px solid black;\n",
        "    }\n",
        "    tr, td, th {\n",
        "        border: 1px solid black;\n",
        "    }\n",
        "</style>\n",
        "<table>\n",
        "    <tr>\n",
        "        <th>아이디</th>\n",
        "        <th>인덱스</th>\n",
        "        <th>이름</th>\n",
        "        <th>이메일</th>\n",
        "        <th>휴대폰</th>\n",
        "        <th>나라</th>\n",
        "        <th>주소</th>\n",
        "        <th>직업</th>\n",
        "    </tr>\n",
        "'''\n",
        "for item in db_data:\n",
        "    s += f'''\n",
        "        <tr>\n",
        "            <td>{item[\"_id\"]}</td>\n",
        "            <td>{item[\"index\"]}</td>\n",
        "            <td>{item[\"name\"]}</td>\n",
        "            <td>{item[\"email\"]}</td>\n",
        "            <td>{item[\"phone\"]}</td>\n",
        "            <td>{item[\"country\"]}</td>\n",
        "            <td>{item[\"address\"]}</td>\n",
        "            <td>{item[\"job\"]}</td>\n",
        "        </tr>\n",
        "        '''\n",
        "s += '</table>'\n",
        "\n",
        "with open('test.html','w') as f:\n",
        "    f.write(s)"
      ],
      "metadata": {
        "id": "wPvAEnTQPv_D"
      },
      "execution_count": null,
      "outputs": []
    },
    {
      "cell_type": "markdown",
      "source": [
        "# 2. 비트연산"
      ],
      "metadata": {
        "id": "ylxNOSIZUd4u"
      }
    },
    {
      "cell_type": "code",
      "source": [
        "# 실무에서 비트연산을 하는 경우가 거~~~의 없습니다.\n",
        "# 알고리즘 테스트에서 CS지식 정도를 테스트 하는 용도로 간혹 출제가 됩니다.\n",
        "# 진법: 수학 기초 상식\n",
        "\n",
        "# 10진법\n",
        "# 1542 == 1 * (10**3) + 5 * (10**2) + 4 * (10**1) + 2 * (10**0)\n",
        "# 0123456789 10\n",
        "\n",
        "# 16진법\n",
        "# 1542 == 1 * (16**3) + 5 * (16**2) + 4 * (16**1) + 2 * (16**0)\n",
        "# 0123456789abcdef 10\n",
        "\n",
        "# 8진법\n",
        "# 1542 == 1 * (8**3) + 5 * (8**2) + 4 * (8**1) + 2 * (8**0)\n",
        "# 01234567 10\n",
        "\n",
        "# 01 10"
      ],
      "metadata": {
        "id": "N8D4ccL0XteW"
      },
      "execution_count": null,
      "outputs": []
    },
    {
      "cell_type": "code",
      "source": [
        "3 & 9 # and\n",
        "\n",
        "# 0011\n",
        "# 1001\n",
        "# ----\n",
        "# 0001"
      ],
      "metadata": {
        "colab": {
          "base_uri": "https://localhost:8080/"
        },
        "id": "QAqKPfLHZNO3",
        "outputId": "2c73f148-4918-48e6-c844-405a3595d9a6"
      },
      "execution_count": null,
      "outputs": [
        {
          "output_type": "execute_result",
          "data": {
            "text/plain": [
              "1"
            ]
          },
          "metadata": {},
          "execution_count": 36
        }
      ]
    },
    {
      "cell_type": "code",
      "source": [
        "3 | 9 #or\n",
        "\n",
        "# 0011\n",
        "# 1001\n",
        "# ----\n",
        "# 1011 => 11"
      ],
      "metadata": {
        "colab": {
          "base_uri": "https://localhost:8080/"
        },
        "id": "3EPmXryCaXTm",
        "outputId": "2039b9ca-577a-4fc1-bc04-897688e427c1"
      },
      "execution_count": null,
      "outputs": [
        {
          "output_type": "execute_result",
          "data": {
            "text/plain": [
              "11"
            ]
          },
          "metadata": {},
          "execution_count": 35
        }
      ]
    },
    {
      "cell_type": "markdown",
      "source": [
        "# 3. f-string"
      ],
      "metadata": {
        "id": "2DnU0EjhauOp"
      }
    },
    {
      "cell_type": "code",
      "source": [
        "# print에 들어가는 문자열 만들기\n",
        "\n",
        "name = '임빈'\n",
        "age = 10\n",
        "\n",
        "'제 이름은 %s이고 제 나이는 %d입니다.'%(name, age) # % 용법\n",
        "'제 이름은 {}이고 제 나이는 {}입니다'.format(name, age) # format 용법(이 문법도 아직 많이 사용합니다.)\n",
        "f'제 이름은 {name}이고 제 나이는 {age}입니다' # f-string 용법(권고합니다.)"
      ],
      "metadata": {
        "colab": {
          "base_uri": "https://localhost:8080/",
          "height": 35
        },
        "id": "h67ZiTn8i1DF",
        "outputId": "156bab50-860e-4ba8-a901-ccddf82bf515"
      },
      "execution_count": null,
      "outputs": [
        {
          "output_type": "execute_result",
          "data": {
            "text/plain": [
              "'제 이름은 임빈이고 제 나이는 10입니다'"
            ],
            "application/vnd.google.colaboratory.intrinsic+json": {
              "type": "string"
            }
          },
          "metadata": {},
          "execution_count": 38
        }
      ]
    },
    {
      "cell_type": "code",
      "source": [
        "삼 = '짝'*3\n",
        "칠 = '짝'*7\n",
        "print('삼삼칠 박수 :  {0}!!! {0}!!! {1}!!! '.format(삼,칠))\n",
        "print(f'삼삼칠 박수 :  {삼}!!! {삼}!!! {칠}!!! ')"
      ],
      "metadata": {
        "colab": {
          "base_uri": "https://localhost:8080/"
        },
        "id": "3mLLG41AjTtj",
        "outputId": "518912d1-5264-47d8-e92d-177b1b74d0a8"
      },
      "execution_count": null,
      "outputs": [
        {
          "output_type": "stream",
          "name": "stdout",
          "text": [
            "삼삼칠 박수 :  짝짝짝!!! 짝짝짝!!! 짝짝짝짝짝짝짝!!! \n",
            "삼삼칠 박수 :  짝짝짝!!! 짝짝짝!!! 짝짝짝짝짝짝짝!!! \n"
          ]
        }
      ]
    },
    {
      "cell_type": "code",
      "source": [
        "one_length = 5.343451215\n",
        "\n",
        "print(f'{one_length}입니다.')\n",
        "print(f'{one_length:.1f}입니다.') # 소수점 1번째자리까지 출력\n",
        "print('{0:.2f}'.format(one_length))\n",
        "print('{:.2f}'.format(one_length))"
      ],
      "metadata": {
        "colab": {
          "base_uri": "https://localhost:8080/"
        },
        "id": "CAg_tCAGjses",
        "outputId": "3841c9bc-d06c-457e-fc2b-5429222e952c"
      },
      "execution_count": null,
      "outputs": [
        {
          "output_type": "stream",
          "name": "stdout",
          "text": [
            "5.343451215입니다.\n",
            "5.3입니다.\n",
            "5.34\n",
            "5.34\n"
          ]
        }
      ]
    },
    {
      "cell_type": "code",
      "source": [
        "# log 출력할 때 가운데 정렬은 많이 사용합니다.\n",
        "age = 100\n",
        "print('당신의 나이는 [{:^15}]세'.format(22))\n",
        "print(f'당신의 나이는 [{age:^15}]세') # len = 15로 맞추고 가운데 정렬\n",
        "print(f'당신의 나이는 [{age:=^15}]세') # len = 15로 맞추고 가운데 정렬 후 남는 공간은 =로 채우기"
      ],
      "metadata": {
        "colab": {
          "base_uri": "https://localhost:8080/"
        },
        "id": "TNSeFKsDkihy",
        "outputId": "8ba5a765-2a08-4486-df5c-b39bdfa32dbb"
      },
      "execution_count": null,
      "outputs": [
        {
          "output_type": "stream",
          "name": "stdout",
          "text": [
            "당신의 나이는 [      22       ]세\n",
            "당신의 나이는 [      100      ]세\n",
            "당신의 나이는 [======100======]세\n"
          ]
        }
      ]
    },
    {
      "cell_type": "code",
      "source": [
        "\n",
        "age = 10\n",
        "\n",
        "print(f'My set is {{1, 2, 3}}.')    # 출력: My set is {1, 2, 3}.\n",
        "print(f'My set is {{age*2}}.')      # 출력: My set is {age*2}.\n",
        "print(f'My set is {{{age*2}}}.')    # 출력: My set is {20}.\n",
        "# 중괄호 3개는 많이 사용됨. -> 내부 값도 계산하고 중광호도 표현하고 싶을 때 사용"
      ],
      "metadata": {
        "colab": {
          "base_uri": "https://localhost:8080/"
        },
        "id": "y5XjKLsSk3zT",
        "outputId": "d3237b8d-5a8a-4929-fc3c-a1baa563efd2"
      },
      "execution_count": null,
      "outputs": [
        {
          "output_type": "stream",
          "name": "stdout",
          "text": [
            "My set is {1, 2, 3}.\n",
            "My set is {age*2}.\n",
            "My set is {20}.\n"
          ]
        }
      ]
    },
    {
      "cell_type": "code",
      "source": [
        "l = []\n",
        "for i in range(2, 10):\n",
        "    for j in range(1, 10):\n",
        "        l.append(f'{i} X {j} = {i * j}')\n",
        "\n",
        "l"
      ],
      "metadata": {
        "colab": {
          "base_uri": "https://localhost:8080/"
        },
        "id": "xd1OGNF_mWHq",
        "outputId": "f8026e33-bc83-4d9a-d3c0-9ebfcaa8c676"
      },
      "execution_count": null,
      "outputs": [
        {
          "output_type": "execute_result",
          "data": {
            "text/plain": [
              "['2 X 1 = 2',\n",
              " '2 X 2 = 4',\n",
              " '2 X 3 = 6',\n",
              " '2 X 4 = 8',\n",
              " '2 X 5 = 10',\n",
              " '2 X 6 = 12',\n",
              " '2 X 7 = 14',\n",
              " '2 X 8 = 16',\n",
              " '2 X 9 = 18',\n",
              " '3 X 1 = 3',\n",
              " '3 X 2 = 6',\n",
              " '3 X 3 = 9',\n",
              " '3 X 4 = 12',\n",
              " '3 X 5 = 15',\n",
              " '3 X 6 = 18',\n",
              " '3 X 7 = 21',\n",
              " '3 X 8 = 24',\n",
              " '3 X 9 = 27',\n",
              " '4 X 1 = 4',\n",
              " '4 X 2 = 8',\n",
              " '4 X 3 = 12',\n",
              " '4 X 4 = 16',\n",
              " '4 X 5 = 20',\n",
              " '4 X 6 = 24',\n",
              " '4 X 7 = 28',\n",
              " '4 X 8 = 32',\n",
              " '4 X 9 = 36',\n",
              " '5 X 1 = 5',\n",
              " '5 X 2 = 10',\n",
              " '5 X 3 = 15',\n",
              " '5 X 4 = 20',\n",
              " '5 X 5 = 25',\n",
              " '5 X 6 = 30',\n",
              " '5 X 7 = 35',\n",
              " '5 X 8 = 40',\n",
              " '5 X 9 = 45',\n",
              " '6 X 1 = 6',\n",
              " '6 X 2 = 12',\n",
              " '6 X 3 = 18',\n",
              " '6 X 4 = 24',\n",
              " '6 X 5 = 30',\n",
              " '6 X 6 = 36',\n",
              " '6 X 7 = 42',\n",
              " '6 X 8 = 48',\n",
              " '6 X 9 = 54',\n",
              " '7 X 1 = 7',\n",
              " '7 X 2 = 14',\n",
              " '7 X 3 = 21',\n",
              " '7 X 4 = 28',\n",
              " '7 X 5 = 35',\n",
              " '7 X 6 = 42',\n",
              " '7 X 7 = 49',\n",
              " '7 X 8 = 56',\n",
              " '7 X 9 = 63',\n",
              " '8 X 1 = 8',\n",
              " '8 X 2 = 16',\n",
              " '8 X 3 = 24',\n",
              " '8 X 4 = 32',\n",
              " '8 X 5 = 40',\n",
              " '8 X 6 = 48',\n",
              " '8 X 7 = 56',\n",
              " '8 X 8 = 64',\n",
              " '8 X 9 = 72',\n",
              " '9 X 1 = 9',\n",
              " '9 X 2 = 18',\n",
              " '9 X 3 = 27',\n",
              " '9 X 4 = 36',\n",
              " '9 X 5 = 45',\n",
              " '9 X 6 = 54',\n",
              " '9 X 7 = 63',\n",
              " '9 X 8 = 72',\n",
              " '9 X 9 = 81']"
            ]
          },
          "metadata": {},
          "execution_count": 47
        }
      ]
    },
    {
      "cell_type": "code",
      "source": [
        "[f'{i} X {j} = {i*j}' for i in range(2, 10) for j in range(1, 10)] # 리스트 컴프리헨션 속도가 for문보다 빠르다."
      ],
      "metadata": {
        "colab": {
          "base_uri": "https://localhost:8080/"
        },
        "id": "4-JjvEYbmst0",
        "outputId": "62444c02-fe0a-40c8-dae4-95ae6b1f6142"
      },
      "execution_count": null,
      "outputs": [
        {
          "output_type": "execute_result",
          "data": {
            "text/plain": [
              "['2 X 1 = 2',\n",
              " '2 X 2 = 4',\n",
              " '2 X 3 = 6',\n",
              " '2 X 4 = 8',\n",
              " '2 X 5 = 10',\n",
              " '2 X 6 = 12',\n",
              " '2 X 7 = 14',\n",
              " '2 X 8 = 16',\n",
              " '2 X 9 = 18',\n",
              " '3 X 1 = 3',\n",
              " '3 X 2 = 6',\n",
              " '3 X 3 = 9',\n",
              " '3 X 4 = 12',\n",
              " '3 X 5 = 15',\n",
              " '3 X 6 = 18',\n",
              " '3 X 7 = 21',\n",
              " '3 X 8 = 24',\n",
              " '3 X 9 = 27',\n",
              " '4 X 1 = 4',\n",
              " '4 X 2 = 8',\n",
              " '4 X 3 = 12',\n",
              " '4 X 4 = 16',\n",
              " '4 X 5 = 20',\n",
              " '4 X 6 = 24',\n",
              " '4 X 7 = 28',\n",
              " '4 X 8 = 32',\n",
              " '4 X 9 = 36',\n",
              " '5 X 1 = 5',\n",
              " '5 X 2 = 10',\n",
              " '5 X 3 = 15',\n",
              " '5 X 4 = 20',\n",
              " '5 X 5 = 25',\n",
              " '5 X 6 = 30',\n",
              " '5 X 7 = 35',\n",
              " '5 X 8 = 40',\n",
              " '5 X 9 = 45',\n",
              " '6 X 1 = 6',\n",
              " '6 X 2 = 12',\n",
              " '6 X 3 = 18',\n",
              " '6 X 4 = 24',\n",
              " '6 X 5 = 30',\n",
              " '6 X 6 = 36',\n",
              " '6 X 7 = 42',\n",
              " '6 X 8 = 48',\n",
              " '6 X 9 = 54',\n",
              " '7 X 1 = 7',\n",
              " '7 X 2 = 14',\n",
              " '7 X 3 = 21',\n",
              " '7 X 4 = 28',\n",
              " '7 X 5 = 35',\n",
              " '7 X 6 = 42',\n",
              " '7 X 7 = 49',\n",
              " '7 X 8 = 56',\n",
              " '7 X 9 = 63',\n",
              " '8 X 1 = 8',\n",
              " '8 X 2 = 16',\n",
              " '8 X 3 = 24',\n",
              " '8 X 4 = 32',\n",
              " '8 X 5 = 40',\n",
              " '8 X 6 = 48',\n",
              " '8 X 7 = 56',\n",
              " '8 X 8 = 64',\n",
              " '8 X 9 = 72',\n",
              " '9 X 1 = 9',\n",
              " '9 X 2 = 18',\n",
              " '9 X 3 = 27',\n",
              " '9 X 4 = 36',\n",
              " '9 X 5 = 45',\n",
              " '9 X 6 = 54',\n",
              " '9 X 7 = 63',\n",
              " '9 X 8 = 72',\n",
              " '9 X 9 = 81']"
            ]
          },
          "metadata": {},
          "execution_count": 48
        }
      ]
    },
    {
      "cell_type": "markdown",
      "source": [
        "# 4. 비동기와 코루틴"
      ],
      "metadata": {
        "id": "YyayxCBrnH_W"
      }
    },
    {
      "cell_type": "code",
      "source": [
        "!pip install nest_asyncio"
      ],
      "metadata": {
        "colab": {
          "base_uri": "https://localhost:8080/"
        },
        "id": "lH7v_zn0nP1R",
        "outputId": "c7e25428-6d37-46b8-a149-6578a9ec671b"
      },
      "execution_count": null,
      "outputs": [
        {
          "output_type": "stream",
          "name": "stdout",
          "text": [
            "Requirement already satisfied: nest_asyncio in /usr/local/lib/python3.10/dist-packages (1.5.8)\n"
          ]
        }
      ]
    },
    {
      "cell_type": "code",
      "source": [
        "import nest_asyncio\n",
        "\n",
        "nest_asyncio.apply()"
      ],
      "metadata": {
        "id": "CIRasZE1o0iO"
      },
      "execution_count": null,
      "outputs": []
    },
    {
      "cell_type": "code",
      "source": [
        "import time\n",
        "\n",
        "def job(number):\n",
        "    print(f\"Job {number} started\")\n",
        "    time.sleep(1)  # 매우 오래 걸리는 작업, 일반 sleep은 CPU를 쉬게 합니다.\n",
        "    print(f\"Job {number} completed\")\n",
        "\n",
        "job(1)\n",
        "job(2)\n",
        "job(3)"
      ],
      "metadata": {
        "colab": {
          "base_uri": "https://localhost:8080/"
        },
        "id": "B-8ftp-vo23P",
        "outputId": "bc6208ae-7a20-4843-ebcf-3247bc96db16"
      },
      "execution_count": null,
      "outputs": [
        {
          "output_type": "stream",
          "name": "stdout",
          "text": [
            "Job 1 started\n",
            "Job 1 completed\n",
            "Job 2 started\n",
            "Job 2 completed\n",
            "Job 3 started\n",
            "Job 3 completed\n"
          ]
        }
      ]
    },
    {
      "cell_type": "code",
      "source": [
        "# colab에서 작동하는 코드\n",
        "# 기본 base는 colab에서 작동하지 않습니다.\n",
        "import asyncio\n",
        "\n",
        "async def job(number):\n",
        "    print(f\"Job {number} started\")\n",
        "    await asyncio.sleep(1) # 매우 오래 걸리는 작업, asyncio.sleep은 비동기 처리를 할 수 있도록 합니다.(다른 작업이 가능합니다.)\n",
        "    print(f\"Job {number} completed\")\n",
        "\n",
        "async def main():\n",
        "    await asyncio.gather(job(1), job(2), job(3)) # await asyncio.wait([job(1), job(2), job(3)])\n",
        "\n",
        "asyncio.run(main())\n",
        "print('hello world')"
      ],
      "metadata": {
        "colab": {
          "base_uri": "https://localhost:8080/"
        },
        "id": "5Lc6w4PvpYiY",
        "outputId": "ba04d329-7ca2-4c69-ac3c-2df38b894d50"
      },
      "execution_count": null,
      "outputs": [
        {
          "output_type": "stream",
          "name": "stdout",
          "text": [
            "Job 1 started\n",
            "Job 2 started\n",
            "Job 3 started\n",
            "Job 1 completed\n",
            "Job 2 completed\n",
            "Job 3 completed\n",
            "hello world\n"
          ]
        }
      ]
    },
    {
      "cell_type": "markdown",
      "source": [
        "# 5. 정규표현식\n",
        "\n",
        "* 유효성 검증(validator)\n",
        "* 문자열 처리\n",
        "* 코딩 테스트"
      ],
      "metadata": {
        "id": "hDMmB8YBpaNE"
      }
    },
    {
      "cell_type": "code",
      "source": [
        "# 일반 문자열 패턴\n",
        "# 문자열은 대, 소문자를 구분한다.\n",
        "#^hello : 처음에 hello\n",
        "#hello$: 끝에 hello\n",
        "#. : 모든 문자열(*과 같은 역할)\n",
        "#...... : 모든 6개의 문자열\n",
        "\n",
        "# 범위 선택\n",
        "#h[eay]llo : 대괄호 안에 문자는 문자 1개에 해당!\n",
        "#h[ea]l.. : 총 5개의 문자\n",
        "#h[a-zA-Z0-9]llo\n",
        "\n",
        "# ^는 대괄호 안에 있을때는 부정을 의미\n",
        "#/h[^ae]llo/gm : 대괄호 안에 있다면 not에 의미\n",
        "\n",
        "\n",
        "# _* : 앞에 있는 문자가 0개 ~ N개\n",
        "# _+ : 앞에 있는 문자가 1개 ~ N개\n",
        "# _? : 앞에 있는 문자가 0개 ~ 1개\n",
        "\n",
        "# {3} : 3개\n",
        "# {3,} : 3개 이상\n",
        "# {1,3} : 1개 ~ 3개\n",
        "\n",
        "# _* : 앞에 있는 문자가 0개 ~ N개 ({0,})\n",
        "# _+ : 앞에 있는 문자가 1개 ~ N개({1,})\n",
        "# _? : 앞에 있는 문자가 0개 ~ 1개 ({0,1})\n",
        "\n",
        "# /[0-9]{3}[-.* ][0-9]{4}[-.* ][0-9]{4}/gm\n",
        "# /[0-9a-zA-Z]{2,3}[-.* ][0-9]{3,4}[-.* ][0-9]{4}/gm\n",
        "# /[0-9a-zA-Z]+@[0-9a-zA-Z]+.[a-zA-Z]+/gm\n",
        "\n",
        "# /\\[.*]/gm : 대괄호([]) 안에 감싸여진 문자열\n",
        "# /\\(.*\\)/gm : 소괄호 안에 감싸여진 문자열\n",
        "# /\\\\.*\\//gm : 이미 사용되고 있는 특수문자로 감싸여진 문자열\n",
        "# /-.*-/gm : 이스케이프 문자를 사용할 필요가 없는 경우\n",
        "# /\\^\\^/gm : 이스케이프 문자가 필요한 경우\n",
        "# /:\\)/gm : 이스케이프 문자가 필요한 경우\n",
        "\n",
        "# /\\w/gm : 워드\n",
        "# /\\w{5} /gm : 5개의 글자와 스페이스 하나\n",
        "# /\\W/gm : not 워드\n",
        "# /\\d/gm : 숫자\n",
        "# /\\D/gm : not 숫자\n",
        "# /\\s/gm : 스페이스\n",
        "# /\\S/gm : not 스페이스\n",
        "\n"
      ],
      "metadata": {
        "id": "QjVmcykB9O1c"
      },
      "execution_count": null,
      "outputs": []
    },
    {
      "cell_type": "code",
      "source": [
        "# 사용되는 패턴\n",
        "# 1\n",
        "p = re.compile(r'([0-9]|10)([SDT])([\\*\\#]?)')\n",
        "p.findall('1S2D*3T')\n",
        "\n",
        "# 2\n",
        "re.findall(r'([0-9]|10)([SDT])([\\*\\#]?)', '1S2D*3T')\n",
        "\n",
        "#자주 사용하는 메서드\n",
        "# sub() : 매치된 부분을 치환 (str에 replace와 같은 역활)\n",
        "# findall() : 매치된 부분 모두 리스트 반환"
      ],
      "metadata": {
        "colab": {
          "base_uri": "https://localhost:8080/",
          "height": 258
        },
        "id": "oAEW7DrnH-mu",
        "outputId": "c9b0f9ae-8d77-4048-8856-d30c514ba16d"
      },
      "execution_count": null,
      "outputs": [
        {
          "output_type": "error",
          "ename": "NameError",
          "evalue": "name 're' is not defined",
          "traceback": [
            "\u001b[0;31m---------------------------------------------------------------------------\u001b[0m",
            "\u001b[0;31mNameError\u001b[0m                                 Traceback (most recent call last)",
            "\u001b[0;32m<ipython-input-1-150355201ae2>\u001b[0m in \u001b[0;36m<cell line: 3>\u001b[0;34m()\u001b[0m\n\u001b[1;32m      1\u001b[0m \u001b[0;31m# 사용되는 패턴\u001b[0m\u001b[0;34m\u001b[0m\u001b[0;34m\u001b[0m\u001b[0m\n\u001b[1;32m      2\u001b[0m \u001b[0;31m# 1\u001b[0m\u001b[0;34m\u001b[0m\u001b[0;34m\u001b[0m\u001b[0m\n\u001b[0;32m----> 3\u001b[0;31m \u001b[0mp\u001b[0m \u001b[0;34m=\u001b[0m \u001b[0mre\u001b[0m\u001b[0;34m.\u001b[0m\u001b[0mcompile\u001b[0m\u001b[0;34m(\u001b[0m\u001b[0;34mr'([0-9]|10)([SDT])([\\*\\#]?)'\u001b[0m\u001b[0;34m)\u001b[0m\u001b[0;34m\u001b[0m\u001b[0;34m\u001b[0m\u001b[0m\n\u001b[0m\u001b[1;32m      4\u001b[0m \u001b[0mp\u001b[0m\u001b[0;34m.\u001b[0m\u001b[0mfindall\u001b[0m\u001b[0;34m(\u001b[0m\u001b[0;34m'1S2D*3T'\u001b[0m\u001b[0;34m)\u001b[0m\u001b[0;34m\u001b[0m\u001b[0;34m\u001b[0m\u001b[0m\n\u001b[1;32m      5\u001b[0m \u001b[0;34m\u001b[0m\u001b[0m\n",
            "\u001b[0;31mNameError\u001b[0m: name 're' is not defined"
          ]
        }
      ]
    },
    {
      "cell_type": "markdown",
      "source": [
        "### findall"
      ],
      "metadata": {
        "id": "JNgFOAl5P7Nq"
      }
    },
    {
      "cell_type": "code",
      "source": [
        "# https://school.programmers.co.kr/learn/courses/30/lessons/17682\n",
        "# 1S // 2d* // 3T\n",
        "# 스타상 아차상은 빼고 진행\n",
        "\n",
        "l = []\n",
        "for i in '1S2D*10T':\n",
        "    if i.isdigit():\n",
        "        l.append(int(i))\n",
        "    elif i == 'S':\n",
        "        l[-1] = l[-1] ** 1\n",
        "    elif i == 'D':\n",
        "        l[-1] = l[-1] ** 2\n",
        "    elif i == 'T':\n",
        "        l[-1] = l[-1] ** 3\n",
        "sum(l)"
      ],
      "metadata": {
        "colab": {
          "base_uri": "https://localhost:8080/"
        },
        "id": "5ViBXv1UKolf",
        "outputId": "d049f676-95f2-4c7c-e2ce-fa9a7bab4904"
      },
      "execution_count": null,
      "outputs": [
        {
          "output_type": "execute_result",
          "data": {
            "text/plain": [
              "32"
            ]
          },
          "metadata": {},
          "execution_count": 4
        }
      ]
    },
    {
      "cell_type": "code",
      "source": [
        "import re\n",
        "\n",
        "list(re.findall(r'([0-9]|10)([SDT])([\\*\\#]?)', '1S2D*3T'))"
      ],
      "metadata": {
        "colab": {
          "base_uri": "https://localhost:8080/"
        },
        "id": "mR6wvI7OL0XC",
        "outputId": "494890a5-ba2a-4679-f631-3f72d57fa45b"
      },
      "execution_count": null,
      "outputs": [
        {
          "output_type": "execute_result",
          "data": {
            "text/plain": [
              "[('1', 'S', ''), ('2', 'D', '*'), ('3', 'T', '')]"
            ]
          },
          "metadata": {},
          "execution_count": 5
        }
      ]
    },
    {
      "cell_type": "markdown",
      "source": [
        "### sub"
      ],
      "metadata": {
        "id": "20TlqxGbP-aT"
      }
    },
    {
      "cell_type": "code",
      "source": [
        "# https://school.programmers.co.kr/learn/courses/30/lessons/120849\n"
      ],
      "metadata": {
        "id": "ma0gU4QmNQhq"
      },
      "execution_count": null,
      "outputs": []
    },
    {
      "cell_type": "code",
      "source": [
        "\"nice to meet you\".replace('a','').replace('e','').replace('i', '').replace('o', '').replace('u', '')"
      ],
      "metadata": {
        "colab": {
          "base_uri": "https://localhost:8080/",
          "height": 35
        },
        "id": "WDmO22VoQh1i",
        "outputId": "0257a6cc-9652-4751-8b4c-6cbeb59847eb"
      },
      "execution_count": null,
      "outputs": [
        {
          "output_type": "execute_result",
          "data": {
            "text/plain": [
              "'nc t mt y'"
            ],
            "application/vnd.google.colaboratory.intrinsic+json": {
              "type": "string"
            }
          },
          "metadata": {},
          "execution_count": 7
        }
      ]
    },
    {
      "cell_type": "code",
      "source": [
        "# 복습 X\n",
        "# dir(\"nice to meet you\")\n",
        "s = \"nice to meet you\"\n",
        "ch = s.maketrans(\"aeiou\", \"!!!!!\");\n",
        "\n",
        "print(s.translate(ch));"
      ],
      "metadata": {
        "colab": {
          "base_uri": "https://localhost:8080/"
        },
        "id": "mmHi9fUHQetq",
        "outputId": "a0df35b1-81a2-4c16-cb9e-e477617c7dbd"
      },
      "execution_count": null,
      "outputs": [
        {
          "output_type": "stream",
          "name": "stdout",
          "text": [
            "n!c! t! m!!t y!!\n"
          ]
        }
      ]
    },
    {
      "cell_type": "code",
      "source": [
        "import re\n",
        "s = \"nice to meet you\"\n",
        "def solution(my_string):\n",
        "    return re.sub(r\"[aeiou]\", \"\", my_string)\n",
        "\n",
        "solution(s)"
      ],
      "metadata": {
        "colab": {
          "base_uri": "https://localhost:8080/",
          "height": 35
        },
        "id": "uWnD1uawQjmJ",
        "outputId": "b4ea95f5-a5b4-4a4a-bff8-d162247c206b"
      },
      "execution_count": null,
      "outputs": [
        {
          "output_type": "execute_result",
          "data": {
            "text/plain": [
              "'nc t mt y'"
            ],
            "application/vnd.google.colaboratory.intrinsic+json": {
              "type": "string"
            }
          },
          "metadata": {},
          "execution_count": 12
        }
      ]
    },
    {
      "cell_type": "code",
      "source": [
        "import re\n",
        "\n",
        "my_string = \"aAb1B2cC34oOp\"\n",
        "re.sub('[^1-9]', '', my_string)"
      ],
      "metadata": {
        "colab": {
          "base_uri": "https://localhost:8080/",
          "height": 35
        },
        "id": "rG2JutfnQ53Q",
        "outputId": "8ada5f47-1c4a-4185-ef8e-e2c5552e7880"
      },
      "execution_count": null,
      "outputs": [
        {
          "output_type": "execute_result",
          "data": {
            "text/plain": [
              "'1234'"
            ],
            "application/vnd.google.colaboratory.intrinsic+json": {
              "type": "string"
            }
          },
          "metadata": {},
          "execution_count": 13
        }
      ]
    },
    {
      "cell_type": "code",
      "source": [
        "import re\n",
        "\n",
        "my_string = \"aAb1B2cC34oOp\"\n",
        "re.sub('\\d', '', my_string)"
      ],
      "metadata": {
        "colab": {
          "base_uri": "https://localhost:8080/",
          "height": 35
        },
        "id": "NptXkcFmUJ80",
        "outputId": "177a0bbd-747b-44d5-83ed-2e299b0df679"
      },
      "execution_count": null,
      "outputs": [
        {
          "output_type": "execute_result",
          "data": {
            "text/plain": [
              "'aAbBcCoOp'"
            ],
            "application/vnd.google.colaboratory.intrinsic+json": {
              "type": "string"
            }
          },
          "metadata": {},
          "execution_count": 14
        }
      ]
    },
    {
      "cell_type": "code",
      "source": [
        "# 복습 XXX\n",
        "import re\n",
        "\n",
        "print(re.sub(r'(?P<one>[0-9]{3})-(?P<two>[0-9]{4})-(?P<three>[0-9]{4})', r'\\g<one>!!\\g<two>!!\\g<three>', '010-5000-3000'))"
      ],
      "metadata": {
        "colab": {
          "base_uri": "https://localhost:8080/"
        },
        "id": "KhxPjWUGUI-_",
        "outputId": "0ab256f4-a15d-4a1f-b43c-72bf84a6610b"
      },
      "execution_count": null,
      "outputs": [
        {
          "output_type": "stream",
          "name": "stdout",
          "text": [
            "010!!5000!!3000\n"
          ]
        }
      ]
    },
    {
      "cell_type": "code",
      "source": [
        "import re\n",
        "\n",
        "text = '''# This is a h1\n",
        "## This is a h2\n",
        "### This is a h3\n",
        "#### This is a h4\n",
        "##### This is a h5\n",
        "###### This is a h6\n",
        "\n",
        "* This is a bulleted list\n",
        "  * This is a nested bulleted list\n",
        "\n",
        "**This is bold text**\n",
        "\n",
        "_This is italic text_\n",
        "\n",
        "~~This text is strikethrough~~\n",
        "'''\n",
        "\n",
        "def markdown_to_html(markdown):\n",
        "    html = re.sub(r'### (.*)', r'\\1', markdown)\n",
        "    html = re.sub(r'## (.*)', r'\\1', html)\n",
        "    html = re.sub(r'# (.*)', r'\\1', html)\n",
        "    html = re.sub(r'`(.*)`', r'\\1', html)\n",
        "    html = re.sub(r'\\*\\*(.*)\\*\\*', r'\\1', html)\n",
        "    html = re.sub(r'_(.*)_', r'\\1', html)\n",
        "    html = re.sub(r'~~(.*)~~', r'\\1', html)\n",
        "    html = re.sub(r'^(>+) (.*)', r'\\1\\2', html)\n",
        "    # html = re.sub(r'^\\* (.*)', r'\\1', html, flags=re.M+re.S)\n",
        "    return html\n",
        "\n",
        "print(markdown_to_html(text))"
      ],
      "metadata": {
        "colab": {
          "base_uri": "https://localhost:8080/"
        },
        "id": "TkA9diBxYdhm",
        "outputId": "97b92278-8a1b-4ce6-8373-23c24df5034e"
      },
      "execution_count": null,
      "outputs": [
        {
          "output_type": "stream",
          "name": "stdout",
          "text": [
            "This is a h1\n",
            "This is a h2\n",
            "This is a h3\n",
            "#This is a h4\n",
            "##This is a h5\n",
            "###This is a h6\n",
            "\n",
            "* This is a bulleted list\n",
            "  * This is a nested bulleted list\n",
            "\n",
            "This is bold text\n",
            "\n",
            "This is italic text\n",
            "\n",
            "This text is strikethrough\n",
            "\n"
          ]
        }
      ]
    },
    {
      "cell_type": "code",
      "source": [
        "import re\n",
        "\n",
        "text = '''# This is a h1\n",
        "## This is a h2\n",
        "### This is a h3\n",
        "\n",
        "**This is bold text**\n",
        "'''\n",
        "\n",
        "def markdown_to_html(markdown):\n",
        "    html = re.sub(r'### (.*)', r'<h3>\\1<h3>', markdown)\n",
        "    html = re.sub(r'## (.*)', r'<h2>\\1<h2>', html)\n",
        "    html = re.sub(r'# (.*)', r'<h1>\\1</h1>', html)\n",
        "    html = re.sub(r'\\*\\*(.*)\\*\\*', r'<strong>\\1</strong>', html)\n",
        "    return html\n",
        "\n",
        "print(markdown_to_html(text))"
      ],
      "metadata": {
        "colab": {
          "base_uri": "https://localhost:8080/"
        },
        "id": "k5JzZtRIaJpo",
        "outputId": "6188c824-9782-454f-822a-a7af7f13aa79"
      },
      "execution_count": null,
      "outputs": [
        {
          "output_type": "stream",
          "name": "stdout",
          "text": [
            "<h1>This is a h1</h1>\n",
            "<h2>This is a h2<h2>\n",
            "<h3>This is a h3<h3>\n",
            "\n",
            "<strong>This is bold text</strong>\n",
            "\n"
          ]
        }
      ]
    },
    {
      "cell_type": "code",
      "source": [],
      "metadata": {
        "id": "YNAlDcFnbECg"
      },
      "execution_count": null,
      "outputs": []
    }
  ]
}