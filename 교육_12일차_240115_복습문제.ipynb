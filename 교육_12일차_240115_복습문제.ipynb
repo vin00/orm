{
  "nbformat": 4,
  "nbformat_minor": 0,
  "metadata": {
    "colab": {
      "provenance": []
    },
    "kernelspec": {
      "name": "python3",
      "display_name": "Python 3"
    },
    "language_info": {
      "name": "python"
    }
  },
  "cells": [
    {
      "cell_type": "markdown",
      "source": [
        "# `class Commnet`를 작성해주세요.\n",
        "\n",
        "요구사항\n",
        "* 각 댓글은 고유한 ID, 작성자 이름, 댓글 내용, 작성 시간을 가져야 합니다.\n",
        "* 댓글은 하나 이상의 대댓글을 가질 수 있어야 합니다.\n",
        "* 대댓글도 Comment 클래스의 인스턴스로 생성되며, 원 댓글에 종속됩니다.\n",
        "* 시간은 '년-월-일 시:분' 형식으로 표시되어야 합니다.\n",
        "* (선택 과제) 댓글 출력 기능 - 계층적 출력을 해보세요.\n",
        "* (선택 과제)댓글에 대한 좋아요 기능을 추가할 수 있습니다."
      ],
      "metadata": {
        "id": "p8iFkfHPBVC9"
      }
    },
    {
      "cell_type": "markdown",
      "source": [
        "1. 게시물 쓰기(id, 작성자 이름, 게시글, 작성시간)\n",
        "2. 게시물에 댓글 달기(id, 작성자이름, 댓글 내용, 작성시간)\n",
        "3. 대댓글 달기\n",
        "4. 댓글출력기능-계층적 출력"
      ],
      "metadata": {
        "id": "QysbEm3oJrAB"
      }
    },
    {
      "cell_type": "code",
      "source": [
        "# 날짜데이터 불러오기\n",
        "from datetime import datetime\n",
        "\n",
        "# 댓글 클래스 생성\n",
        "class Commnet:\n",
        "    def __init__(self, commnet_id, author, content, parent = None, timestamp = None):\n",
        "        self.commnet_id = commnet_id  # 고유 번호\n",
        "        self.author = author          # 작성자 이름\n",
        "        self.content = content        # 댓글 내용\n",
        "        self.parent = parent          # 대댓글을 지정하기 위함\n",
        "        self.timestamp = timestamp if timestamp else datetime.now()   # 시간 데티터 출력\n",
        "        self.replies = []             # 대댓글 저장을 위한 리스트\n",
        "\n",
        "    # 대댓글을 추가하기 위한 함수\n",
        "    def add_reply(self, reply):\n",
        "        self.replies.append(reply)\n",
        "\n",
        "    # 전체 댓글 확인을 위한 함수\n",
        "    def display(self, level = 0):\n",
        "        # 계층적으로 댓글 출력\n",
        "        print(f\"{' ' * level}{self.author} - {self.timestamp.strftime('%Y-%m-%d %H:%M')}: {self.content}\")\n",
        "\n",
        "        # 대댓글 출력\n",
        "        for reply in self.replies:\n",
        "            reply.display(level + 1)\n",
        "\n",
        "# 댓글 및 대댓글 생성\n",
        "if __name__ == \"__main__\":\n",
        "    commnet1 = Commnet(1, \"User1\", \"첫번째 댓글\")\n",
        "    commnet2 = Commnet(2, \"User2\", \"두번째 댓글\")\n",
        "    reply1 = Commnet(3, \"User3\", \"첫번째 대댓글\", parent = commnet1)\n",
        "    reply2 = Commnet(4, \"User4\", \"두번째 대댓글\", parent = commnet2)\n",
        "    reply3 = Commnet(5, \"User5\", \"세번째 대댓글\", parent = commnet2)\n",
        "\n",
        "    commnet1.add_reply(reply1)\n",
        "    commnet2.add_reply(reply2)\n",
        "    commnet2.add_reply(reply3)\n",
        "\n",
        "    # 댓글 및 대댓글 출력\n",
        "    commnet1.display()\n",
        "    commnet2.display()\n"
      ],
      "metadata": {
        "colab": {
          "base_uri": "https://localhost:8080/"
        },
        "id": "1TklPHhYDJaf",
        "outputId": "af9f3da1-430e-4363-c304-ccfb80b1b8b2"
      },
      "execution_count": 34,
      "outputs": [
        {
          "output_type": "stream",
          "name": "stdout",
          "text": [
            "User1 - 2024-01-15 14:36: 첫번째 댓글\n",
            " User3 - 2024-01-15 14:36: 첫번째 대댓글\n",
            "User2 - 2024-01-15 14:36: 두번째 댓글\n",
            " User4 - 2024-01-15 14:36: 두번째 대댓글\n",
            " User5 - 2024-01-15 14:36: 세번째 대댓글\n"
          ]
        }
      ]
    },
    {
      "cell_type": "code",
      "source": [],
      "metadata": {
        "id": "DNb_mGbTeGpo"
      },
      "execution_count": null,
      "outputs": []
    }
  ]
}