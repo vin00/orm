{
  "nbformat": 4,
  "nbformat_minor": 0,
  "metadata": {
    "colab": {
      "provenance": []
    },
    "kernelspec": {
      "name": "python3",
      "display_name": "Python 3"
    },
    "language_info": {
      "name": "python"
    }
  },
  "cells": [
    {
      "cell_type": "markdown",
      "source": [
        "# 문제1 파자 나눠먹기(3)\n",
        "\n",
        "* 문제 설명\\\n",
        "머쓱이네 피자가게는 피자를 두 조각에서 열 조각까지 원하는 조각 수로 잘라줍니다. 피자 조각 수 slice와 피자를 먹는 사람의 수 n이 매개변수로 주어질 때, n명의 사람이 최소 한 조각 이상 피자를 먹으려면 최소 몇 판의 피자를 시켜야 하는지를 return 하도록 solution 함수를 완성해보세요.\n",
        "\n",
        "* 제한사항\\\n",
        "2 ≤ slice ≤ 10\\\n",
        "1 ≤ n ≤ 100\n",
        "\n",
        "```\n",
        "입출력 예\n",
        "slice\tn\tresult\n",
        "7    \t10  \t2\n",
        "4\t    12\t  3\n",
        "```"
      ],
      "metadata": {
        "id": "vnm86GzOZ_oY"
      }
    },
    {
      "cell_type": "code",
      "source": [
        "def solution(slice, n):\n",
        "    answer = int((n - 1) / slice) + 1\n",
        "    return answer\n",
        "\n",
        "solution(4,12)"
      ],
      "metadata": {
        "colab": {
          "base_uri": "https://localhost:8080/"
        },
        "id": "DRsbsIIaawDF",
        "outputId": "fbbe8992-0413-4ea4-b23a-6935c86b02ab"
      },
      "execution_count": null,
      "outputs": [
        {
          "output_type": "execute_result",
          "data": {
            "text/plain": [
              "3"
            ]
          },
          "metadata": {},
          "execution_count": 8
        }
      ]
    },
    {
      "cell_type": "markdown",
      "source": [
        "# 문제 2 점의 위치 구하기\n",
        "\n",
        "* 문제 설명\\\n",
        "사분면은 한 평면을 x축과 y축을 기준으로 나눈 네 부분입니다. 사분면은 아래와 같이 1부터 4까지 번호를매깁니다.\n",
        "  * x 좌표와 y 좌표가 모두 양수이면 제1사분면에 속합니다.\n",
        "  * x 좌표가 음수, y 좌표가 양수이면 제2사분면에 속합니다.\n",
        "  * x 좌표와 y 좌표가 모두 음수이면 제3사분면에 속합니다.\n",
        "  * x 좌표가 양수, y 좌표가 음수이면 제4사분면에 속합니다.\n",
        "x 좌표 (x, y)를 차례대로 담은 정수 배열 dot이 매개변수로 주어집니다. 좌표 dot이 사분면 중 어디에 속하는지 1, 2, 3, 4 중 하나를 return 하도록 solution 함수를 완성해주세요.\n",
        "\n",
        "* 제한사항\\\n",
        "dot의 길이 = 2\\\n",
        "dot[0]은 x좌표를, dot[1]은 y좌표를 나타냅니다\\\n",
        "\\- 500 ≤ dot의 원소 ≤ 500\\\n",
        "dot의 원소는 0이 아닙니다.\n",
        "\n",
        "```\n",
        "입출력 예\n",
        "dot\t   result\n",
        "[2, 4]\t   1\n",
        "[-7, 9]\t  2\n",
        "```"
      ],
      "metadata": {
        "id": "5KwXDnS8jXbz"
      }
    },
    {
      "cell_type": "code",
      "source": [
        "def solution(dot):\n",
        "    if dot[0] > 0 and dot[1] > 0:\n",
        "        return 1\n",
        "    elif dot[0] < 0 and dot[1] > 0:\n",
        "        return 2\n",
        "    elif dot[0] < 0 and dot[1] < 0:\n",
        "        return 3\n",
        "    else:\n",
        "        return 4\n",
        "\n",
        "solution([-2, 4])"
      ],
      "metadata": {
        "colab": {
          "base_uri": "https://localhost:8080/"
        },
        "id": "9GpudyClkfGd",
        "outputId": "243cb8f9-067f-48aa-c5f3-4a334b430053"
      },
      "execution_count": null,
      "outputs": [
        {
          "output_type": "execute_result",
          "data": {
            "text/plain": [
              "2"
            ]
          },
          "metadata": {},
          "execution_count": 10
        }
      ]
    },
    {
      "cell_type": "code",
      "source": [
        "def solution(dot):\n",
        "    quad = [(3,2),(4,1)]\n",
        "    return quad[dot[0] > 0][dot[1] > 0]\n",
        "\n",
        "solution([-3, -4])"
      ],
      "metadata": {
        "colab": {
          "base_uri": "https://localhost:8080/"
        },
        "id": "ge9TeYmfnXz1",
        "outputId": "c1924a97-63b8-41e8-8539-c1f9878a5948"
      },
      "execution_count": null,
      "outputs": [
        {
          "output_type": "execute_result",
          "data": {
            "text/plain": [
              "3"
            ]
          },
          "metadata": {},
          "execution_count": 13
        }
      ]
    },
    {
      "cell_type": "markdown",
      "source": [
        "# 문제 3 문자열 뒤집기\n",
        "\n",
        "* 문제 설명\\\n",
        "문자열 my_string이 매개변수로 주어집니다. my_string을 거꾸로 뒤집은 문자열을 return하도록 solution 함수를 완성해주세요.\n",
        "\n",
        "*제한사항\\\n",
        "1 ≤ my_string의 길이 ≤ 1,000\n",
        "\n",
        "\n",
        "```\n",
        "입출력 예\n",
        "my_string\t  return\n",
        "\"jaron\"\t    \"noraj\"\n",
        "\"bread\"\t    \"daerb\"\n",
        "```"
      ],
      "metadata": {
        "id": "DqUOvn2_nmq0"
      }
    },
    {
      "cell_type": "code",
      "source": [
        "def solution(my_string):\n",
        "    if len(my_string) == 1:\n",
        "        return my_string\n",
        "    else:\n",
        "        return solution(my_string[1:]) + my_string[0]\n",
        "\n",
        "solution('jaron')"
      ],
      "metadata": {
        "colab": {
          "base_uri": "https://localhost:8080/",
          "height": 35
        },
        "id": "l7ppVAFwoS8A",
        "outputId": "2ece918e-e39b-4ae7-ed30-0a5164d75222"
      },
      "execution_count": null,
      "outputs": [
        {
          "output_type": "execute_result",
          "data": {
            "text/plain": [
              "'noraj'"
            ],
            "application/vnd.google.colaboratory.intrinsic+json": {
              "type": "string"
            }
          },
          "metadata": {},
          "execution_count": 20
        }
      ]
    },
    {
      "cell_type": "code",
      "source": [
        "def solution(my_string):\n",
        "    return my_string[::-1]\n",
        "\n",
        "solution(\"bread\")"
      ],
      "metadata": {
        "colab": {
          "base_uri": "https://localhost:8080/",
          "height": 35
        },
        "id": "45HxmmyRqX3r",
        "outputId": "652b55bc-23fc-41fe-c83d-2d2df418197d"
      },
      "execution_count": null,
      "outputs": [
        {
          "output_type": "execute_result",
          "data": {
            "text/plain": [
              "'daerb'"
            ],
            "application/vnd.google.colaboratory.intrinsic+json": {
              "type": "string"
            }
          },
          "metadata": {},
          "execution_count": 22
        }
      ]
    },
    {
      "cell_type": "markdown",
      "source": [
        "# 문제 4 순서 쌍의 개수\n",
        "\n",
        "* 문제 설명\\\n",
        "순서쌍이란 두 개의 숫자를 순서를 정하여 짝지어 나타낸 쌍으로 (a, b)로 표기합니다. 자연수 n이 매개변수로 주어질 때 두 숫자의 곱이 n인 자연수 순서쌍의 개수를 return하도록 solution 함수를 완성해주세요.\n",
        "\n",
        "* 제한사항\\\n",
        "1 ≤ n ≤ 1,000,000\n",
        "\n",
        "```\n",
        "입출력 예\n",
        "n\tresult\n",
        "20 \t6\n",
        "100\t9\n",
        "```"
      ],
      "metadata": {
        "id": "tyt97jl5q3IF"
      }
    },
    {
      "cell_type": "code",
      "source": [
        "def solution(n):\n",
        "    count = 0\n",
        "\n",
        "    for i in range(1, int(n**0.5) + 1):\n",
        "        if n % i == 0:\n",
        "            count += 2 if i != n // i else 1\n",
        "\n",
        "    return count\n",
        "\n",
        "solution(20)"
      ],
      "metadata": {
        "colab": {
          "base_uri": "https://localhost:8080/"
        },
        "id": "GU74kzQ-r8m8",
        "outputId": "f2136e6c-9419-4f31-d0dc-b0fcba706454"
      },
      "execution_count": null,
      "outputs": [
        {
          "output_type": "execute_result",
          "data": {
            "text/plain": [
              "6"
            ]
          },
          "metadata": {},
          "execution_count": 23
        }
      ]
    },
    {
      "cell_type": "code",
      "source": [],
      "metadata": {
        "id": "6xUD9d3Ot-M1"
      },
      "execution_count": null,
      "outputs": []
    }
  ]
}