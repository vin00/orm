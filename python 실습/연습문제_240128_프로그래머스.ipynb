{
  "nbformat": 4,
  "nbformat_minor": 0,
  "metadata": {
    "colab": {
      "provenance": []
    },
    "kernelspec": {
      "name": "python3",
      "display_name": "Python 3"
    },
    "language_info": {
      "name": "python"
    }
  },
  "cells": [
    {
      "cell_type": "markdown",
      "source": [
        "# 문제 1 중복된 숫자 개수\n",
        "\n",
        "* 문제 설명\\\n",
        "정수가 담긴 배열 array와 정수 n이 매개변수로 주어질 때, array에 n이 몇 개 있는 지를 return 하도록 solution 함수를 완성해보세요.\n",
        "\n",
        "* 제한사항\\\n",
        "1 ≤ array의 길이 ≤ 100\\\n",
        "0 ≤ array의 원소 ≤ 1,000\\\n",
        "0 ≤ n ≤ 1,000\n",
        "\n",
        "```\n",
        "입출력 예\n",
        "array             \tn\tresult\n",
        "[1, 1, 2, 3, 4, 5]\t1\t2\n",
        "[0, 2, 3, 4]\t      1\t0\n",
        "```"
      ],
      "metadata": {
        "id": "Rc-hi-1gBaLf"
      }
    },
    {
      "cell_type": "code",
      "source": [
        "def solution(array, n):\n",
        "    answer = array.count(n)\n",
        "    return answer\n",
        "\n",
        "solution([1, 1, 2, 3, 4, 5], 1)"
      ],
      "metadata": {
        "colab": {
          "base_uri": "https://localhost:8080/"
        },
        "id": "ajTqJVe2BwFU",
        "outputId": "755e85f9-f209-4605-84e8-e2f92abb5f3a"
      },
      "execution_count": 2,
      "outputs": [
        {
          "output_type": "execute_result",
          "data": {
            "text/plain": [
              "2"
            ]
          },
          "metadata": {},
          "execution_count": 2
        }
      ]
    },
    {
      "cell_type": "markdown",
      "source": [
        "# 문제 2 특정 문자 제거하기\n",
        "\n",
        "* 문제 설명\\\n",
        "문자열 my_string과 문자 letter이 매개변수로 주어집니다. my_string에서 letter를 제거한 문자열을 return하도록 solution 함수를 완성해주세요.\n",
        "\n",
        "* 제한사항\\\n",
        "1 ≤ my_string의 길이 ≤ 100\\\n",
        "letter은 길이가 1인 영문자입니다.\\\n",
        "my_string과 letter은 알파벳 대소문자로 이루어져 있습니다.\\\n",
        "대문자와 소문자를 구분합니다.\n",
        "\n",
        "```\n",
        "입출력 예\n",
        "my_string\tletter\tresult\n",
        "\"abcdef\"\t  \"f\"\t  \"abcde\"\n",
        "\"BCBdbe\"\t  \"B\"\t  \"Cdbe\"\n",
        "```"
      ],
      "metadata": {
        "id": "L-CiOaxHCGuW"
      }
    },
    {
      "cell_type": "code",
      "source": [
        "def solution(my_string, letter):\n",
        "    table = my_string.maketrans('','',letter)\n",
        "    answer = my_string.translate(table)\n",
        "    return answer\n",
        "\n",
        "solution(\"abcdef\", \"f\")"
      ],
      "metadata": {
        "colab": {
          "base_uri": "https://localhost:8080/",
          "height": 35
        },
        "id": "AZFJtZR8Cf_M",
        "outputId": "3e263976-32c2-4fc5-f236-4dbd32257ab2"
      },
      "execution_count": 8,
      "outputs": [
        {
          "output_type": "execute_result",
          "data": {
            "text/plain": [
              "'abcde'"
            ],
            "application/vnd.google.colaboratory.intrinsic+json": {
              "type": "string"
            }
          },
          "metadata": {},
          "execution_count": 8
        }
      ]
    },
    {
      "cell_type": "markdown",
      "source": [
        "# 문제 3 중앙값 구하기\n",
        "\n",
        "* 문제 설명\\\n",
        "중앙값은 어떤 주어진 값들을 크기의 순서대로 정렬했을 때 가장 중앙에 위치하는 값을 의미합니다. 예를 들어 1, 2, 7, 10, 11의 중앙값은 7입니다. 정수 배열 array가 매개변수로 주어질 때, 중앙값을 return 하도록 solution 함수를 완성해보세요.\n",
        "\n",
        "* 제한사항\\\n",
        "array의 길이는 홀수입니다.\n",
        "0 < array의 길이 < 100\n",
        "-1,000 < array의 원소 < 1,000\n",
        "\n",
        "```\n",
        "입출력 예\n",
        "array\t                 result\n",
        "[1, 2, 7, 10, 11]\t        7\n",
        "[9, -1, 0]\t               0\n",
        "```\n"
      ],
      "metadata": {
        "id": "_ZQK-u96DEPe"
      }
    },
    {
      "cell_type": "code",
      "source": [
        "def solution(array):\n",
        "    # 리스트를 정렬\n",
        "    sorted_array = sorted(array)\n",
        "\n",
        "    # 중앙값의 인덱스 계산\n",
        "    middle_index = len(sorted_array) // 2\n",
        "\n",
        "    # 중앙값 반환\n",
        "    return sorted_array[middle_index]\n",
        "\n",
        "# 예제 사용\n",
        "example_array = [9, -1, 0]\n",
        "result = solution(example_array)\n",
        "print(result)  # 출력: 7\n"
      ],
      "metadata": {
        "colab": {
          "base_uri": "https://localhost:8080/"
        },
        "id": "XooqbIIkI4sp",
        "outputId": "5e4a8d89-0b56-44bf-c3a8-88fd7334673d"
      },
      "execution_count": 17,
      "outputs": [
        {
          "output_type": "stream",
          "name": "stdout",
          "text": [
            "0\n"
          ]
        }
      ]
    },
    {
      "cell_type": "code",
      "source": [
        "def solution(array):\n",
        "    return sorted(array)[len(array) // 2]\n",
        "\n",
        "solution([-9, 10, 5, 20, 60])"
      ],
      "metadata": {
        "colab": {
          "base_uri": "https://localhost:8080/"
        },
        "id": "PrH-W-1pJdc9",
        "outputId": "b6154b86-de0f-4e86-c847-40b65fa7bc83"
      },
      "execution_count": 18,
      "outputs": [
        {
          "output_type": "execute_result",
          "data": {
            "text/plain": [
              "10"
            ]
          },
          "metadata": {},
          "execution_count": 18
        }
      ]
    },
    {
      "cell_type": "markdown",
      "source": [
        "# 문제 4 배열 원소의 길이\n",
        "\n",
        "* 문제 설명\\\n",
        "문자열 배열 strlist가 매개변수로 주어집니다. strlist 각 원소의 길이를 담은 배열을 retrun하도록 solution 함수를 완성해주세요.\n",
        "\n",
        "*제한사항\\\n",
        "1 ≤ strlist 원소의 길이 ≤ 100\\\n",
        "strlist는 알파벳 소문자, 대문자, 특수문자로 구성되어 있습니다.\n",
        "\n",
        "```\n",
        "입출력 예\n",
        "strlist                           \tresult\n",
        "[\"We\", \"are\", \"the\", \"world!\"]\t    [2, 3, 3, 6]\n",
        "[\"I\", \"Love\", \"Programmers.\"]\t     [1, 4, 12]\n",
        "```"
      ],
      "metadata": {
        "id": "wu8ZA4DgNWWY"
      }
    },
    {
      "cell_type": "code",
      "source": [
        "def solution(strlist):\n",
        "    l = []\n",
        "    for i in strlist:\n",
        "        l.append(len(i))\n",
        "    return l\n",
        "\n",
        "solution([\"We\", \"are\", \"the\", \"world!\"])"
      ],
      "metadata": {
        "colab": {
          "base_uri": "https://localhost:8080/"
        },
        "id": "e8zEhDwCN_lk",
        "outputId": "4cda008d-2fcc-4171-ce67-97e7ac5fe3b1"
      },
      "execution_count": 25,
      "outputs": [
        {
          "output_type": "execute_result",
          "data": {
            "text/plain": [
              "[2, 3, 3, 6]"
            ]
          },
          "metadata": {},
          "execution_count": 25
        }
      ]
    },
    {
      "cell_type": "code",
      "source": [
        "def solution(strlist):\n",
        "    answer = list(map(len, strlist))\n",
        "    return answer\n",
        "\n",
        "solution([\"We\", \"are\", \"the\", \"world!\"])"
      ],
      "metadata": {
        "colab": {
          "base_uri": "https://localhost:8080/"
        },
        "id": "E4cDGbKqONb0",
        "outputId": "c4123e3c-547b-4ed4-9d18-35a1202d182e"
      },
      "execution_count": 26,
      "outputs": [
        {
          "output_type": "execute_result",
          "data": {
            "text/plain": [
              "[2, 3, 3, 6]"
            ]
          },
          "metadata": {},
          "execution_count": 26
        }
      ]
    },
    {
      "cell_type": "code",
      "source": [],
      "metadata": {
        "id": "-3_rzLrnPpn7"
      },
      "execution_count": null,
      "outputs": []
    }
  ]
}