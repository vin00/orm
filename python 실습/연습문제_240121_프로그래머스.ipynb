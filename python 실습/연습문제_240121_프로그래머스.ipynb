{
  "nbformat": 4,
  "nbformat_minor": 0,
  "metadata": {
    "colab": {
      "provenance": []
    },
    "kernelspec": {
      "name": "python3",
      "display_name": "Python 3"
    },
    "language_info": {
      "name": "python"
    }
  },
  "cells": [
    {
      "cell_type": "markdown",
      "source": [
        "# 문제 1\n",
        "\n",
        "* 문제 설명\\\n",
        "정수 num과 n이 매개 변수로 주어질 때, num이 n의 배수이면 1을 return n의 배수가 아니라면 0을 return하도록 solution 함수를 완성해주세요.\n",
        "\n",
        "\n",
        "* 제한사항\\\n",
        "2 ≤ num ≤ 100\\\n",
        "2 ≤ n ≤ 9\n",
        "\n",
        "```\n",
        "입출력 예\n",
        "num      n\tresult\n",
        "98\t   2\t  1\n",
        "34\t   3      0\n",
        "```"
      ],
      "metadata": {
        "id": "udcwEoa7im0k"
      }
    },
    {
      "cell_type": "code",
      "source": [
        "def solution(num, n):\n",
        "    answer = num % n == 0\n",
        "    return int(answer)\n",
        "\n",
        "solution(98, 2)\n",
        "solution(32, 3)"
      ],
      "metadata": {
        "colab": {
          "base_uri": "https://localhost:8080/"
        },
        "id": "U-kd-SKTlym8",
        "outputId": "92efc396-8f9d-4b20-b2a5-674584675b4d"
      },
      "execution_count": 3,
      "outputs": [
        {
          "output_type": "execute_result",
          "data": {
            "text/plain": [
              "0"
            ]
          },
          "metadata": {},
          "execution_count": 3
        }
      ]
    },
    {
      "cell_type": "markdown",
      "source": [
        "# 문제 2 공배수\n",
        "\n",
        "* 문제 설명\\\n",
        "정수 number와 n, m이 주어집니다. number가 n의 배수이면서 m의 배수이면 1을 아니라면 0을 return하도록 solution 함수를 완성해주세요.\n",
        "\n",
        "* 제한사항\\\n",
        "10 ≤ number ≤ 100\\\n",
        "2 ≤ n, m < 10\n",
        "\n",
        "* 입출력 예 설명\\\n",
        "입출력 예 #1\\\n",
        "60은 2의 배수이면서 3의 배수이기 때문에 1을 return합니다.\\\n",
        "입출력 예 #2\\\n",
        "55는 5의 배수이지만 10의 배수가 아니기 때문에 0을 return합니다."
      ],
      "metadata": {
        "id": "hhusd6HamgsY"
      }
    },
    {
      "cell_type": "code",
      "source": [
        "def solution(number, n, m):\n",
        "    answer = number % n == 0 and number % m == 0\n",
        "    return int(answer)\n",
        "\n",
        "solution(60, 2, 3)\n",
        "solution(55, 10, 5)"
      ],
      "metadata": {
        "colab": {
          "base_uri": "https://localhost:8080/"
        },
        "id": "S8oJl8njnF_U",
        "outputId": "6d32faf3-f5bd-4e50-ffe4-7bf99021d299"
      },
      "execution_count": 5,
      "outputs": [
        {
          "output_type": "execute_result",
          "data": {
            "text/plain": [
              "0"
            ]
          },
          "metadata": {},
          "execution_count": 5
        }
      ]
    },
    {
      "cell_type": "markdown",
      "source": [
        "# 문제 3 flag에 따라 다른 값 반환하기\n",
        "\n",
        "* 문제 설명\\\n",
        "두 정수 a, b와 boolean 변수 flag가 매개변수로 주어질 때, flag가 true면 a + b를 false면 a - b를 return 하는 solution 함수를 작성해 주세요.\n",
        "\n",
        "* 제한사항\\\n",
        "\\-1,000 ≤ a, b ≤ 1,000\n",
        "\n",
        "* 입출력 예\\\n",
        "입출력 예 #1\\\n",
        "예제 1번에서 flag가 true이므로 a + b = (-4) + 7 = 3을 return 합니다.\\\n",
        "입출력 예 #2\\\n",
        "예제 2번에서 flag가 false이므로 a - b = (-4) - 7 = -11을 return 합니다."
      ],
      "metadata": {
        "id": "pJ-VP8rtoext"
      }
    },
    {
      "cell_type": "code",
      "source": [
        "def solution(a, b, flag):\n",
        "    if flag == True:\n",
        "        answer = a + b\n",
        "        return answer\n",
        "    else:\n",
        "        answer = a - b\n",
        "        return answer\n",
        "\n",
        "solution(-4, 7, False)\n",
        "solution(-4, 7, True)"
      ],
      "metadata": {
        "colab": {
          "base_uri": "https://localhost:8080/"
        },
        "id": "XAtwR2q7pDC9",
        "outputId": "106ec293-557e-4ba6-8b04-b310f3062118"
      },
      "execution_count": 11,
      "outputs": [
        {
          "output_type": "execute_result",
          "data": {
            "text/plain": [
              "3"
            ]
          },
          "metadata": {},
          "execution_count": 11
        }
      ]
    },
    {
      "cell_type": "markdown",
      "source": [
        "# 문제 4 홀짝에 따라 다른 값 반환하기\n",
        "\n",
        "* 문제 설명\\\n",
        "양의 정수 n이 매개변수로 주어질 때, n이 홀수라면 n 이하의 홀수인 모든 양의 정수의 합을 return 하고 n이 짝수라면 n 이하의 짝수인 모든 양의 정수의 제곱의 합을 return 하는 solution 함수를 작성해 주세요.\n",
        "\n",
        "\n",
        "* 제한사항\\\n",
        "1 ≤ n ≤ 100\n",
        "\n",
        "```\n",
        "입출력 예\n",
        "n\tresult\n",
        "7\t  16\n",
        "10\t220\n",
        "```"
      ],
      "metadata": {
        "id": "UMMG851iqUm1"
      }
    },
    {
      "cell_type": "code",
      "source": [
        "def solution(n):\n",
        "    l = []\n",
        "    i = 0\n",
        "    if n % 2 != 0:\n",
        "        while i <= n:\n",
        "            if i % 2 != 0:\n",
        "                l.append(i)\n",
        "            i += 1\n",
        "        return sum(l)\n",
        "    else:\n",
        "        while i <= n:\n",
        "            if i % 2 == 0:\n",
        "                l.append(i ** 2)\n",
        "            i += 1\n",
        "        return sum(l)\n",
        "solution(10)"
      ],
      "metadata": {
        "colab": {
          "base_uri": "https://localhost:8080/"
        },
        "id": "TtxJz9eNrNfN",
        "outputId": "d027c024-ee87-4e38-f4ec-37840ebaac33"
      },
      "execution_count": 72,
      "outputs": [
        {
          "output_type": "execute_result",
          "data": {
            "text/plain": [
              "220"
            ]
          },
          "metadata": {},
          "execution_count": 72
        }
      ]
    },
    {
      "cell_type": "code",
      "source": [
        "def solution(n):\n",
        "    return sum(x ** (2 - x % 2) for x in range(n + 1) if n % 2 == x % 2)\n",
        "solution(7)"
      ],
      "metadata": {
        "colab": {
          "base_uri": "https://localhost:8080/"
        },
        "id": "tP0k6muir3Kl",
        "outputId": "316aead7-1d83-49e1-8c6a-beb911718cfb"
      },
      "execution_count": 75,
      "outputs": [
        {
          "output_type": "execute_result",
          "data": {
            "text/plain": [
              "16"
            ]
          },
          "metadata": {},
          "execution_count": 75
        }
      ]
    },
    {
      "cell_type": "markdown",
      "source": [
        "# 문제 5 원소들의 곱과 합\n",
        "\n",
        "* 문제 설명\\\n",
        "정수가 담긴 리스트 num_list가 주어질 때, 모든 원소들의 곱이 모든 원소들의 합의 제곱보다 작으면 1을 크면 0을 return하도록 solution 함수를 완성해주세요.\n",
        "\n",
        "* 제한사항\\\n",
        "2 ≤ num_list의 길이 ≤ 10\\\n",
        "1 ≤ num_list의 원소 ≤ 9\n",
        "\n",
        "```\n",
        "입출력 예\n",
        "num_list\t     result\n",
        "[3, 4, 5, 2, 1]\t 1\n",
        "[5, 7, 8, 3]\t    0\n",
        "```"
      ],
      "metadata": {
        "id": "qhIJC3kDv8Hd"
      }
    },
    {
      "cell_type": "code",
      "source": [
        "def solution(num_list):\n",
        "    reslut = 1\n",
        "    for i in num_list:\n",
        "        reslut *= i\n",
        "        num_mult = reslut\n",
        "    num_sum = sum(num_list) ** 2\n",
        "    if num_mult < num_sum:\n",
        "        return 1\n",
        "    else:\n",
        "        return 0\n",
        "\n",
        "solution([3, 4, 5, 2, 1])"
      ],
      "metadata": {
        "colab": {
          "base_uri": "https://localhost:8080/"
        },
        "id": "B9bXzOMX6L3f",
        "outputId": "5162a2a6-6489-4953-bf07-8c947037ae2f"
      },
      "execution_count": 109,
      "outputs": [
        {
          "output_type": "execute_result",
          "data": {
            "text/plain": [
              "1"
            ]
          },
          "metadata": {},
          "execution_count": 109
        }
      ]
    },
    {
      "cell_type": "code",
      "source": [
        "def solution(num_list):\n",
        "    s = sum(num_list) ** 2\n",
        "    m = eval('*'.join([str(n) for n in num_list]))\n",
        "    return 1 if s > m else 0\n",
        "\n",
        "solution([3, 4, 5, 2, 1])"
      ],
      "metadata": {
        "colab": {
          "base_uri": "https://localhost:8080/"
        },
        "id": "HxV5G2WT7T28",
        "outputId": "efe5324c-804e-4b9d-e41e-e86a6e321b8d"
      },
      "execution_count": 110,
      "outputs": [
        {
          "output_type": "execute_result",
          "data": {
            "text/plain": [
              "1"
            ]
          },
          "metadata": {},
          "execution_count": 110
        }
      ]
    },
    {
      "cell_type": "code",
      "source": [
        "def solution(num_list):\n",
        "    mul = 1\n",
        "    for n in num_list:\n",
        "        mul *= n\n",
        "    return int(mul < sum(num_list) ** 2)\n",
        "\n",
        "solution([3, 4, 5, 2, 1])"
      ],
      "metadata": {
        "colab": {
          "base_uri": "https://localhost:8080/"
        },
        "id": "yIa4AF0L9TF9",
        "outputId": "ff6c3fd8-717c-4163-ffc7-b057815018b0"
      },
      "execution_count": 111,
      "outputs": [
        {
          "output_type": "execute_result",
          "data": {
            "text/plain": [
              "1"
            ]
          },
          "metadata": {},
          "execution_count": 111
        }
      ]
    },
    {
      "cell_type": "code",
      "source": [],
      "metadata": {
        "id": "62Y1Nxj4HUqu"
      },
      "execution_count": null,
      "outputs": []
    }
  ]
}