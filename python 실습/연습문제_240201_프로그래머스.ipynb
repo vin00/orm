{
  "nbformat": 4,
  "nbformat_minor": 0,
  "metadata": {
    "colab": {
      "provenance": []
    },
    "kernelspec": {
      "name": "python3",
      "display_name": "Python 3"
    },
    "language_info": {
      "name": "python"
    }
  },
  "cells": [
    {
      "cell_type": "markdown",
      "source": [
        "# 문제1 순서쌍의 개수\n",
        "\n",
        "* 문제 설명\\\n",
        "순서쌍이란 두 개의 숫자를 순서를 정하여 짝지어 나타낸 쌍으로 (a, b)로 표기합니다. 자연수 n이 매개변수로 주어질 때 두 숫자의 곱이 n인 자연수 순서쌍의 개수를 return하도록 solution 함수를 완성해주세요.\n",
        "\n",
        "* 제한사항\\\n",
        "1 ≤ n ≤ 1,000,000\n",
        "\n",
        "```\n",
        "입출력 예\n",
        "n\t result\n",
        "20\t   6\n",
        "100\t  9\n",
        "```"
      ],
      "metadata": {
        "id": "hqUk3ZHu7_jJ"
      }
    },
    {
      "cell_type": "code",
      "source": [
        "def solution(n):\n",
        "    count = 0\n",
        "\n",
        "    for i in range(1, int(n ** 0.5) + 1):\n",
        "        if n % i == 0:\n",
        "            count += 2 if i != n // i else 1\n",
        "\n",
        "    return count\n",
        "\n",
        "solution(100)"
      ],
      "metadata": {
        "colab": {
          "base_uri": "https://localhost:8080/"
        },
        "id": "XYQnJ5pr-YBv",
        "outputId": "ff5fe1e6-046b-4647-ddd6-c0c7632e17d5"
      },
      "execution_count": 7,
      "outputs": [
        {
          "output_type": "execute_result",
          "data": {
            "text/plain": [
              "9"
            ]
          },
          "metadata": {},
          "execution_count": 7
        }
      ]
    },
    {
      "cell_type": "markdown",
      "source": [
        "# 문제2 옷가게 할인 받기\n",
        "\n",
        "* 문제 설명\\\n",
        "머쓱이네 옷가게는 10만 원 이상 사면 5%, 30만 원 이상 사면 10%, 50만 원 이상 사면 20%를 할인해줍니다.\\\n",
        "구매한 옷의 가격 price가 주어질 때, 지불해야 할 금액을 return 하도록 solution 함수를 완성해보세요.\n",
        "\n",
        "* 제한사항\\\n",
        "10 ≤ price ≤ 1,000,000\\\n",
        "price는 10원 단위로(1의 자리가 0) 주어집니다.\\\n",
        "소수점 이하를 버린 정수를 return합니다.\n",
        "\n",
        "```\n",
        "입출력 예\n",
        "price\t  result\n",
        "150,000\t142,500\n",
        "580,000\t464,000\n",
        "```"
      ],
      "metadata": {
        "id": "ldPLeGggAb_R"
      }
    },
    {
      "cell_type": "code",
      "source": [
        "def solution(price):\n",
        "    if price >= 500000:\n",
        "        return int(price * 0.8)\n",
        "    elif price >= 300000:\n",
        "        return int(price * 0.9)\n",
        "    elif price >= 100000:\n",
        "        return int(price * 0.95)\n",
        "    else:\n",
        "        return price\n",
        "\n",
        "solution(150000)"
      ],
      "metadata": {
        "colab": {
          "base_uri": "https://localhost:8080/"
        },
        "id": "tOOM8n2LBhLh",
        "outputId": "db4b7f50-a5c6-408c-c098-da9391cde5fd"
      },
      "execution_count": 14,
      "outputs": [
        {
          "output_type": "execute_result",
          "data": {
            "text/plain": [
              "142500"
            ]
          },
          "metadata": {},
          "execution_count": 14
        }
      ]
    },
    {
      "cell_type": "code",
      "source": [
        "def solution(price):\n",
        "    discount_rates = {500000: 0.8, 300000: 0.9, 100000: 0.95, 0: 1}\n",
        "    for discount_price, discount_rate in discount_rates.items():\n",
        "        if price >= discount_price:\n",
        "            return int(price * discount_rate)\n",
        "\n",
        "solution(580000)"
      ],
      "metadata": {
        "colab": {
          "base_uri": "https://localhost:8080/"
        },
        "id": "SFHFL6L_DZbU",
        "outputId": "f00a675f-e99f-4b1a-ec7d-07bd8ca89f20"
      },
      "execution_count": 16,
      "outputs": [
        {
          "output_type": "execute_result",
          "data": {
            "text/plain": [
              "464000"
            ]
          },
          "metadata": {},
          "execution_count": 16
        }
      ]
    },
    {
      "cell_type": "code",
      "source": [],
      "metadata": {
        "id": "j0J86vNdEvQ5"
      },
      "execution_count": null,
      "outputs": []
    }
  ]
}