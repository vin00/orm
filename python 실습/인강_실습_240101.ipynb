{
  "nbformat": 4,
  "nbformat_minor": 0,
  "metadata": {
    "colab": {
      "provenance": []
    },
    "kernelspec": {
      "name": "python3",
      "display_name": "Python 3"
    },
    "language_info": {
      "name": "python"
    }
  },
  "cells": [
    {
      "cell_type": "code",
      "execution_count": 19,
      "metadata": {
        "id": "SEZf-3J0_Xeq"
      },
      "outputs": [],
      "source": [
        "캣의_통장 = 1000000\n",
        "물고기의_가격 = 30\n",
        "잡은_물고기의_수 = 110 + 120 +130 + 140 +150 + 160 + 170 + 180 + 190 + 200\n",
        "물고기를_팔고_난_후_캣의_통장 = 1000000 + (잡은_물고기의_수 * 물고기의_가격)"
      ]
    },
    {
      "cell_type": "code",
      "source": [
        "잡은_물고기의_수, 물고기를_팔고_난_후_캣의_통장"
      ],
      "metadata": {
        "colab": {
          "base_uri": "https://localhost:8080/"
        },
        "id": "lr5DlIcP_xQC",
        "outputId": "ab683424-ca1f-4c6e-c6c8-a20dcb0847fa"
      },
      "execution_count": 20,
      "outputs": [
        {
          "output_type": "execute_result",
          "data": {
            "text/plain": [
              "(1550, 1046500)"
            ]
          },
          "metadata": {},
          "execution_count": 20
        }
      ]
    },
    {
      "cell_type": "code",
      "source": [
        "잡은_물고기의_수 = (110 + 200) * 10 / 2\n",
        "잡은_물고기의_수"
      ],
      "metadata": {
        "colab": {
          "base_uri": "https://localhost:8080/"
        },
        "id": "-FqVcbE9ASnY",
        "outputId": "9d051593-5239-490f-a8b8-b98644098941"
      },
      "execution_count": 6,
      "outputs": [
        {
          "output_type": "execute_result",
          "data": {
            "text/plain": [
              "1550.0"
            ]
          },
          "metadata": {},
          "execution_count": 6
        }
      ]
    },
    {
      "cell_type": "code",
      "source": [
        "list(range(110, 201, 10)) # 앞의 수에서 뒤에 수까지 몇칸씩 건너뛰면서 샐것이냐?의 표현\n",
        "sum(list(range(110, 201, 10)))"
      ],
      "metadata": {
        "colab": {
          "base_uri": "https://localhost:8080/"
        },
        "id": "Y46tV0PKA6OE",
        "outputId": "86fb80e2-cf84-453d-8d7b-535e739ecad0"
      },
      "execution_count": 10,
      "outputs": [
        {
          "output_type": "execute_result",
          "data": {
            "text/plain": [
              "1550"
            ]
          },
          "metadata": {},
          "execution_count": 10
        }
      ]
    },
    {
      "cell_type": "code",
      "source": [
        "format(물고기를_팔고_난_후_캣의_통장, ',')"
      ],
      "metadata": {
        "colab": {
          "base_uri": "https://localhost:8080/",
          "height": 35
        },
        "id": "0_hVNTpeBGRy",
        "outputId": "e2cb3ac7-99b1-4a63-b022-bf8c877c3b79"
      },
      "execution_count": 21,
      "outputs": [
        {
          "output_type": "execute_result",
          "data": {
            "text/plain": [
              "'1,046,500'"
            ],
            "application/vnd.google.colaboratory.intrinsic+json": {
              "type": "string"
            }
          },
          "metadata": {},
          "execution_count": 21
        }
      ]
    },
    {
      "cell_type": "code",
      "source": [
        "반지름 = 500\n",
        "고기가_잘_잡히는_반경 = (반지름**2)*3.14\n",
        "고기가_잘_잡히는_반경"
      ],
      "metadata": {
        "colab": {
          "base_uri": "https://localhost:8080/"
        },
        "id": "MNdqBzRoB3Lq",
        "outputId": "0555d466-02ae-4288-a46f-d1a2263d9159"
      },
      "execution_count": 17,
      "outputs": [
        {
          "output_type": "execute_result",
          "data": {
            "text/plain": [
              "785000.0"
            ]
          },
          "metadata": {},
          "execution_count": 17
        }
      ]
    },
    {
      "cell_type": "code",
      "source": [
        "물고기를_팔고_난_후_캣의_통장 += (고기가_잘_잡히는_반경 - 314) * 110 * 물고기의_가격\n"
      ],
      "metadata": {
        "id": "5uFMF6ORCRoG"
      },
      "execution_count": 22,
      "outputs": []
    },
    {
      "cell_type": "code",
      "source": [
        "format(int(물고기를_팔고_난_후_캣의_통장),',')"
      ],
      "metadata": {
        "colab": {
          "base_uri": "https://localhost:8080/",
          "height": 35
        },
        "outputId": "b5fec494-199f-4875-f94d-1e0503665ade",
        "id": "1KQ2r8TCCgQQ"
      },
      "execution_count": 24,
      "outputs": [
        {
          "output_type": "execute_result",
          "data": {
            "text/plain": [
              "'2,590,510,300'"
            ],
            "application/vnd.google.colaboratory.intrinsic+json": {
              "type": "string"
            }
          },
          "metadata": {},
          "execution_count": 24
        }
      ]
    },
    {
      "cell_type": "code",
      "source": [
        "# 문제 4\n",
        "# A등급은 350마리, B등급은 700마리\n",
        "문제4_물고기의_등급 = {'A등급':100, 'B등급':50}\n",
        "문제4_잡은_물고기의_수 = {'A등급':350,'B등급':700}\n",
        "\n",
        "문제4_총액_A등급 = 문제4_물고기의_등급['A등급']*문제4_잡은_물고기의_수['A등급']\n",
        "문제4_총액_B등급 = 문제4_물고기의_등급['B등급']*문제4_잡은_물고기의_수['B등급']\n",
        "\n",
        "문제4_총액 = 문제4_총액_A등급 + 문제4_총액_B등급\n",
        "print(문제4_총액)\n",
        "\n",
        "문제4_비율 = {'A등급':문제4_총액_A등급/70000*100, 'B등급':문제4_총액_B등급/70000*100}\n",
        "print(문제4_비율)"
      ],
      "metadata": {
        "colab": {
          "base_uri": "https://localhost:8080/"
        },
        "id": "QSJstpOcDNwL",
        "outputId": "16e6e981-9bbd-453e-c0bf-b466833868b9"
      },
      "execution_count": 32,
      "outputs": [
        {
          "output_type": "stream",
          "name": "stdout",
          "text": [
            "70000\n",
            "{'A등급': 50.0, 'B등급': 50.0}\n"
          ]
        }
      ]
    },
    {
      "cell_type": "code",
      "source": [],
      "metadata": {
        "id": "5AxSnapTEWPW"
      },
      "execution_count": null,
      "outputs": []
    }
  ]
}