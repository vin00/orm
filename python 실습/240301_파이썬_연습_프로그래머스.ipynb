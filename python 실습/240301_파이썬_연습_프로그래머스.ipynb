{
  "nbformat": 4,
  "nbformat_minor": 0,
  "metadata": {
    "colab": {
      "provenance": []
    },
    "kernelspec": {
      "name": "python3",
      "display_name": "Python 3"
    },
    "language_info": {
      "name": "python"
    }
  },
  "cells": [
    {
      "cell_type": "markdown",
      "source": [
        "# 문제 1 개미군단\n",
        "\n",
        "* 문제 설명\\\n",
        "개미 군단이 사냥을 나가려고 합니다. 개미군단은 사냥감의 체력에 딱 맞는 병력을 데리고 나가려고 합니다. 장군개미는 5의 공격력을, 병정개미는 3의 공격력을 일개미는 1의 공격력을 가지고 있습니다. 예를 들어 체력 23의 여치를 사냥하려고 할 때, 일개미 23마리를 데리고 가도 되지만, 장군개미 네 마리와 병정개미 한 마리를 데리고 간다면 더 적은 병력으로 사냥할 수 있습니다. 사냥감의 체력 hp가 매개변수로 주어질 때, 사냥감의 체력에 딱 맞게 최소한의 병력을 구성하려면 몇 마리의 개미가 필요한지를 return하도록 solution 함수를 완성해주세요.\n",
        "\n",
        "* 제한사항\\\n",
        "hp는 자연수입니다.\\\n",
        "0 ≤ hp ≤ 1000\n",
        "\n",
        "```\n",
        "입출력 예\n",
        "hp\t   result\n",
        "23\t   5\n",
        "24\t   6\n",
        "999\t  201\n",
        "```"
      ],
      "metadata": {
        "id": "o8x1xYa_No7S"
      }
    },
    {
      "cell_type": "code",
      "source": [
        "def solution(hp):\n",
        "    # 장군개미, 병정개미, 일개미의 공격력\n",
        "    general_attack = 5\n",
        "    soldier_attack = 3\n",
        "    ant_attack = 1\n",
        "\n",
        "    # 각 개미의 마리수 초기화\n",
        "    general_count = 0\n",
        "    soldier_count = 0\n",
        "    ant_count = 0\n",
        "\n",
        "    # hp가 0이 될 때까지 반복\n",
        "    while hp > 0:\n",
        "        # 장군개미로 사냥 가능한 만큼 사용\n",
        "        general_count = hp // general_attack\n",
        "        hp %= general_attack\n",
        "\n",
        "        # 병정개미로 사냥 가능한 만큼 사용\n",
        "        soldier_count = hp // soldier_attack\n",
        "        hp %= soldier_attack\n",
        "\n",
        "        # 일개미로 사냥 가능한 만큼 사용\n",
        "        ant_count = hp\n",
        "\n",
        "        # 마지막으로 필요한 일개미의 마리수를 계산\n",
        "        if hp > 0:\n",
        "            ant_count = 1\n",
        "\n",
        "    # 전체 개미의 마리수 반환\n",
        "    return general_count + soldier_count + ant_count\n",
        "\n",
        "# 테스트\n",
        "print(solution(23))  # 예시에서 설명한 경우: 장군개미 4마리, 병정개미 1마리, 일개미 0마리 -> 총 5마리\n"
      ],
      "metadata": {
        "colab": {
          "base_uri": "https://localhost:8080/"
        },
        "id": "vofzzNH-Odwg",
        "outputId": "39003879-e602-4d44-906e-5ae0258ae7ec"
      },
      "execution_count": 1,
      "outputs": [
        {
          "output_type": "stream",
          "name": "stdout",
          "text": [
            "5\n"
          ]
        }
      ]
    },
    {
      "cell_type": "code",
      "source": [],
      "metadata": {
        "id": "WWpA2mgDWqf7"
      },
      "execution_count": null,
      "outputs": []
    }
  ]
}