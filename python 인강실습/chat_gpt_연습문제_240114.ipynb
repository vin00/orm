{
  "nbformat": 4,
  "nbformat_minor": 0,
  "metadata": {
    "colab": {
      "provenance": []
    },
    "kernelspec": {
      "name": "python3",
      "display_name": "Python 3"
    },
    "language_info": {
      "name": "python"
    }
  },
  "cells": [
    {
      "cell_type": "markdown",
      "source": [
        "# 간단한 캘린더 만들기 2\n",
        "\n",
        "1. 현재 연도와 월을 입력받아 해당 월의 달력을 출력하는 함수를 작성하세요.\n",
        "2. 입력으로 받은 연도가 윤년인지 아닌지 판별하는 함수를 작성하세요. (윤년은 4로 나누어 떨어지면서, 100으로 나누어떨어지지 않거나, 400으로 나누어 떨어집니다.)\n",
        "3. 특정 월의 첫 날이 무슨 요일인지 반환하는 함수를 작성하세요.\n",
        "4. (선택 사항) 특정 날짜의 일정을 추가하고, 해당 날짜의 일정을 출력하는 기능을 추가하세요."
      ],
      "metadata": {
        "id": "ysDiXqPg_88x"
      }
    },
    {
      "cell_type": "code",
      "source": [
        "# 연도와 월을 입력받아 해당 월의 달력을 출력하는 함수\n",
        "# calendar 불러오기\n",
        "import calendar\n",
        "\n",
        "def print_calendar(year, month):\n",
        "    cal = calendar.month(year, month)\n",
        "    print(cal)\n",
        "\n",
        "# 현재 연도와 월의 달력 출력\n",
        "current_year = 2024\n",
        "current_month = 1\n",
        "print_calendar(current_year, current_month)"
      ],
      "metadata": {
        "colab": {
          "base_uri": "https://localhost:8080/"
        },
        "id": "Dk8l6dJmDsG3",
        "outputId": "ee5e39b5-1840-461a-d144-dfe1ef33c914"
      },
      "execution_count": 4,
      "outputs": [
        {
          "output_type": "stream",
          "name": "stdout",
          "text": [
            "    January 2024\n",
            "Mo Tu We Th Fr Sa Su\n",
            " 1  2  3  4  5  6  7\n",
            " 8  9 10 11 12 13 14\n",
            "15 16 17 18 19 20 21\n",
            "22 23 24 25 26 27 28\n",
            "29 30 31\n",
            "\n"
          ]
        }
      ]
    },
    {
      "cell_type": "code",
      "source": [
        "# 입력 받은 연도가 윤년인지 아닌지 판별하는 함수\n",
        "\n",
        "def intercalation(year):\n",
        "    if year % 4 == 0 and year % 100 != 0 and year % 400 == 0:\n",
        "        return \"윤년입니다.\"\n",
        "    else:\n",
        "        print(\"윤년이 아닙니다.\")\n",
        "\n",
        "intercalation(current_year)"
      ],
      "metadata": {
        "colab": {
          "base_uri": "https://localhost:8080/"
        },
        "id": "dPtP-UoIFqOj",
        "outputId": "4ead7be7-a368-4950-af61-e9eb30f01c15"
      },
      "execution_count": 5,
      "outputs": [
        {
          "output_type": "stream",
          "name": "stdout",
          "text": [
            "윤년이 아닙니다.\n"
          ]
        }
      ]
    },
    {
      "cell_type": "code",
      "source": [
        "# 특정월에 첫날이 무슨 요일인지 반환하는 함수\n",
        "\n",
        "def get_first_weekday(year, month):\n",
        "    # 해당 월의 1일이 무슨 요일인지 반환 (0: 월요일, 1: 화요일, ..., 6: 일요일)\n",
        "    first_weekday_int = calendar.weekday(year, month, 1)\n",
        "    # 요일을 문자열로 변환\n",
        "    weekdays = [\"월요일\", \"화요일\", \"수요일\", \"목요일\", \"금요일\", \"토요일\", \"일요일\"]\n",
        "    first_weekday_str = weekdays[first_weekday_int]\n",
        "    return first_weekday_str\n",
        "\n",
        "# 함수 호출 및 결과 출력\n",
        "result = get_first_weekday(current_year, current_month)\n",
        "print(f'{current_year}년 {current_month}월 1일은 {result}입니다.')"
      ],
      "metadata": {
        "colab": {
          "base_uri": "https://localhost:8080/"
        },
        "id": "86_6NdiCHg3P",
        "outputId": "7f0031e5-19ee-40ce-c6dd-31b35a6738ae"
      },
      "execution_count": 12,
      "outputs": [
        {
          "output_type": "stream",
          "name": "stdout",
          "text": [
            "2024년 1월 1일은 월요일입니다.\n"
          ]
        }
      ]
    },
    {
      "cell_type": "code",
      "source": [],
      "metadata": {
        "id": "VTqK3s0FLuqv"
      },
      "execution_count": null,
      "outputs": []
    }
  ]
}