{
  "nbformat": 4,
  "nbformat_minor": 0,
  "metadata": {
    "colab": {
      "provenance": []
    },
    "kernelspec": {
      "name": "python3",
      "display_name": "Python 3"
    },
    "language_info": {
      "name": "python"
    }
  },
  "cells": [
    {
      "cell_type": "code",
      "execution_count": null,
      "metadata": {
        "colab": {
          "base_uri": "https://localhost:8080/"
        },
        "id": "oldbgLQQdnBO",
        "outputId": "47d27803-da1f-4130-a702-b5a95e3267cf"
      },
      "outputs": [
        {
          "output_type": "execute_result",
          "data": {
            "text/plain": [
              "30"
            ]
          },
          "metadata": {},
          "execution_count": 13
        }
      ],
      "source": [
        "# 문제 1 다음 값은 어떤 값이 출력되는지 이유를 설명하세요.\n",
        "# 문제 1.1 다음 값은 어떤 값이 출력되는지 이유를 설명하세요.\n",
        "'hello' and 1\n",
        "# 출력 1\n",
        "# 정답 :  a and b 연산에서 a가 거짓으로 평가되면 b는 평가되지 않고 출력된다.\n"
      ]
    },
    {
      "cell_type": "code",
      "source": [
        "# 문제 1.2 다음 값은 어떤 값이 출력되는지 이유를 설명하세요.\n",
        "10 or 'hello world'\n",
        "# 출력 10\n",
        "# 정답 : a or b 연산에서 a가 참으로 평가되면 b는 평가되지 않고 출력된다.\n",
        "\n"
      ],
      "metadata": {
        "colab": {
          "base_uri": "https://localhost:8080/"
        },
        "id": "eA_Kb8pieGA9",
        "outputId": "ebdca346-1886-414e-eba6-9fdf97df1351"
      },
      "execution_count": null,
      "outputs": [
        {
          "output_type": "execute_result",
          "data": {
            "text/plain": [
              "10"
            ]
          },
          "metadata": {},
          "execution_count": 2
        }
      ]
    },
    {
      "cell_type": "code",
      "source": [
        "# 문제 2 아래 dict에 'three' key를 이용하여 '3'라는 값을 출력해주세요.\n",
        "#         없을 경우 애러가 나는 것이 아니라 '3'이라는 값을 출력해야 합니다.\n",
        "d = {'one': 1, 'two': 2}\n",
        "# 정답\n",
        "d.setdefault('three', '3')\n"
      ],
      "metadata": {
        "colab": {
          "base_uri": "https://localhost:8080/",
          "height": 35
        },
        "id": "xbwOzC14eD8C",
        "outputId": "182e1493-bb04-4fd2-8d62-e52609523e2b"
      },
      "execution_count": null,
      "outputs": [
        {
          "output_type": "execute_result",
          "data": {
            "text/plain": [
              "'3'"
            ],
            "application/vnd.google.colaboratory.intrinsic+json": {
              "type": "string"
            }
          },
          "metadata": {},
          "execution_count": 14
        }
      ]
    },
    {
      "cell_type": "code",
      "source": [
        "# 문제 3 다음 리스트에서 100은 어떻게 꺼낼 수 있나요?\n",
        "l = [1, [10, 20], [3, [100, 200], 5]]\n",
        "# 정답\n",
        "l[2][1][0]\n"
      ],
      "metadata": {
        "colab": {
          "base_uri": "https://localhost:8080/"
        },
        "id": "XoyTJdVmkMH_",
        "outputId": "890e6ad3-3912-442d-9887-d4ec3982101e"
      },
      "execution_count": null,
      "outputs": [
        {
          "output_type": "execute_result",
          "data": {
            "text/plain": [
              "100"
            ]
          },
          "metadata": {},
          "execution_count": 15
        }
      ]
    },
    {
      "cell_type": "code",
      "source": [
        "# 문제 4 아래 숫자를 모두 더해주세요.\n",
        "l = [[1, 2], [3, 4]]\n",
        "# 정답\n",
        "sum(sum(l,[]))\n"
      ],
      "metadata": {
        "colab": {
          "base_uri": "https://localhost:8080/"
        },
        "id": "9He1mn4MkP2R",
        "outputId": "2b017410-5fc6-4e50-c9fa-7c1acc1957a3"
      },
      "execution_count": null,
      "outputs": [
        {
          "output_type": "execute_result",
          "data": {
            "text/plain": [
              "10"
            ]
          },
          "metadata": {},
          "execution_count": 16
        }
      ]
    },
    {
      "cell_type": "code",
      "source": [
        "# 문제 5 (난이도 있는 문제) filter를 사용하여 아래 리스트에서 짝수를 모두 더하는 코드를 작성해주세요.\n",
        "l = [1, 2, 3, 4, 5, 6, 7, 8, 9, 10]\n",
        "# 정답\n",
        "def f(x):\n",
        "    return x % 2 == 0\n",
        "\n",
        "sum(filter(f, l)) # 출력 30"
      ],
      "metadata": {
        "colab": {
          "base_uri": "https://localhost:8080/"
        },
        "id": "bYOEY26KkRuQ",
        "outputId": "6f8c87df-3f83-4a1f-c6ad-97752c64ed78"
      },
      "execution_count": null,
      "outputs": [
        {
          "output_type": "execute_result",
          "data": {
            "text/plain": [
              "30"
            ]
          },
          "metadata": {},
          "execution_count": 17
        }
      ]
    },
    {
      "cell_type": "code",
      "source": [],
      "metadata": {
        "id": "qJa9rFeDkVbl"
      },
      "execution_count": null,
      "outputs": []
    }
  ]
}