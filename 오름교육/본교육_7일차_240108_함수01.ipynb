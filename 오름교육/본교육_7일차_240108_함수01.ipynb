{
  "nbformat": 4,
  "nbformat_minor": 0,
  "metadata": {
    "colab": {
      "provenance": []
    },
    "kernelspec": {
      "name": "python3",
      "display_name": "Python 3"
    },
    "language_info": {
      "name": "python"
    }
  },
  "cells": [
    {
      "cell_type": "markdown",
      "source": [
        "1. 함수"
      ],
      "metadata": {
        "id": "Akuusbn_Xt54"
      }
    },
    {
      "cell_type": "code",
      "source": [
        "# 1. 함수 만들어보기\n",
        "\n",
        "def vin() : # def -> 이건 함수야 vin 함수의 이름 + () -> \":(콜론)\"\n"
      ],
      "metadata": {
        "colab": {
          "base_uri": "https://localhost:8080/",
          "height": 147
        },
        "id": "eC_nFe_6sao2",
        "outputId": "ab8acc9c-dc36-46b6-af0b-0e2a9ec14f2f"
      },
      "execution_count": null,
      "outputs": [
        {
          "output_type": "error",
          "ename": "SyntaxError",
          "evalue": "incomplete input (<ipython-input-1-7c2d0fb6891b>, line 3)",
          "traceback": [
            "\u001b[0;36m  File \u001b[0;32m\"<ipython-input-1-7c2d0fb6891b>\"\u001b[0;36m, line \u001b[0;32m3\u001b[0m\n\u001b[0;31m    def vin() : # def -> 이건 함수야 vin 함수의 이름 + () -> \":(콜론)\"\u001b[0m\n\u001b[0m                                                          ^\u001b[0m\n\u001b[0;31mSyntaxError\u001b[0m\u001b[0;31m:\u001b[0m incomplete input\n"
          ]
        }
      ]
    },
    {
      "cell_type": "code",
      "source": [
        "# 2. 들여쓰기\n",
        "def my_function():\n",
        "    print('1') # 4칸을 띄우는 것 -> 함수의 본문을 적는 것\n",
        "    print('2')\n",
        "    print('3')\n",
        "\n",
        "print('4') # 들여쓰기를 안할시 함수 밖에서 실행된다.\n",
        "\n",
        "# 함수의 실행\n",
        "my_function() # 실행을 할때는 def와 :은 필요 없음. -> 함수의 본문이 실행 된다."
      ],
      "metadata": {
        "colab": {
          "base_uri": "https://localhost:8080/"
        },
        "id": "_cYNzYhJtNKI",
        "outputId": "6d86d14d-10fd-4539-a8d1-994256c0e388"
      },
      "execution_count": null,
      "outputs": [
        {
          "output_type": "stream",
          "name": "stdout",
          "text": [
            "4\n",
            "1\n",
            "2\n",
            "3\n"
          ]
        }
      ]
    },
    {
      "cell_type": "code",
      "source": [
        "#1. 함수\n",
        "\n",
        "# 함수 정의하기\n",
        "def my_function(): #def로 정의하고 함수명설정() :(클론)\n",
        "# 들여쓰기 _ 4칸을 띄우는 것\n",
        "    print('1') # 함수의 본문을 적는 것\n",
        "\n",
        "# 함수의 실행_ 실행을 할때는 def와 :은 필요 없음.\n",
        "my_function() # 함수의 본문이 실행 된다.\n"
      ],
      "metadata": {
        "colab": {
          "base_uri": "https://localhost:8080/"
        },
        "id": "4G-MIb2QuYd-",
        "outputId": "0c5b8123-f8a4-4a51-97cf-de520f2af4f5"
      },
      "execution_count": null,
      "outputs": [
        {
          "output_type": "stream",
          "name": "stdout",
          "text": [
            "1\n"
          ]
        }
      ]
    },
    {
      "cell_type": "code",
      "source": [
        "# 함수 정의하기\n",
        "def function(x, y): # def 함수명 설정(매개변수1, 매개변수2)\n",
        "    z = x + y # 함수 기능 설정\n",
        "    return z  # 함수 결과 값(출력되는 값)\n",
        "\n",
        "# 함수 출력 _아규먼트(매개변수의 값)\n",
        "print(\"function(10, 9) =\", function(10,9)) # 출력 function(10, 9) = 19"
      ],
      "metadata": {
        "colab": {
          "base_uri": "https://localhost:8080/"
        },
        "id": "l7q2aMAd1Mll",
        "outputId": "0b7987d1-f8b1-43e7-9560-32cb55860fb5"
      },
      "execution_count": null,
      "outputs": [
        {
          "output_type": "stream",
          "name": "stdout",
          "text": [
            "function(10, 9)= 19\n"
          ]
        }
      ]
    },
    {
      "cell_type": "code",
      "source": [
        "# 함수의 명을 정했으나 기능을 설정하지 못했을 경우\n",
        "def function(x, y): # def 함수명 설정(매개변수1, 매개변수2)\n",
        "    pass  # 임시로 값을 넣는 기능\n",
        "\n",
        "def function_1(x, y):\n",
        "    return x + y # z값을 따로 만들지 않고 return에 기능을 바로 작성하여도 가능\n",
        "\n",
        "print(function_1(1, 2))"
      ],
      "metadata": {
        "colab": {
          "base_uri": "https://localhost:8080/"
        },
        "id": "mxfJBK-F4yQm",
        "outputId": "e67e61a5-11af-4de8-bb64-1b37d67ddc28"
      },
      "execution_count": null,
      "outputs": [
        {
          "output_type": "stream",
          "name": "stdout",
          "text": [
            "3\n"
          ]
        }
      ]
    },
    {
      "cell_type": "code",
      "source": [
        "# 함수 정의하기\n",
        "def function(x, y): # def 함수명 설정(매개변수1, 매개변수2)\n",
        "    z = x + y # 함수 기능 설정\n",
        "\n",
        "\n",
        "# 1. return을 함수 내에 지정하지 않았을 때\n",
        "print(\"function(10, 9) =\", function(10,9))\n"
      ],
      "metadata": {
        "colab": {
          "base_uri": "https://localhost:8080/"
        },
        "id": "TjTLIKS16QwF",
        "outputId": "6e58565c-0ae4-403c-af38-38b93a9fbb4f"
      },
      "execution_count": null,
      "outputs": [
        {
          "output_type": "stream",
          "name": "stdout",
          "text": [
            "function(10, 9) = None\n"
          ]
        }
      ]
    },
    {
      "cell_type": "code",
      "source": [
        "# 함수 정의하기\n",
        "def function(x, y): # def 함수명 설정(매개변수1, 매개변수2)\n",
        "    z = x + y # 함수 기능 설정\n",
        "    return z  # 함수 결과 값(출력되는 값)\n",
        "\n",
        "# 2. print()문을 사용하지 않았을 때\n",
        "function(10,9)\n",
        "# 구글코랩의 기능으로 출력 되지만 다른 프로그램에서는 출력가 되지 않음으로\n",
        "# print()문을 쓰는 것을 습관화 해야한다."
      ],
      "metadata": {
        "colab": {
          "base_uri": "https://localhost:8080/"
        },
        "id": "JvHKw6-I7qxx",
        "outputId": "3c0d8cab-7cc1-4d5e-a6e6-2727193c3fac"
      },
      "execution_count": null,
      "outputs": [
        {
          "output_type": "execute_result",
          "data": {
            "text/plain": [
              "19"
            ]
          },
          "metadata": {},
          "execution_count": 29
        }
      ]
    },
    {
      "cell_type": "code",
      "source": [
        "# 입력 매개변수가 없고 반환값도 없는 함수\n",
        "\n",
        "def simple_function():\n",
        "    print('hello world')\n",
        "\n",
        "# 함수 호출\n",
        "print(simple_function()) # 함수 호출이 됐기 때문에 print가 호출이 되지만\n",
        "# return 값이 없기 때문에 None이 출력이 된다."
      ],
      "metadata": {
        "colab": {
          "base_uri": "https://localhost:8080/"
        },
        "id": "dJxlY5Xb8F3j",
        "outputId": "d86445c9-7c1a-4171-e4b2-a1e186bc38e3"
      },
      "execution_count": null,
      "outputs": [
        {
          "output_type": "stream",
          "name": "stdout",
          "text": [
            "hello world\n",
            "None\n"
          ]
        }
      ]
    },
    {
      "cell_type": "code",
      "source": [
        "# 파라미터가 없고, 반환값은 있는 함수\n",
        "# 함수명 정의\n",
        "def give_me_five():\n",
        "    return 5  # return 값 정의\n",
        "\n",
        "result = give_me_five() # 리턴 값이 있기 때문에 값을 반환한다.\n",
        "print(result)"
      ],
      "metadata": {
        "colab": {
          "base_uri": "https://localhost:8080/"
        },
        "id": "ErOWuzrr9vTE",
        "outputId": "982c45b2-1e40-45c6-b96a-9199a97d6bad"
      },
      "execution_count": null,
      "outputs": [
        {
          "output_type": "stream",
          "name": "stdout",
          "text": [
            "5\n"
          ]
        }
      ]
    },
    {
      "cell_type": "code",
      "source": [
        "# 입력 매개변수 있고, 반환값이 없는 함수\n",
        "\n",
        "def greeting(name):\n",
        "    print(f'hello, {name}!')\n",
        "\n",
        "#함수 호출\n",
        "greeting('Licat') # 출력 Licat\n",
        "print(greeting('Licat')) # 출력 Licat None\n",
        "# 함수호출 하여 hello Licat이 출력되고 return 값이 출력이 되지 않느다.\n",
        "# print를 하였을때는 return값이 같이 출력된다."
      ],
      "metadata": {
        "colab": {
          "base_uri": "https://localhost:8080/"
        },
        "id": "Aj8iAjY5B8YO",
        "outputId": "0a4bf08b-ccbe-4f32-a92e-433f6d2e3c82"
      },
      "execution_count": null,
      "outputs": [
        {
          "output_type": "stream",
          "name": "stdout",
          "text": [
            "hello, Licat!\n",
            "hello, Licat!\n",
            "None\n"
          ]
        }
      ]
    },
    {
      "cell_type": "code",
      "source": [
        "# 입력 매개변수가 있고, 변환 값이 있는 함수\n",
        "\n",
        "def add_numbers(x, y):\n",
        "    sum = x + y\n",
        "    return sum\n",
        "\n",
        "# 함수 호출\n",
        "result = add_numbers(5,3)\n",
        "print(result) # 출력 : 8"
      ],
      "metadata": {
        "colab": {
          "base_uri": "https://localhost:8080/"
        },
        "id": "4NSlvFlZEtqj",
        "outputId": "a95cad04-9da5-462a-eb1b-5216ef2a1130"
      },
      "execution_count": null,
      "outputs": [
        {
          "output_type": "stream",
          "name": "stdout",
          "text": [
            "8\n"
          ]
        }
      ]
    },
    {
      "cell_type": "code",
      "source": [
        "# 파라미터의 기본사용\n",
        "\n",
        "def f(a, b, c):\n",
        "    print(a, b, c)\n",
        "\n",
        "# 파라미터와 아규먼트의 관계\n",
        "f(100, 300, 200) # 출력: 100 300 200   # 지정이 없다면 순서대로 출력된다.\n",
        "# 키워드 인자\n",
        "# 키워드를 지정해서 할당한다면 위치와 상관없이 파라미터와 매치되서 들어간다.\n",
        "f(a=100, b=200, c=300) # 출력: 100 200 300\n",
        "f(c=300, a=100, b=200) # 출력: 100 200 300"
      ],
      "metadata": {
        "colab": {
          "base_uri": "https://localhost:8080/"
        },
        "id": "76rvXAotFTog",
        "outputId": "91ca5973-378a-4b01-93b1-f858e0d77def"
      },
      "execution_count": null,
      "outputs": [
        {
          "output_type": "stream",
          "name": "stdout",
          "text": [
            "100 300 200\n",
            "100 200 300\n",
            "100 200 300\n"
          ]
        }
      ]
    },
    {
      "cell_type": "code",
      "source": [
        "# 파라미터의 기본사용(파라미터의 기본값 설정 O)\n",
        "\n",
        "def f(a=100, b=200, c=300):\n",
        "    print(a, b, c)\n",
        "\n",
        "\n",
        "f() # 출력: 100 200 300   # 지정이 없다면 순서대로 출력된다.\n",
        "f(100,10)   # 출력: 100 10 200\n",
        "f(a=10, b=20, c=30) # 출력: 10 20 30\n",
        "f(c=300, a=100, b=200) # 출력: 100 200 300"
      ],
      "metadata": {
        "colab": {
          "base_uri": "https://localhost:8080/"
        },
        "id": "MbepiMbDIyX-",
        "outputId": "9804cd69-26f3-4e51-e69a-abdbfc396356"
      },
      "execution_count": null,
      "outputs": [
        {
          "output_type": "stream",
          "name": "stdout",
          "text": [
            "100 200 300\n",
            "100 10 300\n",
            "10 20 30\n",
            "100 200 300\n"
          ]
        }
      ]
    },
    {
      "cell_type": "code",
      "source": [
        "# 일부 파라미터만 기본값을 가지는 경우\n",
        "\n",
        "# 잘못된 예_01 _기본 값이 없는 파라미터가 기본값이 있는 파라미터의 뒤에 올수 없음.\n",
        "\n",
        "def f(a=10, b=20, c):\n",
        "    print(a, b, c) # error\n",
        "\n",
        "f(10, 20, 30)\n",
        "\n",
        "# 잘못된 예_02\n",
        "def f(a=10, b, c=10):\n",
        "    print(a, b, c)  # error\n",
        "\n",
        "f(100,10, 30)"
      ],
      "metadata": {
        "colab": {
          "base_uri": "https://localhost:8080/",
          "height": 147
        },
        "id": "SNotG8igJehZ",
        "outputId": "6b0c3ab3-bce2-46ec-8539-a189ce19b909"
      },
      "execution_count": null,
      "outputs": [
        {
          "output_type": "error",
          "ename": "SyntaxError",
          "evalue": "non-default argument follows default argument (<ipython-input-54-a63484c4d151>, line 5)",
          "traceback": [
            "\u001b[0;36m  File \u001b[0;32m\"<ipython-input-54-a63484c4d151>\"\u001b[0;36m, line \u001b[0;32m5\u001b[0m\n\u001b[0;31m    def f(a=10, b=20, c):\u001b[0m\n\u001b[0m                      ^\u001b[0m\n\u001b[0;31mSyntaxError\u001b[0m\u001b[0;31m:\u001b[0m non-default argument follows default argument\n"
          ]
        }
      ]
    },
    {
      "cell_type": "code",
      "source": [
        "# 올바른 예\n",
        "def f(a, b=20, c=10):\n",
        "    print(a, b, c)\n",
        "\n",
        "f(100,10)   # 출력: 100 10 200\n",
        "f(a=10, b=20, c=30) # 출력: 10 20 30\n",
        "f(c=300, a=100, b=200) # 출력: 100 200 300"
      ],
      "metadata": {
        "colab": {
          "base_uri": "https://localhost:8080/"
        },
        "id": "NFtcteJlJlDS",
        "outputId": "44335aba-09e9-4b59-b4d5-f0279f645db9"
      },
      "execution_count": null,
      "outputs": [
        {
          "output_type": "stream",
          "name": "stdout",
          "text": [
            "100 10 10\n",
            "10 20 30\n",
            "100 200 300\n"
          ]
        }
      ]
    },
    {
      "cell_type": "code",
      "source": [
        "# 컨벤션 자료형을 아규먼트로 넣었을 때\n",
        "def add_element(my_list):\n",
        "    my_list.append(1)\n",
        "    print(id(my_list))\n",
        "\n",
        "a = [2, 3, 4]\n",
        "add_element(a)\n",
        "print(id(a))\n",
        "print(a) # 출력 [2, 3, 4, 1]"
      ],
      "metadata": {
        "colab": {
          "base_uri": "https://localhost:8080/"
        },
        "id": "1IxUsm9qKcXV",
        "outputId": "33e7fa74-726c-4262-be20-f56f9a1962a6"
      },
      "execution_count": null,
      "outputs": [
        {
          "output_type": "stream",
          "name": "stdout",
          "text": [
            "134810949659648\n",
            "134810949659648\n",
            "[2, 3, 4, 1]\n"
          ]
        }
      ]
    },
    {
      "cell_type": "code",
      "source": [
        "def add_element(my_list):\n",
        "    my_list = 10\n",
        "    print(id(my_list))\n",
        "\n",
        "a = [2, 3, 4]\n",
        "add_element(a)\n",
        "print(id(a))\n",
        "print(a)  # 출력: [2, 3, 4]"
      ],
      "metadata": {
        "colab": {
          "base_uri": "https://localhost:8080/"
        },
        "id": "C_aABKn5LrAi",
        "outputId": "93329d9f-7d26-47b1-f6c4-a36aaecf69c1"
      },
      "execution_count": null,
      "outputs": [
        {
          "output_type": "stream",
          "name": "stdout",
          "text": [
            "134812219343376\n",
            "134810949658112\n",
            "[2, 3, 4]\n"
          ]
        }
      ]
    },
    {
      "cell_type": "code",
      "source": [
        "# 권장되지 않은 기본값\n",
        "\n",
        "# 권장하지 않는 방법 (리스트가 계속 업데이트 )\n",
        "def append_to_list(value, lst=[]):\n",
        "    lst.append(value)\n",
        "    return lst\n",
        "\n",
        "append_to_list(1)\n",
        "append_to_list(2)"
      ],
      "metadata": {
        "colab": {
          "base_uri": "https://localhost:8080/"
        },
        "id": "bbR8WiMKfMc5",
        "outputId": "f1a8da08-f8dc-436e-b812-e3f8c9e022bc"
      },
      "execution_count": null,
      "outputs": [
        {
          "output_type": "execute_result",
          "data": {
            "text/plain": [
              "[1, 2]"
            ]
          },
          "metadata": {},
          "execution_count": 21
        }
      ]
    },
    {
      "cell_type": "code",
      "source": [
        "# 권장 기본값\n",
        "\n",
        "def append_to_list(value, lst=None):\n",
        "    if lst is None:\n",
        "        lst = []\n",
        "    lst.append(value)\n",
        "    return lst\n",
        "\n",
        "append_to_list(1)\n",
        "append_to_list(2)"
      ],
      "metadata": {
        "colab": {
          "base_uri": "https://localhost:8080/"
        },
        "id": "FtvilzJkf13J",
        "outputId": "3cea2947-767e-40fd-95a8-a7e03dfd167f"
      },
      "execution_count": null,
      "outputs": [
        {
          "output_type": "execute_result",
          "data": {
            "text/plain": [
              "[2]"
            ]
          },
          "metadata": {},
          "execution_count": 24
        }
      ]
    },
    {
      "cell_type": "code",
      "source": [],
      "metadata": {
        "id": "jL9inOSXf3lT"
      },
      "execution_count": null,
      "outputs": []
    },
    {
      "cell_type": "code",
      "source": [],
      "metadata": {
        "id": "tHFPtPP6hb6A"
      },
      "execution_count": null,
      "outputs": []
    },
    {
      "cell_type": "code",
      "source": [],
      "metadata": {
        "colab": {
          "base_uri": "https://localhost:8080/"
        },
        "id": "2siKkygEgJS9",
        "outputId": "885a0067-9f3d-48b8-9c35-2628e91dce52"
      },
      "execution_count": null,
      "outputs": [
        {
          "output_type": "execute_result",
          "data": {
            "text/plain": [
              "[2]"
            ]
          },
          "metadata": {},
          "execution_count": 19
        }
      ]
    }
  ]
}