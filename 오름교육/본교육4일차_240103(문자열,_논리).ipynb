{
  "nbformat": 4,
  "nbformat_minor": 0,
  "metadata": {
    "colab": {
      "provenance": []
    },
    "kernelspec": {
      "name": "python3",
      "display_name": "Python 3"
    },
    "language_info": {
      "name": "python"
    }
  },
  "cells": [
    {
      "cell_type": "markdown",
      "source": [
        "# 1.문자열"
      ],
      "metadata": {
        "id": "qAnMCEi8rJVJ"
      }
    },
    {
      "cell_type": "code",
      "source": [
        "# 1.1 문자열 기초\n",
        "\n",
        "x = 'hello'\n",
        "y = \"python\""
      ],
      "metadata": {
        "id": "WjNOn37WyPNu"
      },
      "execution_count": null,
      "outputs": []
    },
    {
      "cell_type": "code",
      "source": [
        "print(x, y)"
      ],
      "metadata": {
        "colab": {
          "base_uri": "https://localhost:8080/"
        },
        "id": "N-lMFpPDybzv",
        "outputId": "60181d47-3a58-44b2-c0ea-2e4d34f965b6"
      },
      "execution_count": null,
      "outputs": [
        {
          "output_type": "stream",
          "name": "stdout",
          "text": [
            "hello python\n"
          ]
        }
      ]
    },
    {
      "cell_type": "code",
      "source": [
        "print(type(x),type(y))"
      ],
      "metadata": {
        "colab": {
          "base_uri": "https://localhost:8080/"
        },
        "id": "moOcwBEoyfEL",
        "outputId": "8d8171c4-f8b3-4ad9-9e42-f1f838d8e9e7"
      },
      "execution_count": null,
      "outputs": [
        {
          "output_type": "stream",
          "name": "stdout",
          "text": [
            "<class 'str'> <class 'str'>\n"
          ]
        }
      ]
    },
    {
      "cell_type": "code",
      "source": [
        "i = '''안녕하세요.\n",
        "저는 임빈입니다.\n",
        "이번에 처음 파이썬을 배웁니다.\n",
        "'''\n",
        "j = \"\"\"안녕하세요\n",
        "저는 임빈입니다.\n",
        "이번에 처음 파이썬을 배웁니다.\n",
        "\"\"\""
      ],
      "metadata": {
        "id": "acpBsrvyykiH"
      },
      "execution_count": null,
      "outputs": []
    },
    {
      "cell_type": "code",
      "source": [
        "i"
      ],
      "metadata": {
        "colab": {
          "base_uri": "https://localhost:8080/",
          "height": 35
        },
        "id": "stks2BRlzGJG",
        "outputId": "95490b38-b129-4e57-a44e-2c2fadb5ecc2"
      },
      "execution_count": null,
      "outputs": [
        {
          "output_type": "execute_result",
          "data": {
            "text/plain": [
              "'안녕하세요\\n저는 임빈입니다.\\n이번에 처음 파이썬을 배웁니다.\\n'"
            ],
            "application/vnd.google.colaboratory.intrinsic+json": {
              "type": "string"
            }
          },
          "metadata": {},
          "execution_count": 8
        }
      ]
    },
    {
      "cell_type": "code",
      "source": [
        "print(i)"
      ],
      "metadata": {
        "colab": {
          "base_uri": "https://localhost:8080/"
        },
        "id": "EHG7oyjky6pR",
        "outputId": "e64700d6-d6d7-4e3f-907c-eb880fd2ace2"
      },
      "execution_count": null,
      "outputs": [
        {
          "output_type": "stream",
          "name": "stdout",
          "text": [
            "안녕하세요\n",
            "저는 임빈입니다.\n",
            "이번에 처음 파이썬을 배웁니다.\n",
            "\n"
          ]
        }
      ]
    },
    {
      "cell_type": "code",
      "source": [
        "print(j)"
      ],
      "metadata": {
        "colab": {
          "base_uri": "https://localhost:8080/"
        },
        "id": "9riWA9DSy8vC",
        "outputId": "b7415265-1974-4eda-ff05-41fee08b5c40"
      },
      "execution_count": null,
      "outputs": [
        {
          "output_type": "stream",
          "name": "stdout",
          "text": [
            "안녕하세요\n",
            "저는 임빈입니다.\n",
            "이번에 처음 파이썬을 배웁니다.\n",
            "\n"
          ]
        }
      ]
    },
    {
      "cell_type": "code",
      "source": [
        "# 1.2 문자열 덧셈, 곱셈\n",
        "# 순서가 있는 시퀸스 자료형의 경우 덧셈과 곱셈이 가능하다.\n",
        "\n",
        "# 문자열 덧셈\n",
        "x = 'hello'\n",
        "y = 'world'\n",
        "print(x + y)\n",
        "\n",
        "# 문자열 곱셈\n",
        "print(x * 3)"
      ],
      "metadata": {
        "colab": {
          "base_uri": "https://localhost:8080/"
        },
        "id": "Z3p1yxMEzI8I",
        "outputId": "365d6fac-eeef-4e41-def7-a1237eaefa49"
      },
      "execution_count": null,
      "outputs": [
        {
          "output_type": "stream",
          "name": "stdout",
          "text": [
            "helloworld\n",
            "hellohellohello\n"
          ]
        }
      ]
    },
    {
      "cell_type": "code",
      "source": [
        "# 1.3 문자열 인덱싱 _0부터 시작하며, 범위 안에 있어야 가능\n",
        "    #0 1 2 3 4 5 6\n",
        "s = '위니브 월드!'\n",
        "print(s[0])  # 출력 : '위'\n",
        "print(s[6])  # 출력 : '!'\n",
        "print(s[-1]) # 출력 : '!'"
      ],
      "metadata": {
        "colab": {
          "base_uri": "https://localhost:8080/"
        },
        "id": "HdE7dDz52fIW",
        "outputId": "f967e716-0e22-49b8-e036-741acf6f2b01"
      },
      "execution_count": null,
      "outputs": [
        {
          "output_type": "stream",
          "name": "stdout",
          "text": [
            "위\n",
            "!\n",
            "!\n"
          ]
        }
      ]
    },
    {
      "cell_type": "code",
      "source": [
        "# 1.4 문자열 슬라이싱\n",
        "\n",
        "s = '위니브 월드 외각에 살고 있는 생선가게 주인 캣(cat)'\n",
        "print(s[0:6]) # stop의 -1만큼 출력\n",
        "print(s[0:15:2])"
      ],
      "metadata": {
        "colab": {
          "base_uri": "https://localhost:8080/"
        },
        "id": "02YXonoC25XJ",
        "outputId": "8c8f7361-c746-4cd6-897d-ca2ce4d8612d"
      },
      "execution_count": null,
      "outputs": [
        {
          "output_type": "stream",
          "name": "stdout",
          "text": [
            "위니브 월드\n",
            "위브월 각 고있\n"
          ]
        }
      ]
    },
    {
      "cell_type": "code",
      "source": [
        "s = 'weniv CEO licat'\n",
        "\n",
        "# 시작점~끝까지 출력\n",
        "print(s[6:]) # 출력 : CEO licat\n",
        "\n",
        "# 전체 출력\n",
        "print(s[:]) # 출력 : weniv CEO licat\n",
        "\n",
        "# 역순 출력\n",
        "print(s[::-1]) # 출력 : tacil OEC vinew\n",
        "\n",
        "# 2칸씩 출력\n",
        "print(s[::2]) # 출력 : wnvCOlct"
      ],
      "metadata": {
        "colab": {
          "base_uri": "https://localhost:8080/"
        },
        "id": "jcdTEWpz4ip0",
        "outputId": "b0200f87-4063-47e1-a31e-85679a71f8f8"
      },
      "execution_count": null,
      "outputs": [
        {
          "output_type": "stream",
          "name": "stdout",
          "text": [
            "CEO licat\n",
            "weniv CEO licat\n",
            "tacil OEC vinew\n",
            "wnvCOlct\n"
          ]
        }
      ]
    },
    {
      "cell_type": "code",
      "source": [
        "# 1.5 슬라이스 실습\n",
        "\n",
        "s = 'weniv_licat.png'\n",
        "# 출력 weniv_licatat만 나오게\n",
        "print(s[:11])\n",
        "# 출력 png만 나오게\n",
        "print(s[12:])\n",
        "print(s[-3:])"
      ],
      "metadata": {
        "colab": {
          "base_uri": "https://localhost:8080/"
        },
        "id": "7XkxC3w66VsC",
        "outputId": "8d438a00-6a56-4cc1-edf5-5731b811ec1a"
      },
      "execution_count": null,
      "outputs": [
        {
          "output_type": "stream",
          "name": "stdout",
          "text": [
            "weniv_licat\n",
            "png\n",
            "png\n"
          ]
        }
      ]
    },
    {
      "cell_type": "code",
      "source": [
        "# 1.6 슬라이스 복사_다만 id는 다르게 나옴\n",
        "s = [1, 2, 3]\n",
        "ss = s[:]\n",
        "\n",
        "print(s, ss)\n",
        "print(id(s), id(ss))"
      ],
      "metadata": {
        "colab": {
          "base_uri": "https://localhost:8080/"
        },
        "id": "DXManc_c6xKj",
        "outputId": "7767df14-547b-4512-8e05-acaaa97bffc8"
      },
      "execution_count": null,
      "outputs": [
        {
          "output_type": "stream",
          "name": "stdout",
          "text": [
            "[1, 2, 3] [1, 2, 3]\n",
            "136355946368000 136355946370560\n"
          ]
        }
      ]
    },
    {
      "cell_type": "code",
      "source": [
        "# 1.6 메서드 1: 대문자 소문자\n",
        "\n",
        "s = 'weniv CEO licat'\n",
        "print(s.lower())\n",
        "print(s.upper())"
      ],
      "metadata": {
        "id": "rTn-tQgA8ZsD",
        "colab": {
          "base_uri": "https://localhost:8080/"
        },
        "outputId": "4ae34ccf-5103-4238-bf60-a3c6e35ab1ed"
      },
      "execution_count": null,
      "outputs": [
        {
          "output_type": "stream",
          "name": "stdout",
          "text": [
            "weniv ceo licat\n",
            "WENIV CEO LICAT\n"
          ]
        }
      ]
    },
    {
      "cell_type": "code",
      "source": [
        "# 1.6 메서드 2: find / index\n",
        "\n",
        "s = 'weniv CEO licat'\n",
        "print(s.find('CEO'))\n",
        "print(s.index('CEO'))"
      ],
      "metadata": {
        "colab": {
          "base_uri": "https://localhost:8080/"
        },
        "id": "Skco1qJT89H3",
        "outputId": "362d84e4-8f5a-4cda-e478-3c2bf5398451"
      },
      "execution_count": null,
      "outputs": [
        {
          "output_type": "stream",
          "name": "stdout",
          "text": [
            "6\n",
            "6\n"
          ]
        }
      ]
    },
    {
      "cell_type": "code",
      "source": [
        "# 찾을 수 없는 것에 대하여\n",
        "print(s.find('CET')) # -1로 출력\n",
        "print(s.index('CET')) # 에러"
      ],
      "metadata": {
        "colab": {
          "base_uri": "https://localhost:8080/",
          "height": 221
        },
        "id": "UQ-Xr_pX9ZYB",
        "outputId": "eb75a91f-fcd1-4626-9f6c-7c77dd0bf3a6"
      },
      "execution_count": null,
      "outputs": [
        {
          "output_type": "stream",
          "name": "stdout",
          "text": [
            "-1\n"
          ]
        },
        {
          "output_type": "error",
          "ename": "ValueError",
          "evalue": "ignored",
          "traceback": [
            "\u001b[0;31m---------------------------------------------------------------------------\u001b[0m",
            "\u001b[0;31mValueError\u001b[0m                                Traceback (most recent call last)",
            "\u001b[0;32m<ipython-input-34-a27d51538320>\u001b[0m in \u001b[0;36m<cell line: 2>\u001b[0;34m()\u001b[0m\n\u001b[1;32m      1\u001b[0m \u001b[0mprint\u001b[0m\u001b[0;34m(\u001b[0m\u001b[0ms\u001b[0m\u001b[0;34m.\u001b[0m\u001b[0mfind\u001b[0m\u001b[0;34m(\u001b[0m\u001b[0;34m'CET'\u001b[0m\u001b[0;34m)\u001b[0m\u001b[0;34m)\u001b[0m\u001b[0;34m\u001b[0m\u001b[0;34m\u001b[0m\u001b[0m\n\u001b[0;32m----> 2\u001b[0;31m \u001b[0mprint\u001b[0m\u001b[0;34m(\u001b[0m\u001b[0ms\u001b[0m\u001b[0;34m.\u001b[0m\u001b[0mindex\u001b[0m\u001b[0;34m(\u001b[0m\u001b[0;34m'CET'\u001b[0m\u001b[0;34m)\u001b[0m\u001b[0;34m)\u001b[0m\u001b[0;34m\u001b[0m\u001b[0;34m\u001b[0m\u001b[0m\n\u001b[0m",
            "\u001b[0;31mValueError\u001b[0m: substring not found"
          ]
        }
      ]
    },
    {
      "cell_type": "code",
      "source": [
        "# 1.6 메서드 3: count 문자열이나 숫자를 셀 때 사용\n",
        "\n",
        "s = 'weniv CEO licat'\n",
        "s.count('o') # 문자열이나 숫자를 셀 때 사용\n",
        "\n",
        "# 공백\n",
        "# 대문자/소문자 구분\n",
        "# 일치만하면 다 찾아줌"
      ],
      "metadata": {
        "colab": {
          "base_uri": "https://localhost:8080/"
        },
        "id": "2x3QE5wy9elZ",
        "outputId": "52ab63e3-b455-4059-8676-1655c94ce10e"
      },
      "execution_count": null,
      "outputs": [
        {
          "output_type": "execute_result",
          "data": {
            "text/plain": [
              "0"
            ]
          },
          "metadata": {},
          "execution_count": 35
        }
      ]
    },
    {
      "cell_type": "code",
      "source": [
        "# 1.6 메서드 4: strip / excel - trim() 양쪽 공백을 제거하는 method\n",
        "# strip 함수를 너무 신뢰하지 말 것!_한번은 더 점검이 필요!\n",
        "\n",
        "s = '    weniv CEO licat     '\n",
        "s.strip() # 양쪽 공백을 제거하는 method\n",
        "\n"
      ],
      "metadata": {
        "colab": {
          "base_uri": "https://localhost:8080/",
          "height": 35
        },
        "id": "_hidf4P-96In",
        "outputId": "844944f1-361e-4949-b958-b64ae43bd5f2"
      },
      "execution_count": null,
      "outputs": [
        {
          "output_type": "execute_result",
          "data": {
            "text/plain": [
              "'weniv CEO licat'"
            ],
            "application/vnd.google.colaboratory.intrinsic+json": {
              "type": "string"
            }
          },
          "metadata": {},
          "execution_count": 36
        }
      ]
    },
    {
      "cell_type": "code",
      "source": [
        "'    ,!!  hello world   '.strip(' ,!')\n",
        "#양쪽의 공백과 ',!'을 제거해주는 method"
      ],
      "metadata": {
        "colab": {
          "base_uri": "https://localhost:8080/",
          "height": 35
        },
        "id": "A4YaNrw1-m9K",
        "outputId": "cc0744c5-b2dc-43dc-fe65-2c54b83d0a7d"
      },
      "execution_count": null,
      "outputs": [
        {
          "output_type": "execute_result",
          "data": {
            "text/plain": [
              "'hello world'"
            ],
            "application/vnd.google.colaboratory.intrinsic+json": {
              "type": "string"
            }
          },
          "metadata": {},
          "execution_count": 37
        }
      ]
    },
    {
      "cell_type": "code",
      "source": [
        "# 1.6 메서드 5: replace 원하는 문자열을 다른 문자열로 대체할 때 사용하는 method\n",
        "\n",
        "s = 'weniv CEO licat'\n",
        "print(s.replace('CEO', 'CTO')) #원하는 문자열을 다른 문자열로 대체할 때 사용하는 method\n",
        "\n",
        "# 원본은 수정되지 않고 별도의 변수를 할당시킬 수 있다.\n",
        "s = 'weniv CEO licat'\n",
        "ss = s.replace('i', 'I')\n",
        "print(ss, s) # 출력: ('weniv CEO licat', 'wenIv CEO lIcat')"
      ],
      "metadata": {
        "colab": {
          "base_uri": "https://localhost:8080/"
        },
        "id": "SxYqJA0I-ncG",
        "outputId": "98b48767-a957-40d7-aaf0-7ef6f21fd92e"
      },
      "execution_count": null,
      "outputs": [
        {
          "output_type": "stream",
          "name": "stdout",
          "text": [
            "weniv CTO licat\n",
            "wenIv CEO lIcat weniv CEO licat\n"
          ]
        }
      ]
    },
    {
      "cell_type": "code",
      "source": [
        "s = '    weniv CEO licat     '\n",
        "print(s.strip())\n",
        "print('    ,!!  hello world   '.strip(' ,!'))"
      ],
      "metadata": {
        "colab": {
          "base_uri": "https://localhost:8080/"
        },
        "id": "DU6uClto_npN",
        "outputId": "15558255-43ff-4dc5-ec90-69d5e346e07d"
      },
      "execution_count": null,
      "outputs": [
        {
          "output_type": "stream",
          "name": "stdout",
          "text": [
            "weniv CEO licat\n",
            "hello world\n"
          ]
        }
      ]
    },
    {
      "cell_type": "code",
      "source": [
        "# 1.6 메서드 6: split 문자열을 나누는 메서드\n",
        "# split은 리스트 형태로 결과가 나오게 된다.\n",
        "\n",
        "s = 'weniv CEO licat'\n",
        "print(s.split()) # 공백을 기준으로 문자열 나누기\n",
        "s = 'weniv-CEO-licat'\n",
        "print(s.split('-')) # -을 기준으로 문자열 나누기"
      ],
      "metadata": {
        "colab": {
          "base_uri": "https://localhost:8080/"
        },
        "id": "-6NwxIH3A_G4",
        "outputId": "0384e548-3b35-4eb2-f1a4-e436070ff373"
      },
      "execution_count": null,
      "outputs": [
        {
          "output_type": "stream",
          "name": "stdout",
          "text": [
            "['weniv', 'CEO', 'licat']\n",
            "['weniv', 'CEO', 'licat']\n"
          ]
        }
      ]
    },
    {
      "cell_type": "code",
      "source": [
        "# 1.6 메서드 7: join 리스트를 하나의 문자열로 합치는 메서드\n",
        "s = ['weniv', 'CEO', 'licat']\n",
        "print('-'.join(s)) # 리스트를 하나의 문자열로 합치기\n",
        "print(' '.join(s))"
      ],
      "metadata": {
        "colab": {
          "base_uri": "https://localhost:8080/"
        },
        "id": "QYiXNkJXECqP",
        "outputId": "ff367e77-cc41-4439-938e-5a4645781e51"
      },
      "execution_count": null,
      "outputs": [
        {
          "output_type": "stream",
          "name": "stdout",
          "text": [
            "weniv-CEO-licat\n",
            "weniv CEO licat\n"
          ]
        }
      ]
    },
    {
      "cell_type": "code",
      "source": [
        "# 1.6 메서드 8: format {}를 넣어 변수 사용 -> f-sting으로 사용하는게 더 편리함.\n",
        "\n",
        "name = 'licat'\n",
        "age = 29\n",
        "\n",
        "print('제 이름은 {}이고, 나이는 {}살입니다.'.format(name, age))\n",
        "print(f'제 이름은 {name}이고, 나이는 {age}살입니다.')\n",
        "\n"
      ],
      "metadata": {
        "colab": {
          "base_uri": "https://localhost:8080/"
        },
        "id": "nyUk16RhEtmz",
        "outputId": "2c5f4a7c-7b4f-4577-ac32-754fde78c482"
      },
      "execution_count": null,
      "outputs": [
        {
          "output_type": "stream",
          "name": "stdout",
          "text": [
            "제 이름은 licat이고, 나이는 29살입니다.\n",
            "제 이름은 licat이고, 나이는 29살입니다.\n"
          ]
        }
      ]
    },
    {
      "cell_type": "code",
      "source": [
        "# 1.6 메서드 9: isdigit 문자열에서 숫자로만 이루어져 있는지 확인하는 메서드\n",
        "s = '123'\n",
        "s.isdigit() # 문자열이 숫자로만 이루어져 있는지 확인하는 method"
      ],
      "metadata": {
        "colab": {
          "base_uri": "https://localhost:8080/"
        },
        "id": "_TUmQ1wHH70U",
        "outputId": "d0a02221-5336-44b7-b787-30e1c80e4a03"
      },
      "execution_count": null,
      "outputs": [
        {
          "output_type": "execute_result",
          "data": {
            "text/plain": [
              "True"
            ]
          },
          "metadata": {},
          "execution_count": 51
        }
      ]
    },
    {
      "cell_type": "code",
      "source": [
        "# 1.6 메서드 10: isalpha 문자로만 이루어져있는지 확인하는 메서드\n",
        "\n",
        "print('abcd1234'.isalpha()) # 출력: False\n",
        "print('안녕하세요'.isalpha()) # 출력: True\n",
        "print('こんにちは'.isalpha()) # 출력: True\n",
        "print('你好'.isalpha()) # 출력: True"
      ],
      "metadata": {
        "colab": {
          "base_uri": "https://localhost:8080/"
        },
        "id": "fOxoTEmeIfu0",
        "outputId": "0a6f9824-22d4-4e83-b309-32701c9ca996"
      },
      "execution_count": null,
      "outputs": [
        {
          "output_type": "stream",
          "name": "stdout",
          "text": [
            "False\n",
            "True\n",
            "True\n",
            "True\n"
          ]
        }
      ]
    },
    {
      "cell_type": "code",
      "source": [
        "# 1.6 메서드 11: rjust( )왼쪽에 채우는, ljust( )오른쪽에 채우는, center( ) 메서드는 문자열의 내용을 지정한 길이로 맞추고, 나머지 부분은 지정한 문자로 채우는 메서드\n",
        "\n",
        "s = 'licat' # 5글자 - 10글자를 채워야하면 5글자가 공백 -> -으로 채우는\n",
        "print(s.rjust(10, '-')) # 문자열을 지정한 길이로 맞추고, 왼쪽을 '-'로 채우는 method\n",
        "s = '456789-1'\n",
        "print(s.ljust(14, '*'))  # 문자열을 지정한 길이로 맞추고, 오른쪽을 '*'로 채우는 method\n",
        "s = 'licat'\n",
        "print(s.center(14, '*')) # 문자열을 지정한 길이로 맞추고, 양쪽을 '*'로 채우는 method 짝이 안맞을시 오른쪽 먼저 채운다.\n",
        "s = 'licat'\n",
        "print(s.center(3, '*')) # 지정한 길이가 원래 문자열보다 잛을 경우 기존 문자열을 출력"
      ],
      "metadata": {
        "colab": {
          "base_uri": "https://localhost:8080/"
        },
        "id": "N47sKxBnIsjF",
        "outputId": "8c6ba002-4c40-4964-b1c6-c293a256056a"
      },
      "execution_count": null,
      "outputs": [
        {
          "output_type": "stream",
          "name": "stdout",
          "text": [
            "-----licat\n",
            "456789-1******\n",
            "****licat*****\n",
            "licat\n"
          ]
        }
      ]
    },
    {
      "cell_type": "code",
      "source": [
        "# 1.6 메서드 12: zfill 주어진 길이만큼 문자열의 앞쪽을 '0'으로 채워서 반환하는 메서드\n",
        "# 숫자열\n",
        "y = \"42\"\n",
        "result = y.zfill(5)\n",
        "print(result)  # 00042\n",
        "# 문자열\n",
        "z = \"abc\"\n",
        "result = z.zfill(5)\n",
        "print(result)  # 00abc\n",
        "\n",
        "# 순차적으로 붙일 때\n",
        "filename = '1'.zfill(3)+'.jpg'\n",
        "print(filename)\n"
      ],
      "metadata": {
        "colab": {
          "base_uri": "https://localhost:8080/"
        },
        "id": "AadzsCM1JY2q",
        "outputId": "688641f1-b038-4cd5-d3d6-f1d674eebb19"
      },
      "execution_count": null,
      "outputs": [
        {
          "output_type": "stream",
          "name": "stdout",
          "text": [
            "00042\n",
            "00abc\n",
            "001.jpg\n"
          ]
        }
      ]
    },
    {
      "cell_type": "code",
      "source": [
        "# 1.6 메서드 13: translate\n",
        "\n",
        "# 변환 테이블 생성\n",
        "table = str.maketrans(\"abc\",\"123\")"
      ],
      "metadata": {
        "id": "UleQzY78NH__"
      },
      "execution_count": null,
      "outputs": []
    },
    {
      "cell_type": "code",
      "source": [
        "text = \"abcde a b c abc\"\n",
        "result = text.translate(table)\n",
        "print(result)"
      ],
      "metadata": {
        "colab": {
          "base_uri": "https://localhost:8080/"
        },
        "id": "vUmUZxrbR30Q",
        "outputId": "c16968dd-dc7b-4367-a6e5-04e1029a597b"
      },
      "execution_count": null,
      "outputs": [
        {
          "output_type": "stream",
          "name": "stdout",
          "text": [
            "123de 1 2 3 123\n"
          ]
        }
      ]
    },
    {
      "cell_type": "code",
      "source": [
        "# 1.6 메서드 14: 이스케이프\n",
        "\n",
        "print('hello\\nworld')\n",
        "print(\"hello\\tworld\")\n",
        "print(\"she said, \\\"hello world!\\\"\")\n",
        "print(\"she said, \\'hello world!\\'\")\n",
        "print(\"backslash: \\\\\")\n",
        "#print(\"Hello\\nWorld!\") # Hello와 World! 사이에 줄바꿈이 일어납니다.\n",
        "#print(\"Hello\\tWorld!\") # Hello와 World! 사이에 탭 간격이 생깁니다.\n",
        "#print(\"She said, \\\"Hello World!\\\"\") # 큰따옴표 내부에 문자열을 출력합니다.\n",
        "#print('She said, \\'Hello World!\\'') # 작은따옴표 내부에 문자열을 출력합니다.\n",
        "#print(\"Backslash: \\\\\") # 백슬래시를 출력합니다."
      ],
      "metadata": {
        "colab": {
          "base_uri": "https://localhost:8080/"
        },
        "id": "KZVjYwJkSKqF",
        "outputId": "62665d89-9755-4229-818a-724e4533d9eb"
      },
      "execution_count": null,
      "outputs": [
        {
          "output_type": "stream",
          "name": "stdout",
          "text": [
            "hello\n",
            "world\n",
            "hello\tworld\n",
            "she said, \"hello world!\"\n",
            "she said, 'hello world!'\n",
            "backslash: \\\n"
          ]
        }
      ]
    },
    {
      "cell_type": "markdown",
      "source": [
        "# 2 BOOL 논리 자료형"
      ],
      "metadata": {
        "id": "-8P8F03eT1j-"
      }
    },
    {
      "cell_type": "code",
      "source": [],
      "metadata": {
        "id": "9lxX1auvXaOR"
      },
      "execution_count": null,
      "outputs": []
    }
  ]
}