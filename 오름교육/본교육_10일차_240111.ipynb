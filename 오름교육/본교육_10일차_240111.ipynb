{
  "nbformat": 4,
  "nbformat_minor": 0,
  "metadata": {
    "colab": {
      "provenance": []
    },
    "kernelspec": {
      "name": "python3",
      "display_name": "Python 3"
    },
    "language_info": {
      "name": "python"
    }
  },
  "cells": [
    {
      "cell_type": "code",
      "execution_count": null,
      "metadata": {
        "id": "2MmNYzk610UU"
      },
      "outputs": [],
      "source": [
        "def hello():\n",
        "    '''\n",
        "    DocString\n",
        "    주석은 여기에 달기!\n",
        "    '''\n",
        "    pass"
      ]
    },
    {
      "cell_type": "code",
      "source": [
        "print(type(hello)) # 함수도 class"
      ],
      "metadata": {
        "colab": {
          "base_uri": "https://localhost:8080/"
        },
        "id": "MunAfNEx5mSJ",
        "outputId": "29e7182b-9e74-41de-b83e-afc303dec956"
      },
      "execution_count": null,
      "outputs": [
        {
          "output_type": "stream",
          "name": "stdout",
          "text": [
            "<class 'function'>\n"
          ]
        }
      ]
    },
    {
      "cell_type": "code",
      "source": [
        "a = 10\n",
        "# a는 int에 인스턴"
      ],
      "metadata": {
        "id": "4b7s_qTh5u7E"
      },
      "execution_count": null,
      "outputs": []
    },
    {
      "cell_type": "code",
      "source": [
        "l = [a, a, a]\n",
        "l[2]"
      ],
      "metadata": {
        "colab": {
          "base_uri": "https://localhost:8080/"
        },
        "id": "OyoSqN8Q6l-E",
        "outputId": "34d024ed-e3b4-4b7d-8b83-59bfc8ed08c4"
      },
      "execution_count": null,
      "outputs": [
        {
          "output_type": "execute_result",
          "data": {
            "text/plain": [
              "10"
            ]
          },
          "metadata": {},
          "execution_count": 4
        }
      ]
    },
    {
      "cell_type": "code",
      "source": [
        "# 비효율 코드\n",
        "sum(list(range(1000))) # 메모리가 많이 쓰임 -> 형태 변환이 한번 이루어짐으로\n",
        "\n",
        "# 효율적 코드\n",
        "sum(range(1000))"
      ],
      "metadata": {
        "colab": {
          "base_uri": "https://localhost:8080/"
        },
        "id": "UU_woEHmkXV1",
        "outputId": "54cbf11c-afcf-48f4-d141-be8adf3509d5"
      },
      "execution_count": null,
      "outputs": [
        {
          "output_type": "execute_result",
          "data": {
            "text/plain": [
              "499500"
            ]
          },
          "metadata": {},
          "execution_count": 54
        }
      ]
    },
    {
      "cell_type": "code",
      "source": [
        "print('hello world')# built-in fuction"
      ],
      "metadata": {
        "colab": {
          "base_uri": "https://localhost:8080/"
        },
        "id": "YbtQuS346sYc",
        "outputId": "75284c05-d43e-4d2e-f7d9-37513e58a702"
      },
      "execution_count": null,
      "outputs": [
        {
          "output_type": "stream",
          "name": "stdout",
          "text": [
            "hello world\n"
          ]
        }
      ]
    },
    {
      "cell_type": "markdown",
      "source": [
        "# 1. lambda의 응용\n",
        "\n",
        "* 같이 많이 사용하는 명령어\n",
        "1. map - lambda\n",
        "2. filter - lambda\n",
        "3. sorted - lambda"
      ],
      "metadata": {
        "id": "gaK7xMt78_Ob"
      }
    },
    {
      "cell_type": "code",
      "source": [
        "# 코드가 이해가 안된다면 이해하는 것보다 예제를 많이 만들어보는 것을 권장\n"
      ],
      "metadata": {
        "colab": {
          "base_uri": "https://localhost:8080/"
        },
        "id": "7tS1Uyrp61u9",
        "outputId": "242e68a2-8d0f-42e1-a7f4-bf4f7faec629"
      },
      "execution_count": null,
      "outputs": [
        {
          "output_type": "execute_result",
          "data": {
            "text/plain": [
              "True"
            ]
          },
          "metadata": {},
          "execution_count": 7
        }
      ]
    },
    {
      "cell_type": "markdown",
      "source": [
        "## 1.1 map - lambda"
      ],
      "metadata": {
        "id": "FFJlueQHKRW0"
      }
    },
    {
      "cell_type": "code",
      "source": [
        "# 재사용을 하기에 용이\n",
        "# 수식이 복잡했을 때 사용하기 좋음.\n",
        "def 제곱(x):\n",
        "    return x ** 2\n",
        "\n",
        "list(map(제곱, [1, 2, 3, 4]))"
      ],
      "metadata": {
        "colab": {
          "base_uri": "https://localhost:8080/"
        },
        "id": "Kk0xzdn688Cq",
        "outputId": "f00c7088-4122-4768-de53-aaba822b9d3a"
      },
      "execution_count": null,
      "outputs": [
        {
          "output_type": "execute_result",
          "data": {
            "text/plain": [
              "[1, 4, 9, 16]"
            ]
          },
          "metadata": {},
          "execution_count": 9
        }
      ]
    },
    {
      "cell_type": "code",
      "source": [
        "# 재사용 되지 않음.\n",
        "# 실무에서는 lambda가 많이 사용됨.\n",
        "# map과 쌍을 많이 이룸!\n",
        "# 수식이 복잡해지면 사용하기 힘듬.\n",
        "list(map(lambda x: x ** 2, [1, 2, 3, 4]))"
      ],
      "metadata": {
        "colab": {
          "base_uri": "https://localhost:8080/"
        },
        "id": "sC8P0iJn95Ul",
        "outputId": "dc0f8349-403e-4d8f-c294-b247660dddc1"
      },
      "execution_count": null,
      "outputs": [
        {
          "output_type": "execute_result",
          "data": {
            "text/plain": [
              "[1, 4, 9, 16]"
            ]
          },
          "metadata": {},
          "execution_count": 10
        }
      ]
    },
    {
      "cell_type": "code",
      "source": [
        "# lambda + 3항 연산자를 많이 사용\n",
        "x = 10\n",
        "y = True if x % 2 == 0 else False\n",
        "\n",
        "y"
      ],
      "metadata": {
        "colab": {
          "base_uri": "https://localhost:8080/"
        },
        "id": "9nn-lzLW8sQv",
        "outputId": "3d7413ba-8957-462d-f641-999c19676e5f"
      },
      "execution_count": null,
      "outputs": [
        {
          "output_type": "execute_result",
          "data": {
            "text/plain": [
              "True"
            ]
          },
          "metadata": {},
          "execution_count": 8
        }
      ]
    },
    {
      "cell_type": "code",
      "source": [
        "# lambda + 3항 연산자\n",
        "list(map(lambda x: True if x ** 2 == 0 else False, [1, 2, 3, 4])) # 마스킹, 필터링"
      ],
      "metadata": {
        "colab": {
          "base_uri": "https://localhost:8080/"
        },
        "id": "b22fibyx-Bbe",
        "outputId": "c4144c67-5eaa-4aec-e219-41ce646de8b6"
      },
      "execution_count": null,
      "outputs": [
        {
          "output_type": "execute_result",
          "data": {
            "text/plain": [
              "[False, False, False, False]"
            ]
          },
          "metadata": {},
          "execution_count": 11
        }
      ]
    },
    {
      "cell_type": "code",
      "source": [
        "# 마스킹 사용의 효율성\n",
        "# 알고리즘 문제에서\n",
        "# [True, False,, False, False, True]"
      ],
      "metadata": {
        "id": "1tLniB-b_Cam"
      },
      "execution_count": null,
      "outputs": []
    },
    {
      "cell_type": "code",
      "source": [
        "# 마스킹의 예\n",
        "# 에라토스테네스의 체(마스킹의 효율성) => 소수 찾기"
      ],
      "metadata": {
        "id": "SZfHe8ipDdI-"
      },
      "execution_count": null,
      "outputs": []
    },
    {
      "cell_type": "code",
      "source": [
        "# 마스킹을 사용하지 않았을 때의 식\n",
        "for i in range(2, 31):\n",
        "    if 101 % i == 0:\n",
        "        print('소수아님!')\n",
        "        break\n",
        "else: # else 대신 then으로 하자라는 논의가 활발했습니다. => 그러나 else가 이겼습니다.\n",
        "    print('소수임')"
      ],
      "metadata": {
        "colab": {
          "base_uri": "https://localhost:8080/"
        },
        "id": "iQ0VVTZEEy4J",
        "outputId": "85e1e3a0-2b03-4858-e3c0-a867fa91fec0"
      },
      "execution_count": null,
      "outputs": [
        {
          "output_type": "stream",
          "name": "stdout",
          "text": [
            "소수임\n"
          ]
        }
      ]
    },
    {
      "cell_type": "markdown",
      "source": [
        "## 1.2 lambda - filter"
      ],
      "metadata": {
        "id": "ZhAX64lXKMe8"
      }
    },
    {
      "cell_type": "code",
      "source": [
        "# lambda - filter\n",
        "# list(filter(lambda x: x % 2 == 0, range(100))) # 2배수만 출력\n",
        "list(filter(lambda x: x % 2, range(100))) # 홀수 출력\n",
        "\n",
        "# [0, 1, 2, 3, 4, 5, 6, 7, 8, 9]\n",
        "# x == 0일때 => lambda x: x % 2 => 0 => False 로 평가\n",
        "# x == 1일때 => lambda x: x % 2 => 1 => True 로 평가\n",
        "# x == 2일때 => lambda x: x % 2 => 0\n",
        "# x == 3일때 => lambda x: x % 2 => 1\n",
        "# x == 4일때 => lambda x: x % 2 => 0\n",
        "# x == 5일때 => lambda x: x % 2 => 1\n",
        "# x == 6일때 => lambda x: x % 2 => 0"
      ],
      "metadata": {
        "colab": {
          "base_uri": "https://localhost:8080/"
        },
        "id": "gx2Eo-l9E51B",
        "outputId": "bab09693-04d5-4ec4-c722-55327c82532b"
      },
      "execution_count": null,
      "outputs": [
        {
          "output_type": "execute_result",
          "data": {
            "text/plain": [
              "[1,\n",
              " 3,\n",
              " 5,\n",
              " 7,\n",
              " 9,\n",
              " 11,\n",
              " 13,\n",
              " 15,\n",
              " 17,\n",
              " 19,\n",
              " 21,\n",
              " 23,\n",
              " 25,\n",
              " 27,\n",
              " 29,\n",
              " 31,\n",
              " 33,\n",
              " 35,\n",
              " 37,\n",
              " 39,\n",
              " 41,\n",
              " 43,\n",
              " 45,\n",
              " 47,\n",
              " 49,\n",
              " 51,\n",
              " 53,\n",
              " 55,\n",
              " 57,\n",
              " 59,\n",
              " 61,\n",
              " 63,\n",
              " 65,\n",
              " 67,\n",
              " 69,\n",
              " 71,\n",
              " 73,\n",
              " 75,\n",
              " 77,\n",
              " 79,\n",
              " 81,\n",
              " 83,\n",
              " 85,\n",
              " 87,\n",
              " 89,\n",
              " 91,\n",
              " 93,\n",
              " 95,\n",
              " 97,\n",
              " 99]"
            ]
          },
          "metadata": {},
          "execution_count": 17
        }
      ]
    },
    {
      "cell_type": "code",
      "source": [
        "list(filter(lambda x: True if x % 3 == 0 or x % 5 == 0 else False, range(100)))"
      ],
      "metadata": {
        "colab": {
          "base_uri": "https://localhost:8080/"
        },
        "id": "omOLo0NmFuoX",
        "outputId": "28654845-e00e-48a8-fd7e-59dd4556f1ff"
      },
      "execution_count": null,
      "outputs": [
        {
          "output_type": "execute_result",
          "data": {
            "text/plain": [
              "[0,\n",
              " 3,\n",
              " 5,\n",
              " 6,\n",
              " 9,\n",
              " 10,\n",
              " 12,\n",
              " 15,\n",
              " 18,\n",
              " 20,\n",
              " 21,\n",
              " 24,\n",
              " 25,\n",
              " 27,\n",
              " 30,\n",
              " 33,\n",
              " 35,\n",
              " 36,\n",
              " 39,\n",
              " 40,\n",
              " 42,\n",
              " 45,\n",
              " 48,\n",
              " 50,\n",
              " 51,\n",
              " 54,\n",
              " 55,\n",
              " 57,\n",
              " 60,\n",
              " 63,\n",
              " 65,\n",
              " 66,\n",
              " 69,\n",
              " 70,\n",
              " 72,\n",
              " 75,\n",
              " 78,\n",
              " 80,\n",
              " 81,\n",
              " 84,\n",
              " 85,\n",
              " 87,\n",
              " 90,\n",
              " 93,\n",
              " 95,\n",
              " 96,\n",
              " 99]"
            ]
          },
          "metadata": {},
          "execution_count": 15
        }
      ]
    },
    {
      "cell_type": "code",
      "source": [
        "test = lambda i : i % 2 == 0\n",
        "[test(i) for i in range(10)]"
      ],
      "metadata": {
        "colab": {
          "base_uri": "https://localhost:8080/"
        },
        "id": "TD2OZo_dKhqd",
        "outputId": "68bb2f73-b257-4c5a-ac4c-fbe3d87f9779"
      },
      "execution_count": null,
      "outputs": [
        {
          "output_type": "execute_result",
          "data": {
            "text/plain": [
              "[True, False, True, False, True, False, True, False, True, False]"
            ]
          },
          "metadata": {},
          "execution_count": 21
        }
      ]
    },
    {
      "cell_type": "markdown",
      "source": [
        "## 1.3 sorted - lambda"
      ],
      "metadata": {
        "id": "0TXXOZhKKH_S"
      }
    },
    {
      "cell_type": "code",
      "source": [
        "sorted([1, 2, 3, 4, 5])\n",
        "# 왜 sorted만 자료형으로 주나요?\n",
        "# reversed나 map, filter나 이런건 모두 메모리 주소를 가리키는데!?\n",
        "# 정답: (추후에 심화 과정에서 강의합니다.) 메모리의 효율성 때문입니다.\n",
        "# sorted만 비효율을 감수하고 사용자가 보기 편한 자료형으로 반환합니다."
      ],
      "metadata": {
        "colab": {
          "base_uri": "https://localhost:8080/"
        },
        "id": "1baYN6Fmk9sX",
        "outputId": "40e0a55f-f1b5-49cc-fc4d-e4f47505f79c"
      },
      "execution_count": null,
      "outputs": [
        {
          "output_type": "execute_result",
          "data": {
            "text/plain": [
              "[1, 2, 3, 4, 5]"
            ]
          },
          "metadata": {},
          "execution_count": 56
        }
      ]
    },
    {
      "cell_type": "code",
      "source": [
        "# sorted - lambda\n",
        "l = [10, 20, 5, 4, 22, 32, 5, 9, 11]\n",
        "l.sort() # sort는 원본을 변경시킴 -> 많이 사용하지 않음,\n",
        "l"
      ],
      "metadata": {
        "colab": {
          "base_uri": "https://localhost:8080/"
        },
        "id": "WOc9AsZXG97X",
        "outputId": "0fe2086b-f319-4e0e-a20d-4a4bf3f6316f"
      },
      "execution_count": null,
      "outputs": [
        {
          "output_type": "execute_result",
          "data": {
            "text/plain": [
              "[4, 5, 5, 9, 10, 11, 20, 22, 32]"
            ]
          },
          "metadata": {},
          "execution_count": 18
        }
      ]
    },
    {
      "cell_type": "code",
      "source": [
        "l = [10, 20, 5, 4, 22, 32, 5, 9, 11]\n",
        "print(sorted(l)) # 원본을 변경시키지 않음. -> 많이 사용됨.\n",
        "l"
      ],
      "metadata": {
        "colab": {
          "base_uri": "https://localhost:8080/"
        },
        "id": "PcOC4mwVI66T",
        "outputId": "e3cca06a-e245-4a44-e9ed-23a00756a931"
      },
      "execution_count": null,
      "outputs": [
        {
          "output_type": "stream",
          "name": "stdout",
          "text": [
            "[4, 5, 5, 9, 10, 11, 20, 22, 32]\n"
          ]
        },
        {
          "output_type": "execute_result",
          "data": {
            "text/plain": [
              "[10, 20, 5, 4, 22, 32, 5, 9, 11]"
            ]
          },
          "metadata": {},
          "execution_count": 20
        }
      ]
    },
    {
      "cell_type": "code",
      "source": [
        "sorted() # key, reverse 옵션을 많이 사용\n",
        "# 알고리즘 문제에서 단골로 나옴\n",
        "# 최댓값, 최솟값"
      ],
      "metadata": {
        "id": "jZQZLe-RJBHR"
      },
      "execution_count": null,
      "outputs": []
    },
    {
      "cell_type": "code",
      "source": [
        "# 아래와 같은 형식으로 반별 점수가 주어진다.\n",
        "\n",
        "반별점수 = [\n",
        "    ['이름', '국어', '영어', '수학'],\n",
        "    ['이름', '국어', '영어', '수학'],\n",
        "    ['이름', '국어', '영어', '수학'],\n",
        "    ['이름', '국어', '영어', '수학'],\n",
        "]"
      ],
      "metadata": {
        "id": "px3-FrRNLHCX"
      },
      "execution_count": null,
      "outputs": []
    },
    {
      "cell_type": "code",
      "source": [
        "반별점수 = [\n",
        "    ['승은', 30, 46, 80],\n",
        "    ['주원', 50, 90, 60],\n",
        "    ['승우', 35, 80, 73],\n",
        "    ['승엽', 90, 50, 35],\n",
        "]"
      ],
      "metadata": {
        "id": "NDwglvfBLiYK"
      },
      "execution_count": null,
      "outputs": []
    },
    {
      "cell_type": "code",
      "source": [
        "sorted(반별점수) # 값이나 0번째 값 기준으로 정렬\n",
        "# 한글, 알파벳 순일 경우 유니코드표 순서 대로 정렬"
      ],
      "metadata": {
        "colab": {
          "base_uri": "https://localhost:8080/"
        },
        "id": "-wFQpkdGMAAM",
        "outputId": "52a52f09-0de3-48cc-e2a8-a9aa05fa8a02"
      },
      "execution_count": null,
      "outputs": [
        {
          "output_type": "execute_result",
          "data": {
            "text/plain": [
              "[['승엽', 90, 50, 35],\n",
              " ['승우', 35, 80, 73],\n",
              " ['승은', 30, 46, 80],\n",
              " ['주원', 50, 90, 60]]"
            ]
          },
          "metadata": {},
          "execution_count": 23
        }
      ]
    },
    {
      "cell_type": "code",
      "source": [
        "def 함수(x):\n",
        "    return x[3]\n",
        "\n",
        "sorted(반별점수, key=함수) # key함수의 return값대로 정렬한다.\n",
        "\n",
        "'''\n",
        "[['승엽', 90, 50, 35], => 35\n",
        " ['주원', 50, 90, 60], => 60\n",
        " ['승우', 35, 80, 73], => 73\n",
        " ['승은', 30, 46, 80]] => 80\n",
        "'''"
      ],
      "metadata": {
        "colab": {
          "base_uri": "https://localhost:8080/"
        },
        "id": "QFB0bRo9MIoE",
        "outputId": "804fad19-fa38-4dd9-e77e-4e0dafd6352d"
      },
      "execution_count": null,
      "outputs": [
        {
          "output_type": "execute_result",
          "data": {
            "text/plain": [
              "[['승엽', 90, 50, 35],\n",
              " ['주원', 50, 90, 60],\n",
              " ['승우', 35, 80, 73],\n",
              " ['승은', 30, 46, 80]]"
            ]
          },
          "metadata": {},
          "execution_count": 24
        }
      ]
    },
    {
      "cell_type": "code",
      "source": [
        "# 문제: 영어 점수대로 출력해주세요\n",
        "sorted(반별점수, key= lambda x: x[2])"
      ],
      "metadata": {
        "colab": {
          "base_uri": "https://localhost:8080/"
        },
        "id": "zpzyceeFMfvP",
        "outputId": "84cb2e8f-931e-4a0d-a41a-147ab64839de"
      },
      "execution_count": null,
      "outputs": [
        {
          "output_type": "execute_result",
          "data": {
            "text/plain": [
              "[['승은', 30, 46, 80],\n",
              " ['승엽', 90, 50, 35],\n",
              " ['승우', 35, 80, 73],\n",
              " ['주원', 50, 90, 60]]"
            ]
          },
          "metadata": {},
          "execution_count": 25
        }
      ]
    },
    {
      "cell_type": "code",
      "source": [
        "# 문제: 국, 영, 수 평균 점수 대로 출력해주세요\n",
        "sorted(반별점수, key= lambda x: sum(x[1:]), reverse=True)\n",
        "# 내림차순으로 정렬, 높은 점수가 앞으로"
      ],
      "metadata": {
        "colab": {
          "base_uri": "https://localhost:8080/"
        },
        "id": "KBA9NA69NjuS",
        "outputId": "a7f1ad8a-325b-4737-a0f1-b18b3e231f9e"
      },
      "execution_count": null,
      "outputs": [
        {
          "output_type": "execute_result",
          "data": {
            "text/plain": [
              "[['주원', 50, 90, 60],\n",
              " ['승우', 35, 80, 73],\n",
              " ['승엽', 90, 50, 35],\n",
              " ['승은', 30, 46, 80]]"
            ]
          },
          "metadata": {},
          "execution_count": 27
        }
      ]
    },
    {
      "cell_type": "code",
      "source": [
        "# 문제: 동점자인 경우 수학점수를 우선순위로\n",
        "반별점수2 = [\n",
        "    ['승은', 50, 50, 50],\n",
        "    ['주원', 45, 50, 55],\n",
        "    ['승우', 60, 35, 95],\n",
        "    ['승엽', 50, 40, 60],\n",
        "]\n",
        "# sorted(반별점수2, key= lambda x: (x[1] + x[2] + x[3]), reverse=True )\n",
        "'''\n",
        "출력\n",
        "[['승우', 60, 35, 95],\n",
        " ['승은', 50, 50, 50],\n",
        " ['주원', 45, 50, 55],\n",
        " ['승엽', 50, 40, 60]]\n",
        "'''\n",
        "# 평균이 같을 때 수학점수가 높은 순\n",
        "sorted(반별점수, key= lambda x: (x[1] + x[2] + x[3], x[3]), reverse=True )\n",
        "'''\n",
        "출력\n",
        "[['승우', 60, 35, 95],\n",
        " ['승엽', 50, 40, 60],\n",
        " ['주원', 45, 50, 55],\n",
        " ['승은', 50, 50, 50]]\n",
        " '''"
      ],
      "metadata": {
        "colab": {
          "base_uri": "https://localhost:8080/"
        },
        "id": "8Z8_m07TRj8m",
        "outputId": "87c625f1-d580-43c7-ff5d-3a0dc9338f98"
      },
      "execution_count": null,
      "outputs": [
        {
          "output_type": "execute_result",
          "data": {
            "text/plain": [
              "[['승우', 60, 35, 95],\n",
              " ['승엽', 50, 40, 60],\n",
              " ['주원', 45, 50, 55],\n",
              " ['승은', 50, 50, 50]]"
            ]
          },
          "metadata": {},
          "execution_count": 42
        }
      ]
    },
    {
      "cell_type": "code",
      "source": [
        "우편번호 = [\n",
        "    {\n",
        "        '주소': '경기도 용인시',\n",
        "        '우편번호': 321\n",
        "    },\n",
        "    {\n",
        "        '주소': '경기도 수원시',\n",
        "        '우편번호': 355\n",
        "    },\n",
        "    {\n",
        "        '주소': '제주특별자치도 제주시',\n",
        "        '우편번호': 333\n",
        "    }\n",
        "]\n",
        "\n",
        "# sorted(우편번호) #error, 비교를 할 수 없다!?\n",
        "sorted(우편번호, key=lambda x: x['우편번호'])\n",
        "\n",
        "# 우편번호 = [\n",
        "#     {\n",
        "#         '주소': '경기도 용인시',\n",
        "#         '우편번호': 321\n",
        "#     }, => 321\n",
        "#     {\n",
        "#         '주소': '경기도 수원시',\n",
        "#         '우편번호': 355\n",
        "#     }, => 355\n",
        "#     {\n",
        "#         '주소': '제주특별자치도 제주시',\n",
        "#         '우편번호': 333\n",
        "#     } => 333\n",
        "# ]"
      ],
      "metadata": {
        "colab": {
          "base_uri": "https://localhost:8080/"
        },
        "id": "Y3oICK7vTZIT",
        "outputId": "a1318cbd-1959-4976-8e78-1c96366e7625"
      },
      "execution_count": null,
      "outputs": [
        {
          "output_type": "execute_result",
          "data": {
            "text/plain": [
              "[{'주소': '경기도 용인시', '우편번호': 321},\n",
              " {'주소': '제주특별자치도 제주시', '우편번호': 333},\n",
              " {'주소': '경기도 수원시', '우편번호': 355}]"
            ]
          },
          "metadata": {},
          "execution_count": 39
        }
      ]
    },
    {
      "cell_type": "code",
      "source": [
        "# 직선에 있는 점의 좌표입니다.\n",
        "# 점과 점 사이가 가장 짧은 점의 쌍을 출력하세요\n",
        "\n",
        "# 입력값 : s = [1, 3, 4, 8, 13, 17, 20]\n",
        "\n",
        "s = [1, 3, 4, 8, 13, 17, 20]\n",
        "\n",
        "# zip과 슬라이싱으로 묶기\n",
        "x = list(zip(s, s[1:]))\n",
        "\n",
        "# sorted로 오름차순으로 정렬\n",
        "sorted(x, key= lambda x: x[1] - x[0])\n",
        "\n",
        "# 가장 앞에 인덱스 출력하기\n",
        "sorted(x, key= lambda x: x[1] - x[0])[0]"
      ],
      "metadata": {
        "colab": {
          "base_uri": "https://localhost:8080/"
        },
        "id": "0IFY05aQU9gu",
        "outputId": "a184d0cd-dca5-4588-c209-22a6bbd709fd"
      },
      "execution_count": null,
      "outputs": [
        {
          "output_type": "execute_result",
          "data": {
            "text/plain": [
              "(3, 4)"
            ]
          },
          "metadata": {},
          "execution_count": 48
        }
      ]
    },
    {
      "cell_type": "code",
      "source": [
        "# zip에 순서 만드는 방법 1_많이 사용함,\n",
        "# 아직 제너레이터를 배우지 않았음.\n",
        "# 제너레이터 생성\n",
        "def gen():\n",
        "    i = 1\n",
        "    while True:\n",
        "        yield i\n",
        "        i += 1\n",
        "# zip 만들기\n",
        "list(zip(gen(), 'hallo', 'world'))"
      ],
      "metadata": {
        "colab": {
          "base_uri": "https://localhost:8080/"
        },
        "id": "pgYnLUULWOb0",
        "outputId": "02150b6d-246a-48c7-d2c8-c202cb5cdd4b"
      },
      "execution_count": null,
      "outputs": [
        {
          "output_type": "execute_result",
          "data": {
            "text/plain": [
              "[(1, 'h', 'w'), (2, 'a', 'o'), (3, 'l', 'r'), (4, 'l', 'l'), (5, 'o', 'd')]"
            ]
          },
          "metadata": {},
          "execution_count": 46
        }
      ]
    },
    {
      "cell_type": "code",
      "source": [
        "# zip에 순서 만드는 방법 2\n",
        "list(enumerate(zip('hallo', 'world')))"
      ],
      "metadata": {
        "colab": {
          "base_uri": "https://localhost:8080/"
        },
        "id": "5_m88UxUWhV0",
        "outputId": "3abee55d-e524-48f9-d88a-c4411b547eac"
      },
      "execution_count": null,
      "outputs": [
        {
          "output_type": "execute_result",
          "data": {
            "text/plain": [
              "[(0, ('h', 'w')),\n",
              " (1, ('a', 'o')),\n",
              " (2, ('l', 'r')),\n",
              " (3, ('l', 'l')),\n",
              " (4, ('o', 'd'))]"
            ]
          },
          "metadata": {},
          "execution_count": 45
        }
      ]
    },
    {
      "cell_type": "code",
      "source": [
        "values = ['A', 'B', 'C', 'D']\n",
        "print(list(enumerate(values)))\n",
        "print(list(enumerate(values, 1))) # 시작값 넣는 것 많이 사용합니다. 기억해두세요."
      ],
      "metadata": {
        "colab": {
          "base_uri": "https://localhost:8080/"
        },
        "id": "2qTv_Evfk4HN",
        "outputId": "e8082337-44b7-4a4c-f489-519d5cbe0d5a"
      },
      "execution_count": null,
      "outputs": [
        {
          "output_type": "stream",
          "name": "stdout",
          "text": [
            "[(0, 'A'), (1, 'B'), (2, 'C'), (3, 'D')]\n",
            "[(1, 'A'), (2, 'B'), (3, 'C'), (4, 'D')]\n"
          ]
        }
      ]
    },
    {
      "cell_type": "markdown",
      "source": [
        "# 2. built-in function에서 많이 사용하는 것\n",
        "\n",
        "* map\n",
        "* filter\n",
        "* zip\n",
        "* format\n",
        "* len\n",
        "* sum\n",
        "* all / any\n",
        "* chr(유니코드) / ord\n"
      ],
      "metadata": {
        "id": "_N3CZXdSWwzb"
      }
    },
    {
      "cell_type": "code",
      "source": [
        "# 실제 Django에서 사용하는 코드\n",
        "\n",
        "class Notice:\n",
        "    '''\n",
        "    게시물 클래스\n",
        "    '''\n",
        "    def __init__(self, title, contents):\n",
        "        self.title = title\n",
        "        self.contents = contents\n",
        "\n",
        "    def __str__(self):\n",
        "        return self.title\n",
        "\n",
        "    def __repr__(self):\n",
        "        '''\n",
        "        repr이라는 값은 정해져있는 이름!\n",
        "        __는 호출할 수 있는 값에만 붙어 있음.\n",
        "        '''\n",
        "        return f'{self.title}, {self.contents}'\n",
        "\n",
        "    def __len__(self):\n",
        "        return len(self.title + self.contents)\n",
        "\n",
        "게시물1 = Notice('파이썬 이렇게 어려운줄 몰랐다!', '내가 알던 파이썬이 아니야....')\n",
        "게시물2 = Notice('Django는 이렇게 재미있을 줄 몰랐다!', '파이썬을 잘 못해서 내가 할 수 있을까 생각이 들었는데...')\n",
        "len"
      ],
      "metadata": {
        "colab": {
          "base_uri": "https://localhost:8080/"
        },
        "id": "mn5emXknaAuM",
        "outputId": "69ca6676-1e95-4f9d-fa49-4a264538acf5"
      },
      "execution_count": null,
      "outputs": [
        {
          "output_type": "execute_result",
          "data": {
            "text/plain": [
              "<function len(obj, /)>"
            ]
          },
          "metadata": {},
          "execution_count": 52
        }
      ]
    },
    {
      "cell_type": "code",
      "source": [
        "print(게시물1) # 로그로 출력할 때\n",
        "repr(게시물1)"
      ],
      "metadata": {
        "colab": {
          "base_uri": "https://localhost:8080/",
          "height": 54
        },
        "id": "THDyYge3gkX9",
        "outputId": "db928e26-f508-4351-fa5e-63da5cd5fdcf"
      },
      "execution_count": null,
      "outputs": [
        {
          "output_type": "stream",
          "name": "stdout",
          "text": [
            "파이썬 이렇게 어려운줄 몰랐다!\n"
          ]
        },
        {
          "output_type": "execute_result",
          "data": {
            "text/plain": [
              "'파이썬 이렇게 어려운줄 몰랐다!, 내가 알던 파이썬이 아니야....'"
            ],
            "application/vnd.google.colaboratory.intrinsic+json": {
              "type": "string"
            }
          },
          "metadata": {},
          "execution_count": 51
        }
      ]
    },
    {
      "cell_type": "markdown",
      "source": [
        "# 3. match\n",
        "\n",
        "* 3.10버전이기 때문에 현업에서 거의 사용 못함.\n",
        "* 예를 들어 속도가 매우 빨라야 하는 프로젝트를 했을 때\n",
        "* 모두가 최신버전일때 사용할 수 있음.(버전 다운하면 실행 안됨)\n",
        "\n"
      ],
      "metadata": {
        "id": "483BxNbogvbH"
      }
    },
    {
      "cell_type": "code",
      "source": [
        "요일 = 3\n",
        "match 요일:\n",
        "    case 0:\n",
        "        print('일요일')\n",
        "    case 1:\n",
        "        print('월요일')\n",
        "    case 2:\n",
        "        print('화요일')\n",
        "    case 3:\n",
        "        print('수요일')\n",
        "    case 4:\n",
        "        print('목요일')\n",
        "    case 5:\n",
        "        print('금요일')\n",
        "    case 6:\n",
        "        print('토요일')\n",
        "    case _:\n",
        "        print('요일 없음')\n",
        "# 빠져나올때 break가 없어도 됨."
      ],
      "metadata": {
        "colab": {
          "base_uri": "https://localhost:8080/"
        },
        "id": "p0qv3NMLm4Be",
        "outputId": "3b3b60d4-6d5c-4f51-987f-5075f369ec39"
      },
      "execution_count": null,
      "outputs": [
        {
          "output_type": "stream",
          "name": "stdout",
          "text": [
            "수요일\n"
          ]
        }
      ]
    },
    {
      "cell_type": "code",
      "source": [
        "'''\n",
        "요일 = 3\n",
        "match 요일:\n",
        "    case 0:\n",
        "        print('일요일')\n",
        "        break          # 없어도 됨.\n",
        "    case 1:\n",
        "        print('월요일')\n",
        "    case 2:\n",
        "        print('화요일')\n",
        "    case 3:            # case 3와 4를 같이 명시 할 수 없음 -> 다른 문법에선 가능함.\n",
        "    case 4:\n",
        "        print('목요일')\n",
        "    case 5:\n",
        "        print('금요일')\n",
        "    case 6:\n",
        "        print('토요일')\n",
        "'''"
      ],
      "metadata": {
        "id": "57YVk3Apn4Cy"
      },
      "execution_count": null,
      "outputs": []
    },
    {
      "cell_type": "code",
      "source": [
        "# match없는 실무에서 많이쓰는 코드\n",
        "def 요일반환(요일):\n",
        "    return{\n",
        "        0: '일요일',\n",
        "        1: '월요일',\n",
        "        2: '화요일',\n",
        "        3: '수요일',\n",
        "    }.get(요일, '요일없음')\n",
        "\n",
        "요일반환(2)\n",
        "요일반환(100)"
      ],
      "metadata": {
        "colab": {
          "base_uri": "https://localhost:8080/",
          "height": 35
        },
        "id": "Q77uJVlIokc4",
        "outputId": "20851e48-c9d8-46e1-9d59-29e663c2d66a"
      },
      "execution_count": null,
      "outputs": [
        {
          "output_type": "execute_result",
          "data": {
            "text/plain": [
              "'요일없음'"
            ],
            "application/vnd.google.colaboratory.intrinsic+json": {
              "type": "string"
            }
          },
          "metadata": {},
          "execution_count": 62
        }
      ]
    },
    {
      "cell_type": "code",
      "source": [
        "# match 예시\n",
        "text = '1'\n",
        "match text:\n",
        "    case '1' | '2':\n",
        "        print('1, 2')\n",
        "    case _:\n",
        "        print('No Match')"
      ],
      "metadata": {
        "colab": {
          "base_uri": "https://localhost:8080/"
        },
        "id": "rO8sQNIYoiUe",
        "outputId": "4f099ab0-986e-4abb-ec97-4d33fd12db30"
      },
      "execution_count": null,
      "outputs": [
        {
          "output_type": "stream",
          "name": "stdout",
          "text": [
            "1, 2\n"
          ]
        }
      ]
    }
  ]
}