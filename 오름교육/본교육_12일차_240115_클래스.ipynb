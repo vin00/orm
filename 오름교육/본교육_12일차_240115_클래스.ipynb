{
  "nbformat": 4,
  "nbformat_minor": 0,
  "metadata": {
    "colab": {
      "provenance": []
    },
    "kernelspec": {
      "name": "python3",
      "display_name": "Python 3"
    },
    "language_info": {
      "name": "python"
    }
  },
  "cells": [
    {
      "cell_type": "markdown",
      "source": [
        "# class 3번째 시간\n",
        "\n",
        "* class 클래스이름 => 인스턴스\n",
        "* class Post => 게시물1, 게시물2, 게시물3...\n",
        "* class Dot => 점1, 점2, 점3...\n",
        "* class Character => Licat(주인공), Lion(빌런), Mob1(몬스터)\n",
        "* class Matrix => 행렬1, 행렬2, 행렬3...\n",
        "* class User => 유저1, 유저2, 유저3...\n",
        "* class Cart(장바구니) => Cart1, Cart2, Cart3...\n",
        "* class Commnet(댓글) => 댓글1, 댓글2, 댓글3...\n",
        "* class Product => 상품1, 상품2, 상품3...\n",
        "* class Class_ => 강의1, 강의2, 강의3...\n",
        "* class Teacher => 강사1, 강사2, 강사3..."
      ],
      "metadata": {
        "id": "4HUHTg3TgHlz"
      }
    },
    {
      "cell_type": "code",
      "source": [
        "from datetime import datetime\n",
        "\n",
        "datetime.now()\n",
        "datetime.now().date()\n",
        "datetime.now().year\n",
        "datetime.now().month\n",
        "datetime.now().day\n",
        "datetime.now().hour\n",
        "datetime.now().minute\n",
        "\n",
        "d = datetime.now()\n",
        "print(f'{d.year}/{d.month}/{d.day}') # 가볍게 사용하긴 좋지만, 날짜나 시간은 타입이 따로 있음.\n",
        "\n",
        "d.strftime('올해 연도는 %Y!!')\n",
        "d.strftime('%y/%m/%d')\n",
        "d.strftime('%Y/%m/%d') #가장 많이 사용하는 date format, 하나만 기억해야 한다면 이것을 기억해주세요!"
      ],
      "metadata": {
        "colab": {
          "base_uri": "https://localhost:8080/",
          "height": 54
        },
        "id": "GIJuLyqmgOtR",
        "outputId": "a914945f-2696-417a-dcc1-d5897a123472"
      },
      "execution_count": null,
      "outputs": [
        {
          "output_type": "stream",
          "name": "stdout",
          "text": [
            "2024/1/15\n"
          ]
        },
        {
          "output_type": "execute_result",
          "data": {
            "text/plain": [
              "'2024/01/15'"
            ],
            "application/vnd.google.colaboratory.intrinsic+json": {
              "type": "string"
            }
          },
          "metadata": {},
          "execution_count": 7
        }
      ]
    },
    {
      "cell_type": "code",
      "source": [
        "class User:\n",
        "    user_count = 0\n",
        "    gender = ('남', '여')\n",
        "\n",
        "    def __init__(self, name, joindate, gender, age, email, password):\n",
        "        self.joindate = joindate\n",
        "        self.accessdate = joindate\n",
        "        self.name = name\n",
        "        self.gender = gender\n",
        "        self.age = age\n",
        "        self.email = email\n",
        "        self.password = password #password의 경우 그대로 넣으면 오류가 나는 경우가 많음.\n",
        "        # 암호화로 넣어야 하며 sha256라는 알고리즘 암호화를 사용하여 별도의 코드로 사용\n",
        "\n",
        "    def display_profile(self):\n",
        "        print(f'name: {self.name}')\n",
        "        print(f'joindate: {self.joindate}')\n",
        "        print(f'accessdate: {self.accessdate}')\n",
        "\n",
        "user1 = User('임빈', '2024/01/15', '남', 33, 'vinpage@gmail.com', '1q2w3e4r!')\n",
        "user1.name\n",
        "user1.accessdate\n",
        "\n",
        "User.user_count = 1\n",
        "user2 = User('한창균', '2024/01/15', '남', 35, 'han001@naver.com', 'p0o9i8@@')\n",
        "user2.name\n",
        "user2.accessdate\n",
        "\n",
        "user1.user_count\n",
        "\n",
        "print(user1.display_profile)\n",
        "\n",
        "# 무엇을 알 수 있나요? 실제로 class와 인스턴스의 메모리 영역은 교집합 상태\n",
        "# 한 곳에서 수정이 되면 모두 수정이 됩니다!\n",
        "# 그래서 처음에 클래스를 설계하실 때 모든 인스턴스에 있을 변수(클래스 변수)와\n",
        "# 인스턴스에만 있는 변수(인스턴스 변수)를 나누는 것이 매우 중요합니다!"
      ],
      "metadata": {
        "colab": {
          "base_uri": "https://localhost:8080/"
        },
        "id": "3cuiHuT3giL_",
        "outputId": "9f5f0dd7-a373-45d3-ca25-1d3dd62b723d"
      },
      "execution_count": null,
      "outputs": [
        {
          "output_type": "stream",
          "name": "stdout",
          "text": [
            "<bound method User.display_profile of <__main__.User object at 0x790a790a6560>>\n"
          ]
        }
      ]
    },
    {
      "cell_type": "code",
      "source": [
        "from datetime import datetime\n",
        "\n",
        "class User:\n",
        "    # 여기 정의가 늘어나면 메모리 사용량이 늘어남.\n",
        "    user_count = 0\n",
        "    gender = ('남', '여')\n",
        "\n",
        "    def __init__(self, name, joindate, gender, age, email, password):\n",
        "        self.joindate = joindate\n",
        "        self.accessdate = joindate\n",
        "        self.name = name\n",
        "        self.gender = gender\n",
        "        self.age = age\n",
        "        self.email = email\n",
        "        self.password = password\n",
        "\n",
        "    def change_passwoed(self, password): # django의 user.set_password('비밀번호')와 비슷한 역할\n",
        "        self.password = password         # self.password = self._hash_password(password)\n",
        "        self.accessdate = datetime.now().strftime('%y/%m/%d')\n",
        "\n",
        "    def update_email(self):\n",
        "        self.email = email\n",
        "        self.accessdate = datetime.now().strftime('%y/%m/%d')\n",
        "        else:\n",
        "            print(\"유효하지 않은 이메일 주소입니다.\")\n",
        "\n",
        "    def _validate_email(self, email):\n",
        "        pattern = r\"[\\w.-]+@[\\w.-]+\\.\\w+\"           # 정규 표현식\n",
        "        return re.match(pattern, email) is not None\n",
        "\n",
        "    def display_profile(self):\n",
        "        print(f'name: {self.name}')\n",
        "        print(f'joindate: {self.joindate}')\n",
        "        print(f'accessdate: {self.accessdate}')\n",
        "\n",
        "    def __str__(self):\n",
        "        return self.name\n",
        "\n",
        "    def __repr__(self):\n",
        "        return self.name\n",
        "\n",
        "\n",
        "user1 = User('이호준', '2024/01/15', '남', 15, 'hojun@gmail.com', '1q2w3e4r!')\n",
        "user2 = User('홍길동', '2024/01/15', '남', 30, 'gildong@gmail.com', '1q2w3e4r!!')\n",
        "user1.display_profile"
      ],
      "metadata": {
        "colab": {
          "base_uri": "https://localhost:8080/",
          "height": 147
        },
        "id": "s1kNHq_qmsQU",
        "outputId": "89ab0909-4a58-45a5-d9ff-3b582336f1cc"
      },
      "execution_count": null,
      "outputs": [
        {
          "output_type": "error",
          "ename": "SyntaxError",
          "evalue": "cannot assign to attribute here. Maybe you meant '==' instead of '='? (<ipython-input-46-ad85874af62f>, line 23)",
          "traceback": [
            "\u001b[0;36m  File \u001b[0;32m\"<ipython-input-46-ad85874af62f>\"\u001b[0;36m, line \u001b[0;32m23\u001b[0m\n\u001b[0;31m    if self.accessdate = datetime.now().strftime('%y/%m/%d')\u001b[0m\n\u001b[0m       ^\u001b[0m\n\u001b[0;31mSyntaxError\u001b[0m\u001b[0;31m:\u001b[0m cannot assign to attribute here. Maybe you meant '==' instead of '='?\n"
          ]
        }
      ]
    },
    {
      "cell_type": "code",
      "source": [
        "# 온라인 쇼핑몰에서 장바구니에 넣기\n",
        "\n",
        "class Cart:\n",
        "    def __init__(self):\n",
        "        self.items = []\n",
        "\n",
        "    def add_item(self, item, count):\n",
        "        self.items.append({\n",
        "            '물품': item,\n",
        "            '갯수': count\n",
        "        })\n",
        "\n",
        "    def total_price(self):\n",
        "        total_sum = 0\n",
        "        for i in self.items:\n",
        "            total_sum += i['물품'].price * i['갯수']\n",
        "        return format(total_sum, ',')\n",
        "\n",
        "class Product:\n",
        "    def __init__(self, product_name, price):\n",
        "        self.product_name = product_name\n",
        "        self.price = price\n",
        "\n",
        "    def __str__(self):\n",
        "        return self.product_name\n",
        "\n",
        "    def __repr__(self):\n",
        "        return self.product_name\n",
        "\n",
        "로지텍키보드 = Product('로지텍키보드', 50000)\n",
        "LG모니터 = Product('LG모니터', 300000)\n",
        "그래픽카드4090 = Product('GTX4090', 200000)\n",
        "\n",
        "vin_cart = Cart()\n",
        "vin_cart.add_item(로지텍키보드, 10)\n",
        "vin_cart.add_item(LG모니터, 5)\n",
        "vin_cart.add_item(그래픽카드4090, 2)\n",
        "vin_cart.items\n",
        "vin_cart.total_price()"
      ],
      "metadata": {
        "colab": {
          "base_uri": "https://localhost:8080/",
          "height": 35
        },
        "id": "POdQHC2_q8SN",
        "outputId": "cb47f6c7-68d4-43bd-cc6b-f63c79645ba3"
      },
      "execution_count": null,
      "outputs": [
        {
          "output_type": "execute_result",
          "data": {
            "text/plain": [
              "'2,400,000'"
            ],
            "application/vnd.google.colaboratory.intrinsic+json": {
              "type": "string"
            }
          },
          "metadata": {},
          "execution_count": 30
        }
      ]
    },
    {
      "cell_type": "code",
      "source": [
        "# 클래스 메서드\n",
        "# 클래스 메서드는 클래스 변수를 변경하고 싶을 때 사용합니다.\n",
        "# 주의해야 할 점이 첫번째 인자로 오는 cls는 관습으로 고정입니다.\n",
        "# self가 a로 바꾸면 작동은 하지만 관습적으로 안되는 것처럼 cls도 바꾸시면 안됩니다.\n",
        "# cls는 class를 나타냅니다.\n",
        "class MyClass:\n",
        "    count = 0\n",
        "\n",
        "    @classmethod\n",
        "    def increment(cls):\n",
        "        cls.count += 1\n",
        "\n",
        "MyClass.increment()\n",
        "print(MyClass.count)  # 출력: 1"
      ],
      "metadata": {
        "colab": {
          "base_uri": "https://localhost:8080/"
        },
        "id": "XBZ5PPddpY6P",
        "outputId": "8ea51236-1664-4115-aa00-a586b718c9fa"
      },
      "execution_count": null,
      "outputs": [
        {
          "output_type": "stream",
          "name": "stdout",
          "text": [
            "1\n"
          ]
        }
      ]
    },
    {
      "cell_type": "code",
      "source": [
        "class Book:\n",
        "    def __init__(self, name, price):\n",
        "        self.name = name\n",
        "        self.price = price\n",
        "\n",
        "    @staticmethod\n",
        "    def 할인율(원가, 할인):\n",
        "        return 원가 * (1-(할인/100))\n",
        "\n",
        "Book.할인율(9000, 10)\n",
        "# 밖으로 밸 수 있는 함수이지만 Book과 관련있는 함수는 안에 넣는 것이 좋음.\n",
        "# 유지보수하기가 좋음."
      ],
      "metadata": {
        "colab": {
          "base_uri": "https://localhost:8080/"
        },
        "id": "Is01QKk1zbUM",
        "outputId": "20c03ef8-c604-432d-a519-7a4c42509fd9"
      },
      "execution_count": null,
      "outputs": [
        {
          "output_type": "execute_result",
          "data": {
            "text/plain": [
              "8100.0"
            ]
          },
          "metadata": {},
          "execution_count": 33
        }
      ]
    },
    {
      "cell_type": "code",
      "source": [
        "# 덕타이핑\n",
        "# https://world.weniv.co.kr/\n",
        "\n",
        "# licat.move()\n",
        "# move() => 직관적이고 누가 움직이는지는 알고 싶지 않고 주인공을 앞으로 한 칸 움직이고 싶다.\n",
        "\n",
        "class Duck:\n",
        "    def quack(self):\n",
        "        print('꽥꽥!')\n",
        "\n",
        "class Person:\n",
        "    def quack(self):\n",
        "        print(\"안녕하세요!\")\n",
        "\n",
        "def quack(obj):\n",
        "    obj.quack()\n",
        "\n",
        "duck = Duck()\n",
        "person = Person()\n",
        "\n",
        "quack(duck)  # 출력: 꽥꽥! duck.quack() 대신 quack(duck)를 사용하겠다.\n",
        "quack(person)  # 출력: 안녕하세요! person.quack() 대신 quack(person)를 사용하겠다."
      ],
      "metadata": {
        "colab": {
          "base_uri": "https://localhost:8080/"
        },
        "id": "U7ik-bpH05jp",
        "outputId": "047fdaca-34e9-4445-cdc0-027b08160182"
      },
      "execution_count": null,
      "outputs": [
        {
          "output_type": "stream",
          "name": "stdout",
          "text": [
            "꽥꽥!\n",
            "안녕하세요!\n"
          ]
        }
      ]
    },
    {
      "cell_type": "code",
      "source": [
        "# 오버라이딩\n",
        "# 자식이 부모의 메서드를 덮어 쓰는 것\n",
        "\n",
        "class Animal:\n",
        "    def sound(self):\n",
        "        print(\"기본 동물 울음 소리, 악!\")\n",
        "\n",
        "class Dog(Animal):\n",
        "    def sound(self):\n",
        "        print(\"왈왈!\")\n",
        "\n",
        "class Cat(Animal):\n",
        "    def sound(self):\n",
        "        print(\"냐옹!\")\n",
        "\n",
        "# super()를 사용해서 부모의 메서드를 사용 할 수 있습니다.\n",
        "class Bird(Animal):\n",
        "    def sound(self):\n",
        "        super().sound()\n",
        "        print(\"짹짹!\")\n",
        "\n",
        "b = Bird()\n",
        "b.sound()"
      ],
      "metadata": {
        "colab": {
          "base_uri": "https://localhost:8080/"
        },
        "id": "JhfAhFOV32Z0",
        "outputId": "90997e4f-501e-49f4-bdd8-a2e0fe1d3023"
      },
      "execution_count": null,
      "outputs": [
        {
          "output_type": "stream",
          "name": "stdout",
          "text": [
            "기본 동물 울음 소리, 악!\n",
            "짹짹!\n"
          ]
        }
      ]
    },
    {
      "cell_type": "code",
      "source": [
        "class Person:\n",
        "    def __init__(self, name):\n",
        "        self.name = name\n",
        "\n",
        "class Student(Person):\n",
        "    def __init__(self, name, student_id):\n",
        "        super().__init__(name)  # 부모 클래스의 __init__ 메서드 호출\n",
        "        # self.name = name 위 코드와 이코드는 동일합니다.\n",
        "        self.student_id = student_id\n",
        "\n",
        "s = Student(\"Alice\", \"S12345\")\n",
        "print(s.name)        # 출력: Alice\n",
        "print(s.student_id)  # 출력: S12345"
      ],
      "metadata": {
        "id": "jDBICzxf8Wf-"
      },
      "execution_count": null,
      "outputs": []
    },
    {
      "cell_type": "code",
      "source": [
        "# 추상 클래스\n",
        "# 중요도는 높지만 빈도가 낮아 별 0.5개\n",
        "# 추상 클래스: 반드시 구현되어야 하는 메서드를 명시하면\n",
        "# 그것을 상속한 클래스에서는 반드시 그 메서드를 구현해야 합니다.\n",
        "# 언제 사용하나요? 예를 들어 빠트리면 안되는 메서드가 있는 경우\n",
        "# 게시판 만드는데 게시물 업데이트 날짜, 생성 날짜를 추상 클래스로 구현할 수 있습니다.\n",
        "\n",
        "from abc import ABC, abstractmethod\n",
        "\n",
        "class AbstractClassExample(ABC):\n",
        "\n",
        "    @abstractmethod\n",
        "    def do_something(self):\n",
        "        pass\n",
        "\n",
        "class Person(AbstractClassExample):\n",
        "\n",
        "    def __init__(self, name):\n",
        "        self.name = name\n",
        "\n",
        "    def print_name(self):\n",
        "        print(f'제 이름은 {self.name}입니다.')\n",
        "\n",
        "    def do_something(self):\n",
        "        print('hello')\n",
        "\n",
        "hojun = Person('hojun')\n",
        "hojun.print_name()"
      ],
      "metadata": {
        "colab": {
          "base_uri": "https://localhost:8080/"
        },
        "id": "mRgA6HmD8grk",
        "outputId": "5a1aed31-63cc-47bf-bc1a-c6b182680ad1"
      },
      "execution_count": null,
      "outputs": [
        {
          "output_type": "stream",
          "name": "stdout",
          "text": [
            "제 이름은 hojun입니다.\n"
          ]
        }
      ]
    },
    {
      "cell_type": "code",
      "source": [
        "# 비공개 속성\n",
        "# 시큐어 코딩\n",
        "\n",
        "class MyClass:\n",
        "    __a = 10 # 비공개 속성(Private Attributes)\n",
        "    _a = 100\n",
        "    b = 20\n",
        "\n",
        "    def __init__(self, c, d):\n",
        "        self.__c = c\n",
        "        self.d = d\n",
        "\n",
        "c = MyClass(30, 40)\n",
        "c._a  # 다른언어에서는 _(언더바)한개가 prive value, 파이썬에선 __(언더바) 두개가 prive value\n",
        "# c.__a # 접근 불가 -> prive value\n",
        "\n",
        "\n",
        "# c.__a #error\n",
        "# c._a # 출력: 100\n",
        "# c.b # 출력: 20\n",
        "# # c.__c # error\n",
        "# c.d # 출력: 40\n",
        "\n",
        "print(c._MyClass__c)"
      ],
      "metadata": {
        "colab": {
          "base_uri": "https://localhost:8080/"
        },
        "id": "txBYhgf39sXo",
        "outputId": "5a308e98-26e0-430d-a844-5d93f6d4321c"
      },
      "execution_count": null,
      "outputs": [
        {
          "output_type": "stream",
          "name": "stdout",
          "text": [
            "30\n"
          ]
        }
      ]
    },
    {
      "cell_type": "code",
      "source": [],
      "metadata": {
        "id": "Kd98qLbVAahJ"
      },
      "execution_count": null,
      "outputs": []
    }
  ]
}