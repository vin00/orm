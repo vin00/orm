{
  "nbformat": 4,
  "nbformat_minor": 0,
  "metadata": {
    "colab": {
      "provenance": []
    },
    "kernelspec": {
      "name": "python3",
      "display_name": "Python 3"
    },
    "language_info": {
      "name": "python"
    }
  },
  "cells": [
    {
      "cell_type": "code",
      "execution_count": null,
      "metadata": {
        "colab": {
          "base_uri": "https://localhost:8080/"
        },
        "id": "J35lpmUdSN_X",
        "outputId": "787b5c17-2a6d-43a5-9ab3-1cabe677b871"
      },
      "outputs": [
        {
          "output_type": "stream",
          "name": "stdout",
          "text": [
            "100\n",
            "139469810502992 139469810502992 139469810502992\n",
            "True\n",
            "True\n",
            "True\n",
            "True\n",
            "True\n",
            "True\n"
          ]
        }
      ],
      "source": [
        "# 문제 1_ z의 값은 무엇일까요?\n",
        "\n",
        "x = 100\n",
        "y = 100\n",
        "z = x\n",
        "\n",
        "print(z) # 100 출력\n",
        "print(id(x), id(y), id(z)) # 0 ~ 256까지는 같은 id 값을 가진다.\n",
        "print(x == y)\n",
        "print(x == z)\n",
        "print(y == z)\n",
        "print(x is y)\n",
        "print(x is z)\n",
        "print(y is z)"
      ]
    },
    {
      "cell_type": "code",
      "source": [
        "# 문제 2_ z의 값은 무엇일까요?\n",
        "\n",
        "x = 258\n",
        "y = 258\n",
        "z = x\n",
        "\n",
        "print(z) # 258 출력\n",
        "print(id(x), id(y), id(z)) # 0 ~ 256까지는 같은 id을 가진다.\n",
        "print(x == y)\n",
        "print(x == z)\n",
        "print(y == z)\n",
        "print(x is y)\n",
        "print(x is z)\n",
        "print(y is z)"
      ],
      "metadata": {
        "colab": {
          "base_uri": "https://localhost:8080/"
        },
        "id": "d0lz-bg1S4SL",
        "outputId": "ffc42a9f-8e73-4b9b-9e81-58924735aeaf"
      },
      "execution_count": null,
      "outputs": [
        {
          "output_type": "stream",
          "name": "stdout",
          "text": [
            "258\n",
            "139469316076016 139469316076944 139469316076016\n",
            "True\n",
            "True\n",
            "True\n",
            "False\n",
            "True\n",
            "False\n"
          ]
        }
      ]
    },
    {
      "cell_type": "code",
      "source": [
        "# 문제 3_ 파이썬 문법 중 맞은 것을 골라주세요(3개)\n",
        "\n",
        "#1번\n",
        "# print = 100\n",
        "\n",
        "#2번\n",
        "# 10 = a\n",
        "\n",
        "#3번\n",
        "k = 100\n",
        "\n",
        "#4번\n",
        "# 100k = 10000\n",
        "\n",
        "#5번\n",
        "a123 = 'abc'\n",
        "\n",
        "#6번\n",
        "_ = 10"
      ],
      "metadata": {
        "id": "mGSmugt6TV4U"
      },
      "execution_count": null,
      "outputs": []
    },
    {
      "cell_type": "code",
      "source": [
        "# 문제 4_ 아래 변수에서 중복을 제거한 유일한 숫자를 알아내는 코드를 작성해주세요. 형변환을 통해 풀어주세요.\n",
        "\n",
        "n = 1234567890123123123\n",
        "n = str(n)\n",
        "print(set(n))"
      ],
      "metadata": {
        "colab": {
          "base_uri": "https://localhost:8080/"
        },
        "id": "oCS5GbAzTyYK",
        "outputId": "cb5e0f58-d041-4487-df93-f4831050bd39"
      },
      "execution_count": null,
      "outputs": [
        {
          "output_type": "stream",
          "name": "stdout",
          "text": [
            "{'1', '6', '8', '5', '9', '4', '3', '2', '0', '7'}\n"
          ]
        }
      ]
    },
    {
      "cell_type": "code",
      "source": [
        "# 문제 5_ 문자열 s에 마지막에 있는 문자열을 2번 더 붙이는 코드를 작성해주세요.\n",
        "\n",
        "s = 'jun'\n",
        "s = s + s[-1] * 2\n",
        "print(s)"
      ],
      "metadata": {
        "colab": {
          "base_uri": "https://localhost:8080/"
        },
        "id": "NhoCDBaMUbYw",
        "outputId": "1f1a15dd-b7a8-4339-847d-69d513329077"
      },
      "execution_count": null,
      "outputs": [
        {
          "output_type": "stream",
          "name": "stdout",
          "text": [
            "junnn\n"
          ]
        }
      ]
    },
    {
      "cell_type": "code",
      "source": [
        "# 문제 6_ 'abcde', 숫자, 대쉬(-), 언더스코어(_)를 모두 제거해주세요. 문자열에 translate를 사용해주세요.\n",
        "\n",
        "s = 'hello_world123' # 출력값: 'hlloworl'\n",
        "\n",
        "# 변환 테이블 생성\n",
        "table = str.maketrans('', '','abcde123456789-_')\n",
        "# 결과 출력\n",
        "print(s.translate(table))"
      ],
      "metadata": {
        "colab": {
          "base_uri": "https://localhost:8080/"
        },
        "id": "-XoTcGuGU2at",
        "outputId": "1fa693d7-3560-4e84-8fad-93fd05815a96"
      },
      "execution_count": null,
      "outputs": [
        {
          "output_type": "stream",
          "name": "stdout",
          "text": [
            "hlloworl\n"
          ]
        }
      ]
    },
    {
      "cell_type": "code",
      "source": [
        "# 문제 7_ 확장자를 출력해주는 코드를 작성해주세요. 확장자는 png, jpeg, mp4 등입니다.\n",
        "\n",
        "s = 'licat.jpeg'\n",
        "# 출력값: 'jpeg'\n",
        "print(s[-4:])\n",
        "print(s.split('.')[1])\n",
        "s = 'li.cat.png'\n",
        "# 출력값: 'png'\n",
        "print(s[-3:])\n",
        "print(s.split('.')[2])"
      ],
      "metadata": {
        "colab": {
          "base_uri": "https://localhost:8080/"
        },
        "id": "J6hfwqAcVoKM",
        "outputId": "6829345c-ddd1-46b0-cf43-43fbcbdc3263"
      },
      "execution_count": null,
      "outputs": [
        {
          "output_type": "stream",
          "name": "stdout",
          "text": [
            "jpeg\n",
            "jpeg\n",
            "png\n",
            "png\n"
          ]
        }
      ]
    },
    {
      "cell_type": "code",
      "source": [
        "# 문제 8_ 문장이 입력되면 거꾸로 출력하는 프로그램을 만들어 봅시다.\n",
        "\n",
        "a = '거꾸로'\n",
        "print(a[::-1])"
      ],
      "metadata": {
        "id": "J-h2KlG5YYXo",
        "colab": {
          "base_uri": "https://localhost:8080/"
        },
        "outputId": "152251aa-fae8-449b-d38f-1c47638fdf81"
      },
      "execution_count": null,
      "outputs": [
        {
          "output_type": "stream",
          "name": "stdout",
          "text": [
            "로꾸거\n"
          ]
        }
      ]
    },
    {
      "cell_type": "code",
      "source": [
        "# 문제 9_ 다음 중 변수 i가 6의 배수인지 확인하는 방법으로 올바른 것은?\n",
        "\n",
        "i = 6\n",
        "# 1)  i / 6 == 0\n",
        "i % 6 == 0\n",
        "# 3)  i & 6 == 0\n",
        "# 4)  i | 6 == 0\n",
        "# 5)  i // 6 == 0"
      ],
      "metadata": {
        "colab": {
          "base_uri": "https://localhost:8080/"
        },
        "id": "AUiv71CxlfEu",
        "outputId": "050d82c8-809b-4437-faef-4766d14c268d"
      },
      "execution_count": null,
      "outputs": [
        {
          "output_type": "execute_result",
          "data": {
            "text/plain": [
              "True"
            ]
          },
          "metadata": {},
          "execution_count": 34
        }
      ]
    },
    {
      "cell_type": "code",
      "source": [
        "# 문제 10_\n",
        "'''\n",
        "민지는 국제 포럼에서 아르바이트를 하게 되었습니다.\n",
        "민지는 각 국에서 온 참가자들의 명단을 엑셀로 정리하고 있는데\n",
        "참가자들 이름이 어떤 이는 전부 소문자, 어떤 이는 전부\n",
        "대문자로 써져 있는 등 형식이 제각각이었습니다.\n",
        "민지를 위해 이름이 입력되면 전부 대문자로 출력되는 프로그램을 만들어주세요.\n",
        "'''\n",
        "user_name = input() # 이름 입력받기\n",
        "print(user_name.upper()) # 이름 대문자로 변경하기"
      ],
      "metadata": {
        "colab": {
          "base_uri": "https://localhost:8080/"
        },
        "id": "E7wfEKVtltcE",
        "outputId": "05d77d67-c9e2-4ce1-c295-3940ca3eb4b0"
      },
      "execution_count": null,
      "outputs": [
        {
          "output_type": "stream",
          "name": "stdout",
          "text": [
            "mary\n",
            "MARY\n"
          ]
        }
      ]
    },
    {
      "cell_type": "code",
      "source": [
        "# 문제 11_\n",
        "'''\n",
        "문자 pineapple에는 apple이라는 문자가 숨어 있습니다.\n",
        "원범이는 이렇듯 문자열 속에 숨어있는 문자를 찾아보려고 합니다.\n",
        "입력으로 첫 줄에 문자열이 주어지고 둘째 줄에 찾을 문자가 주어지면\n",
        "그 문자가 시작하는 index를 반환하는 프로그램을 만들어 주세요\n",
        "'''\n",
        "\n",
        "# 랜덤 불러오기\n",
        "import random\n",
        "\n",
        "x1 = input('첫줄을 입력하세요')\n",
        "x2 = input('찾을 문자를 입력하세요')\n",
        "\n",
        "print(x1.find(x2))"
      ],
      "metadata": {
        "colab": {
          "base_uri": "https://localhost:8080/"
        },
        "id": "vPjFGFONnI_H",
        "outputId": "ce7c8ac5-1494-439b-c5c0-9a6c24b8b3f6"
      },
      "execution_count": null,
      "outputs": [
        {
          "output_type": "stream",
          "name": "stdout",
          "text": [
            "첫줄을 입력하세요pineapple is yummy\n",
            "찾을 문자를 입력하세요apple\n",
            "4\n"
          ]
        }
      ]
    },
    {
      "cell_type": "code",
      "source": [
        "# 문제 12_ 다음 리스트의 내장함수의 시간 복잡도가 O(1)이 아닌것은?\n",
        "'''\n",
        "시간 복잡도는 알고리즘 또는 연산이 얼마나 많은 시간을 필요로 하는지를\n",
        "나타내는 척도야. 보통 입력의 크기에 따라 알고리즘의 동작 시간이 어떻게\n",
        "증가하는지를 설명할 때 사용\n",
        "\n",
        "일반적으로 시간 복잡도는 Big O 표기법으로 표시돼. O(1), O(log n), O(n), O(n^2)\n",
        "등으로 나타내지는데, 이는 각각 상수 시간, 로그 시간, 선형 시간, 이차 시간 등을 의미\n",
        "\n",
        "알고리즘의 효율성과 성능을 평가하는 데 중요한 지표\n",
        "'''\n",
        "1)  l[i]\n",
        "2)  l.append(5)\n",
        "3)  l[a:b]\n",
        "4)  l.pop()\n",
        "5)  l.clear()"
      ],
      "metadata": {
        "colab": {
          "base_uri": "https://localhost:8080/"
        },
        "id": "h93vQuJFonjD",
        "outputId": "6ab7e7a6-0fbd-4a98-8325-21afc930e097"
      },
      "execution_count": null,
      "outputs": [
        {
          "output_type": "stream",
          "name": "stdout",
          "text": [
            "4\n"
          ]
        }
      ]
    },
    {
      "cell_type": "code",
      "source": [
        "# 문제 13_\n",
        "'''\n",
        "취업 준비생인 혜림이는 자기소개서를 쓰고 있습니다.\n",
        "열심히 자기소개서를 작성하던 도중 혜림이는 자기가 지금까지\n",
        "단어를 얼마나 적었는지 궁금하게 됩니다.\n",
        "\n",
        "혜림이를 위해 문자열을 입력받으면 단어의 갯수를 출력하는 프\n",
        "로그램을 작성해 주세요.\n",
        "'''\n",
        "\n",
        "x = input('작성해주세요')\n",
        "x1 = list(x.strip().split())\n",
        "print(len(x1))"
      ],
      "metadata": {
        "colab": {
          "base_uri": "https://localhost:8080/"
        },
        "id": "SskzbTGvpYg5",
        "outputId": "eb6d9e25-ca87-4e63-d649-9519ad5c60de"
      },
      "execution_count": null,
      "outputs": [
        {
          "output_type": "stream",
          "name": "stdout",
          "text": [
            "작성해주세요안녕하세요. 저는 제주대학교 컴퓨터공학전공 혜림입니다.\n",
            "5\n"
          ]
        }
      ]
    },
    {
      "cell_type": "code",
      "source": [],
      "metadata": {
        "id": "Kgs_dSiHrnSm"
      },
      "execution_count": null,
      "outputs": []
    }
  ]
}