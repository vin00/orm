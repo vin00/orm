{
  "nbformat": 4,
  "nbformat_minor": 0,
  "metadata": {
    "colab": {
      "provenance": []
    },
    "kernelspec": {
      "name": "python3",
      "display_name": "Python 3"
    },
    "language_info": {
      "name": "python"
    }
  },
  "cells": [
    {
      "cell_type": "markdown",
      "source": [
        "# 본교육 3일차 복습"
      ],
      "metadata": {
        "id": "udSzAZMDLVG9"
      }
    },
    {
      "cell_type": "markdown",
      "source": [
        "## 1. input, output 활용"
      ],
      "metadata": {
        "id": "qQAqPyAjLWxz"
      }
    },
    {
      "cell_type": "code",
      "source": [
        "# 1가지 변수\n",
        "x = input('본교육 __일차 복습:' ' ')\n",
        "\n",
        "# 결과 출력\n",
        "print(f\"본교육 {x}일차 복습\")"
      ],
      "metadata": {
        "colab": {
          "base_uri": "https://localhost:8080/"
        },
        "id": "oNaT4_xXLa8p",
        "outputId": "b359dd19-580b-4243-c4e2-293e9e129956"
      },
      "execution_count": null,
      "outputs": [
        {
          "output_type": "stream",
          "name": "stdout",
          "text": [
            "본교육 __일차 복습: 3\n",
            "본교육 3일차 복습\n"
          ]
        }
      ]
    },
    {
      "cell_type": "code",
      "source": [
        "# 2가지 변수\n",
        "word1 = input('___은 어려우니:' ' ')\n",
        "word2 = input('열심히 ___해야한다:' ' ')\n",
        "\n",
        "# 결과 출력\n",
        "print(f'{word1}은 어려우니 열심히 {word2}해야한다.')"
      ],
      "metadata": {
        "colab": {
          "base_uri": "https://localhost:8080/"
        },
        "id": "QzP8of-XNYR3",
        "outputId": "7a50757c-fbb9-4cfa-a61b-d28e251b5956"
      },
      "execution_count": null,
      "outputs": [
        {
          "output_type": "stream",
          "name": "stdout",
          "text": [
            "___은 어려우니: 코딩\n",
            "열심히 ___해야한다: 복습\n",
            "코딩은 어려우니 열심히 복습해야한다.\n"
          ]
        }
      ]
    },
    {
      "cell_type": "markdown",
      "source": [
        "## 2. RANDOM"
      ],
      "metadata": {
        "id": "vkpnEICKNzy7"
      }
    },
    {
      "cell_type": "markdown",
      "source": [
        "### 2.1 randrange 활용"
      ],
      "metadata": {
        "id": "3sv4J-AiOsU4"
      }
    },
    {
      "cell_type": "code",
      "source": [
        "# randrange\n",
        "\n",
        "# random을 불러오기\n",
        "import random\n",
        "\n",
        "# 0 ~ 10까지 임의 선택하는 코드 작성\n",
        "num1 = random.randrange(11)\n",
        "\n",
        "# 1번 결과 출력\n",
        "print(\"1. 임의 선택\", num1)\n",
        "\n",
        "# 10 ~ 50까지 임의 선택하는 코드 작성\n",
        "num2 = random.randrange(10, 50)\n",
        "\n",
        "# 2번 결과 출력\n",
        "print(\"2. 임의 선택\", num2)\n",
        "\n",
        "# 10 ~ 200까지 10씩 건너띄어 임의 선택하는 코드 작성\n",
        "num3 = random.randrange(10, 200, 10)\n",
        "\n",
        "# 3번 결과 출력\n",
        "print(\"3. 임의 선택\", num3)"
      ],
      "metadata": {
        "colab": {
          "base_uri": "https://localhost:8080/"
        },
        "id": "pr2D6ELoOcX7",
        "outputId": "74e4094a-2eb6-45d3-d5f2-55dc8f92ea99"
      },
      "execution_count": null,
      "outputs": [
        {
          "output_type": "stream",
          "name": "stdout",
          "text": [
            "1. 임의 선택 3\n",
            "2. 임의 선택 21\n",
            "3. 임의 선택 10\n"
          ]
        }
      ]
    },
    {
      "cell_type": "markdown",
      "source": [
        "### 2.2 choice 활용"
      ],
      "metadata": {
        "id": "FflYsbCcPn2W"
      }
    },
    {
      "cell_type": "code",
      "source": [
        "# choice를 활용한 술래 뽑기\n",
        "\n",
        "# random 불러오기\n",
        "import random\n",
        "\n",
        "# 참여인 리스트 작성\n",
        "person1 = ['창균', '승은', '학준', '지호']\n",
        "\n",
        "# 무작위 선택\n",
        "choice_person1 = random.choice(person1)\n",
        "\n",
        "# 결과 출력\n",
        "print(\"술래는:\", choice_person1)"
      ],
      "metadata": {
        "colab": {
          "base_uri": "https://localhost:8080/"
        },
        "id": "aGAi-5QiQ1kT",
        "outputId": "72ac7e3d-32f2-4c76-d763-e9715ee97f01"
      },
      "execution_count": null,
      "outputs": [
        {
          "output_type": "stream",
          "name": "stdout",
          "text": [
            "술래는: 지호\n"
          ]
        }
      ]
    },
    {
      "cell_type": "markdown",
      "source": [
        "## 3. 변수"
      ],
      "metadata": {
        "id": "6IS1SFliTKrt"
      }
    },
    {
      "cell_type": "markdown",
      "source": [
        "### 3.1 변수 할당 및 재할당, 삭제"
      ],
      "metadata": {
        "id": "2Fp7dIA4TRyH"
      }
    },
    {
      "cell_type": "code",
      "source": [
        "# 변수 할당\n",
        "x = 10\n",
        "\n",
        "# 출력\n",
        "print(x)"
      ],
      "metadata": {
        "colab": {
          "base_uri": "https://localhost:8080/"
        },
        "id": "8yUd0janTV2X",
        "outputId": "0459b0bd-3515-4a38-b07e-1fcd01994a4a"
      },
      "execution_count": null,
      "outputs": [
        {
          "output_type": "stream",
          "name": "stdout",
          "text": [
            "10\n"
          ]
        }
      ]
    },
    {
      "cell_type": "code",
      "source": [
        "# 변수 재할당 _기존의 변수가 할당 되어 있어도 다시 할당할 시 변수값이 변경됨.\n",
        "x = 20\n",
        "\n",
        "# 출력\n",
        "print(x)"
      ],
      "metadata": {
        "colab": {
          "base_uri": "https://localhost:8080/"
        },
        "id": "M7JSi3wKTV_b",
        "outputId": "b40cb9ae-bd6d-41c4-e543-d0ad12fcbbb3"
      },
      "execution_count": null,
      "outputs": [
        {
          "output_type": "stream",
          "name": "stdout",
          "text": [
            "20\n"
          ]
        }
      ]
    },
    {
      "cell_type": "code",
      "source": [
        "# 변수 삭제_변수 삭제 시 할당 되어진 값이 없어짐.\n",
        "del(x)\n",
        "\n",
        "print(x)"
      ],
      "metadata": {
        "colab": {
          "base_uri": "https://localhost:8080/",
          "height": 221
        },
        "id": "2c96W7acTWFx",
        "outputId": "e06bfd38-220a-4976-fdf1-d726c95f9224"
      },
      "execution_count": null,
      "outputs": [
        {
          "output_type": "error",
          "ename": "NameError",
          "evalue": "ignored",
          "traceback": [
            "\u001b[0;31m---------------------------------------------------------------------------\u001b[0m",
            "\u001b[0;31mNameError\u001b[0m                                 Traceback (most recent call last)",
            "\u001b[0;32m<ipython-input-27-33770ccf0bce>\u001b[0m in \u001b[0;36m<cell line: 4>\u001b[0;34m()\u001b[0m\n\u001b[1;32m      2\u001b[0m \u001b[0;32mdel\u001b[0m\u001b[0;34m(\u001b[0m\u001b[0mx\u001b[0m\u001b[0;34m)\u001b[0m\u001b[0;34m\u001b[0m\u001b[0;34m\u001b[0m\u001b[0m\n\u001b[1;32m      3\u001b[0m \u001b[0;34m\u001b[0m\u001b[0m\n\u001b[0;32m----> 4\u001b[0;31m \u001b[0mprint\u001b[0m\u001b[0;34m(\u001b[0m\u001b[0mx\u001b[0m\u001b[0;34m)\u001b[0m\u001b[0;34m\u001b[0m\u001b[0;34m\u001b[0m\u001b[0m\n\u001b[0m",
            "\u001b[0;31mNameError\u001b[0m: name 'x' is not defined"
          ]
        }
      ]
    },
    {
      "cell_type": "markdown",
      "source": [
        "## 4. 정수 int"
      ],
      "metadata": {
        "id": "CGCpheCZTWMF"
      }
    },
    {
      "cell_type": "code",
      "source": [
        "# 정수 사칙연산\n",
        "\n",
        "x = 10\n",
        "y = 20\n",
        "\n",
        "# 덧셈\n",
        "print(x + y)\n",
        "\n",
        "# 뺄셈\n",
        "print(x - y)\n",
        "\n",
        "# 곱셈\n",
        "print(x * y)\n",
        "\n",
        "# 나눗셈\n",
        "print(x / y) #실수형으로 값이 나옴\n",
        "print(int(x / y)) #정수형으로 값이 나옴\n"
      ],
      "metadata": {
        "colab": {
          "base_uri": "https://localhost:8080/"
        },
        "id": "BbS0I5WDU9kT",
        "outputId": "7645f82b-b4cc-4773-e575-2ebe10f3ab5d"
      },
      "execution_count": null,
      "outputs": [
        {
          "output_type": "stream",
          "name": "stdout",
          "text": [
            "30\n",
            "-10\n",
            "200\n",
            "0.5\n",
            "0\n"
          ]
        }
      ]
    },
    {
      "cell_type": "code",
      "source": [
        "# 진수 표현\n",
        "\n",
        "x = 10\n",
        "# 10진법 출력\n",
        "print(x)\n",
        "\n",
        "# 2진법 출력\n",
        "print(bin(x))\n",
        "\n",
        "# 8진법 출력\n",
        "print(oct(x))\n",
        "\n",
        "# 16진법 출력\n",
        "print(hex(x))\n",
        "\n",
        "# 각 진법 에서 10진법으로 변경 출력\n",
        "print(int(\"0b1010\", 2)) # 2진법 -> 10진법\n",
        "print(int(\"0o12\", 8))   # 8진법 -> 10진법\n",
        "print(int(\"0xa\", 16))   # 16진법 -> 10진법"
      ],
      "metadata": {
        "colab": {
          "base_uri": "https://localhost:8080/"
        },
        "id": "XGnrQR-lV5yT",
        "outputId": "7b3c6772-38c5-4a5a-832b-4074e82fea08"
      },
      "execution_count": null,
      "outputs": [
        {
          "output_type": "stream",
          "name": "stdout",
          "text": [
            "10\n",
            "0b1010\n",
            "0o12\n",
            "0xa\n",
            "10\n",
            "10\n",
            "10\n"
          ]
        }
      ]
    },
    {
      "cell_type": "markdown",
      "source": [
        "## 5. 실수 float"
      ],
      "metadata": {
        "id": "tHwx0C_OU9rC"
      }
    },
    {
      "cell_type": "code",
      "source": [
        "# 실수 사칙연산\n",
        "\n",
        "x = 10.5\n",
        "y = 20.3\n",
        "\n",
        "# 덧셈\n",
        "print(x + y)\n",
        "\n",
        "# 뺄셈\n",
        "print(x - y)\n",
        "\n",
        "# 곱셈\n",
        "print(x * y)\n",
        "\n",
        "# 나눗셈\n",
        "print(x / y)"
      ],
      "metadata": {
        "colab": {
          "base_uri": "https://localhost:8080/"
        },
        "id": "HDmA5h4SU91l",
        "outputId": "e2263f5d-8098-4d7d-8874-cd1912ef6378"
      },
      "execution_count": null,
      "outputs": [
        {
          "output_type": "stream",
          "name": "stdout",
          "text": [
            "30.8\n",
            "-9.8\n",
            "213.15\n",
            "0.5172413793103449\n"
          ]
        }
      ]
    },
    {
      "cell_type": "code",
      "source": [
        "# float 특수값_무한대 inf\n",
        "\n",
        "# 변수에 무한대(inf) 값 할당\n",
        "x = float(\"inf\")\n",
        "y = float(\"-inf\")\n",
        "\n",
        "# 결과 출력\n",
        "print(x, y)\n",
        "\n",
        "# type 확인\n",
        "print(type(x))\n",
        "print(type(y))"
      ],
      "metadata": {
        "colab": {
          "base_uri": "https://localhost:8080/"
        },
        "id": "NFRtAFc7U98I",
        "outputId": "8d7eea02-b79a-4b4f-9cbe-588aba683f89"
      },
      "execution_count": null,
      "outputs": [
        {
          "output_type": "stream",
          "name": "stdout",
          "text": [
            "inf -inf\n",
            "<class 'float'>\n",
            "<class 'float'>\n"
          ]
        }
      ]
    },
    {
      "cell_type": "code",
      "source": [
        "# 부동소수점\n",
        "# 컴퓨터의 2진법으로 인한 변환 오류\n",
        "\n",
        "# 부동소수점 문제\n",
        "x_test = 0.1\n",
        "y_test = 0.2\n",
        "print(x_test + y_test)\n",
        "\n",
        "# 부동소수점 문제 해결법\n",
        "\n",
        "# decimal 불러오기\n",
        "import decimal\n",
        "# float(decimal.Decimal())로 사용\n",
        "float(decimal.Decimal('.1') + decimal.Decimal('.2'))"
      ],
      "metadata": {
        "colab": {
          "base_uri": "https://localhost:8080/"
        },
        "id": "YaevTz_xjmvZ",
        "outputId": "fa7fc2e9-ca7c-49f5-9704-5146bd2d048e"
      },
      "execution_count": 3,
      "outputs": [
        {
          "output_type": "stream",
          "name": "stdout",
          "text": [
            "0.30000000000000004\n"
          ]
        },
        {
          "output_type": "execute_result",
          "data": {
            "text/plain": [
              "0.3"
            ]
          },
          "metadata": {},
          "execution_count": 3
        }
      ]
    },
    {
      "cell_type": "markdown",
      "source": [
        "## 6. 복소수 complex"
      ],
      "metadata": {
        "id": "5GWkktRFU-Co"
      }
    },
    {
      "cell_type": "code",
      "source": [
        "# 복소수 표현\n",
        "\n",
        "x1 = 3 + 4j # 실수 + 허수(j)\n",
        "x2 = complex(3,4) # 실수, 허수\n",
        "\n",
        "print(x1, x2)\n",
        "\n",
        "# 복소수의 실수부분 출력\n",
        "print(x1.real) # 출력 : 3.0 (float 실수형으로 표현됨.)\n",
        "\n",
        "# 복소수의 허수부분 출력\n",
        "print(x1.imag) # 출력 : 4.0 (float 실수형으로 표현됨.)\n",
        "\n",
        "print(type(x1.real))\n",
        "print(type(x1.imag))"
      ],
      "metadata": {
        "id": "8hJvlvMRTWSn",
        "colab": {
          "base_uri": "https://localhost:8080/"
        },
        "outputId": "96c8ba85-82bc-4d58-8ff9-6e3450f9637a"
      },
      "execution_count": 10,
      "outputs": [
        {
          "output_type": "stream",
          "name": "stdout",
          "text": [
            "(3+4j) (3+4j)\n",
            "3.0\n",
            "4.0\n",
            "<class 'float'>\n",
            "<class 'float'>\n"
          ]
        }
      ]
    },
    {
      "cell_type": "code",
      "source": [],
      "metadata": {
        "id": "bNnqeojLlspT"
      },
      "execution_count": null,
      "outputs": []
    }
  ]
}