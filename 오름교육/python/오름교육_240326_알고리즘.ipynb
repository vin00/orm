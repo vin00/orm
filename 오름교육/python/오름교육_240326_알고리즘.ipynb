{
  "nbformat": 4,
  "nbformat_minor": 0,
  "metadata": {
    "colab": {
      "provenance": []
    },
    "kernelspec": {
      "name": "python3",
      "display_name": "Python 3"
    },
    "language_info": {
      "name": "python"
    }
  },
  "cells": [
    {
      "cell_type": "code",
      "source": [
        "# 연결리스트를 사용하여 구현하는 것이 일반적이지만\n",
        "# 연결리스트가 다음 챕터에 나오기 때문에 리스트로 구현하도록 하겠습니다.\n",
        "\n",
        "# 연결리스트가 뒤에 배치된 것은 의도한 것입니다.\n",
        "# 쉬운 접근 -> 어려운 접근으로 점진적 부하를 드리기 위함입니다.\n",
        "\n",
        "# https://ko.wikipedia.org/wiki/%EC%8A%A4%ED%83%9D 이러한 모습에\n",
        "# ADT를(Abstract Data Type, 추상자료형) 구현하면 되는 것입니다.\n",
        "class Stack:\n",
        "    def __init__(self):\n",
        "        self.배열 = []\n",
        "\n",
        "    def push(self, data):\n",
        "        self.배열.append(data)\n",
        "\n",
        "    def pop(self, index):\n",
        "        if (index > len(self.배열) - 1):\n",
        "            return self.배열.pop()\n",
        "        result = self.배열.pop(2)\n",
        "        return result\n",
        "\n",
        "    def top(self):\n",
        "        return self.배열[-1]\n",
        "\n",
        "    def bottom(self):\n",
        "        return self.배열[0]\n",
        "\n",
        "    def empty(self):\n",
        "        if not self.배열:\n",
        "            return 1\n",
        "        return 0"
      ],
      "metadata": {
        "id": "TmbJGJjoQAmL"
      },
      "execution_count": 2,
      "outputs": []
    },
    {
      "cell_type": "code",
      "source": [
        "### 1.4.2 연결리스트\n",
        "* 연결리스트, 메모리 효율을 위해 사용되는 경우가 많음\n",
        "* 개념 : https://en.wikipedia.org/wiki/Linked_list\n",
        "* 알고리즘 시각화 : https://visualgo.net/ko\n",
        "* step1, step2, step3.... 점점점 부하가 발생되는 형태로 알고리즘과 자료구조를 배웁니다!"
      ],
      "metadata": {
        "id": "HcJVhU_dQATg"
      },
      "execution_count": null,
      "outputs": []
    },
    {
      "cell_type": "code",
      "source": [
        "12, 99, 37\n",
        "\n",
        "연결리스트 = {\n",
        "    'head': {\n",
        "        'value': 12,\n",
        "        'next':  {\n",
        "            'value': 99,\n",
        "            'next':  {\n",
        "                'value': 37,\n",
        "                'next': None\n",
        "            }\n",
        "        }\n",
        "    }\n",
        "}"
      ],
      "metadata": {
        "id": "Y-HnNqVrP_6p"
      },
      "execution_count": 3,
      "outputs": []
    },
    {
      "cell_type": "code",
      "source": [
        "class Node:\n",
        "    def __init__(self, data):\n",
        "        self.value = data\n",
        "        self.next = None\n",
        "\n",
        "node1 = Node(90)\n",
        "node2 = Node(2)\n",
        "node3 = Node(77)\n",
        "node4 = Node(35)\n",
        "\n",
        "node1.next = node2\n",
        "node2.next = node3\n",
        "node3.next = node4"
      ],
      "metadata": {
        "id": "fE7-nEmKQHwe"
      },
      "execution_count": 4,
      "outputs": []
    },
    {
      "cell_type": "code",
      "source": [
        "while currentnode is not None:\n",
        "    print(currentnode.value)\n",
        "    currentnode = currentnode.next"
      ],
      "metadata": {
        "id": "r3Gt5LtTQHfO"
      },
      "execution_count": null,
      "outputs": []
    },
    {
      "cell_type": "code",
      "source": [
        "class Node:\n",
        "    def __init__(self, data):\n",
        "        self.value = data\n",
        "        self.next = None\n",
        "\n",
        "node1 = Node(90)\n",
        "node2 = Node(2)\n",
        "node3 = Node(77)\n",
        "node4 = Node(35)\n",
        "\n",
        "node1.next = node2\n",
        "node2.next = node3\n",
        "node3.next = node4\n",
        "\n",
        "node1.next.next.value"
      ],
      "metadata": {
        "colab": {
          "base_uri": "https://localhost:8080/"
        },
        "id": "pfCjQLjZQNVR",
        "outputId": "6347a80b-cf6b-4cb1-9f3d-23bbe282559c"
      },
      "execution_count": 5,
      "outputs": [
        {
          "output_type": "execute_result",
          "data": {
            "text/plain": [
              "77"
            ]
          },
          "metadata": {},
          "execution_count": 5
        }
      ]
    },
    {
      "cell_type": "code",
      "execution_count": 1,
      "metadata": {
        "id": "_RlpPq3Ax9h_",
        "colab": {
          "base_uri": "https://localhost:8080/"
        },
        "outputId": "9f5d5765-b4c1-4a2d-920b-2c99831b6e79"
      },
      "outputs": [
        {
          "output_type": "stream",
          "name": "stdout",
          "text": [
            "90\n",
            "2\n",
            "77\n",
            "35\n"
          ]
        }
      ],
      "source": [
        "class Node:\n",
        "    def __init__(self, data):\n",
        "        self.value = data\n",
        "        self.next = None\n",
        "\n",
        "node1 = Node(90)\n",
        "node2 = Node(2)\n",
        "node3 = Node(77)\n",
        "node4 = Node(35)\n",
        "\n",
        "node1.next = node2\n",
        "node2.next = node3\n",
        "node3.next = node4\n",
        "\n",
        "currentnode = node1\n",
        "while currentnode:\n",
        "    print(currentnode.value)\n",
        "    currentnode = currentnode.next"
      ]
    },
    {
      "cell_type": "code",
      "source": [],
      "metadata": {
        "id": "1u9QvLDVQR2v"
      },
      "execution_count": null,
      "outputs": []
    }
  ]
}