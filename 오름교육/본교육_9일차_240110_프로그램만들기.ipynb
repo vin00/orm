{
  "nbformat": 4,
  "nbformat_minor": 0,
  "metadata": {
    "colab": {
      "provenance": []
    },
    "kernelspec": {
      "name": "python3",
      "display_name": "Python 3"
    },
    "language_info": {
      "name": "python"
    }
  },
  "cells": [
    {
      "cell_type": "markdown",
      "source": [
        "# 할일 목록 만들기\n",
        "\n",
        "* 목표 : 함수, 조건문, 반복문을 최대한 활용"
      ],
      "metadata": {
        "id": "ZFitYXr4GzgS"
      }
    },
    {
      "cell_type": "markdown",
      "source": [
        "### Step 1: 할 일 목록 초기화 및 표시 함수\n",
        "* 목표: 사용자의 할 일 목록을 관리합니다.\n",
        "* 내용:\n",
        "  - 할 일 목록을 저장할 리스트를 초기화합니다.\n",
        "  - 할 일 목록을 표시하는 함수를 정의합니다.\n",
        "\n",
        "### Step 2: 할 일 추가 및 삭제 기능\n",
        "* 목표: 할 일을 추가하고 삭제하는 기능을 구현합니다.\n",
        "* 내용:\n",
        "  - 할 일을 추가하는 함수를 정의합니다.\n",
        "  - 할 일을 삭제하는 함수를 정의합니다.\n",
        "\n",
        "### Step 3: 사용자 입력 처리\n",
        "* 목표: 사용자 입력에 따라 프로그램이 반응하도록 합니다.\n",
        "* 내용:\n",
        "  - 사용자로부터 입력을 받아 추가, 삭제, 표시 기능을 수행합니다."
      ],
      "metadata": {
        "id": "NKWplyJZG-PH"
      }
    },
    {
      "cell_type": "code",
      "source": [
        "# Step 1: 할 일 목록 초기화 및 표시 함수\n",
        "# 1-1 할일 목록리스트 만들기\n",
        "todo_list = []"
      ],
      "metadata": {
        "id": "TTw_IcVjHBbr"
      },
      "execution_count": null,
      "outputs": []
    },
    {
      "cell_type": "code",
      "source": [
        "# 1-2 할 일 목록을 표시하는 함수\n",
        "def display_todo_list():\n",
        "    print('현재 할 일 목록: ')\n",
        "    for task in todo_list:\n",
        "        print(\"- \"+ task)"
      ],
      "metadata": {
        "id": "gC2058V0PzWm"
      },
      "execution_count": null,
      "outputs": []
    },
    {
      "cell_type": "code",
      "source": [
        "# step 2: 할 일 추가 및 삭제 기\n",
        "# 2-1 할 일을 추가하는 함수\n",
        "def add_task(task):\n",
        "    todo_list.append(task)\n",
        "    print(f\"'{task}'가 할 일로 추가되었습니다.\")"
      ],
      "metadata": {
        "id": "OZiKicRIcJor"
      },
      "execution_count": null,
      "outputs": []
    },
    {
      "cell_type": "code",
      "source": [
        "# 2-2 할 일을 삭제하는 함수\n",
        "def remove_task(task):\n",
        "    todo_list.remove(task)\n",
        "    print(f\"'{task}가 삭제되었습니다.\")"
      ],
      "metadata": {
        "id": "WD11ntK6cMtU"
      },
      "execution_count": null,
      "outputs": []
    },
    {
      "cell_type": "code",
      "source": [
        "# step 3: 사용자 입력 처리\n",
        "while True:\n",
        "    print('1: 추가  2: 삭제 3: 확인 4: 종료')\n",
        "    choice = input('선택: ')\n",
        "\n",
        "    if choice == '1':\n",
        "        task = input('할일을 작성해주세요: ')\n",
        "        add_task(task)\n",
        "\n",
        "    if choice == '2':\n",
        "        task = input('삭제할 일을 작성해주세요: ')\n",
        "        remove_task(task)\n",
        "\n",
        "    if choice == '3':\n",
        "        display_todo_list()\n",
        "\n",
        "    if choice == '4':\n",
        "        print('종료되었습니다.')\n",
        "        break"
      ],
      "metadata": {
        "colab": {
          "base_uri": "https://localhost:8080/"
        },
        "id": "P4vE-UbRcM1Q",
        "outputId": "8958fe7c-3853-4c73-99f7-34a5f1d13d26"
      },
      "execution_count": null,
      "outputs": [
        {
          "output_type": "stream",
          "name": "stdout",
          "text": [
            "1: 추가  2: 삭제 3: 확인 4: 종료\n",
            "선택: 3\n",
            "현재 할 일 목록: ['1일 1커밋']\n",
            "-1일 1커밋\n",
            "1: 추가  2: 삭제 3: 확인 4: 종료\n",
            "선택: 2\n",
            "삭제할 일을 작성해주세요: 1일 1커밋\n",
            "'1일 1커밋가 삭제되었습니다.\n",
            "1: 추가  2: 삭제 3: 확인 4: 종료\n",
            "선택: 3\n",
            "현재 할 일 목록: []\n",
            "1: 추가  2: 삭제 3: 확인 4: 종료\n",
            "선택: 4\n",
            "종료되었습니다.\n"
          ]
        }
      ]
    },
    {
      "cell_type": "code",
      "source": [
        "# Step 1: 할 일 목록 초기화 및 표시 함수\n",
        "# 1-1 할일 목록리스트 만들기\n",
        "todo_list = []\n",
        "\n",
        "# 1-2 할 일 목록을 표시하는 함수\n",
        "def display_todo_list():\n",
        "    print('현재 할 일 목록: ')\n",
        "    for task in todo_list:\n",
        "        print(\"- \"+ task)\n",
        "\n",
        "# step 2: 할 일 추가 및 삭제 기\n",
        "# 2-1 할 일을 추가하는 함수\n",
        "def add_task(task):\n",
        "    todo_list.append(task)\n",
        "    print(f\"'{task}'가 할 일로 추가되었습니다.\")\n",
        "\n",
        "# 2-2 할 일을 삭제하는 함수\n",
        "def remove_task(task):\n",
        "    todo_list.remove(task)\n",
        "    print(f\"'{task}가 삭제되었습니다.\")\n",
        "\n",
        "# step 3: 사용자 입력 처리\n",
        "while True:\n",
        "    print('1: 추가  2: 삭제 3: 확인 4: 종료')\n",
        "    choice = input('선택: ')\n",
        "\n",
        "    if choice == '1':\n",
        "        task = input('할일을 작성해주세요: ')\n",
        "        add_task(task)\n",
        "\n",
        "    if choice == '2':\n",
        "        task = input('삭제할 일을 작성해주세요: ')\n",
        "        remove_task(task)\n",
        "\n",
        "    if choice == '3':\n",
        "        display_todo_list()\n",
        "\n",
        "    if choice == '4':\n",
        "        print('종료되었습니다.')\n",
        "        break"
      ],
      "metadata": {
        "colab": {
          "base_uri": "https://localhost:8080/"
        },
        "id": "cXzzqDD2cM8N",
        "outputId": "b69deacb-4d16-4b64-af82-9a5701469543"
      },
      "execution_count": null,
      "outputs": [
        {
          "output_type": "stream",
          "name": "stdout",
          "text": [
            "1: 추가  2: 삭제 3: 확인 4: 종료\n",
            "선택: 1\n",
            "할일을 작성해주세요: 11\n",
            "'11'가 할 일로 추가되었습니다.\n",
            "1: 추가  2: 삭제 3: 확인 4: 종료\n",
            "선택: 3\n",
            "현재 할 일 목록: \n",
            "- 11\n",
            "1: 추가  2: 삭제 3: 확인 4: 종료\n",
            "선택: 2\n",
            "삭제할 일을 작성해주세요: 11\n",
            "'11가 삭제되었습니다.\n",
            "1: 추가  2: 삭제 3: 확인 4: 종료\n",
            "선택: 3\n",
            "현재 할 일 목록: \n",
            "1: 추가  2: 삭제 3: 확인 4: 종료\n",
            "선택: 4\n",
            "종료되었습니다.\n"
          ]
        }
      ]
    },
    {
      "cell_type": "code",
      "source": [],
      "metadata": {
        "id": "gHDnq7bdcNDA"
      },
      "execution_count": null,
      "outputs": []
    },
    {
      "cell_type": "code",
      "source": [],
      "metadata": {
        "id": "qZ0Eg7i3cNJi"
      },
      "execution_count": null,
      "outputs": []
    }
  ]
}