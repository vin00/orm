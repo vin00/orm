{
  "nbformat": 4,
  "nbformat_minor": 0,
  "metadata": {
    "colab": {
      "provenance": []
    },
    "kernelspec": {
      "name": "python3",
      "display_name": "Python 3"
    },
    "language_info": {
      "name": "python"
    }
  },
  "cells": [
    {
      "cell_type": "markdown",
      "source": [
        "# 문제 1: 이메일 주소 변경하기 (sub 사용)\n",
        "\n",
        "문제: 주어진 문자열에서 모든 이메일 주소를 user@weniv.co.kr으로 변경하시오.\n",
        "예시 입력: \"저의 이메일 주소는 kim123@gmail.com입니다. 친구의 이메일 주소는 lee456@gmail.com입니다.\"\n",
        "예시 출력: \"저의 이메일 주소는 user@weniv.co.kr입니다. 친구의 이메일 주소는 user@weniv.co.kr입니다.\"\n",
        "\n",
        "힌트: 이메일 주소를 찾기 위한 정규표현식은 \\b[A-Za-z0-9._%+-]+@[A-Za-z0-9.-]+\\.[A-Z|a-z]{2,}\\b를 사용할 수 있습니다.\n"
      ],
      "metadata": {
        "id": "3Nb1IXeop91s"
      }
    },
    {
      "cell_type": "code",
      "source": [
        "import re\n",
        "\n",
        "text = '''\n",
        "    저의 이메일 주소는 kim123@gmail.com 입니다.\n",
        "    친구의 이메일 주소는 lee456@gmail.com 입니다.\n",
        "'''\n",
        "print(re.sub(r'\\b[A-Za-z0-9._%+-]+@[A-Za-z0-9.-]+.[a-z]{2,}\\b', r'user@weniv.co.kr', text))"
      ],
      "metadata": {
        "colab": {
          "base_uri": "https://localhost:8080/"
        },
        "id": "9Lx_IRB0qWAd",
        "outputId": "ed0b2946-6aaa-4e0a-f4ee-63860419c14a"
      },
      "execution_count": 11,
      "outputs": [
        {
          "output_type": "stream",
          "name": "stdout",
          "text": [
            "\n",
            "    저의 이메일 주소는 user@weniv.co.kr 입니다. \n",
            "    친구의 이메일 주소는 user@weniv.co.kr 입니다.\n",
            "\n"
          ]
        }
      ]
    },
    {
      "cell_type": "markdown",
      "source": [
        "# 문제 2: HTML 태그 제거하기 (sub 사용)\n",
        "문제: 주어진 HTML 문자열에서 모든 HTML 태그를 제거하고 텍스트만 남기시오.\n",
        "```\n",
        "예시 입력: \"<p>이것은 <b>예시</b> 문장입니다.</p>\"\n",
        "예시 출력: \"이것은 예시 문장입니다.\"\n",
        "\n",
        "힌트: HTML 태그를 찾기 위한 정규표현식은 <[^>]+>를 사용할 수 있습니다.\n",
        "```"
      ],
      "metadata": {
        "id": "xK9bV8FYqWzG"
      }
    },
    {
      "cell_type": "code",
      "source": [
        "text = '''<p>이것은 <b>예시</b> 문장입니다.</p>'''\n",
        "\n",
        "print(re.sub(r'<[^>]+>', r'', text))"
      ],
      "metadata": {
        "colab": {
          "base_uri": "https://localhost:8080/"
        },
        "id": "Zm7bK8h-qXPO",
        "outputId": "9923b133-27ea-46b8-e4d4-159f9f04bb70"
      },
      "execution_count": 16,
      "outputs": [
        {
          "output_type": "stream",
          "name": "stdout",
          "text": [
            "이것은 예시 문장입니다.\n"
          ]
        }
      ]
    }
  ]
}