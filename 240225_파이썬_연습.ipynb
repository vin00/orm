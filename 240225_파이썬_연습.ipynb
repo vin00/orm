{
  "nbformat": 4,
  "nbformat_minor": 0,
  "metadata": {
    "colab": {
      "provenance": []
    },
    "kernelspec": {
      "name": "python3",
      "display_name": "Python 3"
    },
    "language_info": {
      "name": "python"
    }
  },
  "cells": [
    {
      "cell_type": "markdown",
      "source": [
        "# 문제 1\n",
        "\n",
        "* 문제 설명\n",
        "가위는 2 바위는 0 보는 5로 표현합니다. 가위 바위 보를 내는 순서대로 나타낸 문자열 rsp가 매개변수로 주어질 때, rsp에 저장된 가위 바위 보를 모두 이기는 경우를 순서대로 나타낸 문자열을 return하도록 solution 함수를 완성해보세요.\n",
        "\n",
        "* 제한사항 \\\n",
        "0 < rsp의 길이 ≤ 100 \\\n",
        "rsp와 길이가 같은 문자열을 return 합니다. \\\n",
        "rsp는 숫자 0, 2, 5로 이루어져 있습니다.\n",
        "\n",
        "```\n",
        "rsp\t   result\n",
        "\"2\"   \t\"0\"\n",
        "\"205\"\t \"052\"\n",
        "```"
      ],
      "metadata": {
        "id": "C-LCH9lxrF42"
      }
    },
    {
      "cell_type": "code",
      "source": [
        "def solution(rsp):\n",
        "    result = []\n",
        "    for i in str(rsp):\n",
        "        if i == \"2\":\n",
        "            result.append(0)\n",
        "        elif i == \"0\":\n",
        "            result.append(5)\n",
        "        elif i == \"5\":\n",
        "            result.append(2)\n",
        "    return \"\".join(map(str, result))\n",
        "\n",
        "solution(205)\n"
      ],
      "metadata": {
        "colab": {
          "base_uri": "https://localhost:8080/",
          "height": 36
        },
        "id": "JJtOl02v5NJH",
        "outputId": "1bbdf4b8-7967-406f-9579-1d84a25cacc6"
      },
      "execution_count": 27,
      "outputs": [
        {
          "output_type": "execute_result",
          "data": {
            "text/plain": [
              "'052'"
            ],
            "application/vnd.google.colaboratory.intrinsic+json": {
              "type": "string"
            }
          },
          "metadata": {},
          "execution_count": 27
        }
      ]
    },
    {
      "cell_type": "code",
      "source": [
        "def solution(rsp):\n",
        "    d = {'0':'5','2':'0','5':'2'}\n",
        "    return ''.join(d[i] for i in rsp)\n",
        "\n",
        "\n",
        "solution('20550')"
      ],
      "metadata": {
        "colab": {
          "base_uri": "https://localhost:8080/",
          "height": 36
        },
        "id": "zuFgd3SNBtKV",
        "outputId": "437f12d7-089b-429c-8030-46a90612e773"
      },
      "execution_count": 29,
      "outputs": [
        {
          "output_type": "execute_result",
          "data": {
            "text/plain": [
              "'05225'"
            ],
            "application/vnd.google.colaboratory.intrinsic+json": {
              "type": "string"
            }
          },
          "metadata": {},
          "execution_count": 29
        }
      ]
    },
    {
      "cell_type": "markdown",
      "source": [
        "# 문제 2 대문자와 소문자\n",
        "\n",
        "* 문제 설명 \\\n",
        "문자열 my_string이 매개변수로 주어질 때, 대문자는 소문자로 소문자는 대문자로 변환한 문자열을 return하도록 solution 함수를 완성해주세요.\n",
        "\n",
        "* 제한사항\\\n",
        "1 ≤ my_string의 길이 ≤ 1,000\\\n",
        "my_string은 영어 대문자와 소문자로만 구성되어 있습니다.\n",
        "\n",
        "```\n",
        "입출력 예\n",
        "my_string\t     result\n",
        "\"cccCCC\"\t    \"CCCccc\"\n",
        "\"abCdEfghIJ\"\t\"ABcDeFGHij\"\n",
        "```"
      ],
      "metadata": {
        "id": "yb9XISbwQU9i"
      }
    },
    {
      "cell_type": "code",
      "source": [
        "def solution(my_string):\n",
        "    result = \"\"\n",
        "    for i in my_string:\n",
        "        if i.islower():\n",
        "            result += i.upper()\n",
        "        else:\n",
        "            result += i.lower()\n",
        "    return result\n",
        "\n",
        "# 테스트\n",
        "print(solution(\"cccCCC\"))  # \"CCCccc\"\n",
        "print(solution(\"abCdEfghIJ\"))  # \"ABcDeFGHij\"\n"
      ],
      "metadata": {
        "colab": {
          "base_uri": "https://localhost:8080/"
        },
        "id": "qjIMr6kwQ05O",
        "outputId": "32fad466-d9b9-4e43-feda-9d1910208b50"
      },
      "execution_count": 30,
      "outputs": [
        {
          "output_type": "stream",
          "name": "stdout",
          "text": [
            "CCCccc\n",
            "ABcDeFGHij\n"
          ]
        }
      ]
    },
    {
      "cell_type": "code",
      "source": [
        "def solution(my_string):\n",
        "    return my_string.swapcase()\n",
        "\n",
        "# 테스트\n",
        "print(solution(\"cccCCC\"))  # \"CCCccc\"\n",
        "print(solution(\"abCdEfghIJ\"))  # \"ABcDeFGHij\""
      ],
      "metadata": {
        "colab": {
          "base_uri": "https://localhost:8080/"
        },
        "id": "rqgb00VoSB_C",
        "outputId": "edd0e90a-7067-4523-ed05-48633f662292"
      },
      "execution_count": 31,
      "outputs": [
        {
          "output_type": "stream",
          "name": "stdout",
          "text": [
            "CCCccc\n",
            "ABcDeFGHij\n"
          ]
        }
      ]
    },
    {
      "cell_type": "code",
      "source": [],
      "metadata": {
        "id": "0o7F25p4TK6P"
      },
      "execution_count": null,
      "outputs": []
    }
  ]
}