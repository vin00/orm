{
  "nbformat": 4,
  "nbformat_minor": 0,
  "metadata": {
    "colab": {
      "provenance": []
    },
    "kernelspec": {
      "name": "python3",
      "display_name": "Python 3"
    },
    "language_info": {
      "name": "python"
    }
  },
  "cells": [
    {
      "cell_type": "markdown",
      "source": [
        "# 1. 매서드 채이닝\n",
        "\n",
        "* 앞에서부터 순차적으로 메서드가 실행되고 반환된 값으로 다음 메서드가 실행"
      ],
      "metadata": {
        "id": "wJGx1xfVku_9"
      }
    },
    {
      "cell_type": "code",
      "source": [
        "'Hello World'.replace('Hello', 'hi').lower() # 출력: hi world\n",
        "# 그 메서드에 리턴된 값이 순차적으로 해소가 되는 방식\n",
        "\n",
        "#'hello world'.a().b().c().d()\n",
        "# 'Hello World'.split().lower() #error!! # split의 결과 값은 리스트로 나옴.\n",
        "'Hello World'.split()[0].lower()"
      ],
      "metadata": {
        "colab": {
          "base_uri": "https://localhost:8080/",
          "height": 35
        },
        "id": "gTy9mxsTsQLl",
        "outputId": "7c4ee8fc-2961-46ea-96f5-8ec983f3a279"
      },
      "execution_count": null,
      "outputs": [
        {
          "output_type": "execute_result",
          "data": {
            "text/plain": [
              "'hello'"
            ],
            "application/vnd.google.colaboratory.intrinsic+json": {
              "type": "string"
            }
          },
          "metadata": {},
          "execution_count": 1
        }
      ]
    },
    {
      "cell_type": "code",
      "source": [
        "class Calculator:\n",
        "    def __init__(self, value):\n",
        "        self.value = value\n",
        "\n",
        "    def add(self, other):\n",
        "        self.value += other\n",
        "        return self\n",
        "\n",
        "    def subtract(self, other):\n",
        "        self.value -= other\n",
        "        return self\n",
        "\n",
        "    def multiply(self, other):\n",
        "        self.value *= other\n",
        "        return self\n",
        "\n",
        "    def get_value(self):\n",
        "        return self.value\n",
        "\n",
        "calc = Calculator(1)\n",
        "result = calc.add(2).subtract(1).multiply(3).get_value()\n",
        "print(result)  # 결과: 6"
      ],
      "metadata": {
        "colab": {
          "base_uri": "https://localhost:8080/"
        },
        "id": "EDW-MgpWtJtO",
        "outputId": "26114537-0f01-4e21-cc43-245b5cf0fe4e"
      },
      "execution_count": null,
      "outputs": [
        {
          "output_type": "stream",
          "name": "stdout",
          "text": [
            "6\n"
          ]
        }
      ]
    },
    {
      "cell_type": "code",
      "source": [
        "# int\n",
        "# float\n",
        "# complex\n",
        "\n",
        "a = 3\n",
        "b = 3.5\n",
        "c = 3j + 4\n",
        "\n",
        "dir(a)\n",
        "dir(b)\n",
        "dir(c)\n",
        "\n",
        "# 공통된 메서드\n",
        "# 'imag' - 허수부\n",
        "# 'real' - 실수부"
      ],
      "metadata": {
        "colab": {
          "base_uri": "https://localhost:8080/"
        },
        "id": "SyJV1h_zvm8b",
        "outputId": "1f58fae0-0d23-4d8d-e90f-4d26acfb8c82"
      },
      "execution_count": null,
      "outputs": [
        {
          "output_type": "execute_result",
          "data": {
            "text/plain": [
              "['__abs__',\n",
              " '__add__',\n",
              " '__bool__',\n",
              " '__class__',\n",
              " '__delattr__',\n",
              " '__dir__',\n",
              " '__doc__',\n",
              " '__eq__',\n",
              " '__format__',\n",
              " '__ge__',\n",
              " '__getattribute__',\n",
              " '__getnewargs__',\n",
              " '__gt__',\n",
              " '__hash__',\n",
              " '__init__',\n",
              " '__init_subclass__',\n",
              " '__le__',\n",
              " '__lt__',\n",
              " '__mul__',\n",
              " '__ne__',\n",
              " '__neg__',\n",
              " '__new__',\n",
              " '__pos__',\n",
              " '__pow__',\n",
              " '__radd__',\n",
              " '__reduce__',\n",
              " '__reduce_ex__',\n",
              " '__repr__',\n",
              " '__rmul__',\n",
              " '__rpow__',\n",
              " '__rsub__',\n",
              " '__rtruediv__',\n",
              " '__setattr__',\n",
              " '__sizeof__',\n",
              " '__str__',\n",
              " '__sub__',\n",
              " '__subclasshook__',\n",
              " '__truediv__',\n",
              " 'conjugate',\n",
              " 'imag',\n",
              " 'real']"
            ]
          },
          "metadata": {},
          "execution_count": 3
        }
      ]
    },
    {
      "cell_type": "markdown",
      "source": [
        "#2. 일급함수 / 고차함수\n",
        "\n",
        "* 일급함수는 함수를 값으로 취급하는 것을 의미\n",
        "* 함수를 변수 취급하는 것을 일급함수라고 합니다.\n",
        "\n"
      ],
      "metadata": {
        "id": "7UYZGU8awVB2"
      }
    },
    {
      "cell_type": "code",
      "source": [
        "def greet(name):\n",
        "    return f'Hello, {name}'\n",
        "\n",
        "say_hello = greet\n",
        "print(say_hello(\"World\"))  # 출력: Hello, World"
      ],
      "metadata": {
        "colab": {
          "base_uri": "https://localhost:8080/"
        },
        "id": "MjkiF5sGv_ay",
        "outputId": "2ead7407-028c-4b11-d65e-4fdf153f2a3c"
      },
      "execution_count": null,
      "outputs": [
        {
          "output_type": "stream",
          "name": "stdout",
          "text": [
            "Hello, World\n"
          ]
        }
      ]
    },
    {
      "cell_type": "code",
      "source": [
        "def add(x, y):\n",
        "    return x + y\n",
        "\n",
        "def subtract(x, y):\n",
        "    return x - y\n",
        "\n",
        "funcs = [add, subtract]\n",
        "print(funcs[0](2, 3))  # 출력: 5"
      ],
      "metadata": {
        "colab": {
          "base_uri": "https://localhost:8080/"
        },
        "id": "vRyG2r_1w_Wh",
        "outputId": "baf03063-aa52-4b77-b435-e8d434357d92"
      },
      "execution_count": null,
      "outputs": [
        {
          "output_type": "stream",
          "name": "stdout",
          "text": [
            "5\n"
          ]
        }
      ]
    },
    {
      "cell_type": "code",
      "source": [
        "# 고차 함수\n",
        "class Operator:\n",
        "    def add(self, x, y):\n",
        "        return x + y\n",
        "\n",
        "    def sub(self, x, y):\n",
        "        return x - y\n",
        "\n",
        "    def mul(self, x, y):\n",
        "        return x * y\n",
        "\n",
        "    def div(self, x, y):\n",
        "        return x / y\n",
        "\n",
        "    def _and(self, x, y):\n",
        "        pass\n",
        "\n",
        "    def _or(self, x, y):\n",
        "        pass\n",
        "\n",
        "op = Operator()\n",
        "logical_op = {\n",
        "    'add': op.add,\n",
        "    'sub': op.sub,\n",
        "    'mul': op.mul,\n",
        "    'div': op.div,\n",
        "}\n",
        "arithmetic_op = {\n",
        "    '_and': op._and,\n",
        "    '_or': op._or,\n",
        "}\n",
        "\n",
        "print(logical_op['add'](2, 3)) # 출력: 5\n",
        "print(op.add(2, 3)) # 출력: 5\n",
        "\n",
        "for _, f in logical_op.items():\n",
        "    print(f(2, 3)) # 4칙연산 모두 계산"
      ],
      "metadata": {
        "colab": {
          "base_uri": "https://localhost:8080/"
        },
        "id": "29NbvURKyvjY",
        "outputId": "80fb0a69-ae01-40fb-8396-6e468ac830c4"
      },
      "execution_count": null,
      "outputs": [
        {
          "output_type": "stream",
          "name": "stdout",
          "text": [
            "5\n",
            "5\n",
            "5\n",
            "-1\n",
            "6\n",
            "0.6666666666666666\n"
          ]
        }
      ]
    },
    {
      "cell_type": "code",
      "source": [
        "# 데코레이터를 이해하기 위한 중요 개념\n",
        "# 함수를 변수 취급하는 것을 일급함수라고 합니다.\n",
        "\n",
        "def add(a, b):\n",
        "    return a + b\n",
        "\n",
        "def say_hello(name):\n",
        "    return f'Hello, {name}'\n",
        "\n",
        "def greet(func, name):\n",
        "    return func(name)\n",
        "\n",
        "print(greet(say_hello, 'World'))  # 출력: Hello, World"
      ],
      "metadata": {
        "colab": {
          "base_uri": "https://localhost:8080/"
        },
        "id": "UFdEKfe1z7fU",
        "outputId": "22bfbab5-d1cd-4d83-9792-20a6c5050020"
      },
      "execution_count": null,
      "outputs": [
        {
          "output_type": "stream",
          "name": "stdout",
          "text": [
            "Hello, World\n"
          ]
        }
      ]
    },
    {
      "cell_type": "code",
      "source": [
        "# 함수를 리턴할 수 있다.(데코레이터의 핵심 개념)\n",
        "# 원래 사용되고 사라져야 하는 변수가 함수가 끝났는데도 밖에서 참조하고 있다면 살아 있음 -> 클로져\n",
        "def create_adder(x):\n",
        "    def adder(y):\n",
        "        return x + y\n",
        "    return adder\n",
        "\n",
        "add_5 = create_adder(5)\n",
        "print(add_5(10))  # 출력: 15"
      ],
      "metadata": {
        "colab": {
          "base_uri": "https://localhost:8080/"
        },
        "id": "VU2POOxa300T",
        "outputId": "1fd0ef2b-9ed4-4e67-90d9-5b64375a09bd"
      },
      "execution_count": null,
      "outputs": [
        {
          "output_type": "stream",
          "name": "stdout",
          "text": [
            "15\n"
          ]
        }
      ]
    },
    {
      "cell_type": "code",
      "source": [
        "def create_sq(x):\n",
        "    def sq(y):\n",
        "        return x ** y\n",
        "    return sq\n",
        "\n",
        "제곱2 = create_sq(2) # x를 변경 불가능하게 감추기 위한 코딩 기법 -> 클로져\n",
        "제곱3 = create_sq(3)\n",
        "제곱4 = create_sq(4)\n",
        "\n",
        "제곱2(2), 제곱2(3), 제곱2(4)\n",
        "제곱3(2), 제곱3(3), 제곱3(4)\n",
        "제곱4(2), 제곱4(3), 제곱4(4)\n"
      ],
      "metadata": {
        "colab": {
          "base_uri": "https://localhost:8080/"
        },
        "id": "VfVhVv_f4fMD",
        "outputId": "24cb4bb1-3ec2-4edc-8bc3-b662bf673bfc"
      },
      "execution_count": null,
      "outputs": [
        {
          "output_type": "execute_result",
          "data": {
            "text/plain": [
              "(16, 64, 256)"
            ]
          },
          "metadata": {},
          "execution_count": 12
        }
      ]
    },
    {
      "cell_type": "markdown",
      "source": [
        "# 3. 재귀함수\n",
        "\n",
        "* 내가 나를 호출하는 함수\n",
        "* 잘못 사용하면 비효율적이므로 잘 만들지 못한다면 반복문으로 사용하는 것이 좋음.\n",
        "* 사용되는 곳 : 분할 정복, 다이나믹 프로그래밍 등 어려운 코딩에서 간혹 사용"
      ],
      "metadata": {
        "id": "7xj_IoLQ7Du9"
      }
    },
    {
      "cell_type": "code",
      "source": [
        "# f(5) => 5 * 4 * 3 * 2 * 1 == 120 == 5! (5팩토리어)\n",
        "def f(n):\n",
        "    if n <= 1:\n",
        "        return n\n",
        "    return n * f(n-1)\n",
        "\n",
        "f(5)"
      ],
      "metadata": {
        "colab": {
          "base_uri": "https://localhost:8080/"
        },
        "id": "x-HXSNk871Fh",
        "outputId": "71b610d4-8eb3-4322-d2e7-ac66f64accbb"
      },
      "execution_count": null,
      "outputs": [
        {
          "output_type": "execute_result",
          "data": {
            "text/plain": [
              "120"
            ]
          },
          "metadata": {},
          "execution_count": 13
        }
      ]
    },
    {
      "cell_type": "code",
      "source": [
        "# 재귀보다 반복문 권장\n",
        "result = 1\n",
        "for i in range(1, 6):\n",
        "    result *= i\n",
        "\n",
        "result"
      ],
      "metadata": {
        "colab": {
          "base_uri": "https://localhost:8080/"
        },
        "id": "Ayd5pa8V93YC",
        "outputId": "b543b0cc-e3eb-42f4-9eb5-a33e554ab3c5"
      },
      "execution_count": null,
      "outputs": [
        {
          "output_type": "execute_result",
          "data": {
            "text/plain": [
              "120"
            ]
          },
          "metadata": {},
          "execution_count": 15
        }
      ]
    },
    {
      "cell_type": "code",
      "source": [
        "def 숫자출력(count):\n",
        "    if count > 100:\n",
        "        return\n",
        "    print(count)\n",
        "    return 숫자출력(count+1) #값을 1부터 반복횟수 까지의 값을 출력\n",
        "\n",
        "숫자출력(1)"
      ],
      "metadata": {
        "colab": {
          "base_uri": "https://localhost:8080/"
        },
        "id": "iS0AdWQJ8psS",
        "outputId": "4645b6de-1376-40b8-cb78-7f0ec4fc4965"
      },
      "execution_count": null,
      "outputs": [
        {
          "output_type": "stream",
          "name": "stdout",
          "text": [
            "1\n",
            "2\n",
            "3\n",
            "4\n",
            "5\n",
            "6\n",
            "7\n",
            "8\n",
            "9\n",
            "10\n",
            "11\n",
            "12\n",
            "13\n",
            "14\n",
            "15\n",
            "16\n",
            "17\n",
            "18\n",
            "19\n",
            "20\n",
            "21\n",
            "22\n",
            "23\n",
            "24\n",
            "25\n",
            "26\n",
            "27\n",
            "28\n",
            "29\n",
            "30\n",
            "31\n",
            "32\n",
            "33\n",
            "34\n",
            "35\n",
            "36\n",
            "37\n",
            "38\n",
            "39\n",
            "40\n",
            "41\n",
            "42\n",
            "43\n",
            "44\n",
            "45\n",
            "46\n",
            "47\n",
            "48\n",
            "49\n",
            "50\n",
            "51\n",
            "52\n",
            "53\n",
            "54\n",
            "55\n",
            "56\n",
            "57\n",
            "58\n",
            "59\n",
            "60\n",
            "61\n",
            "62\n",
            "63\n",
            "64\n",
            "65\n",
            "66\n",
            "67\n",
            "68\n",
            "69\n",
            "70\n",
            "71\n",
            "72\n",
            "73\n",
            "74\n",
            "75\n",
            "76\n",
            "77\n",
            "78\n",
            "79\n",
            "80\n",
            "81\n",
            "82\n",
            "83\n",
            "84\n",
            "85\n",
            "86\n",
            "87\n",
            "88\n",
            "89\n",
            "90\n",
            "91\n",
            "92\n",
            "93\n",
            "94\n",
            "95\n",
            "96\n",
            "97\n",
            "98\n",
            "99\n",
            "100\n"
          ]
        }
      ]
    },
    {
      "cell_type": "code",
      "source": [
        "# 재귀보다 반복문 권장\n",
        "for i in range(1, 101):\n",
        "    print(i)"
      ],
      "metadata": {
        "colab": {
          "base_uri": "https://localhost:8080/"
        },
        "id": "Qd6YO2GX9Ohs",
        "outputId": "099634e4-7257-4e4b-8142-ab6369e3125a"
      },
      "execution_count": null,
      "outputs": [
        {
          "output_type": "stream",
          "name": "stdout",
          "text": [
            "1\n",
            "2\n",
            "3\n",
            "4\n",
            "5\n",
            "6\n",
            "7\n",
            "8\n",
            "9\n",
            "10\n",
            "11\n",
            "12\n",
            "13\n",
            "14\n",
            "15\n",
            "16\n",
            "17\n",
            "18\n",
            "19\n",
            "20\n",
            "21\n",
            "22\n",
            "23\n",
            "24\n",
            "25\n",
            "26\n",
            "27\n",
            "28\n",
            "29\n",
            "30\n",
            "31\n",
            "32\n",
            "33\n",
            "34\n",
            "35\n",
            "36\n",
            "37\n",
            "38\n",
            "39\n",
            "40\n",
            "41\n",
            "42\n",
            "43\n",
            "44\n",
            "45\n",
            "46\n",
            "47\n",
            "48\n",
            "49\n",
            "50\n",
            "51\n",
            "52\n",
            "53\n",
            "54\n",
            "55\n",
            "56\n",
            "57\n",
            "58\n",
            "59\n",
            "60\n",
            "61\n",
            "62\n",
            "63\n",
            "64\n",
            "65\n",
            "66\n",
            "67\n",
            "68\n",
            "69\n",
            "70\n",
            "71\n",
            "72\n",
            "73\n",
            "74\n",
            "75\n",
            "76\n",
            "77\n",
            "78\n",
            "79\n",
            "80\n",
            "81\n",
            "82\n",
            "83\n",
            "84\n",
            "85\n",
            "86\n",
            "87\n",
            "88\n",
            "89\n",
            "90\n",
            "91\n",
            "92\n",
            "93\n",
            "94\n",
            "95\n",
            "96\n",
            "97\n",
            "98\n",
            "99\n",
            "100\n"
          ]
        }
      ]
    },
    {
      "cell_type": "code",
      "source": [
        "s = ''\n",
        "for i in 'hello':\n",
        "    s = i + s\n",
        "\n",
        "s\n",
        "\n",
        "# s = 'h' + ''\n",
        "# s = 'e' + 'h'\n",
        "# s = 'l' + 'eh'\n",
        "# s = 'l' + 'leh'\n",
        "# s = 'o' + 'lleh'\n",
        "# => 'olleh'"
      ],
      "metadata": {
        "colab": {
          "base_uri": "https://localhost:8080/",
          "height": 35
        },
        "id": "u5dNfnCE-L8k",
        "outputId": "8bb26708-1cc5-49b1-df0a-ee9bf3e45dcb"
      },
      "execution_count": null,
      "outputs": [
        {
          "output_type": "execute_result",
          "data": {
            "text/plain": [
              "'olleh'"
            ],
            "application/vnd.google.colaboratory.intrinsic+json": {
              "type": "string"
            }
          },
          "metadata": {},
          "execution_count": 17
        }
      ]
    },
    {
      "cell_type": "code",
      "source": [
        "def f(s):\n",
        "    if len(s) <= 1:\n",
        "        return s\n",
        "    return f(s[1:]) + s[0]\n",
        "\n",
        "f('hello')"
      ],
      "metadata": {
        "colab": {
          "base_uri": "https://localhost:8080/",
          "height": 35
        },
        "id": "umGYD7ADBNWT",
        "outputId": "8e3bb89f-f220-493f-fda8-edb504b96a0e"
      },
      "execution_count": null,
      "outputs": [
        {
          "output_type": "execute_result",
          "data": {
            "text/plain": [
              "'olleh'"
            ],
            "application/vnd.google.colaboratory.intrinsic+json": {
              "type": "string"
            }
          },
          "metadata": {},
          "execution_count": 18
        }
      ]
    },
    {
      "cell_type": "code",
      "source": [],
      "metadata": {
        "id": "1ZXNsIf7BPFb"
      },
      "execution_count": null,
      "outputs": []
    }
  ]
}