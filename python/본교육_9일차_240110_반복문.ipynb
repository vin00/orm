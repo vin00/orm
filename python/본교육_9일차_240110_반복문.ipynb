{
  "nbformat": 4,
  "nbformat_minor": 0,
  "metadata": {
    "colab": {
      "provenance": []
    },
    "kernelspec": {
      "name": "python3",
      "display_name": "Python 3"
    },
    "language_info": {
      "name": "python"
    }
  },
  "cells": [
    {
      "cell_type": "markdown",
      "source": [
        "# 1. while문\n",
        "\n",
        "* for문과 차이점\n",
        " - 조건이 있다. for문은 범위가 있다.\n",
        " - 연산자가 없다면 무한반복이 될 수도 있음.\n",
        " - 무한반복으로 빠지게 되면 오류가 나서 전체 다운이 될 수 있다.(실행 전 저장이 필수)"
      ],
      "metadata": {
        "id": "EDFn1eolru99"
      }
    },
    {
      "cell_type": "code",
      "source": [
        "a = 1 # 연산자를 계산할수 있는 변수가 하나있고,\n",
        "# while문은 조건이 참이면 계속 수행 -> 무한루프(무한으로 프로그램이 돌아가게 만듬)\n",
        "while a < 10 : #1. for문과 차이점 - 조건이 있다. (for문은 범위가 있다.)\n",
        "\tprint(a)\n",
        "\ta += 1  # (무한루프에 빠질수 있기 때문에) -> 연산자를 계산해서 조건문을 강제로 false로 만드는 구문이 있다."
      ],
      "metadata": {
        "id": "-ylwE9QXsB2Q"
      },
      "execution_count": null,
      "outputs": []
    },
    {
      "cell_type": "markdown",
      "source": [
        "Step1 : a -> 1 지정\n",
        "\n",
        "Step2 : while (a = 1) < 10 -> True -> while조건문 실행\n",
        "\n",
        "Step3 : print(a) -> a=1 -> 1이 출력\n",
        "\n",
        "Step4 : a += 1 -> a -> 2\n",
        "\n",
        "Step2-1 : a -> 2 step2,3,4가 계속 반복\n",
        "\n",
        "Step10-1 : a-> 10\n",
        "\n",
        "Step10-2 : a = 10 < 10 -> False -> while조건문 미실행\n",
        "-> 조건문 완료!\n",
        "\n",
        "* 어떨때 쓰일까?\n",
        "1. 로또번호 - 6개까지 추첨하면 끝!\n",
        "2. 이벤트 -> 100명이 당첨되면 끝!\n",
        "3. 제한된 마케팅 / 고객모집"
      ],
      "metadata": {
        "id": "o2YZR5gLwJCk"
      }
    },
    {
      "cell_type": "code",
      "source": [
        "import os\n",
        "\n",
        "while True :\n",
        "    userinput = input('>')\n",
        "    if userinput == 'pwd':\n",
        "        # print('현재 위치 출력')\n",
        "        # print('\\\\'.join(__file__.split('\\\\')[:-1]))\n",
        "        print(os.getcwd())\n",
        "    elif userinput == 'dir' or userinput == 'ls':\n",
        "        # print('현재 폴더에 폴더와 파일명 출력')\n",
        "        print(os.listdir(os.getcwd()))\n",
        "    elif userinput == 'exit':\n",
        "        print('안녕히가세요.')\n",
        "        break\n"
      ],
      "metadata": {
        "colab": {
          "base_uri": "https://localhost:8080/"
        },
        "id": "LxC8R0ScwmEc",
        "outputId": "35de7295-9ac4-4f41-d08f-63d664096082"
      },
      "execution_count": null,
      "outputs": [
        {
          "output_type": "stream",
          "name": "stdout",
          "text": [
            ">pwd\n",
            "/content\n",
            ">dir\n",
            "['.config', 'sample_data']\n",
            ">exit\n",
            "안녕히가세요.\n"
          ]
        }
      ]
    },
    {
      "cell_type": "code",
      "source": [
        "# 중첩 while문\n",
        "# 구구단 while문으로 만들기\n",
        "\n",
        "i = 2\n",
        "while i < 10: # i가 10보다 작을때까지\n",
        "    j = 1\n",
        "    while j < 10: # j가 10보다 작을때까지\n",
        "        print(f'{i} x {j} = {i*j}') # 출력\n",
        "        j += 1 # j는 1씩 증가\n",
        "    i += 1     # i는 1씩 증가\n",
        "\n",
        "# 중첩 for문\n",
        "for i in range(2,10):\n",
        "    for j in range(1,10):\n",
        "        print(f'{i} x {j} = {i*j}')"
      ],
      "metadata": {
        "colab": {
          "base_uri": "https://localhost:8080/"
        },
        "id": "4tx2OUP84piX",
        "outputId": "13df0bdc-e914-46c7-d5f1-21f9505cccc8"
      },
      "execution_count": null,
      "outputs": [
        {
          "output_type": "stream",
          "name": "stdout",
          "text": [
            "2 x 1 = 2\n",
            "2 x 2 = 4\n",
            "2 x 3 = 6\n",
            "2 x 4 = 8\n",
            "2 x 5 = 10\n",
            "2 x 6 = 12\n",
            "2 x 7 = 14\n",
            "2 x 8 = 16\n",
            "2 x 9 = 18\n",
            "3 x 1 = 3\n",
            "3 x 2 = 6\n",
            "3 x 3 = 9\n",
            "3 x 4 = 12\n",
            "3 x 5 = 15\n",
            "3 x 6 = 18\n",
            "3 x 7 = 21\n",
            "3 x 8 = 24\n",
            "3 x 9 = 27\n",
            "4 x 1 = 4\n",
            "4 x 2 = 8\n",
            "4 x 3 = 12\n",
            "4 x 4 = 16\n",
            "4 x 5 = 20\n",
            "4 x 6 = 24\n",
            "4 x 7 = 28\n",
            "4 x 8 = 32\n",
            "4 x 9 = 36\n",
            "5 x 1 = 5\n",
            "5 x 2 = 10\n",
            "5 x 3 = 15\n",
            "5 x 4 = 20\n",
            "5 x 5 = 25\n",
            "5 x 6 = 30\n",
            "5 x 7 = 35\n",
            "5 x 8 = 40\n",
            "5 x 9 = 45\n",
            "6 x 1 = 6\n",
            "6 x 2 = 12\n",
            "6 x 3 = 18\n",
            "6 x 4 = 24\n",
            "6 x 5 = 30\n",
            "6 x 6 = 36\n",
            "6 x 7 = 42\n",
            "6 x 8 = 48\n",
            "6 x 9 = 54\n",
            "7 x 1 = 7\n",
            "7 x 2 = 14\n",
            "7 x 3 = 21\n",
            "7 x 4 = 28\n",
            "7 x 5 = 35\n",
            "7 x 6 = 42\n",
            "7 x 7 = 49\n",
            "7 x 8 = 56\n",
            "7 x 9 = 63\n",
            "8 x 1 = 8\n",
            "8 x 2 = 16\n",
            "8 x 3 = 24\n",
            "8 x 4 = 32\n",
            "8 x 5 = 40\n",
            "8 x 6 = 48\n",
            "8 x 7 = 56\n",
            "8 x 8 = 64\n",
            "8 x 9 = 72\n",
            "9 x 1 = 9\n",
            "9 x 2 = 18\n",
            "9 x 3 = 27\n",
            "9 x 4 = 36\n",
            "9 x 5 = 45\n",
            "9 x 6 = 54\n",
            "9 x 7 = 63\n",
            "9 x 8 = 72\n",
            "9 x 9 = 81\n",
            "2 x 1 = 2\n",
            "2 x 2 = 4\n",
            "2 x 3 = 6\n",
            "2 x 4 = 8\n",
            "2 x 5 = 10\n",
            "2 x 6 = 12\n",
            "2 x 7 = 14\n",
            "2 x 8 = 16\n",
            "2 x 9 = 18\n",
            "3 x 1 = 3\n",
            "3 x 2 = 6\n",
            "3 x 3 = 9\n",
            "3 x 4 = 12\n",
            "3 x 5 = 15\n",
            "3 x 6 = 18\n",
            "3 x 7 = 21\n",
            "3 x 8 = 24\n",
            "3 x 9 = 27\n",
            "4 x 1 = 4\n",
            "4 x 2 = 8\n",
            "4 x 3 = 12\n",
            "4 x 4 = 16\n",
            "4 x 5 = 20\n",
            "4 x 6 = 24\n",
            "4 x 7 = 28\n",
            "4 x 8 = 32\n",
            "4 x 9 = 36\n",
            "5 x 1 = 5\n",
            "5 x 2 = 10\n",
            "5 x 3 = 15\n",
            "5 x 4 = 20\n",
            "5 x 5 = 25\n",
            "5 x 6 = 30\n",
            "5 x 7 = 35\n",
            "5 x 8 = 40\n",
            "5 x 9 = 45\n",
            "6 x 1 = 6\n",
            "6 x 2 = 12\n",
            "6 x 3 = 18\n",
            "6 x 4 = 24\n",
            "6 x 5 = 30\n",
            "6 x 6 = 36\n",
            "6 x 7 = 42\n",
            "6 x 8 = 48\n",
            "6 x 9 = 54\n",
            "7 x 1 = 7\n",
            "7 x 2 = 14\n",
            "7 x 3 = 21\n",
            "7 x 4 = 28\n",
            "7 x 5 = 35\n",
            "7 x 6 = 42\n",
            "7 x 7 = 49\n",
            "7 x 8 = 56\n",
            "7 x 9 = 63\n",
            "8 x 1 = 8\n",
            "8 x 2 = 16\n",
            "8 x 3 = 24\n",
            "8 x 4 = 32\n",
            "8 x 5 = 40\n",
            "8 x 6 = 48\n",
            "8 x 7 = 56\n",
            "8 x 8 = 64\n",
            "8 x 9 = 72\n",
            "9 x 1 = 9\n",
            "9 x 2 = 18\n",
            "9 x 3 = 27\n",
            "9 x 4 = 36\n",
            "9 x 5 = 45\n",
            "9 x 6 = 54\n",
            "9 x 7 = 63\n",
            "9 x 8 = 72\n",
            "9 x 9 = 81\n"
          ]
        }
      ]
    },
    {
      "cell_type": "markdown",
      "source": [
        "Step1 : i -> 2 지정\n",
        "\n",
        "Step2 : while (i = 2) < 10 -> True -> while조건문 실행\n",
        "\n",
        "Step3 : while (j = 1) < 10 -> True -> while조건문 실행\n",
        "\n",
        "Step4 : 출력 '{i} x {j} = {i*j}'\n",
        "\n",
        "Step2-1 : a -> 2 step2,3,4가 계속 반복\n",
        "\n",
        "Step10-1 : a-> 10\n",
        "\n",
        "Step10-2 : a = 10 < 10 -> False -> while조건문 미실행\n",
        "-> 조건문 완료!"
      ],
      "metadata": {
        "id": "SPsPVmln9ILz"
      }
    },
    {
      "cell_type": "markdown",
      "source": [
        "# 2. Break / continue / pass\n",
        "\n",
        "* 반복문의 흐름을 끊어주기 위해 필요\n",
        "* Break는 직시 종료시킴\n",
        "* continue는 반복문의 나머지 부분을 건너뛰고 반복문을 다음 반복으로 즉시 이동\n",
        "* pass 코드가 에러나지 않도록 해주는 역할만 있음."
      ],
      "metadata": {
        "id": "IpKFCqEPx3DO"
      }
    },
    {
      "cell_type": "code",
      "source": [
        "# 전형적인 반복문\n",
        "for i in range(10):\n",
        "        print(i)"
      ],
      "metadata": {
        "colab": {
          "base_uri": "https://localhost:8080/"
        },
        "id": "sBoPBxTAyguq",
        "outputId": "8aed6df7-f1f3-4ba0-9a27-c178f5bb4efc"
      },
      "execution_count": null,
      "outputs": [
        {
          "output_type": "stream",
          "name": "stdout",
          "text": [
            "0\n",
            "1\n",
            "2\n",
            "3\n",
            "4\n",
            "5\n",
            "6\n",
            "7\n",
            "8\n",
            "9\n"
          ]
        }
      ]
    },
    {
      "cell_type": "code",
      "source": [
        "for i in range(10):\n",
        "    if i == 5: # 만약 i가 5면 정지시켜라! -> 0부터 5까지만 출력하고 나머지는 출력하지 않겠다.\n",
        "        break  # 해당구문일때 즉시 종료 #break도 코드블록 4칸 띄어서\n",
        "    print(i)"
      ],
      "metadata": {
        "colab": {
          "base_uri": "https://localhost:8080/"
        },
        "id": "lFBJ48mRyyQQ",
        "outputId": "87a55338-27c7-4544-eb3e-197a5b1ed63b"
      },
      "execution_count": null,
      "outputs": [
        {
          "output_type": "stream",
          "name": "stdout",
          "text": [
            "0\n",
            "1\n",
            "2\n",
            "3\n",
            "4\n"
          ]
        }
      ]
    },
    {
      "cell_type": "code",
      "source": [
        "#\n",
        "for i in range(10): # 0~9까지\n",
        "    if i % 2 == 0:  # 짝수인 경우에 하단 코드블럭 실행\n",
        "        continue    # 짝수인 경우에 실행한 구문이 continue -> 짝수일때 -> 다시 반복문 다음순서로 이동!\n",
        "    print(i)        # for문안에 if문 실행 된 후에 차례대로 print(i)\n",
        "#\n",
        "for i in range(10): # 0~9까지\n",
        "    if i % 2 == 0:  # 짝수인 경우에 하단 코드블럭 실행\n",
        "        print(i)    # 짝수인 경우 출력!\n"
      ],
      "metadata": {
        "colab": {
          "base_uri": "https://localhost:8080/"
        },
        "id": "508XDIGqz0JD",
        "outputId": "2d3bc4d6-c8e7-45f3-ecc6-ea1878c15fa8"
      },
      "execution_count": null,
      "outputs": [
        {
          "output_type": "stream",
          "name": "stdout",
          "text": [
            "1\n",
            "3\n",
            "5\n",
            "7\n",
            "9\n",
            "0\n",
            "2\n",
            "4\n",
            "6\n",
            "8\n"
          ]
        }
      ]
    },
    {
      "cell_type": "code",
      "source": [
        "import random\n",
        "\n",
        "answr = random.randint(1, 1000)\n",
        "while True:\n",
        "    userinput = int(input('숫자를 입력해주세요: '))\n",
        "    if userinput > answr:\n",
        "        print('Down')\n",
        "    elif userinput < answr:\n",
        "        print('Up')\n",
        "    else:\n",
        "        print('축하합니다! 맞추셨어요!')\n",
        "        break"
      ],
      "metadata": {
        "colab": {
          "base_uri": "https://localhost:8080/"
        },
        "id": "pOdK9BHv0FMm",
        "outputId": "e7f7cd46-6278-49a6-a42d-d373857d107d"
      },
      "execution_count": null,
      "outputs": [
        {
          "output_type": "stream",
          "name": "stdout",
          "text": [
            "숫자를 입력해주세요: 800\n",
            "Down\n",
            "숫자를 입력해주세요: 500\n",
            "Down\n",
            "숫자를 입력해주세요: 300\n",
            "Down\n",
            "숫자를 입력해주세요: 200\n",
            "Up\n",
            "숫자를 입력해주세요: 215\n",
            "Up\n",
            "숫자를 입력해주세요: 250\n",
            "Down\n",
            "숫자를 입력해주세요: 230\n",
            "Up\n",
            "숫자를 입력해주세요: 240\n",
            "Down\n",
            "숫자를 입력해주세요: 237\n",
            "Down\n",
            "숫자를 입력해주세요: 234\n",
            "Down\n",
            "숫자를 입력해주세요: 232\n",
            "축하합니다! 맞추셨어요!\n"
          ]
        }
      ]
    },
    {
      "cell_type": "code",
      "source": [
        "switch = 0\n",
        "for i in range(5):\n",
        "    if switch == 1:\n",
        "        break\n",
        "    for j in range(5):\n",
        "        if j == 3:\n",
        "            switch = 1\n",
        "            break\n",
        "        print(f'{i}, {j}')"
      ],
      "metadata": {
        "colab": {
          "base_uri": "https://localhost:8080/"
        },
        "id": "Vp7BWSnS-Q3l",
        "outputId": "5b998ec0-707a-4b6d-a944-847037b61972"
      },
      "execution_count": null,
      "outputs": [
        {
          "output_type": "stream",
          "name": "stdout",
          "text": [
            "0, 0\n",
            "0, 1\n",
            "0, 2\n"
          ]
        }
      ]
    },
    {
      "cell_type": "code",
      "source": [
        "# 모든 반복문을 탈출하는 법\n",
        "try:\n",
        "    for i in range(2, 10):\n",
        "        for j in range(1, 10):\n",
        "            if j == 3:\n",
        "                raise StopIteration\n",
        "            print(f'{i} x {j} = {i*j}')\n",
        "except StopIteration:\n",
        "    print('Done')"
      ],
      "metadata": {
        "colab": {
          "base_uri": "https://localhost:8080/"
        },
        "id": "sUsNb7owArt9",
        "outputId": "ce9d76a7-1048-48d2-e693-322753104b70"
      },
      "execution_count": null,
      "outputs": [
        {
          "output_type": "stream",
          "name": "stdout",
          "text": [
            "2 x 1 = 2\n",
            "2 x 2 = 4\n",
            "Done\n"
          ]
        }
      ]
    },
    {
      "cell_type": "markdown",
      "source": [
        "## 3. else\n",
        "\n",
        "* 반복문에서도 else문을 사용가능\n",
        "* 반복이 정상 종료된 다음 수행할 수 있는 문구 추가 가능"
      ],
      "metadata": {
        "id": "uhUW2tejBdgI"
      }
    },
    {
      "cell_type": "code",
      "source": [
        "# for - else\n",
        "for i in range(5):\n",
        "    print(f'{i} 물고기를 잡았습니다.')\n",
        "    if i == 5:\n",
        "        print('만선입니다. 물고기를 다 잡았습니다.')\n",
        "        break\n",
        "else:\n",
        "    print('아직 여유가 좀 있지만, 물고기가 더 없는 것 같으니\\\n",
        "     이정도로 만족하고 돌아갑시다.')\n",
        "    # break가 작동 되기 전에 반복문이 종료 되었을때 수행됨.\n",
        "print('수고하셨습니다.')"
      ],
      "metadata": {
        "colab": {
          "base_uri": "https://localhost:8080/"
        },
        "id": "a3qdBZn0CTS_",
        "outputId": "b72463ad-1392-4794-e449-17cf6b88e7ff"
      },
      "execution_count": null,
      "outputs": [
        {
          "output_type": "stream",
          "name": "stdout",
          "text": [
            "0 물고기를 잡았습니다.\n",
            "1 물고기를 잡았습니다.\n",
            "2 물고기를 잡았습니다.\n",
            "3 물고기를 잡았습니다.\n",
            "4 물고기를 잡았습니다.\n",
            "아직 여유가 좀 있지만, 물고기가 더 없는 것 같으니     이정도로 만족하고 돌아갑시다.\n",
            "수고하셨습니다.\n"
          ]
        }
      ]
    },
    {
      "cell_type": "code",
      "source": [
        "# while - else (while가 False일때도 else가 실행됨.)\n",
        "n = 0\n",
        "while n < 5:\n",
        "    print(f'현재 숫자는 {n}입니다.')\n",
        "    n += 1\n",
        "else:\n",
        "    print('반복문을 종료합니다.')"
      ],
      "metadata": {
        "colab": {
          "base_uri": "https://localhost:8080/"
        },
        "id": "8MhZUi0nCn6l",
        "outputId": "b57f2688-7340-4113-d0ca-8863be1424b0"
      },
      "execution_count": null,
      "outputs": [
        {
          "output_type": "stream",
          "name": "stdout",
          "text": [
            "현재 숫자는 0입니다.\n",
            "현재 숫자는 1입니다.\n",
            "현재 숫자는 2입니다.\n",
            "현재 숫자는 3입니다.\n",
            "현재 숫자는 4입니다.\n",
            "반복문을 종료합니다.\n"
          ]
        }
      ]
    },
    {
      "cell_type": "code",
      "source": [
        "# for - else\n",
        "for i in range(1, 4):\n",
        "    print(f'{i}등 입니다.')\n",
        "    if i == 5:\n",
        "        print('1 ~ 5등 여러분 축하드립니다.')\n",
        "        break\n",
        "else:\n",
        "    print('아쉽지만 오늘은 여기까지 추첨하겠습니다.')\n",
        "print('축하드립니다.')"
      ],
      "metadata": {
        "id": "43ruoznRDmMT",
        "colab": {
          "base_uri": "https://localhost:8080/"
        },
        "outputId": "7d30f937-77f2-4c71-9a2b-655eba14fba1"
      },
      "execution_count": null,
      "outputs": [
        {
          "output_type": "stream",
          "name": "stdout",
          "text": [
            "1등 입니다.\n",
            "2등 입니다.\n",
            "3등 입니다.\n",
            "아쉽지만 오늘은 여기까지 추첨하겠습니다.\n",
            "축하드립니다.\n"
          ]
        }
      ]
    },
    {
      "cell_type": "code",
      "source": [],
      "metadata": {
        "id": "lwCzt55hVLeL"
      },
      "execution_count": null,
      "outputs": []
    }
  ]
}