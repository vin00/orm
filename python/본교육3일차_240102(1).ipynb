{
  "nbformat": 4,
  "nbformat_minor": 0,
  "metadata": {
    "colab": {
      "provenance": []
    },
    "kernelspec": {
      "name": "python3",
      "display_name": "Python 3"
    },
    "language_info": {
      "name": "python"
    }
  },
  "cells": [
    {
      "cell_type": "markdown",
      "source": [
        "# 2024년 새해 계획 프로그램\n",
        "\n",
        "2024년도 계획을 10가지를 적고 변수를 input으로 반는 프로그램 만들기\n",
        "\n",
        "1. 나의 2024년도 계획을 적는다.\n",
        "2. input을 받을 공간을 비우고 작성한다.\n",
        "3. f-sting용법으로 전체 문장과 변수를 출력한다."
      ],
      "metadata": {
        "id": "oYxdnmGYd3qf"
      }
    },
    {
      "cell_type": "markdown",
      "source": [
        "##1. 2024년 계획 적기\n",
        "\n",
        "1. 올해는 매일 아침운동을 하기로 했다.\n",
        "2. 코딩교육이 끝날때까지 매일 1일 1커밋을 하려고 한다.\n",
        "3. 올해는 매일 30분이상 독서를 하려고 한다."
      ],
      "metadata": {
        "id": "oN8dLa4QlpHO"
      }
    },
    {
      "cell_type": "markdown",
      "source": [
        "###1.1 하나의 단어를 입력받아서 출력하기"
      ],
      "metadata": {
        "id": "pPZNNJRpsoL9"
      }
    },
    {
      "cell_type": "code",
      "source": [
        "# 1가지 input 받아보기\n",
        "sentence_1 = input(\"올해는 매일 ___을 하기로 했다:\")"
      ],
      "metadata": {
        "colab": {
          "base_uri": "https://localhost:8080/"
        },
        "id": "TyfGu6vAlT4B",
        "outputId": "de1f2c61-0d45-4492-baa2-f3ee3daa5053"
      },
      "execution_count": null,
      "outputs": [
        {
          "name": "stdout",
          "output_type": "stream",
          "text": [
            "올해는 매일 ___을 하기로 했다:아침운동\n"
          ]
        }
      ]
    },
    {
      "cell_type": "code",
      "source": [
        "print(f\"올해는 매일 {sentence_1} 을 하기로 했다.\\n\")"
      ],
      "metadata": {
        "colab": {
          "base_uri": "https://localhost:8080/"
        },
        "id": "e61ufH7TnJEl",
        "outputId": "eba46656-7a11-49cf-fdfe-69fafcb8ccca"
      },
      "execution_count": null,
      "outputs": [
        {
          "output_type": "stream",
          "name": "stdout",
          "text": [
            "올해는 매일 아침운동 을 하기로 했다.\n",
            "\n"
          ]
        }
      ]
    },
    {
      "cell_type": "code",
      "source": [
        "# 2가지 input 받아보기\n",
        "word_1 = input(\"___이 끝날때까지:\")\n",
        "word_2 = input(\"매일 ___을 하려고 한다:\")\n",
        "print(f\"{word_1} 이 끝날때까지\")\n",
        "print(f\"매일 {word_2} 을 하려고 한다.\")"
      ],
      "metadata": {
        "colab": {
          "base_uri": "https://localhost:8080/"
        },
        "id": "1YlZJu0ao0UO",
        "outputId": "078fea89-f583-4ffc-e29f-2bae8a6a6c06"
      },
      "execution_count": null,
      "outputs": [
        {
          "output_type": "stream",
          "name": "stdout",
          "text": [
            "___이 끝날때까지:코딩교육\n",
            "매일 ___을 하려고 한다:1일 1커밋\n",
            "코딩교육 이 끝날때까지\n",
            "매일 1일 1커밋 을 하려고 한다.\n"
          ]
        }
      ]
    },
    {
      "cell_type": "code",
      "source": [
        "# 1. 한 문장에 word_1, word_2 둘 다 출력하기(가장 기본적인 방법)\n",
        "print(f\"{word_1} 이 끝날때까지 매일 {word_2} 을 하려고 한다.\")"
      ],
      "metadata": {
        "colab": {
          "base_uri": "https://localhost:8080/"
        },
        "id": "zLnzfnpnvVk-",
        "outputId": "e5aa6473-fc4b-41a7-ad5b-8c0be3b23b48"
      },
      "execution_count": null,
      "outputs": [
        {
          "output_type": "stream",
          "name": "stdout",
          "text": [
            "코딩교육 이 끝날때까지 매일 1일 1커밋 을 하려고 한다.\n"
          ]
        }
      ]
    },
    {
      "cell_type": "code",
      "source": [
        "# 2. end를 사용해서 다른 두 문장을 합치기\n",
        "print(f\"{word_1} 이 끝날때까지\", end = \" \")\n",
        "print(f\"매일 {word_2} 을 하려고 한다.\")"
      ],
      "metadata": {
        "colab": {
          "base_uri": "https://localhost:8080/"
        },
        "id": "wOmr5X57voWG",
        "outputId": "2de02fa8-842d-4640-f9f2-ce25c7eef92a"
      },
      "execution_count": null,
      "outputs": [
        {
          "output_type": "stream",
          "name": "stdout",
          "text": [
            "코딩교육 이 끝날때까지 매일 1일 1커밋 을 하려고 한다.\n"
          ]
        }
      ]
    },
    {
      "cell_type": "code",
      "source": [
        "sentence_2 = input(\"올해는 매일 30분이상 ___를 하려고 한다:\")"
      ],
      "metadata": {
        "colab": {
          "base_uri": "https://localhost:8080/"
        },
        "id": "3hzJI2L2pKWD",
        "outputId": "1f4803f6-3925-4170-df33-45dbe37240d5"
      },
      "execution_count": null,
      "outputs": [
        {
          "name": "stdout",
          "output_type": "stream",
          "text": [
            "올해는 매일 30분이상 ___를 하려고 한다:독서\n"
          ]
        }
      ]
    },
    {
      "cell_type": "code",
      "source": [
        "print(f\"올해는 매일 30분이상 {sentence_2}를 하려고 한다.\\n\")"
      ],
      "metadata": {
        "colab": {
          "base_uri": "https://localhost:8080/"
        },
        "id": "YpL1jplnqbcb",
        "outputId": "ab6ff394-0249-4921-9464-a34283cda551"
      },
      "execution_count": null,
      "outputs": [
        {
          "output_type": "stream",
          "name": "stdout",
          "text": [
            "올해는 매일 30분이상 독서를 하려고 한다.\n",
            "\n"
          ]
        }
      ]
    },
    {
      "cell_type": "markdown",
      "source": [
        "##1.2 두가지 단어를 한꺼번에 받기\n",
        "\n",
        "* 중간에 띄어쓰기"
      ],
      "metadata": {
        "id": "V0NEVDgVwubS"
      }
    },
    {
      "cell_type": "code",
      "source": [
        "sentence_3 = input(\"올해는 ___과 ___에 집중하기로 한다:\")"
      ],
      "metadata": {
        "colab": {
          "base_uri": "https://localhost:8080/"
        },
        "id": "b7vuqIvzwz3F",
        "outputId": "b1f00196-8d71-43fd-8b26-b937137e3942"
      },
      "execution_count": null,
      "outputs": [
        {
          "name": "stdout",
          "output_type": "stream",
          "text": [
            "올해는 ___과 ___에 집중하기로 한다:코딩 독서\n"
          ]
        }
      ]
    },
    {
      "cell_type": "code",
      "source": [
        "print(sentence_3)"
      ],
      "metadata": {
        "colab": {
          "base_uri": "https://localhost:8080/"
        },
        "id": "kq_H6c3hxC7R",
        "outputId": "a297579d-fddd-4067-9fd1-9abe2f5df897"
      },
      "execution_count": null,
      "outputs": [
        {
          "output_type": "stream",
          "name": "stdout",
          "text": [
            "코딩 독서\n"
          ]
        }
      ]
    },
    {
      "cell_type": "code",
      "source": [
        "word_3, word_4 = sentence_3.split() # 두 단어를 입력받고, (필수) 공백을 기준으로 분리"
      ],
      "metadata": {
        "id": "sCUUg2Y1xZ8r"
      },
      "execution_count": null,
      "outputs": []
    },
    {
      "cell_type": "code",
      "source": [
        "print(word_3)\n",
        "print(word_4)"
      ],
      "metadata": {
        "colab": {
          "base_uri": "https://localhost:8080/"
        },
        "id": "EyIdO-aaxaIw",
        "outputId": "f7a0a6c5-2565-4932-9962-13ec2c141866"
      },
      "execution_count": null,
      "outputs": [
        {
          "output_type": "stream",
          "name": "stdout",
          "text": [
            "코딩\n",
            "독서\n"
          ]
        }
      ]
    },
    {
      "cell_type": "markdown",
      "source": [
        "# 2. Random\n",
        "\n",
        "## 2.1 난수생성\n",
        "**randrange(start, stop[, step])함수**\n",
        "\n",
        "\n"
      ],
      "metadata": {
        "id": "uCcQgMVdxab6"
      }
    },
    {
      "cell_type": "code",
      "source": [
        "# 1. 기본 사용법\n",
        "\n",
        "import random\n",
        "'''\n",
        "0~9까지의 임의 숫자를 선택하는 코드 작성\n",
        "파이썬의 숫자의 시작은 무조건 0부터\n",
        "입력한 수의 -1까지(10으로 입력하면 -1 즉, 9까지)\n",
        "'''\n",
        "num = random.randrange(10) # 무조건 0부터 시작\n",
        "print(num)"
      ],
      "metadata": {
        "colab": {
          "base_uri": "https://localhost:8080/"
        },
        "id": "BYPrSdQfzL9p",
        "outputId": "931fea58-ce04-4f10-86c6-062883f4129d"
      },
      "execution_count": null,
      "outputs": [
        {
          "output_type": "stream",
          "name": "stdout",
          "text": [
            "9\n"
          ]
        }
      ]
    },
    {
      "cell_type": "code",
      "source": [
        "# 1.2 시작값과 끝값을 지정\n",
        "\n",
        "num_1 = random.randrange(1, 46)\n",
        "num_2 = random.randrange(1, 46)\n",
        "num_3 = random.randrange(1, 46)\n",
        "num_4 = random.randrange(1, 46)\n",
        "num_5 = random.randrange(1, 46)\n",
        "num_6 = random.randrange(1, 46)\n",
        "\n",
        "print(\"오늘의 로또 번호는\", num_1, num_2, num_3, num_4, num_5, num_6)"
      ],
      "metadata": {
        "colab": {
          "base_uri": "https://localhost:8080/"
        },
        "id": "nMYFh5Xx1J_x",
        "outputId": "04744332-c820-4801-c454-3acdac8d97ba"
      },
      "execution_count": null,
      "outputs": [
        {
          "output_type": "stream",
          "name": "stdout",
          "text": [
            "오늘의 로또 번호는 8 33 1 38 39 21\n"
          ]
        }
      ]
    },
    {
      "cell_type": "code",
      "source": [
        "# 1.3 간격설정\n",
        "# 10부터 100까지 숫자 중에서 10의 간격으로 무작위 선택\n",
        "\n",
        "num10_100 = random.randrange(10, 100, 10)\n",
        "print(num10_100)"
      ],
      "metadata": {
        "colab": {
          "base_uri": "https://localhost:8080/"
        },
        "id": "BcRrNsoa2M2l",
        "outputId": "b79e16e5-2411-448e-b46a-3e786e822e6f"
      },
      "execution_count": null,
      "outputs": [
        {
          "output_type": "stream",
          "name": "stdout",
          "text": [
            "90\n"
          ]
        }
      ]
    },
    {
      "cell_type": "markdown",
      "source": [
        "## 2.2 Choice 함수"
      ],
      "metadata": {
        "id": "8JNSTnD53Zfe"
      }
    },
    {
      "cell_type": "code",
      "source": [
        "# 1. choice 기본 사용법\n",
        "# chosen_element = random.choice(sequence)\n",
        "\n",
        "# 리스트에서 무작위 과일 선택\n",
        "# 다양한 정보를 한번에 받아오는 것 = 리스트\n",
        "elements = ['사과', '바나나', '체리']\n",
        "choice_elements = random.choice(elements)\n",
        "print(f'선택된 요소 : {choice_elements} 입니다.')"
      ],
      "metadata": {
        "colab": {
          "base_uri": "https://localhost:8080/"
        },
        "id": "1HTNoThy7Ovy",
        "outputId": "736cc739-ab85-41d8-e89e-d28ba493413a"
      },
      "execution_count": null,
      "outputs": [
        {
          "output_type": "stream",
          "name": "stdout",
          "text": [
            "선택된 요소 : 사과 입니다.\n"
          ]
        }
      ]
    },
    {
      "cell_type": "code",
      "source": [
        "# 2. 문자열에서 무작위 문자 선택\n",
        "\n",
        "greeting = \"안녕하세요\"\n",
        "choice_char = random.choice(greeting)\n",
        "print(f\"선택된 문자: {choice_char} 입니다.\")"
      ],
      "metadata": {
        "colab": {
          "base_uri": "https://localhost:8080/"
        },
        "id": "xUtmFVaC7jCc",
        "outputId": "9c84f3cc-11b5-4136-b509-828c2331bda4"
      },
      "execution_count": null,
      "outputs": [
        {
          "output_type": "stream",
          "name": "stdout",
          "text": [
            "선택된 문자: 안 입니다.\n"
          ]
        }
      ]
    },
    {
      "cell_type": "code",
      "source": [
        "기본 - input output -> 문자열을 받아서 문자열 출력!\n",
        "random - 무작위의 숫자 또는 문자를 받아서 출력"
      ],
      "metadata": {
        "id": "GYb6c-jl8vGr"
      },
      "execution_count": null,
      "outputs": []
    },
    {
      "cell_type": "code",
      "source": [
        "# 주석 작성 예시\n",
        "'''\n",
        "코드 실행 날짜 : 2024년 1월 1일\n",
        "버전 :V0.1\n",
        "작성자 : 임빈\n",
        "코드 내용 : random라이브러리를 활용해서 실습 예제 작성\n",
        "'''\n",
        "\n",
        "# 이 코드는 Random 라이브러리를 사용한 예시입니다.\n",
        "import random\n",
        "\n",
        "# 두 개의 무작위 숫자를 생성하는 코드\n",
        "random_number1 = random.randrange(1, 10)  # 1부터 9까지 임의의 숫자를 한개를 가져옵니다.(2024.1.1 업데이트)\n",
        "random_number2 = random.randrange(1, 10)  # 1부터 9까지 임의의 숫자를 한개를 가져옵니다.(2024.1.1 에러)\n",
        "\n",
        "# 두 개의 무작위 숫자를 합산하는 코드 / 생성된 두 숫자의 합 계산\n",
        "sum_of_numbers = random_number1 + random_number2\n",
        "\n",
        "# 결과 출력\n",
        "print(f\"첫 번째 생성된 숫자: {random_number1}\")  # 첫번때 생성된 값\n",
        "print(f\"두 번째 생성된 숫자: {random_number2}\")  # 두번째 생성된 값\n",
        "print(f\"두 숫자의 합: {sum_of_numbers}\")         # 두 숫자의 합 출력"
      ],
      "metadata": {
        "colab": {
          "base_uri": "https://localhost:8080/"
        },
        "id": "Hyqd7cs18vOo",
        "outputId": "ad45f456-db39-4ab9-e330-1d01ec598c7d"
      },
      "execution_count": null,
      "outputs": [
        {
          "output_type": "stream",
          "name": "stdout",
          "text": [
            "첫 번째 생성된 숫자: 3\n",
            "두 번째 생성된 숫자: 7\n",
            "두 숫자의 합: 10\n"
          ]
        }
      ]
    },
    {
      "cell_type": "code",
      "source": [
        "# 두 개의 주사위 던져서 결과 합산 출력 실습\n",
        "\n",
        "import random # Random 라이브러리를 불러오기\n",
        "\n",
        "# 주사위 던지기\n",
        "dice1 = random.randrange(1,7)\n",
        "dice2 = random.randrange(1,7)\n",
        "\n",
        "# 두개의 주사위의 합\n",
        "total = dice1 + dice2\n",
        "\n",
        "# 결과 출력\n",
        "print(f\"첫번째 주사위 {dice1}\")\n",
        "print(f\"두번째 주사위 {dice2}\")\n",
        "print(f\"두 주사위의 합 {total}\")"
      ],
      "metadata": {
        "colab": {
          "base_uri": "https://localhost:8080/"
        },
        "id": "RNIGCMno8vWB",
        "outputId": "032b1b9a-5859-4bf1-ec3c-604f68c824c1"
      },
      "execution_count": null,
      "outputs": [
        {
          "output_type": "stream",
          "name": "stdout",
          "text": [
            "첫번째 주사위 6\n",
            "두번째 주사위 3\n",
            "두 주사위의 합 9\n"
          ]
        }
      ]
    },
    {
      "cell_type": "code",
      "source": [
        "# 윷놀이 프로그래밍 하기 (실습)\n",
        "\n",
        "import random # Random 라이브러리 불러오기\n",
        "\n",
        "# 윷 던지기\n",
        "elements = ['도', '개', '걸', '윷', '모']\n",
        "choice_elements = random.choice(elements)\n",
        "\n",
        "# 결과\n",
        "print(f'결과는 {choice_elements}')"
      ],
      "metadata": {
        "colab": {
          "base_uri": "https://localhost:8080/"
        },
        "id": "KUkSJ8T48vd8",
        "outputId": "76f13d81-d6d8-411a-9454-9c228f9bb09d"
      },
      "execution_count": null,
      "outputs": [
        {
          "output_type": "stream",
          "name": "stdout",
          "text": [
            "결과는 도\n"
          ]
        }
      ]
    },
    {
      "cell_type": "code",
      "source": [
        "# 윷놀이 프로그래밍\n",
        "\n",
        "'''\n",
        "1. 윷은 앞/뒤 중에 하나를 선택해야 한다.\n",
        "  1.1 윷은 랜덤으로 하나가 선택되어야 한다.\n",
        "  1.2 앞/뒤를 나올 확률은 1/2이 되어야 한다.\n",
        "2. 윷놀이에는 다섯가지 이동 법칙이 있다.(빽도 X)\n",
        "  2.1 윷놀이에는 도, 개, 걸, 윷, 모\n",
        "  2.2 도- 앞 3 뒤 1 / 개 - 앞 2 뒤 2 / 걸 - 앞 3 뒤 1 / 윷 - 앞 0 뒤 4 / 모 - 앞 4 뒤 0\n",
        "  2.3 (히든계산) 도 - 1 / 개 - 2 / 걸 -3 / 윷 -4 / 모 - 0\n",
        "3. 최종적으로 도~모 하나만 선택 되어야 한다.\n",
        "'''\n",
        "\n",
        "# 윳을 던지기 결과 (앞:0, 1: 뒤)\n",
        "throw1 = random.choice([0, 1])\n",
        "throw2 = random.choice([0, 1])\n",
        "throw3 = random.choice([0, 1])\n",
        "throw4 = random.choice([0, 1])\n",
        "\n",
        "# 뒷면의 총 개수 계산\n",
        "total_back = throw1 + throw2 + throw3 + throw4\n",
        "\n",
        "# 윷놀이 결과\n",
        "# 뒷면이 없는 경우\n",
        "# results = [0,1,2,3,4]\n",
        "# 리스트 시퀸스 자료형 -> 순서를 가지고 있는 자료형!\n",
        "results = ['모', '도', '개', '걸', '윷']\n",
        "print(total_back)\n",
        "print(results[total_back])"
      ],
      "metadata": {
        "colab": {
          "base_uri": "https://localhost:8080/"
        },
        "id": "eMetD8GaKKiF",
        "outputId": "078d8243-5e53-4b98-c858-0f3e30bbe336"
      },
      "execution_count": null,
      "outputs": [
        {
          "output_type": "stream",
          "name": "stdout",
          "text": [
            "0\n",
            "모\n"
          ]
        }
      ]
    }
  ]
}