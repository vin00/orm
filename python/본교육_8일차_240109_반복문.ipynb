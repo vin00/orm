{
  "nbformat": 4,
  "nbformat_minor": 0,
  "metadata": {
    "colab": {
      "provenance": []
    },
    "kernelspec": {
      "name": "python3",
      "display_name": "Python 3"
    },
    "language_info": {
      "name": "python"
    }
  },
  "cells": [
    {
      "cell_type": "markdown",
      "source": [
        "# 1. 반복문\n",
        "\n",
        "* 반복문은 많은 작업을 반복했을때 많은 메모리가 쓰이므로 주의 해야함."
      ],
      "metadata": {
        "id": "jtHlpK2DEpA9"
      }
    },
    {
      "cell_type": "code",
      "source": [
        "# 함수\n",
        "def 함수명():\n",
        "    pass"
      ],
      "metadata": {
        "id": "WlEMAIO4E01K"
      },
      "execution_count": null,
      "outputs": []
    },
    {
      "cell_type": "code",
      "source": [
        "# 조건문\n",
        "if 조건:\n",
        "    pass"
      ],
      "metadata": {
        "id": "HtU5ciRnEv-L"
      },
      "execution_count": null,
      "outputs": []
    },
    {
      "cell_type": "code",
      "source": [
        "# 반복문\n",
        "for 변수명 in 순회_가능한_객체:\n",
        "    pass # 수행할_문장"
      ],
      "metadata": {
        "id": "49i6qdZxE7ag"
      },
      "execution_count": null,
      "outputs": []
    },
    {
      "cell_type": "code",
      "source": [
        "print()"
      ],
      "metadata": {
        "id": "HxhA6iWLFpLO"
      },
      "execution_count": null,
      "outputs": []
    },
    {
      "cell_type": "code",
      "source": [
        "# 반복문 기초 - 문자열\n",
        "# 1. 'hello'를 순서대로 하나씩 단어 꺼내서\n",
        "# 2. x에 하나씩 넣은 다음에\n",
        "# 3. 하나씩 for문 아래 코드 블럭을 수행한다.\n",
        "# 4. 그리고 순서가 마쳐지면 -> 다음 시퀀스(순서)로 넘어가서 똑같은 작업을 수행한다.\n",
        "for x in 'hello':\n",
        "    # 순회 가능한 객제가 들어갑니다. -> 문자열 / 리스트 / 다른 데이터셋 / range(10) / 기타등등\n",
        "    print(f'현재 값은 {x} 입니다.')"
      ],
      "metadata": {
        "colab": {
          "base_uri": "https://localhost:8080/"
        },
        "id": "1FLbXxIfFUVk",
        "outputId": "b3026ba3-c044-4d83-8bac-7ee3c0b18f65"
      },
      "execution_count": null,
      "outputs": [
        {
          "output_type": "stream",
          "name": "stdout",
          "text": [
            "현재 값은 h 입니다.\n",
            "현재 값은 e 입니다.\n",
            "현재 값은 l 입니다.\n",
            "현재 값은 l 입니다.\n",
            "현재 값은 o 입니다.\n"
          ]
        }
      ]
    },
    {
      "cell_type": "code",
      "source": [
        "# 반복문 기초 - 튜플\n",
        "for x in (1, 2, 3, 4, 5):\n",
        "    print((f'현재 값은 {x} 입니다.'))\n",
        "\n",
        "# 반복문 기초 - 리스트\n",
        "for x in [1, 2, 3, 4, 5]:\n",
        "    print((f'현재 값은 {x} 입니다.'))\n",
        "\n",
        "# 반복문 기초 - range()\n",
        "for x in range(5):\n",
        "    print((f'현재 값은 {x} 입니다.'))"
      ],
      "metadata": {
        "colab": {
          "base_uri": "https://localhost:8080/"
        },
        "id": "X2QYymN7GQ_p",
        "outputId": "859082f9-e095-4a56-d9c0-1379590ec30d"
      },
      "execution_count": null,
      "outputs": [
        {
          "output_type": "stream",
          "name": "stdout",
          "text": [
            "현재 값은 1 입니다.\n",
            "현재 값은 2 입니다.\n",
            "현재 값은 3 입니다.\n",
            "현재 값은 4 입니다.\n",
            "현재 값은 5 입니다.\n",
            "현재 값은 1 입니다.\n",
            "현재 값은 2 입니다.\n",
            "현재 값은 3 입니다.\n",
            "현재 값은 4 입니다.\n",
            "현재 값은 5 입니다.\n",
            "현재 값은 0 입니다.\n",
            "현재 값은 1 입니다.\n",
            "현재 값은 2 입니다.\n",
            "현재 값은 3 입니다.\n",
            "현재 값은 4 입니다.\n"
          ]
        }
      ]
    },
    {
      "cell_type": "code",
      "source": [
        "len([1, 2, 3, 4, 5])\n",
        "# for문은 len의 길이 만큼 반복이 된다."
      ],
      "metadata": {
        "colab": {
          "base_uri": "https://localhost:8080/"
        },
        "id": "bo-hfGG2GuWZ",
        "outputId": "7b236661-3054-4c4c-ef1d-51d06e3c0e52"
      },
      "execution_count": null,
      "outputs": [
        {
          "output_type": "execute_result",
          "data": {
            "text/plain": [
              "5"
            ]
          },
          "metadata": {},
          "execution_count": 10
        }
      ]
    },
    {
      "cell_type": "code",
      "source": [
        "# 문자열 자료형을 범위로 가져왔을때\n",
        "s = 'hello world'\n",
        "for i in s:\n",
        "    print(i)"
      ],
      "metadata": {
        "colab": {
          "base_uri": "https://localhost:8080/"
        },
        "id": "in74g4QFHKe6",
        "outputId": "1a1f573e-61f2-44e1-ca16-ae052329cb1b"
      },
      "execution_count": null,
      "outputs": [
        {
          "output_type": "stream",
          "name": "stdout",
          "text": [
            "h\n",
            "e\n",
            "l\n",
            "l\n",
            "o\n",
            " \n",
            "w\n",
            "o\n",
            "r\n",
            "l\n",
            "d\n"
          ]
        }
      ]
    },
    {
      "cell_type": "code",
      "source": [
        "s = '123'\n",
        "result = 0\n",
        "for i in s:\n",
        "    result += int(i)\n",
        "\n",
        "print(result)"
      ],
      "metadata": {
        "colab": {
          "base_uri": "https://localhost:8080/"
        },
        "id": "7DQwFHjWHdvu",
        "outputId": "42bf4083-b848-4999-9814-f54cc307f4ea"
      },
      "execution_count": null,
      "outputs": [
        {
          "output_type": "stream",
          "name": "stdout",
          "text": [
            "6\n"
          ]
        }
      ]
    },
    {
      "cell_type": "code",
      "source": [
        "# 딕셔너리(, 쉼표 중요!!!)\n",
        "\n",
        "단어_사전 ={\n",
        "    '하나' : 'one',\n",
        "    '둘' : 'two',\n",
        "    '셋' : 'three'\n",
        "}\n",
        "\n",
        "for i in 단어_사전:\n",
        "    print(i)"
      ],
      "metadata": {
        "colab": {
          "base_uri": "https://localhost:8080/"
        },
        "id": "9E_3m1vHHq0v",
        "outputId": "201c210f-6512-4974-abf5-3b59ef3f1aa9"
      },
      "execution_count": null,
      "outputs": [
        {
          "output_type": "stream",
          "name": "stdout",
          "text": [
            "하나\n",
            "둘\n",
            "셋\n"
          ]
        }
      ]
    },
    {
      "cell_type": "code",
      "source": [
        " # 짝수코드 작성\n",
        "\n",
        " result = 0\n",
        " # 리스트라면 비어있는 리스트라도 만들어야 하는 구나 result=[]\n",
        " # 비어있는 자료형도 자료형이다. None도 자료형이다.\n",
        " for i in range(101): # 0 ~ 100까지 시퀀스 자료형을 불러온다.\n",
        "    if i % 2 == 0:    # 0 ~ 100까지 중에서 짝수만 가져온다.\n",
        "        result += i   # 짝수를 가져와서 누적으로 더한다. 0, 2, 4, ..., 100까지 더한다.\n",
        "\n",
        "print(result) # 출력\n",
        "\n",
        " result = 0\n",
        " for i in range(0, 101, 2):\n",
        "    result += i\n",
        "print(result)"
      ],
      "metadata": {
        "colab": {
          "base_uri": "https://localhost:8080/"
        },
        "id": "p_om5i60ID7u",
        "outputId": "f1094591-b72c-4a63-df0a-65b42ad35685"
      },
      "execution_count": null,
      "outputs": [
        {
          "output_type": "stream",
          "name": "stdout",
          "text": [
            "2550\n",
            "2550\n"
          ]
        }
      ]
    },
    {
      "cell_type": "markdown",
      "source": [
        "## 1.1 중첩 for문"
      ],
      "metadata": {
        "id": "S_ehydkcNHBG"
      }
    },
    {
      "cell_type": "code",
      "source": [
        "# code1\n",
        "for i in [[1, 2], [10, 20], [100, 200]]:\n",
        "    print(i)"
      ],
      "metadata": {
        "colab": {
          "base_uri": "https://localhost:8080/"
        },
        "id": "eRUQWXDRNrVo",
        "outputId": "de124ad9-2dd1-4094-db5a-842d37683cd1"
      },
      "execution_count": null,
      "outputs": [
        {
          "output_type": "stream",
          "name": "stdout",
          "text": [
            "[1, 2]\n",
            "[10, 20]\n",
            "[100, 200]\n"
          ]
        }
      ]
    },
    {
      "cell_type": "code",
      "source": [
        "# code1\n",
        "for i in [[1, 2], [10, 20], [100, 200]]:\n",
        "    for j in i:\n",
        "        print(j)"
      ],
      "metadata": {
        "colab": {
          "base_uri": "https://localhost:8080/"
        },
        "id": "P7Tky6tjN1VO",
        "outputId": "ccebab29-cbb0-4a05-97d6-66ed6b063fae"
      },
      "execution_count": null,
      "outputs": [
        {
          "output_type": "stream",
          "name": "stdout",
          "text": [
            "1\n",
            "2\n",
            "10\n",
            "20\n",
            "100\n",
            "200\n"
          ]
        }
      ]
    },
    {
      "cell_type": "code",
      "source": [
        "# 1. 구조를 정한다.\n",
        "# 2. 최소한의 반복문만 수행\n",
        "# 3. 각 반복문을 print()해본다."
      ],
      "metadata": {
        "id": "VZnr9KJEOCJG"
      },
      "execution_count": null,
      "outputs": []
    },
    {
      "cell_type": "code",
      "source": [
        "# step 2.1\n",
        "for i in [[1, 2], [10, 20], [100, 200]]:\n",
        "    print(i)\n",
        "    # step 2.2\n",
        "    for j in i:\n",
        "        print(j)"
      ],
      "metadata": {
        "colab": {
          "base_uri": "https://localhost:8080/"
        },
        "id": "7ra74Ng3Pc0e",
        "outputId": "ce1e61c0-c1ea-4437-aafb-cb95668e1bac"
      },
      "execution_count": null,
      "outputs": [
        {
          "output_type": "stream",
          "name": "stdout",
          "text": [
            "[1, 2]\n",
            "1\n",
            "2\n",
            "[10, 20]\n",
            "10\n",
            "20\n",
            "[100, 200]\n",
            "100\n",
            "200\n"
          ]
        }
      ]
    },
    {
      "cell_type": "code",
      "source": [
        "# 구구단\n",
        "\n",
        "for i in range(2 , 10): # 2~9까지\n",
        "    print(f'---{i}단---') # 2단 실행\n",
        "    for j in range(1, 10): # 1~9까지 실행\n",
        "        print(f'{i} X {j} = {i*j}') # 2 * (1~9)까지 실행 후 위 print로 이동 후 반복 수행"
      ],
      "metadata": {
        "colab": {
          "base_uri": "https://localhost:8080/"
        },
        "id": "aEbsOWNuPmab",
        "outputId": "576a7ebb-2f64-46dc-c9b1-7ba7dcb5bd3c"
      },
      "execution_count": null,
      "outputs": [
        {
          "output_type": "stream",
          "name": "stdout",
          "text": [
            "---2단---\n",
            "2 X 1 = 2\n",
            "2 X 2 = 4\n",
            "2 X 3 = 6\n",
            "2 X 4 = 8\n",
            "2 X 5 = 10\n",
            "2 X 6 = 12\n",
            "2 X 7 = 14\n",
            "2 X 8 = 16\n",
            "2 X 9 = 18\n",
            "---3단---\n",
            "3 X 1 = 3\n",
            "3 X 2 = 6\n",
            "3 X 3 = 9\n",
            "3 X 4 = 12\n",
            "3 X 5 = 15\n",
            "3 X 6 = 18\n",
            "3 X 7 = 21\n",
            "3 X 8 = 24\n",
            "3 X 9 = 27\n",
            "---4단---\n",
            "4 X 1 = 4\n",
            "4 X 2 = 8\n",
            "4 X 3 = 12\n",
            "4 X 4 = 16\n",
            "4 X 5 = 20\n",
            "4 X 6 = 24\n",
            "4 X 7 = 28\n",
            "4 X 8 = 32\n",
            "4 X 9 = 36\n",
            "---5단---\n",
            "5 X 1 = 5\n",
            "5 X 2 = 10\n",
            "5 X 3 = 15\n",
            "5 X 4 = 20\n",
            "5 X 5 = 25\n",
            "5 X 6 = 30\n",
            "5 X 7 = 35\n",
            "5 X 8 = 40\n",
            "5 X 9 = 45\n",
            "---6단---\n",
            "6 X 1 = 6\n",
            "6 X 2 = 12\n",
            "6 X 3 = 18\n",
            "6 X 4 = 24\n",
            "6 X 5 = 30\n",
            "6 X 6 = 36\n",
            "6 X 7 = 42\n",
            "6 X 8 = 48\n",
            "6 X 9 = 54\n",
            "---7단---\n",
            "7 X 1 = 7\n",
            "7 X 2 = 14\n",
            "7 X 3 = 21\n",
            "7 X 4 = 28\n",
            "7 X 5 = 35\n",
            "7 X 6 = 42\n",
            "7 X 7 = 49\n",
            "7 X 8 = 56\n",
            "7 X 9 = 63\n",
            "---8단---\n",
            "8 X 1 = 8\n",
            "8 X 2 = 16\n",
            "8 X 3 = 24\n",
            "8 X 4 = 32\n",
            "8 X 5 = 40\n",
            "8 X 6 = 48\n",
            "8 X 7 = 56\n",
            "8 X 8 = 64\n",
            "8 X 9 = 72\n",
            "---9단---\n",
            "9 X 1 = 9\n",
            "9 X 2 = 18\n",
            "9 X 3 = 27\n",
            "9 X 4 = 36\n",
            "9 X 5 = 45\n",
            "9 X 6 = 54\n",
            "9 X 7 = 63\n",
            "9 X 8 = 72\n",
            "9 X 9 = 81\n"
          ]
        }
      ]
    },
    {
      "cell_type": "markdown",
      "source": [
        "## 2.2 리스트 컴프리핸션"
      ],
      "metadata": {
        "id": "cWeWrUqaPs_W"
      }
    },
    {
      "cell_type": "code",
      "source": [
        "# 기존 반복문\n",
        "x = []\n",
        "\n",
        "for i in range(1, 10): # 1 ~ 9까지\n",
        "  x.append(i) # append(리스트 값을 추가)\n",
        "\n",
        "print(x)\n",
        "# 출력 [1, 2, 3, 4, 5, 6, 7, 8, 9]"
      ],
      "metadata": {
        "id": "jwR_wY1hS3JN"
      },
      "execution_count": null,
      "outputs": []
    },
    {
      "cell_type": "code",
      "source": [
        "# step 1 list 안에 for문을 가져옵니다.\n",
        "# [for i in range(1, 10)] # for문 시작하는 조건을 가져오고 리스트로 묶는다.\n",
        "\n",
        "# step 2 append 항목을 앞으로 가져입니다. - 여기서 i -> 자동으로 append\n",
        "a = [i for i in range(1, 10)] # 출력 : [1, 2, 3, 4, 5, 6, 7, 8, 9]\n",
        "b = [i * 2 for i in range(1, 10)] # 출력 : [2, 4, 6, 8, 10, 12, 14, 16, 18]\n",
        "print(a, b)\n"
      ],
      "metadata": {
        "colab": {
          "base_uri": "https://localhost:8080/"
        },
        "id": "QibImUtPSGC-",
        "outputId": "6f70c0ee-3afc-4be7-db45-819a669c327f"
      },
      "execution_count": null,
      "outputs": [
        {
          "output_type": "stream",
          "name": "stdout",
          "text": [
            "[1, 2, 3, 4, 5, 6, 7, 8, 9] [2, 4, 6, 8, 10, 12, 14, 16, 18]\n"
          ]
        }
      ]
    },
    {
      "cell_type": "code",
      "source": [
        "for i in range(0x3131, 0x3135):\n",
        "    print(chr(i))"
      ],
      "metadata": {
        "colab": {
          "base_uri": "https://localhost:8080/"
        },
        "id": "UcgUx5AmSIr-",
        "outputId": "bccc93dd-d50d-4e24-99ff-eb470ae10118"
      },
      "execution_count": null,
      "outputs": [
        {
          "output_type": "stream",
          "name": "stdout",
          "text": [
            "ㄱ\n",
            "ㄲ\n",
            "ㄳ\n",
            "ㄴ\n"
          ]
        }
      ]
    },
    {
      "cell_type": "code",
      "source": [
        "# 리스트 컴프리헨션 + 조건문\n",
        "l = [i for i in range(1, 10) if i % 2 == 0 and i % 3 ==0]\n",
        "print(l)"
      ],
      "metadata": {
        "colab": {
          "base_uri": "https://localhost:8080/"
        },
        "id": "CHZFMU9TT34C",
        "outputId": "117cce2b-598e-4482-e69d-8a60ae004647"
      },
      "execution_count": null,
      "outputs": [
        {
          "output_type": "stream",
          "name": "stdout",
          "text": [
            "[6]\n"
          ]
        }
      ]
    },
    {
      "cell_type": "code",
      "source": [
        "# 중첩된 리스트 컴프리헨션\n",
        "\n",
        "# 리스트 컴프리헨션: 중첩된 반복문\n",
        "c = [f'{i} x {j} = {i*j}' for j in range(2, 10) for i in range(1, 10)]\n",
        "print(c)\n",
        "\n",
        "# 리스트 컴프리헨션: 중첩된 컴프리헨션\n",
        "cc = [[f'{i} x {j} = {i*j}' for j in range(1, 10)] for i in range(2, 10)]\n",
        "print(cc)\n",
        "\n",
        "# 전통적인 방법\n",
        "c_list = []\n",
        "for i in range(2, 10):\n",
        "    for j in range(1, 10):\n",
        "        c_list.append(f'{i} x {j} = {i*j}')\n"
      ],
      "metadata": {
        "colab": {
          "base_uri": "https://localhost:8080/"
        },
        "id": "dJwCoqGoUtYv",
        "outputId": "b6fc5d54-910e-4e20-d54c-d0416c1ad5ff"
      },
      "execution_count": null,
      "outputs": [
        {
          "output_type": "stream",
          "name": "stdout",
          "text": [
            "['1 x 2 = 2', '2 x 2 = 4', '3 x 2 = 6', '4 x 2 = 8', '5 x 2 = 10', '6 x 2 = 12', '7 x 2 = 14', '8 x 2 = 16', '9 x 2 = 18', '1 x 3 = 3', '2 x 3 = 6', '3 x 3 = 9', '4 x 3 = 12', '5 x 3 = 15', '6 x 3 = 18', '7 x 3 = 21', '8 x 3 = 24', '9 x 3 = 27', '1 x 4 = 4', '2 x 4 = 8', '3 x 4 = 12', '4 x 4 = 16', '5 x 4 = 20', '6 x 4 = 24', '7 x 4 = 28', '8 x 4 = 32', '9 x 4 = 36', '1 x 5 = 5', '2 x 5 = 10', '3 x 5 = 15', '4 x 5 = 20', '5 x 5 = 25', '6 x 5 = 30', '7 x 5 = 35', '8 x 5 = 40', '9 x 5 = 45', '1 x 6 = 6', '2 x 6 = 12', '3 x 6 = 18', '4 x 6 = 24', '5 x 6 = 30', '6 x 6 = 36', '7 x 6 = 42', '8 x 6 = 48', '9 x 6 = 54', '1 x 7 = 7', '2 x 7 = 14', '3 x 7 = 21', '4 x 7 = 28', '5 x 7 = 35', '6 x 7 = 42', '7 x 7 = 49', '8 x 7 = 56', '9 x 7 = 63', '1 x 8 = 8', '2 x 8 = 16', '3 x 8 = 24', '4 x 8 = 32', '5 x 8 = 40', '6 x 8 = 48', '7 x 8 = 56', '8 x 8 = 64', '9 x 8 = 72', '1 x 9 = 9', '2 x 9 = 18', '3 x 9 = 27', '4 x 9 = 36', '5 x 9 = 45', '6 x 9 = 54', '7 x 9 = 63', '8 x 9 = 72', '9 x 9 = 81']\n",
            "[['2 x 1 = 2', '2 x 2 = 4', '2 x 3 = 6', '2 x 4 = 8', '2 x 5 = 10', '2 x 6 = 12', '2 x 7 = 14', '2 x 8 = 16', '2 x 9 = 18'], ['3 x 1 = 3', '3 x 2 = 6', '3 x 3 = 9', '3 x 4 = 12', '3 x 5 = 15', '3 x 6 = 18', '3 x 7 = 21', '3 x 8 = 24', '3 x 9 = 27'], ['4 x 1 = 4', '4 x 2 = 8', '4 x 3 = 12', '4 x 4 = 16', '4 x 5 = 20', '4 x 6 = 24', '4 x 7 = 28', '4 x 8 = 32', '4 x 9 = 36'], ['5 x 1 = 5', '5 x 2 = 10', '5 x 3 = 15', '5 x 4 = 20', '5 x 5 = 25', '5 x 6 = 30', '5 x 7 = 35', '5 x 8 = 40', '5 x 9 = 45'], ['6 x 1 = 6', '6 x 2 = 12', '6 x 3 = 18', '6 x 4 = 24', '6 x 5 = 30', '6 x 6 = 36', '6 x 7 = 42', '6 x 8 = 48', '6 x 9 = 54'], ['7 x 1 = 7', '7 x 2 = 14', '7 x 3 = 21', '7 x 4 = 28', '7 x 5 = 35', '7 x 6 = 42', '7 x 7 = 49', '7 x 8 = 56', '7 x 9 = 63'], ['8 x 1 = 8', '8 x 2 = 16', '8 x 3 = 24', '8 x 4 = 32', '8 x 5 = 40', '8 x 6 = 48', '8 x 7 = 56', '8 x 8 = 64', '8 x 9 = 72'], ['9 x 1 = 9', '9 x 2 = 18', '9 x 3 = 27', '9 x 4 = 36', '9 x 5 = 45', '9 x 6 = 54', '9 x 7 = 63', '9 x 8 = 72', '9 x 9 = 81']]\n"
          ]
        }
      ]
    },
    {
      "cell_type": "code",
      "source": [
        "def sumthingFunction(i): # 함수 sumthingfunction(i)을 생성\n",
        "    if i % 100 ==0:      # 조건문 100을 나눴을 때 나머지가 0이 되는 것\n",
        "        return i         # 조건에 일치하면 i를 리턴 일치하지 않으면 0을 리턴하는데,\n",
        "    else:\n",
        "        return 0\n",
        "\n",
        "l = [100, 200, 300, 101, 202, 303]\n",
        "l = [sumthingFunction(i) for i in l]\n",
        "# l(리스트)에 있는 값들을 하나씩 꺼내서, 함수에 태워보고, 조건에 맞는\n",
        "l # 출력: [100, 200, 300, 0, 0, 0]"
      ],
      "metadata": {
        "colab": {
          "base_uri": "https://localhost:8080/"
        },
        "id": "b6O0YLNto3ev",
        "outputId": "2cb44e29-959b-4199-c35c-66345ffcdc36"
      },
      "execution_count": null,
      "outputs": [
        {
          "output_type": "execute_result",
          "data": {
            "text/plain": [
              "[100, 200, 300, 0, 0, 0]"
            ]
          },
          "metadata": {},
          "execution_count": 6
        }
      ]
    },
    {
      "cell_type": "code",
      "source": [
        "# 딕셔너리 컴프리헨션\n",
        "\n",
        "# 전통적인 방법\n",
        "d ={}\n",
        "for i in range(5):\n",
        "    d[i] = i ** 2\n",
        "\n",
        "print(d)\n",
        "\n",
        "#딕셔너리 컴프리헨션 사용\n",
        "dd ={i: i ** 2 for i in range(5)}\n",
        "print(dd)"
      ],
      "metadata": {
        "colab": {
          "base_uri": "https://localhost:8080/"
        },
        "id": "syqSS5Zqqlf8",
        "outputId": "2c4790e4-de66-4171-c18c-0bdcd654c063"
      },
      "execution_count": null,
      "outputs": [
        {
          "output_type": "stream",
          "name": "stdout",
          "text": [
            "{0: 0, 1: 1, 2: 4, 3: 9, 4: 16}\n",
            "{0: 0, 1: 1, 2: 4, 3: 9, 4: 16}\n"
          ]
        }
      ]
    },
    {
      "cell_type": "code",
      "source": [
        "# 복합 순회형 자료 for문\n",
        "\n",
        "for i, j, k in ['abc', 'def', 'ghi']:\n",
        "    print(i, j, k)"
      ],
      "metadata": {
        "colab": {
          "base_uri": "https://localhost:8080/"
        },
        "id": "2f38R6P8q1LK",
        "outputId": "f787774d-7efc-4090-f066-0006db19beab"
      },
      "execution_count": null,
      "outputs": [
        {
          "output_type": "stream",
          "name": "stdout",
          "text": [
            "a b c\n",
            "d e f\n",
            "g h i\n"
          ]
        }
      ]
    },
    {
      "cell_type": "code",
      "source": [
        "skill = [\n",
        "        ('고기잡이', 100),\n",
        "        ('고기팔기', 120),\n",
        "        ('낚시', 5),\n",
        "        ('통발', 5),\n",
        "        ('큰그물', 5)\n",
        "]\n",
        "\n",
        "for i, j in skill:\n",
        "    print(i, j)"
      ],
      "metadata": {
        "colab": {
          "base_uri": "https://localhost:8080/"
        },
        "id": "ODSZh1-wr29q",
        "outputId": "ecebf98a-41e0-494b-cbf9-2bd97ca3d263"
      },
      "execution_count": null,
      "outputs": [
        {
          "output_type": "stream",
          "name": "stdout",
          "text": [
            "고기잡이 100\n",
            "고기팔기 120\n",
            "낚시 5\n",
            "통발 5\n",
            "큰그물 5\n"
          ]
        }
      ]
    },
    {
      "cell_type": "code",
      "source": [
        "# enumerate 활용\n",
        "\n",
        "영화누적관객수 = ['레미제라블', '뷰티인사이트', '매트릭스', '인셉션', '어거스트 러쉬']\n",
        "for i in enumerate(영화누적관객수):\n",
        "    print(i)\n",
        "\n",
        "for i, j in enumerate(영화누적관객수, 1):\n",
        "    print(f'누적관객수 {i}위! {j}!')"
      ],
      "metadata": {
        "colab": {
          "base_uri": "https://localhost:8080/"
        },
        "id": "i8Rl1FuksP4H",
        "outputId": "87802ffd-0b94-417e-a289-fd31d6dfc31e"
      },
      "execution_count": null,
      "outputs": [
        {
          "output_type": "stream",
          "name": "stdout",
          "text": [
            "(0, '레미제라블')\n",
            "(1, '뷰티인사이트')\n",
            "(2, '매트릭스')\n",
            "(3, '인셉션')\n",
            "(4, '어거스트 러쉬')\n",
            "누적관객수 1위! 레미제라블!\n",
            "누적관객수 2위! 뷰티인사이트!\n",
            "누적관객수 3위! 매트릭스!\n",
            "누적관객수 4위! 인셉션!\n",
            "누적관객수 5위! 어거스트 러쉬!\n"
          ]
        }
      ]
    },
    {
      "cell_type": "markdown",
      "source": [
        "# 2. while문\n",
        "\n",
        "* for문과 함께 많이 사용됨.\n",
        "* 조건이 참일 때만 구문을 반복\n",
        "* for는 range로 범위를 구획해줘야하고 whlie은 조건에 따라 범위를 설정할 수 있으며 if문을 사용하지 않아도 조건문을 만들 수 있음"
      ],
      "metadata": {
        "id": "_hqI1mIru2ne"
      }
    },
    {
      "cell_type": "code",
      "source": [
        "while 구문:\n",
        "    pass # 수행할 문장"
      ],
      "metadata": {
        "id": "8sWAyV1xvbtH"
      },
      "execution_count": null,
      "outputs": []
    },
    {
      "cell_type": "code",
      "source": [
        "# while문 기초\n",
        "a = 1\n",
        "\n",
        "while a < 10 :\n",
        "    print(a)\n",
        "    a += 1\n",
        "# for문 기초\n",
        "for i in range(1, 10):\n",
        "    print(i)"
      ],
      "metadata": {
        "colab": {
          "base_uri": "https://localhost:8080/"
        },
        "id": "4y0BPprIvhL8",
        "outputId": "5f2cbafd-c76f-498d-f2c4-5a9243889c2b"
      },
      "execution_count": null,
      "outputs": [
        {
          "output_type": "stream",
          "name": "stdout",
          "text": [
            "1\n",
            "2\n",
            "3\n",
            "4\n",
            "5\n",
            "6\n",
            "7\n",
            "8\n",
            "9\n"
          ]
        }
      ]
    },
    {
      "cell_type": "markdown",
      "source": [
        "# 프로그램 1. 스무고개 숫자 맞추기\n",
        "\n",
        "* 20번 안에 숫자를 맞춰야하는 게임"
      ],
      "metadata": {
        "id": "kpqJrSalwQ97"
      }
    },
    {
      "cell_type": "markdown",
      "source": [
        "## 1.1 숫자를 입력 받기\n",
        "\n",
        "* input을 활용해서 숫자를 입력 받으세요!\n"
      ],
      "metadata": {
        "id": "LT4imuU4wee1"
      }
    },
    {
      "cell_type": "code",
      "source": [
        "print(number)\n",
        "print(type(number))"
      ],
      "metadata": {
        "colab": {
          "base_uri": "https://localhost:8080/"
        },
        "id": "MHN4Hp7m0z7W",
        "outputId": "c64e177a-506c-426a-b335-ac9a4ad82977"
      },
      "execution_count": null,
      "outputs": [
        {
          "output_type": "stream",
          "name": "stdout",
          "text": [
            "100\n",
            "<class 'int'>\n"
          ]
        }
      ]
    },
    {
      "cell_type": "code",
      "source": [
        "# 우리가 맞춰야할 숫자! 고정값\n",
        "import random\n",
        "\n",
        "secret_number= random.randrange(1,101)"
      ],
      "metadata": {
        "id": "wOHs7Ecu0_Cd"
      },
      "execution_count": null,
      "outputs": []
    },
    {
      "cell_type": "code",
      "source": [
        "# 숫자를 입력받기\n",
        "number = int(input('숫자를 입력하세요(1~100)'))"
      ],
      "metadata": {
        "colab": {
          "base_uri": "https://localhost:8080/"
        },
        "id": "Oxlqch120nZp",
        "outputId": "b1bba197-73c8-4456-929a-1f5b56553ba6"
      },
      "execution_count": null,
      "outputs": [
        {
          "name": "stdout",
          "output_type": "stream",
          "text": [
            "숫자를 입력하세요(1~100)55\n"
          ]
        }
      ]
    },
    {
      "cell_type": "code",
      "source": [
        "# 정답을 위한 step 1\n",
        "# if문을 사용해서 같으면 정답 틀리면 틀렸습니다. 라고 출력해보기\n",
        "\n",
        "if number == secret_number:\n",
        "    print('정답!')\n",
        "else:\n",
        "    print('틀렸습니다.')"
      ],
      "metadata": {
        "colab": {
          "base_uri": "https://localhost:8080/"
        },
        "id": "sSdl3TIh1hhr",
        "outputId": "689b3d6d-ccdb-4d50-affa-e9ecfe0873a3"
      },
      "execution_count": null,
      "outputs": [
        {
          "output_type": "stream",
          "name": "stdout",
          "text": [
            "틀렸습니다.\n"
          ]
        }
      ]
    },
    {
      "cell_type": "code",
      "source": [
        "# step 1을 구했는데..\n",
        "# 최대 100번까지 입력해야한다.\n",
        "# input을 계속 입력해야한다.\n",
        "# 힌트가 없다.\n",
        "# 계속해서 입력할 수 있다.\n",
        "\n",
        "# step 2 -> 20번을 반복하는 기능을 구현! for문\n",
        "for i in range(20):\n",
        "\n",
        "    number = int(input('숫자를 입력하세요(1~100)'))\n",
        "    if number == secret_number:\n",
        "        print('정답!')\n",
        "    else:\n",
        "        print('틀렸습니다.')\n",
        "# 계속 틀리다가 맞추면 정답! 출력하긴한다. 20번을 무조건 반복한다."
      ],
      "metadata": {
        "colab": {
          "base_uri": "https://localhost:8080/"
        },
        "id": "7OvSeiSh2DhJ",
        "outputId": "f4a60f62-8229-4295-ee43-9f7dba9c148c"
      },
      "execution_count": null,
      "outputs": [
        {
          "output_type": "stream",
          "name": "stdout",
          "text": [
            "숫자를 입력하세요(1~100)1\n",
            "틀렸습니다.\n",
            "숫자를 입력하세요(1~100)2\n",
            "틀렸습니다.\n",
            "숫자를 입력하세요(1~100)3\n",
            "틀렸습니다.\n",
            "숫자를 입력하세요(1~100)4\n",
            "틀렸습니다.\n",
            "숫자를 입력하세요(1~100)6\n",
            "틀렸습니다.\n",
            "숫자를 입력하세요(1~100)7\n",
            "틀렸습니다.\n",
            "숫자를 입력하세요(1~100)8\n",
            "틀렸습니다.\n",
            "숫자를 입력하세요(1~100)9\n",
            "틀렸습니다.\n",
            "숫자를 입력하세요(1~100)7\n",
            "틀렸습니다.\n",
            "숫자를 입력하세요(1~100)8\n",
            "틀렸습니다.\n",
            "숫자를 입력하세요(1~100)10\n",
            "틀렸습니다.\n",
            "숫자를 입력하세요(1~100)54\n",
            "틀렸습니다.\n",
            "숫자를 입력하세요(1~100)56\n",
            "틀렸습니다.\n",
            "숫자를 입력하세요(1~100)37\n",
            "틀렸습니다.\n",
            "숫자를 입력하세요(1~100)82\n",
            "틀렸습니다.\n",
            "숫자를 입력하세요(1~100)77\n",
            "틀렸습니다.\n",
            "숫자를 입력하세요(1~100)50\n",
            "틀렸습니다.\n",
            "숫자를 입력하세요(1~100)83\n",
            "틀렸습니다.\n",
            "숫자를 입력하세요(1~100)72\n",
            "틀렸습니다.\n",
            "숫자를 입력하세요(1~100)88\n",
            "틀렸습니다.\n"
          ]
        }
      ]
    },
    {
      "cell_type": "code",
      "source": [
        "# step 3 왜 틀렸는지? Up/Down 힌트를 주면 좋을 것 같다.\n",
        "secret_number= random.randrange(1,101)\n",
        "\n",
        "for i in range(20):\n",
        "\n",
        "    number = int(input('숫자를 입력하세요(1~100)'))\n",
        "    if number == secret_number:\n",
        "        print('정답!')\n",
        "    elif number > secret_number:\n",
        "        print('Down')\n",
        "    elif number < secret_number:\n",
        "        print('up')\n",
        "    else:\n",
        "        print('틀렸습니다.')\n",
        "\n"
      ],
      "metadata": {
        "colab": {
          "base_uri": "https://localhost:8080/",
          "height": 147
        },
        "id": "tovRtrli3oku",
        "outputId": "382338d4-e2ba-4f95-8944-317316186689"
      },
      "execution_count": null,
      "outputs": [
        {
          "output_type": "error",
          "ename": "SyntaxError",
          "evalue": "invalid syntax (<ipython-input-30-1fadd142252a>, line 10)",
          "traceback": [
            "\u001b[0;36m  File \u001b[0;32m\"<ipython-input-30-1fadd142252a>\"\u001b[0;36m, line \u001b[0;32m10\u001b[0m\n\u001b[0;31m    elif number > secret_number:\u001b[0m\n\u001b[0m    ^\u001b[0m\n\u001b[0;31mSyntaxError\u001b[0m\u001b[0;31m:\u001b[0m invalid syntax\n"
          ]
        }
      ]
    },
    {
      "cell_type": "code",
      "source": [
        "# step 4 정답이면 입력을 멈추게!\n",
        "secret_number= random.randrange(1,101)\n",
        "\n",
        "for i in range(20):\n",
        "\n",
        "    number = int(input('숫자를 입력하세요(1~100)'))\n",
        "    if number == secret_number:\n",
        "        print('정답!')\n",
        "        break # 빠져나가게 하는 구문\n",
        "    elif number > secret_number:\n",
        "        print('Down')\n",
        "    elif number < secret_number:\n",
        "        print('up')\n",
        "    else:\n",
        "        print(f'틀렸습니다. 정답은 {secret_number}입니다.')\n"
      ],
      "metadata": {
        "colab": {
          "base_uri": "https://localhost:8080/"
        },
        "id": "px_AhYP55hVU",
        "outputId": "e62fbafa-dcc8-48f2-b226-f1633c1e5fa9"
      },
      "execution_count": null,
      "outputs": [
        {
          "output_type": "stream",
          "name": "stdout",
          "text": [
            "숫자를 입력하세요(1~100)80\n",
            "Down\n",
            "숫자를 입력하세요(1~100)50\n",
            "Down\n",
            "숫자를 입력하세요(1~100)40\n",
            "Down\n",
            "숫자를 입력하세요(1~100)30\n",
            "Down\n",
            "숫자를 입력하세요(1~100)20\n",
            "up\n",
            "숫자를 입력하세요(1~100)50\n",
            "Down\n",
            "숫자를 입력하세요(1~100)40\n",
            "Down\n",
            "숫자를 입력하세요(1~100)40\n",
            "Down\n",
            "숫자를 입력하세요(1~100)40\n",
            "Down\n",
            "숫자를 입력하세요(1~100)0\n",
            "up\n",
            "숫자를 입력하세요(1~100)0\n",
            "up\n",
            "숫자를 입력하세요(1~100)0\n",
            "up\n",
            "숫자를 입력하세요(1~100)0\n",
            "up\n",
            "숫자를 입력하세요(1~100)0\n",
            "up\n",
            "숫자를 입력하세요(1~100)0\n",
            "up\n",
            "숫자를 입력하세요(1~100)0\n",
            "up\n",
            "숫자를 입력하세요(1~100)0\n",
            "up\n",
            "숫자를 입력하세요(1~100)0\n",
            "up\n",
            "숫자를 입력하세요(1~100)0\n",
            "up\n",
            "숫자를 입력하세요(1~100)0\n",
            "up\n"
          ]
        }
      ]
    },
    {
      "cell_type": "markdown",
      "source": [
        "## 프로그램 2 : 가위바위보"
      ],
      "metadata": {
        "id": "ZbgIuOOi6mOp"
      }
    },
    {
      "cell_type": "code",
      "source": [
        "# step 1 : 우리가 낼 가위, 바위, 보를 입력 받는다.\n",
        "# step 2 : 컴퓨터가 낼 가위, 바위, 보를 입력 받는다.\n",
        "# step 3 : 승패요건\n",
        "# step 4 : 가위, 바위, 보 외에 다른거를 냇을때 어떻게 해야하는지?"
      ],
      "metadata": {
        "id": "hcTl-kut7kdX"
      },
      "execution_count": null,
      "outputs": []
    },
    {
      "cell_type": "code",
      "source": [
        "# step 1 : 우리가 낼 가위, 바위, 보를 입력 받는다.\n",
        "user = input('가위, 바위, 보')\n",
        "print(user)"
      ],
      "metadata": {
        "colab": {
          "base_uri": "https://localhost:8080/"
        },
        "id": "c4FdfwVb76RG",
        "outputId": "f9d49f8a-c65e-496d-b055-b1c56b4beb04"
      },
      "execution_count": null,
      "outputs": [
        {
          "output_type": "stream",
          "name": "stdout",
          "text": [
            "가위, 바위, 보가위\n",
            "가위\n"
          ]
        }
      ]
    },
    {
      "cell_type": "code",
      "source": [
        "# step 2 : 컴퓨터가 낼 가위, 바위, 보를 입력 받는다.\n",
        "\n",
        "import random\n",
        "\n",
        "computer = random.choice(['가위', '바위', '보'])\n",
        "print(computer)"
      ],
      "metadata": {
        "colab": {
          "base_uri": "https://localhost:8080/"
        },
        "id": "iMS48gdV8ItK",
        "outputId": "bc190713-9ed7-4f4a-984d-35ee70a445db"
      },
      "execution_count": null,
      "outputs": [
        {
          "output_type": "stream",
          "name": "stdout",
          "text": [
            "보\n"
          ]
        }
      ]
    },
    {
      "cell_type": "code",
      "source": [
        "# step 3 : 승패요건\n",
        "\n",
        "if user == computer:\n",
        "    print('무승부입니다.')\n",
        "elif (user == '가위' and computer == '보') or\\\n",
        "     (user == '주먹' and computer == '가위') or\\\n",
        "     (user == '보' and computer == '주먹'):\n",
        "     print('이겼습니다')\n",
        "else:\n",
        "    print('졌습니다')"
      ],
      "metadata": {
        "colab": {
          "base_uri": "https://localhost:8080/"
        },
        "id": "_FO5TkJA87yv",
        "outputId": "01e623b3-19ce-4495-a0d3-5dea5766e1fc"
      },
      "execution_count": null,
      "outputs": [
        {
          "output_type": "stream",
          "name": "stdout",
          "text": [
            "이겼습니다\n"
          ]
        }
      ]
    },
    {
      "cell_type": "code",
      "source": [
        "# step 4 : 가위, 바위, 보 외에 다른거를 냇을때 어떻게 해야하는지?"
      ],
      "metadata": {
        "id": "rxCsIm9f-es6"
      },
      "execution_count": null,
      "outputs": []
    },
    {
      "cell_type": "code",
      "source": [
        "# step 1 : 우리가 낼 가위, 바위, 보를 입력 받는다.\n",
        "user = input('가위, 바위, 보')\n",
        "print(user)\n",
        "\n",
        "# step 2 : 컴퓨터가 낼 가위, 바위, 보를 입력 받는다.\n",
        "\n",
        "import random\n",
        "\n",
        "computer = random.choice(['가위', '바위', '보'])\n",
        "print(computer)\n",
        "\n",
        "# step 3 : 승패요건\n",
        "\n",
        "if user == computer:\n",
        "    print('무승부입니다.')\n",
        "elif (user == '가위' and computer == '보') or\\\n",
        "     (user == '주먹' and computer == '가위') or\\\n",
        "     (user == '보' and computer == '주먹'):\n",
        "     print('이겼습니다')\n",
        "else:\n",
        "    print('졌습니다')"
      ],
      "metadata": {
        "colab": {
          "base_uri": "https://localhost:8080/"
        },
        "id": "RJ4rJrHm-VQ8",
        "outputId": "cd610b5b-2ea9-4e1c-cb6e-2f052caf6ff1"
      },
      "execution_count": null,
      "outputs": [
        {
          "output_type": "stream",
          "name": "stdout",
          "text": [
            "가위, 바위, 보바위\n",
            "바위\n",
            "가위\n",
            "졌습니다\n"
          ]
        }
      ]
    }
  ]
}