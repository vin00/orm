{
  "nbformat": 4,
  "nbformat_minor": 0,
  "metadata": {
    "colab": {
      "provenance": []
    },
    "kernelspec": {
      "name": "python3",
      "display_name": "Python 3"
    },
    "language_info": {
      "name": "python"
    }
  },
  "cells": [
    {
      "cell_type": "code",
      "execution_count": null,
      "metadata": {
        "colab": {
          "base_uri": "https://localhost:8080/",
          "height": 239
        },
        "id": "c6sRGIKyhYAA",
        "outputId": "f70c64f8-efe1-4c00-83f4-c1763e16c934"
      },
      "outputs": [
        {
          "output_type": "stream",
          "name": "stdout",
          "text": [
            "1\n"
          ]
        },
        {
          "output_type": "error",
          "ename": "NameError",
          "evalue": "name 'a' is not defined",
          "traceback": [
            "\u001b[0;31m---------------------------------------------------------------------------\u001b[0m",
            "\u001b[0;31mNameError\u001b[0m                                 Traceback (most recent call last)",
            "\u001b[0;32m<ipython-input-2-c7b2856827f3>\u001b[0m in \u001b[0;36m<cell line: 9>\u001b[0;34m()\u001b[0m\n\u001b[1;32m      7\u001b[0m \u001b[0;34m\u001b[0m\u001b[0m\n\u001b[1;32m      8\u001b[0m \u001b[0mf\u001b[0m\u001b[0;34m(\u001b[0m\u001b[0;34m)\u001b[0m\u001b[0;34m\u001b[0m\u001b[0;34m\u001b[0m\u001b[0m\n\u001b[0;32m----> 9\u001b[0;31m \u001b[0mprint\u001b[0m\u001b[0;34m(\u001b[0m\u001b[0ma\u001b[0m\u001b[0;34m)\u001b[0m \u001b[0;31m# 에러\u001b[0m\u001b[0;34m\u001b[0m\u001b[0;34m\u001b[0m\u001b[0m\n\u001b[0m",
            "\u001b[0;31mNameError\u001b[0m: name 'a' is not defined"
          ]
        }
      ],
      "source": [
        "# 지역 변수 사용 예시\n",
        "\n",
        "def f():\n",
        "    a = 1 # 이변수는 f() 내에서만 정의! 절대 바깥에서는 사용할 수 없다.\n",
        "    print(a)\n",
        "\n",
        "f()\n",
        "print(a) # 에러"
      ]
    },
    {
      "cell_type": "markdown",
      "source": [
        "## 지역변수 전역변수\n",
        "\n",
        "### 지역변수\n",
        "* f() 함수 내에 있는 변수에 대한 정의는 f()안에만 존재하는 것\n",
        "* 밖에서 사용할 수 없다.\n",
        "\n",
        "### 전역변수\n",
        "* 함수 밖에 정의한 변수\n",
        "* 함수 밖에서 정의를 하더라도 함수내에서 불러오기는 가능함.\n",
        "* glabal을 사용하여 함수 내에서 전역변수로 활용할 수 있음\n",
        "**단 전역변수에 대한 값도 변하기 때문에 주의해야함**"
      ],
      "metadata": {
        "id": "ypu8zeZ1javw"
      }
    },
    {
      "cell_type": "code",
      "source": [
        "def f():\n",
        "    a = 1 # 지역변수 함수 내에서만 사용가능\n",
        "    b = 100\n",
        "    print(locals()) # 출력: {'a': 1} # 지역 변수가 어떤게 있는지 확인\n",
        "\n",
        "f()"
      ],
      "metadata": {
        "colab": {
          "base_uri": "https://localhost:8080/"
        },
        "id": "EiCSR5psjqjo",
        "outputId": "e33f47ad-67f7-472d-d016-75afd7404446"
      },
      "execution_count": null,
      "outputs": [
        {
          "output_type": "stream",
          "name": "stdout",
          "text": [
            "{'a': 1, 'b': 100}\n"
          ]
        }
      ]
    },
    {
      "cell_type": "code",
      "source": [
        "def f():\n",
        "    a = 1\n",
        "    b = 'hello'\n",
        "    def ff():\n",
        "        pass\n",
        "    print(locals()) # 출력: {'a': 1, 'b': 'hello', 'ff': <function f.<locals>.ff at 0x7a46e99d2c20>}\n",
        "\n",
        "f()"
      ],
      "metadata": {
        "colab": {
          "base_uri": "https://localhost:8080/"
        },
        "id": "YPxuFF5ij-tP",
        "outputId": "c3a2cab0-add8-4083-b058-14a8e3b7d9a0"
      },
      "execution_count": null,
      "outputs": [
        {
          "output_type": "stream",
          "name": "stdout",
          "text": [
            "{'a': 1, 'b': 'hello', 'ff': <function f.<locals>.ff at 0x7febb7aff5b0>}\n"
          ]
        }
      ]
    },
    {
      "cell_type": "code",
      "source": [
        "# global 함수 전역 변수 지정\n",
        "\n",
        "a = 100\n",
        "\n",
        "def f():\n",
        "    global a # 이 구문으로 a를 바깥에서도 사용(전역변수 지정)\n",
        "    a = a + 1\n",
        "    return a\n",
        "\n",
        "print(f()) # 101\n",
        "print(a) # 100 출력: 101, 함수 f 내에서 전역 변수 a가 수정됨"
      ],
      "metadata": {
        "colab": {
          "base_uri": "https://localhost:8080/"
        },
        "id": "Z6AZF7Mkk7ce",
        "outputId": "e966add6-2894-4673-f184-4a523387657a"
      },
      "execution_count": null,
      "outputs": [
        {
          "output_type": "stream",
          "name": "stdout",
          "text": [
            "101\n",
            "101\n"
          ]
        }
      ]
    },
    {
      "cell_type": "code",
      "source": [
        "a = 100\n",
        "def f():\n",
        "    a = 100\n",
        "    a = a + 1 # error\n",
        "    return a\n",
        "\n",
        "f()"
      ],
      "metadata": {
        "colab": {
          "base_uri": "https://localhost:8080/"
        },
        "id": "LO-J66odlK6R",
        "outputId": "33b75ffc-a987-412b-9e4f-b5c0f477418f"
      },
      "execution_count": null,
      "outputs": [
        {
          "output_type": "execute_result",
          "data": {
            "text/plain": [
              "101"
            ]
          },
          "metadata": {},
          "execution_count": 14
        }
      ]
    },
    {
      "cell_type": "markdown",
      "source": [
        "#### 빌트인 함수(built-in function)\n",
        "\n",
        "* 파이썬 안에 내장되어 있는 함수\n"
      ],
      "metadata": {
        "id": "WA-3vzonrFpp"
      }
    },
    {
      "cell_type": "code",
      "source": [
        "# 1. all / any\n",
        "\n",
        "# 1.1 all _ 마치 and와 비슷\n",
        "# 모두 다 True여야 True 반환\n",
        "print(all([True, True, True])) # 출력: Ture\n",
        "print(all([True, True, False])) # 출력: False\n",
        "print(all([1, 1, 1, 0])) # 출력: False\n",
        "print(all([1, 0, 1, 1])) # 출력: False\n",
        "print(all([1, 100, 10, -1])) # 출력: True\n",
        "\n",
        "# 1.2 any _ 마치 or과 비슷\n",
        "# 하나라도 True면 True\n",
        "print(any([True, False, False])) # 출력: True\n",
        "print(any([False, False, False])) # 출력: False"
      ],
      "metadata": {
        "colab": {
          "base_uri": "https://localhost:8080/"
        },
        "id": "ZDaVdEgArKF8",
        "outputId": "aba99959-420e-4f43-edab-57816ffac018"
      },
      "execution_count": null,
      "outputs": [
        {
          "output_type": "stream",
          "name": "stdout",
          "text": [
            "True\n",
            "False\n",
            "False\n",
            "False\n",
            "True\n",
            "True\n",
            "False\n"
          ]
        }
      ]
    },
    {
      "cell_type": "code",
      "source": [],
      "metadata": {
        "id": "0kIHo4rnsshp"
      },
      "execution_count": null,
      "outputs": []
    },
    {
      "cell_type": "code",
      "source": [
        "# 1.3 map\n",
        "# 리스트나 튜플 내의 각각의 요소들의 계산을 할때 사용\n",
        "# 첫번째 방법\n",
        "def 제곱(x):\n",
        "    return x ** 2\n",
        "list(map(제곱, [1, 2, 3, 4])) # 출력: [1, 4, 9, 16]"
      ],
      "metadata": {
        "colab": {
          "base_uri": "https://localhost:8080/"
        },
        "id": "Rvopmb4nrxph",
        "outputId": "bab1f272-9d52-4c1a-b626-343324c6b587"
      },
      "execution_count": null,
      "outputs": [
        {
          "output_type": "execute_result",
          "data": {
            "text/plain": [
              "[1, 4, 9, 16]"
            ]
          },
          "metadata": {},
          "execution_count": 20
        }
      ]
    },
    {
      "cell_type": "code",
      "source": [
        "# 두번째 방법\n",
        "list(map(lambda x : x ** 2, [1, 2, 3, 4])) # 출력: [1, 4, 9, 16]"
      ],
      "metadata": {
        "colab": {
          "base_uri": "https://localhost:8080/"
        },
        "id": "ToDOppu6swAt",
        "outputId": "babc2439-9960-41b2-92f2-447ebf373a32"
      },
      "execution_count": null,
      "outputs": [
        {
          "output_type": "execute_result",
          "data": {
            "text/plain": [
              "[1, 4, 9, 16]"
            ]
          },
          "metadata": {},
          "execution_count": 22
        }
      ]
    },
    {
      "cell_type": "code",
      "source": [
        "# 1.4 filter\n",
        "\n",
        "list(filter(lambda x : x > 50, range(101)))"
      ],
      "metadata": {
        "colab": {
          "base_uri": "https://localhost:8080/"
        },
        "id": "nIF0O5s-tpiH",
        "outputId": "62729d0e-5c50-465f-ca93-f8cd51070242"
      },
      "execution_count": null,
      "outputs": [
        {
          "output_type": "execute_result",
          "data": {
            "text/plain": [
              "[51,\n",
              " 52,\n",
              " 53,\n",
              " 54,\n",
              " 55,\n",
              " 56,\n",
              " 57,\n",
              " 58,\n",
              " 59,\n",
              " 60,\n",
              " 61,\n",
              " 62,\n",
              " 63,\n",
              " 64,\n",
              " 65,\n",
              " 66,\n",
              " 67,\n",
              " 68,\n",
              " 69,\n",
              " 70,\n",
              " 71,\n",
              " 72,\n",
              " 73,\n",
              " 74,\n",
              " 75,\n",
              " 76,\n",
              " 77,\n",
              " 78,\n",
              " 79,\n",
              " 80,\n",
              " 81,\n",
              " 82,\n",
              " 83,\n",
              " 84,\n",
              " 85,\n",
              " 86,\n",
              " 87,\n",
              " 88,\n",
              " 89,\n",
              " 90,\n",
              " 91,\n",
              " 92,\n",
              " 93,\n",
              " 94,\n",
              " 95,\n",
              " 96,\n",
              " 97,\n",
              " 98,\n",
              " 99,\n",
              " 100]"
            ]
          },
          "metadata": {},
          "execution_count": 25
        }
      ]
    },
    {
      "cell_type": "markdown",
      "source": [
        "## 1.5 zip 함수"
      ],
      "metadata": {
        "id": "51vMcSNpuCT_"
      }
    },
    {
      "cell_type": "code",
      "source": [
        "# 기본형태 : zip(순회할 수 있는 객체1, 순회할 수 있는 객체2)\n",
        "\n",
        "list(zip('ab', '12')) # 출력: [('a', '1'), ('b', '2')]"
      ],
      "metadata": {
        "colab": {
          "base_uri": "https://localhost:8080/"
        },
        "id": "Zb2QfklNuGNd",
        "outputId": "9ddec04d-a7db-4348-8fd6-af885e2e553f"
      },
      "execution_count": null,
      "outputs": [
        {
          "output_type": "execute_result",
          "data": {
            "text/plain": [
              "[('a', '1'), ('b', '2')]"
            ]
          },
          "metadata": {},
          "execution_count": 26
        }
      ]
    },
    {
      "cell_type": "code",
      "source": [
        "list(zip('ab', '12',[10, 20])) # 출력: [('a', '1'), ('b', '2')]"
      ],
      "metadata": {
        "colab": {
          "base_uri": "https://localhost:8080/"
        },
        "id": "OENmFIpiuXEt",
        "outputId": "ad1b17a3-0d72-4b03-ad1a-8267d4b330b9"
      },
      "execution_count": null,
      "outputs": [
        {
          "output_type": "execute_result",
          "data": {
            "text/plain": [
              "[('a', '1', 10), ('b', '2', 20)]"
            ]
          },
          "metadata": {},
          "execution_count": 28
        }
      ]
    },
    {
      "cell_type": "code",
      "source": [
        "# 가장 짧은 열을 기준으로 같은 위치끼리 묶어\n",
        "list(zip('abc', '123456789',[10, 20, 30])) # 출력: [('a', '1', 10), ('b', '2', 20), ('c', '3', 30)]"
      ],
      "metadata": {
        "colab": {
          "base_uri": "https://localhost:8080/"
        },
        "id": "7YHGmE-0ufaE",
        "outputId": "d98f8441-f4b1-4a53-b678-1c0324badda1"
      },
      "execution_count": null,
      "outputs": [
        {
          "output_type": "execute_result",
          "data": {
            "text/plain": [
              "[('a', '1', 10), ('b', '2', 20), ('c', '3', 30)]"
            ]
          },
          "metadata": {},
          "execution_count": 30
        }
      ]
    },
    {
      "cell_type": "code",
      "source": [
        "# 1.10.3 enumerate\n",
        "# iindex를 자동으로 생성할때 주로 사용\n",
        "# 같은 key 값으로 묶을 때 사용\n",
        "values = ['A', 'B', 'C', 'D']\n",
        "print(list(enumerate(values)))\n",
        "print(list(enumerate(values, 1)))\n",
        "print(list(enumerate(values, 100)))"
      ],
      "metadata": {
        "colab": {
          "base_uri": "https://localhost:8080/"
        },
        "id": "YnpnwVX4wH6d",
        "outputId": "aeb6b8a0-2139-43c1-8aeb-3aeee2549c68"
      },
      "execution_count": null,
      "outputs": [
        {
          "output_type": "stream",
          "name": "stdout",
          "text": [
            "[(0, 'A'), (1, 'B'), (2, 'C'), (3, 'D')]\n",
            "[(1, 'A'), (2, 'B'), (3, 'C'), (4, 'D')]\n",
            "[(100, 'A'), (101, 'B'), (102, 'C'), (103, 'D')]\n"
          ]
        }
      ]
    },
    {
      "cell_type": "code",
      "source": [
        "values = ['퀭', '학', '웅', '문']\n",
        "print(list(enumerate(values)))"
      ],
      "metadata": {
        "colab": {
          "base_uri": "https://localhost:8080/"
        },
        "id": "bcKyWuGtwnKD",
        "outputId": "6bf22816-f766-4685-e420-700c44754fa7"
      },
      "execution_count": null,
      "outputs": [
        {
          "output_type": "stream",
          "name": "stdout",
          "text": [
            "[(0, '퀭'), (1, '학'), (2, '웅'), (3, '문')]\n"
          ]
        }
      ]
    },
    {
      "cell_type": "code",
      "source": [
        "print(list(enumerate(values, 1)))\n",
        "print(list(enumerate(values, 8)))"
      ],
      "metadata": {
        "colab": {
          "base_uri": "https://localhost:8080/"
        },
        "id": "bb6VPHIrwtSu",
        "outputId": "71ab4b59-d08c-4392-d189-363c5760d176"
      },
      "execution_count": null,
      "outputs": [
        {
          "output_type": "stream",
          "name": "stdout",
          "text": [
            "[(1, '퀭'), (2, '학'), (3, '웅'), (4, '문')]\n",
            "[(8, '퀭'), (9, '학'), (10, '웅'), (11, '문')]\n"
          ]
        }
      ]
    },
    {
      "cell_type": "code",
      "source": [
        "# 문제 1_ 다음코트를 실행하면 출력되는 값을 순서대로 작성해보세요.\n",
        "a = 'pithon'\n",
        "\n",
        "def 함수1():\n",
        "    def 함수2():\n",
        "        print('love')\n",
        "\n",
        "    print('I')\n",
        "    함수2()\n",
        "    return \"python\"\n",
        "\n",
        "\n",
        "a = 함수1()\n",
        "print(a)"
      ],
      "metadata": {
        "colab": {
          "base_uri": "https://localhost:8080/"
        },
        "id": "bVoEf_gYxlfM",
        "outputId": "c9a2304c-9bd9-463b-bc33-e386a810f3f0"
      },
      "execution_count": null,
      "outputs": [
        {
          "output_type": "stream",
          "name": "stdout",
          "text": [
            "I\n",
            "love\n",
            "python\n"
          ]
        }
      ]
    },
    {
      "cell_type": "code",
      "source": [
        "# 문제 2_ 함수를 이용하여 계산기 프로그램을 만들어주세요\n",
        "\n",
        "def plus(num1, num2):\n",
        "    puls = num1 + num2\n",
        "    return puls\n",
        "\n",
        "def minus(num1, num2):\n",
        "    minus = num1 - num2\n",
        "    return minus\n",
        "\n",
        "def multiply(num1, num2):\n",
        "    multiply = num1 * num2\n",
        "    return multiply\n",
        "\n",
        "def divide(num1, num2):\n",
        "    if num1 or num2 != 0:\n",
        "        divide = num1 / num2\n",
        "        return divide\n",
        "    else:\n",
        "        return '0으로 나눌 수 없습니다.'\n",
        "\n",
        "print(f'plus : {plus(10, 5)}')\n",
        "print(f'minus : {minus(10, 5)}')\n",
        "print(f'multiply : {multiply(10, 5)}')\n",
        "print(f'divide : {divide(10, 5)}')"
      ],
      "metadata": {
        "colab": {
          "base_uri": "https://localhost:8080/"
        },
        "id": "MgYII85iyo0k",
        "outputId": "17f4e624-201f-46dd-b7c3-9d32fb211590"
      },
      "execution_count": null,
      "outputs": [
        {
          "output_type": "stream",
          "name": "stdout",
          "text": [
            "plus : 15\n",
            "minus : 5\n",
            "multiply : 50\n",
            "divide : 2.0\n"
          ]
        }
      ]
    },
    {
      "cell_type": "code",
      "source": [
        "# len(길이를 계산하려는 객체)\n",
        "len('hello world') # 출력\n"
      ],
      "metadata": {
        "id": "Fvwyu6SW0wxV",
        "outputId": "6eff5dd5-ce18-4495-c38c-117130a1ef6e",
        "colab": {
          "base_uri": "https://localhost:8080/"
        }
      },
      "execution_count": null,
      "outputs": [
        {
          "output_type": "execute_result",
          "data": {
            "text/plain": [
              "11"
            ]
          },
          "metadata": {},
          "execution_count": 1
        }
      ]
    },
    {
      "cell_type": "code",
      "source": [],
      "metadata": {
        "id": "KIRy4r_sPCTk"
      },
      "execution_count": null,
      "outputs": []
    }
  ]
}