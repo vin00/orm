{
  "nbformat": 4,
  "nbformat_minor": 0,
  "metadata": {
    "colab": {
      "provenance": []
    },
    "kernelspec": {
      "name": "python3",
      "display_name": "Python 3"
    },
    "language_info": {
      "name": "python"
    }
  },
  "cells": [
    {
      "cell_type": "markdown",
      "source": [
        "# 1. 계산기 구현하기\n",
        "\n",
        "1. 연산 함수를 따로따로 만들기\n",
        "2. 사용자 입력 받아 실행해보기\n",
        "3. 클래스에 대입해보기"
      ],
      "metadata": {
        "id": "97r3Jscc3Uuy"
      }
    },
    {
      "cell_type": "code",
      "source": [
        "# 덧셈 함수\n",
        "def cal_add(num1, num2):\n",
        "    result = num1 + num2\n",
        "    return result"
      ],
      "metadata": {
        "id": "NMWZqKyi5xEx"
      },
      "execution_count": 34,
      "outputs": []
    },
    {
      "cell_type": "code",
      "source": [
        "# 뺄셈 함수\n",
        "def cal_subtract(num1, num2):\n",
        "    result = num1 - num2\n",
        "    return result"
      ],
      "metadata": {
        "id": "Eacd0Cry5xh-"
      },
      "execution_count": 35,
      "outputs": []
    },
    {
      "cell_type": "code",
      "source": [
        "# 곱셈 함수\n",
        "def cal_multiply(num1, num2):\n",
        "    result = num1 * num2\n",
        "    return result"
      ],
      "metadata": {
        "id": "7TLVqzZX9bsT"
      },
      "execution_count": 36,
      "outputs": []
    },
    {
      "cell_type": "code",
      "source": [
        "# 나눗셈 함수\n",
        "def cal_divide(num1, num2):\n",
        "    if num1 != 0 and num2 != 0:\n",
        "        result = num1 / num2\n",
        "        return result\n",
        "    else:\n",
        "        return '오류입니다.'"
      ],
      "metadata": {
        "id": "r3tt6lg-9rkE"
      },
      "execution_count": 37,
      "outputs": []
    },
    {
      "cell_type": "code",
      "source": [
        "# 사용자에게 숫자 입력 받기\n",
        "num1 = int(input('숫자를 입력해주세요: '))\n",
        "user_input = input('연산을 입력해주세요(+, -, *, /): ')\n",
        "num2 = int(input('숫자를 입력해주세요: '))"
      ],
      "metadata": {
        "colab": {
          "base_uri": "https://localhost:8080/"
        },
        "id": "uZWeOn3195Wd",
        "outputId": "7e0f7ed7-9c3f-433f-97be-8cb1d3001e9a"
      },
      "execution_count": 38,
      "outputs": [
        {
          "name": "stdout",
          "output_type": "stream",
          "text": [
            "숫자를 입력해주세요: 6\n",
            "연산을 입력해주세요(+, -, *, /): /\n",
            "숫자를 입력해주세요: 3\n"
          ]
        }
      ]
    },
    {
      "cell_type": "code",
      "source": [
        "# 연산 값 출력\n",
        "if user_input == '+':\n",
        "    result = cal_add(num1, num2)\n",
        "    print(result)\n",
        "\n",
        "elif user_input == '-':\n",
        "    result = cal_subtract(num1, num2)\n",
        "    print(result)\n",
        "\n",
        "elif user_input == '*':\n",
        "    result = cal_multiply(num1, num2)\n",
        "    print(result)\n",
        "\n",
        "elif user_input == '/':\n",
        "    result = cal_divide(num1, num2)\n",
        "    print(result)"
      ],
      "metadata": {
        "colab": {
          "base_uri": "https://localhost:8080/"
        },
        "id": "DK3U3VT9AThR",
        "outputId": "a12ee0c1-b65a-4b0f-ae71-30ea2075d206"
      },
      "execution_count": 39,
      "outputs": [
        {
          "output_type": "stream",
          "name": "stdout",
          "text": [
            "2.0\n"
          ]
        }
      ]
    },
    {
      "cell_type": "code",
      "source": [
        "# 덧셈 함수\n",
        "def cal_add(num1, num2):\n",
        "    result = num1 + num2\n",
        "    return result\n",
        "\n",
        "# 뺄셈 함수\n",
        "def cal_subtract(num1, num2):\n",
        "    result = num1 - num2\n",
        "    return result\n",
        "\n",
        "# 곱셈 함수\n",
        "def cal_multiply(num1, num2):\n",
        "    result = num1 * num2\n",
        "    return result\n",
        "\n",
        "# 나눗셈 함수\n",
        "def cal_divide(num1, num2):\n",
        "    if num1 != 0 and num2 != 0:\n",
        "        result = num1 / num2\n",
        "        return result\n",
        "    else:\n",
        "        return '오류입니다.'\n",
        "\n",
        "# 사용자에게 숫자 입력 받기\n",
        "num1 = int(input('숫자를 입력해주세요: '))\n",
        "user_input = input('연산을 입력해주세요(+, -, *, /): ')\n",
        "num2 = int(input('숫자를 입력해주세요: '))\n",
        "\n",
        "# 연산 값 출력\n",
        "if user_input == '+':\n",
        "    result = cal_add(num1, num2)\n",
        "    print(result)\n",
        "\n",
        "elif user_input == '-':\n",
        "    result = cal_subtract(num1, num2)\n",
        "    print(result)\n",
        "\n",
        "elif user_input == '*':\n",
        "    result = cal_multiply(num1, num2)\n",
        "    print(result)\n",
        "\n",
        "elif user_input == '/':\n",
        "    result = cal_divide(num1, num2)\n",
        "    print(result)"
      ],
      "metadata": {
        "colab": {
          "base_uri": "https://localhost:8080/"
        },
        "id": "_d7bo-uKAi08",
        "outputId": "a87eb839-7067-4cbf-8543-4781da8f8440"
      },
      "execution_count": 33,
      "outputs": [
        {
          "output_type": "stream",
          "name": "stdout",
          "text": [
            "숫자를 입력해주세요: 5\n",
            "연산을 입력해주세요(+, -, *, /): -\n",
            "숫자를 입력해주세요: 3\n",
            "2\n"
          ]
        }
      ]
    }
  ]
}