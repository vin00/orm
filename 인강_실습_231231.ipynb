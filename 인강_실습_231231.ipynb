{
  "nbformat": 4,
  "nbformat_minor": 0,
  "metadata": {
    "colab": {
      "provenance": []
    },
    "kernelspec": {
      "name": "python3",
      "display_name": "Python 3"
    },
    "language_info": {
      "name": "python"
    }
  },
  "cells": [
    {
      "cell_type": "markdown",
      "source": [
        "# 비트연산자\n",
        "\n",
        "* & = AND 연산 (두 피연산의 각 자리의 비트의 값이 둘다 1인 경우 해당 자리에 1을 반환, 하나라도 0인 경우에는 해단 자리에 0을 반환)\n",
        "* | = OR 연산 (두 연산자의 각 자리 비트의 값이 둘다 0인 경우 해당하는 자리에 0을 반환, 하나라도 1인 경우 해당자리에 1을 반환)\n",
        "* ^ = XOR 연산 (두 피연산자의 각 자리 비트의 값이 같을 경우 해당하는 자리에 0을 반환, 두 피연산자와 각 자리 비트의 값이 다른 경우 해당하는 자리에 1을 반환)\n",
        "* ~ = 보수연산 (bit NOT_2의 보수)\n",
        "    1. 0을 2개로 표현하지 않아도 됨\n",
        "    2. 더했을 경우 올림수 하나만 버리면 됨.\n",
        "    \n",
        "* << = 왼쪽 쉬프트 연산(오른쪽에서 0들을 이동시키면서 왼쪽 피연산자 이진수의 각 비트를 오른쪽 피연산자 비트만큼 왼쪽으로 이동시킨 값을 반환)\n",
        "* >> = 오른쪽 쉬프트 연산 (사라지는 비트를 버리면서 왼쪽 피연산자 이진수의 각 비트를 오른쪽 피연산자 비트만큼 이동시킨 값을 반환)"
      ],
      "metadata": {
        "id": "xJkEf9pN-RXe"
      }
    },
    {
      "cell_type": "code",
      "source": [
        " a = 10\n",
        " b = 2\n",
        "\n",
        " print(a & b)"
      ],
      "metadata": {
        "colab": {
          "base_uri": "https://localhost:8080/"
        },
        "id": "a4aiJZ9---OE",
        "outputId": "7e16c4dc-40af-46d8-98b3-be13eb70de44"
      },
      "execution_count": 1,
      "outputs": [
        {
          "output_type": "stream",
          "name": "stdout",
          "text": [
            "2\n"
          ]
        }
      ]
    },
    {
      "cell_type": "code",
      "source": [
        "bin(10), bin(2)"
      ],
      "metadata": {
        "colab": {
          "base_uri": "https://localhost:8080/"
        },
        "id": "qeKLw7HW_HBP",
        "outputId": "89110a53-7c97-4139-d79d-f746e7268fa2"
      },
      "execution_count": 2,
      "outputs": [
        {
          "output_type": "execute_result",
          "data": {
            "text/plain": [
              "('0b1010', '0b10')"
            ]
          },
          "metadata": {},
          "execution_count": 2
        }
      ]
    },
    {
      "cell_type": "code",
      "source": [
        "print(b<<2)"
      ],
      "metadata": {
        "colab": {
          "base_uri": "https://localhost:8080/"
        },
        "id": "u5DoysTp_UnE",
        "outputId": "945225d7-e624-4284-a7fe-bfae759fad99"
      },
      "execution_count": 3,
      "outputs": [
        {
          "output_type": "stream",
          "name": "stdout",
          "text": [
            "8\n"
          ]
        }
      ]
    },
    {
      "cell_type": "code",
      "source": [
        "# 10 -> 2\n",
        "# 1000 -> 8\n",
        "bin(8)"
      ],
      "metadata": {
        "colab": {
          "base_uri": "https://localhost:8080/",
          "height": 35
        },
        "id": "Jl8N8893CL5W",
        "outputId": "0db96dda-ccb8-4206-b264-f8391a217eab"
      },
      "execution_count": 4,
      "outputs": [
        {
          "output_type": "execute_result",
          "data": {
            "text/plain": [
              "'0b1000'"
            ],
            "application/vnd.google.colaboratory.intrinsic+json": {
              "type": "string"
            }
          },
          "metadata": {},
          "execution_count": 4
        }
      ]
    },
    {
      "cell_type": "code",
      "source": [
        "print(3>>1)"
      ],
      "metadata": {
        "colab": {
          "base_uri": "https://localhost:8080/"
        },
        "id": "p6oXdBOoCUMM",
        "outputId": "c6ef35bf-3ff9-4837-8c5d-c9fd4fdcd858"
      },
      "execution_count": 5,
      "outputs": [
        {
          "output_type": "stream",
          "name": "stdout",
          "text": [
            "1\n"
          ]
        }
      ]
    },
    {
      "cell_type": "code",
      "source": [
        "a^b\n",
        "# a = 1010\n",
        "# b = 10"
      ],
      "metadata": {
        "colab": {
          "base_uri": "https://localhost:8080/"
        },
        "id": "oUjt5EM3CYsV",
        "outputId": "01c346d7-44a9-4e43-bfd8-42cd264fc6f9"
      },
      "execution_count": 7,
      "outputs": [
        {
          "output_type": "execute_result",
          "data": {
            "text/plain": [
              "8"
            ]
          },
          "metadata": {},
          "execution_count": 7
        }
      ]
    },
    {
      "cell_type": "code",
      "source": [
        "~a"
      ],
      "metadata": {
        "colab": {
          "base_uri": "https://localhost:8080/"
        },
        "id": "GPQ_BwJcCbmk",
        "outputId": "f16938b4-55e4-464c-bbcd-78d205a8bbd9"
      },
      "execution_count": 8,
      "outputs": [
        {
          "output_type": "execute_result",
          "data": {
            "text/plain": [
              "-11"
            ]
          },
          "metadata": {},
          "execution_count": 8
        }
      ]
    },
    {
      "cell_type": "code",
      "source": [
        "bin(a), bin(~a) #2의 보수 표현 방법"
      ],
      "metadata": {
        "colab": {
          "base_uri": "https://localhost:8080/"
        },
        "id": "YRufB5aBCkRk",
        "outputId": "6f7b498e-0166-4959-d2fd-b23980b19871"
      },
      "execution_count": 9,
      "outputs": [
        {
          "output_type": "execute_result",
          "data": {
            "text/plain": [
              "('0b1010', '-0b1011')"
            ]
          },
          "metadata": {},
          "execution_count": 9
        }
      ]
    },
    {
      "cell_type": "markdown",
      "source": [
        "# 비트연산, 할당연산, 식별연산, in구문"
      ],
      "metadata": {
        "id": "QAJoyd5HCtzA"
      }
    },
    {
      "cell_type": "code",
      "source": [
        "a = 40\n",
        "b = 14\n",
        "print(a & b) # bit AND : 둘 다 1이여야 1\n",
        "# 101000\n",
        "# 001110\n",
        "# 001000\n",
        "bin(a), bin(b), bin(a&b)"
      ],
      "metadata": {
        "colab": {
          "base_uri": "https://localhost:8080/"
        },
        "id": "fZ8gWHGdC3im",
        "outputId": "a6e287e5-64a1-40ef-de56-7afce93de77b"
      },
      "execution_count": 12,
      "outputs": [
        {
          "output_type": "stream",
          "name": "stdout",
          "text": [
            "8\n"
          ]
        },
        {
          "output_type": "execute_result",
          "data": {
            "text/plain": [
              "('0b101000', '0b1110', '0b1000')"
            ]
          },
          "metadata": {},
          "execution_count": 12
        }
      ]
    },
    {
      "cell_type": "code",
      "source": [
        "a = 40\n",
        "b = 14\n",
        "print(a | b) # bin OR : 둘 중 하나라도 1이면 1\n",
        "# 101000\n",
        "# 001110\n",
        "# 101110\n",
        "bin(a), bin(b), bin(a|b)"
      ],
      "metadata": {
        "colab": {
          "base_uri": "https://localhost:8080/"
        },
        "id": "MT73-ZZUC-Jt",
        "outputId": "795a5d11-7bfa-44eb-c1ba-bcf6e93beb53"
      },
      "execution_count": 13,
      "outputs": [
        {
          "output_type": "stream",
          "name": "stdout",
          "text": [
            "46\n"
          ]
        },
        {
          "output_type": "execute_result",
          "data": {
            "text/plain": [
              "('0b101000', '0b1110', '0b101110')"
            ]
          },
          "metadata": {},
          "execution_count": 13
        }
      ]
    },
    {
      "cell_type": "code",
      "source": [
        "a = 40\n",
        "b = 14\n",
        "print(a ^ b) # bit XOR : 다를 때만 1, 같을 때는 0\n",
        "# 101000\n",
        "# 001110\n",
        "# 100110\n",
        "bin(a), bin(b), bin(a^b)"
      ],
      "metadata": {
        "colab": {
          "base_uri": "https://localhost:8080/"
        },
        "id": "MYuzY3_0Digs",
        "outputId": "b0ee3624-df85-4166-812d-696432db763d"
      },
      "execution_count": 14,
      "outputs": [
        {
          "output_type": "stream",
          "name": "stdout",
          "text": [
            "38\n"
          ]
        },
        {
          "output_type": "execute_result",
          "data": {
            "text/plain": [
              "('0b101000', '0b1110', '0b100110')"
            ]
          },
          "metadata": {},
          "execution_count": 14
        }
      ]
    },
    {
      "cell_type": "code",
      "source": [
        "a = 40\n",
        "print(~a) # bit NOT : 2의 보수\n",
        "# 101000\n",
        "# 010111 # 비트단위를 뒤짚음\n",
        "# 011000 # 비트단위를 뒤짚고 +1한 값\n",
        "\n",
        "# 1. 0을 2개로 표현하지 않아도 됨\n",
        "# 2. 더했을 경우 올림수 하나만 버리면 됨\n",
        "\n",
        "bin(a), bin(~a)"
      ],
      "metadata": {
        "colab": {
          "base_uri": "https://localhost:8080/"
        },
        "id": "hhvXly9OD1Vu",
        "outputId": "6d32158e-4982-4385-faa8-41aa048d2fa0"
      },
      "execution_count": 15,
      "outputs": [
        {
          "output_type": "stream",
          "name": "stdout",
          "text": [
            "-41\n"
          ]
        },
        {
          "output_type": "execute_result",
          "data": {
            "text/plain": [
              "('0b101000', '-0b101001')"
            ]
          },
          "metadata": {},
          "execution_count": 15
        }
      ]
    },
    {
      "cell_type": "code",
      "source": [
        "a+~a"
      ],
      "metadata": {
        "colab": {
          "base_uri": "https://localhost:8080/"
        },
        "id": "8T0sg4AmGzKw",
        "outputId": "3a091e7b-b7d8-44a1-fd8c-456a76105635"
      },
      "execution_count": 16,
      "outputs": [
        {
          "output_type": "execute_result",
          "data": {
            "text/plain": [
              "-1"
            ]
          },
          "metadata": {},
          "execution_count": 16
        }
      ]
    },
    {
      "cell_type": "code",
      "source": [
        "# bit는 6자리로 유지된다.\n",
        "a= 40\n",
        "print(bin(a))\n",
        "print(int('10100000', 2))\n",
        "print(a << 2) # 왼쪽으로 2칸이동\n",
        "\n",
        "print(bin(a))\n",
        "print(int('1010',2))\n",
        "print(a >> 2) # 오른쪽으로 2칸이동 (앞에 00이 생기며, 뒤에 값은 삭제)"
      ],
      "metadata": {
        "colab": {
          "base_uri": "https://localhost:8080/"
        },
        "id": "QsKSSVAFG33a",
        "outputId": "32d7738f-9ad4-456d-aceb-3aeea9e5d3d3"
      },
      "execution_count": 19,
      "outputs": [
        {
          "output_type": "stream",
          "name": "stdout",
          "text": [
            "0b101000\n",
            "160\n",
            "160\n",
            "0b101000\n",
            "10\n",
            "10\n"
          ]
        }
      ]
    },
    {
      "cell_type": "code",
      "source": [
        "# '연산자' + '='\n",
        "a = 40\n",
        "\n",
        "# a += 10 # a = a + 10\n",
        "a >>= 2\n",
        "a"
      ],
      "metadata": {
        "colab": {
          "base_uri": "https://localhost:8080/"
        },
        "id": "PPCXoXYXIJ79",
        "outputId": "9f449768-21ab-4521-ab35-956466d806b0"
      },
      "execution_count": 25,
      "outputs": [
        {
          "output_type": "execute_result",
          "data": {
            "text/plain": [
              "10"
            ]
          },
          "metadata": {},
          "execution_count": 25
        }
      ]
    },
    {
      "cell_type": "markdown",
      "source": [
        "## 연산자 우선순위\n",
        "\n",
        "1. 리스트, 튜플, 딕션너리, 셋 (같은 값을 지정하여도 다른 주소값을 가진다.)\n",
        "2. 인덱싱, 슬라이싱\n",
        "3. **\n",
        "4. *, @, /, //, %\n",
        "5. +, -\n",
        "6. 비트단위 연산\n",
        "7. in, not, in, is, is not\n",
        "8. 논리연산 (not, and, or)\n",
        "9. if, else\n",
        "10. iambda"
      ],
      "metadata": {
        "id": "2pqb9IAbI9X3"
      }
    },
    {
      "cell_type": "markdown",
      "source": [
        "# 식별연산\n",
        "\n",
        "* ==과 is는 같지 않다.\n",
        "* 리스트, 튜플, 딕션너리, 셋 (같은 값을 지정하여도 다른 주소값을 가진다.)"
      ],
      "metadata": {
        "id": "76TgT9xUKOPW"
      }
    },
    {
      "cell_type": "code",
      "source": [],
      "metadata": {
        "id": "SP4sfba1KU39"
      },
      "execution_count": null,
      "outputs": []
    }
  ]
}