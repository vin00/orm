{
  "nbformat": 4,
  "nbformat_minor": 0,
  "metadata": {
    "colab": {
      "provenance": []
    },
    "kernelspec": {
      "name": "python3",
      "display_name": "Python 3"
    },
    "language_info": {
      "name": "python"
    }
  },
  "cells": [
    {
      "cell_type": "markdown",
      "source": [
        "# 문제1 모음제거\n",
        "\n",
        "* 문제 설명\\\n",
        "영어에선 a, e, i, o, u 다섯 가지 알파벳을 모음으로 분류합니다. 문자열 my_string이 매개변수로 주어질 때 모음을 제거한 문자열을 return하도록 solution 함수를 완성해주세요.\n",
        "\n",
        "* 제한사항\\\n",
        "my_string은 소문자와 공백으로 이루어져 있습니다.\\\n",
        "1 ≤ my_string의 길이 ≤ 1,000\n",
        "\n",
        "```\n",
        "입출력 예\n",
        "my_string\t        result\n",
        "\"bus\"             \t\"bs\"\n",
        "\"nice to meet you\"\t\"nc t mt y\"\n",
        "```"
      ],
      "metadata": {
        "id": "Kvq8QDeypEPD"
      }
    },
    {
      "cell_type": "code",
      "source": [
        "def solution(my_string):\n",
        "    table = str.maketrans('', '', 'a, e, i, o, u')\n",
        "    answer = my_string.translate(table)\n",
        "    return answer\n",
        "\n",
        "solution('bus')"
      ],
      "metadata": {
        "colab": {
          "base_uri": "https://localhost:8080/",
          "height": 35
        },
        "id": "77XxG2yBpejZ",
        "outputId": "e888dfa6-a771-4eca-ff86-96dbd45320cd"
      },
      "execution_count": 3,
      "outputs": [
        {
          "output_type": "execute_result",
          "data": {
            "text/plain": [
              "'bs'"
            ],
            "application/vnd.google.colaboratory.intrinsic+json": {
              "type": "string"
            }
          },
          "metadata": {},
          "execution_count": 3
        }
      ]
    },
    {
      "cell_type": "markdown",
      "source": [
        "# 문제2 제곱수 판별하기\n",
        "\n",
        "* 문제 설명\\\n",
        "어떤 자연수를 제곱했을 때 나오는 정수를 제곱수라고 합니다. 정수 n이 매개변수로 주어질 때, n이 제곱수라면 1을 아니라면 2를 return하도록 solution 함수를 완성해주세요.\n",
        "\n",
        "* 제한사항\\\n",
        "1 ≤ n ≤ 1,000,000\n",
        "\n",
        "```\n",
        "입출력 예\n",
        "n\t  result\n",
        "144\t   1\n",
        "976\t   2\n",
        "```"
      ],
      "metadata": {
        "id": "8HKlHjQoqLtd"
      }
    },
    {
      "cell_type": "code",
      "source": [
        "def solution(n):\n",
        "    answer = n ** 0.5\n",
        "    if answer.is_integer():\n",
        "        return 1\n",
        "    else:\n",
        "        return 0\n",
        "\n",
        "solution(144)"
      ],
      "metadata": {
        "colab": {
          "base_uri": "https://localhost:8080/"
        },
        "id": "rtPuBMN0rmux",
        "outputId": "3383f7eb-a375-46da-c6d6-86bd83e3a5b9"
      },
      "execution_count": 4,
      "outputs": [
        {
          "output_type": "execute_result",
          "data": {
            "text/plain": [
              "1"
            ]
          },
          "metadata": {},
          "execution_count": 4
        }
      ]
    },
    {
      "cell_type": "code",
      "source": [
        "def solution(n):\n",
        "    return 1 if (n ** 0.5).is_integer() else 2\n",
        "\n",
        "\n",
        "solution(976)"
      ],
      "metadata": {
        "colab": {
          "base_uri": "https://localhost:8080/"
        },
        "id": "a6dQDu__tyK5",
        "outputId": "359c914d-eed2-4dcb-ae61-bcdb726dc379"
      },
      "execution_count": 5,
      "outputs": [
        {
          "output_type": "execute_result",
          "data": {
            "text/plain": [
              "2"
            ]
          },
          "metadata": {},
          "execution_count": 5
        }
      ]
    },
    {
      "cell_type": "markdown",
      "source": [
        "# 문제3 배열의 유사도\n",
        "\n",
        "* 문제 설명\\\n",
        "두 배열이 얼마나 유사한지 확인해보려고 합니다. 문자열 배열 s1과 s2가 주어질 때 같은 원소의 개수를 return하도록 solution 함수를 완성해주세요.\n",
        "\n",
        "* 제한사항\n",
        "  * 1 ≤ s1, s2의 길이 ≤ 100\n",
        "  * 1 ≤ s1, s2의 원소의 길이 ≤ 10\n",
        "  * s1과 s2의 원소는 알파벳 소문자로만 이루어져 있습니다\n",
        "  * s1과 s2는 각각 중복된 원소를 갖지 않습니다.\n",
        "\n",
        "```\n",
        "입출력 예\n",
        "s1\t                    s2\t                 result\n",
        "[\"a\", \"b\", \"c\"]\t[\"com\", \"b\", \"d\", \"p\", \"c\"]\t 2\n",
        "[\"n\", \"omg\"]\t   [\"m\", \"dot\"]                \t0\n",
        "```"
      ],
      "metadata": {
        "id": "sjIfbqJ2uSvg"
      }
    },
    {
      "cell_type": "code",
      "source": [
        "def solution(s1, s2):\n",
        "    return len(list(filter(lambda x: x in s1, s2)))\n",
        "\n",
        "s1 = ['a', 'b', 'c']\n",
        "s2 = ['com', 'b', 'd', 'p', 'c']\n",
        "solution(s1, s2)"
      ],
      "metadata": {
        "colab": {
          "base_uri": "https://localhost:8080/"
        },
        "id": "E64xIxkmurM6",
        "outputId": "00ebf1f0-81e0-4ed6-99bc-6f46c4f5dc51"
      },
      "execution_count": 26,
      "outputs": [
        {
          "output_type": "execute_result",
          "data": {
            "text/plain": [
              "2"
            ]
          },
          "metadata": {},
          "execution_count": 26
        }
      ]
    },
    {
      "cell_type": "code",
      "source": [
        "def solution(s1, s2):\n",
        "    return len(set(s1)&set(s2))\n",
        "\n",
        "s1 = [\"n\", \"omg\"]\n",
        "s2 = [\"m\", \"dot\"]\n",
        "solution(s1, s2)"
      ],
      "metadata": {
        "colab": {
          "base_uri": "https://localhost:8080/"
        },
        "id": "LlN0rN9Zvvep",
        "outputId": "5374126b-c622-47cb-a7ca-099d5d06ee2c"
      },
      "execution_count": 27,
      "outputs": [
        {
          "output_type": "execute_result",
          "data": {
            "text/plain": [
              "0"
            ]
          },
          "metadata": {},
          "execution_count": 27
        }
      ]
    },
    {
      "cell_type": "markdown",
      "source": [
        "# 문제4 자릿수 더하기\n",
        "\n",
        "* 문제 설명\\\n",
        "정수 n이 매개변수로 주어질 때 n의 각 자리 숫자의 합을 return하도록 solution 함수를 완성해주세요\n",
        "\n",
        "* 제한사항\\\n",
        "0 ≤ n ≤ 1,000,000\n",
        "\n",
        "```\n",
        "입출력 예\n",
        "n\t      result\n",
        "1234\t    10\n",
        "930211\t  16\n",
        "```\n"
      ],
      "metadata": {
        "id": "3vu-Ey0ix3Uh"
      }
    },
    {
      "cell_type": "code",
      "source": [
        "def solution(n):\n",
        "    answer = 0\n",
        "    l = []\n",
        "    for i in str(n):\n",
        "        l.append(i)\n",
        "    for j in l:\n",
        "        answer += int(j)\n",
        "    return answer\n",
        "\n",
        "\n",
        "solution(1234)"
      ],
      "metadata": {
        "colab": {
          "base_uri": "https://localhost:8080/"
        },
        "id": "5dEGYWHN5c1m",
        "outputId": "1e21045b-37cd-4486-da6b-66f1c89af84a"
      },
      "execution_count": 35,
      "outputs": [
        {
          "output_type": "execute_result",
          "data": {
            "text/plain": [
              "10"
            ]
          },
          "metadata": {},
          "execution_count": 35
        }
      ]
    },
    {
      "cell_type": "code",
      "source": [
        "def solution(n):\n",
        "    return sum(int(i) for i in str(n))\n",
        "\n",
        "solution(123451600)"
      ],
      "metadata": {
        "colab": {
          "base_uri": "https://localhost:8080/"
        },
        "id": "LjWsi0OP60zL",
        "outputId": "94899787-fcce-4aad-bdd5-e22cc54243e9"
      },
      "execution_count": 36,
      "outputs": [
        {
          "output_type": "execute_result",
          "data": {
            "text/plain": [
              "22"
            ]
          },
          "metadata": {},
          "execution_count": 36
        }
      ]
    },
    {
      "cell_type": "markdown",
      "source": [
        "# 문제5 n의 배수 고르기\n",
        "\n",
        "* 문제 설명\\\n",
        "정수 n과 정수 배열 numlist가 매개변수로 주어질 때, numlist에서 n의 배수가 아닌 수들을 제거한 배열을 return하도록 solution 함수를 완성해주세요.\n",
        "\n",
        "* 제한사항\n",
        "  * 1 ≤ n ≤ 10,000\n",
        "  * 1 ≤ numlist의 크기 ≤ 100\n",
        "  * 1 ≤ numlist의 원소 ≤ 100,000\n",
        "\n",
        "```\n",
        "입출력 예\n",
        "n\t         numlist\t                    result\n",
        "3\t [4, 5, 6, 7, 8, 9, 10, 11, 12]\t     [6, 9, 12]\n",
        "5\t [1, 9, 3, 10, 13, 5]\t               [10, 5]\n",
        "12\t[2, 100, 120, 600, 12, 12]         \t[120, 600, 12, 12]\n",
        "```"
      ],
      "metadata": {
        "id": "8YkxoDvs8V81"
      }
    },
    {
      "cell_type": "code",
      "source": [
        "def solution(n, numlist):\n",
        "    return list(filter(lambda x: x % n == 0, numlist))\n",
        "\n",
        "n = 3\n",
        "numlist = [4, 5, 6, 7, 8, 9, 10, 11, 12]\n",
        "solution(n, numlist)"
      ],
      "metadata": {
        "colab": {
          "base_uri": "https://localhost:8080/"
        },
        "id": "vlZaCw-n9E4K",
        "outputId": "ad8fa3ee-4fd8-4341-d0a1-6de6126b8a02"
      },
      "execution_count": 57,
      "outputs": [
        {
          "output_type": "execute_result",
          "data": {
            "text/plain": [
              "[6, 9, 12]"
            ]
          },
          "metadata": {},
          "execution_count": 57
        }
      ]
    },
    {
      "cell_type": "code",
      "source": [
        "def solution(n, numlist):\n",
        "    answer = [i for i in numlist if i%n==0]\n",
        "    return answer\n",
        "\n",
        "n = 3\n",
        "numlist = [4, 5, 6, 7, 8, 9, 10, 11, 12]\n",
        "solution(n, numlist)"
      ],
      "metadata": {
        "colab": {
          "base_uri": "https://localhost:8080/"
        },
        "id": "FK4a_ZKZ94Jn",
        "outputId": "04d90b86-bf35-4623-d2a8-a6b0c7749691"
      },
      "execution_count": 58,
      "outputs": [
        {
          "output_type": "execute_result",
          "data": {
            "text/plain": [
              "[6, 9, 12]"
            ]
          },
          "metadata": {},
          "execution_count": 58
        }
      ]
    },
    {
      "cell_type": "code",
      "source": [],
      "metadata": {
        "id": "DJTOQpUsA_8L"
      },
      "execution_count": null,
      "outputs": []
    }
  ]
}